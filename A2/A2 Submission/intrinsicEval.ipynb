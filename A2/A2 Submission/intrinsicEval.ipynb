{
 "cells": [
  {
   "cell_type": "code",
   "execution_count": 1,
   "metadata": {},
   "outputs": [],
   "source": [
    "from diffeval import *"
   ]
  },
  {
   "cell_type": "markdown",
   "metadata": {},
   "source": [
    "## Experiment 1"
   ]
  },
  {
   "cell_type": "markdown",
   "metadata": {},
   "source": [
    "### Negative Generation With Only External"
   ]
  },
  {
   "cell_type": "code",
   "execution_count": 2,
   "metadata": {},
   "outputs": [
    {
     "data": {
      "text/plain": [
       "'Average Perplexity is 1149.5631564240427'"
      ]
     },
     "execution_count": 2,
     "metadata": {},
     "output_type": "execute_result"
    }
   ],
   "source": [
    "intrinsic_eval = IntrinsicEvaluation(r\"generated_sentences\\neg_gen_only_ext.txt\")\n",
    "intr_perplexities, intr_sentences = intrinsic_eval.get_perplexities()\n",
    "f\"Average Perplexity is {intrinsic_eval.get_avg_perplexity(intr_perplexities)}\""
   ]
  },
  {
   "cell_type": "markdown",
   "metadata": {},
   "source": [
    "### Positive Generation With Only External"
   ]
  },
  {
   "cell_type": "code",
   "execution_count": 3,
   "metadata": {},
   "outputs": [
    {
     "data": {
      "text/plain": [
       "'Average Perplexity is 1033.066400924827'"
      ]
     },
     "execution_count": 3,
     "metadata": {},
     "output_type": "execute_result"
    }
   ],
   "source": [
    "intrinsic_eval = IntrinsicEvaluation(r\"generated_sentences\\pos_gen_only_ext.txt\")\n",
    "intr_perplexities, intr_sentences = intrinsic_eval.get_perplexities()\n",
    "f\"Average Perplexity is {intrinsic_eval.get_avg_perplexity(intr_perplexities)}\""
   ]
  },
  {
   "cell_type": "markdown",
   "metadata": {},
   "source": [
    "## Experiment 2"
   ]
  },
  {
   "cell_type": "markdown",
   "metadata": {},
   "source": [
    "### Negative Generation With Addition to Numerator"
   ]
  },
  {
   "cell_type": "code",
   "execution_count": 4,
   "metadata": {},
   "outputs": [
    {
     "data": {
      "text/plain": [
       "'Average Perplexity is 6955.083128301696'"
      ]
     },
     "execution_count": 4,
     "metadata": {},
     "output_type": "execute_result"
    }
   ],
   "source": [
    "intrinsic_eval = IntrinsicEvaluation(r\"generated_sentences\\neg_gen_add_numerator.txt\")\n",
    "intr_perplexities, intr_sentences = intrinsic_eval.get_perplexities()\n",
    "f\"Average Perplexity is {intrinsic_eval.get_avg_perplexity(intr_perplexities)}\""
   ]
  },
  {
   "cell_type": "markdown",
   "metadata": {},
   "source": [
    "### Positive Generation With Addition to Numerator"
   ]
  },
  {
   "cell_type": "code",
   "execution_count": 5,
   "metadata": {},
   "outputs": [
    {
     "data": {
      "text/plain": [
       "'Average Perplexity is 6892.620049010152'"
      ]
     },
     "execution_count": 5,
     "metadata": {},
     "output_type": "execute_result"
    }
   ],
   "source": [
    "intrinsic_eval = IntrinsicEvaluation(r\"generated_sentences\\pos_gen_add_numerator.txt\")\n",
    "intr_perplexities, intr_sentences = intrinsic_eval.get_perplexities()\n",
    "f\"Average Perplexity is {intrinsic_eval.get_avg_perplexity(intr_perplexities)}\""
   ]
  },
  {
   "cell_type": "markdown",
   "metadata": {},
   "source": [
    "## Experiment 3"
   ]
  },
  {
   "cell_type": "markdown",
   "metadata": {},
   "source": [
    "### Negative Generation With Multiplication with Numerator"
   ]
  },
  {
   "cell_type": "code",
   "execution_count": 6,
   "metadata": {},
   "outputs": [
    {
     "data": {
      "text/plain": [
       "'Average Perplexity is 1303.5915012298801'"
      ]
     },
     "execution_count": 6,
     "metadata": {},
     "output_type": "execute_result"
    }
   ],
   "source": [
    "intrinsic_eval = IntrinsicEvaluation(r\"generated_sentences\\neg_gen_mul_numerator.txt\")\n",
    "intr_perplexities, intr_sentences = intrinsic_eval.get_perplexities()\n",
    "f\"Average Perplexity is {intrinsic_eval.get_avg_perplexity(intr_perplexities)}\""
   ]
  },
  {
   "cell_type": "markdown",
   "metadata": {},
   "source": [
    "### Positive Generation With Multiplication with Numerator"
   ]
  },
  {
   "cell_type": "code",
   "execution_count": 7,
   "metadata": {},
   "outputs": [
    {
     "data": {
      "text/plain": [
       "'Average Perplexity is 1026.3095571643635'"
      ]
     },
     "execution_count": 7,
     "metadata": {},
     "output_type": "execute_result"
    }
   ],
   "source": [
    "intrinsic_eval = IntrinsicEvaluation(r\"generated_sentences\\pos_gen_mul_numerator.txt\")\n",
    "intr_perplexities, intr_sentences = intrinsic_eval.get_perplexities()\n",
    "f\"Average Perplexity is {intrinsic_eval.get_avg_perplexity(intr_perplexities)}\""
   ]
  },
  {
   "cell_type": "markdown",
   "metadata": {},
   "source": [
    "## Experiment 4"
   ]
  },
  {
   "cell_type": "markdown",
   "metadata": {},
   "source": [
    "### Negative Generation With Division with Denominator"
   ]
  },
  {
   "cell_type": "code",
   "execution_count": 8,
   "metadata": {},
   "outputs": [
    {
     "data": {
      "text/plain": [
       "'Average Perplexity is 1161.5361432277948'"
      ]
     },
     "execution_count": 8,
     "metadata": {},
     "output_type": "execute_result"
    }
   ],
   "source": [
    "intrinsic_eval = IntrinsicEvaluation(r\"generated_sentences\\neg_gen_div_denominator.txt\")\n",
    "intr_perplexities, intr_sentences = intrinsic_eval.get_perplexities()\n",
    "f\"Average Perplexity is {intrinsic_eval.get_avg_perplexity(intr_perplexities)}\""
   ]
  },
  {
   "cell_type": "markdown",
   "metadata": {},
   "source": [
    "### Positive Generation With Division with Denominator"
   ]
  },
  {
   "cell_type": "code",
   "execution_count": 9,
   "metadata": {},
   "outputs": [
    {
     "data": {
      "text/plain": [
       "'Average Perplexity is 973.9499512734698'"
      ]
     },
     "execution_count": 9,
     "metadata": {},
     "output_type": "execute_result"
    }
   ],
   "source": [
    "intrinsic_eval = IntrinsicEvaluation(r\"generated_sentences\\pos_gen_div_denominator.txt\")\n",
    "intr_perplexities, intr_sentences = intrinsic_eval.get_perplexities()\n",
    "f\"Average Perplexity is {intrinsic_eval.get_avg_perplexity(intr_perplexities)}\""
   ]
  },
  {
   "cell_type": "markdown",
   "metadata": {},
   "source": [
    "## Experiment 5"
   ]
  },
  {
   "cell_type": "markdown",
   "metadata": {},
   "source": [
    "### Negative Generation by normalizing using perplexity"
   ]
  },
  {
   "cell_type": "code",
   "execution_count": 10,
   "metadata": {},
   "outputs": [
    {
     "data": {
      "text/plain": [
       "'Average Perplexity is 3681.8924298403463'"
      ]
     },
     "execution_count": 10,
     "metadata": {},
     "output_type": "execute_result"
    }
   ],
   "source": [
    "intrinsic_eval = IntrinsicEvaluation(r\"generated_sentences\\neg_ppl_normalized.txt\")\n",
    "intr_perplexities, intr_sentences = intrinsic_eval.get_perplexities()\n",
    "f\"Average Perplexity is {intrinsic_eval.get_avg_perplexity(intr_perplexities)}\""
   ]
  },
  {
   "cell_type": "markdown",
   "metadata": {},
   "source": [
    "### Positive Generation by normalizing using perplexity"
   ]
  },
  {
   "cell_type": "code",
   "execution_count": 11,
   "metadata": {},
   "outputs": [
    {
     "data": {
      "text/plain": [
       "'Average Perplexity is 2527.2396708423166'"
      ]
     },
     "execution_count": 11,
     "metadata": {},
     "output_type": "execute_result"
    }
   ],
   "source": [
    "intrinsic_eval = IntrinsicEvaluation(r\"generated_sentences\\pos_ppl_normalized.txt\")\n",
    "intr_perplexities, intr_sentences = intrinsic_eval.get_perplexities()\n",
    "f\"Average Perplexity is {intrinsic_eval.get_avg_perplexity(intr_perplexities)}\""
   ]
  },
  {
   "cell_type": "markdown",
   "metadata": {},
   "source": [
    "## Experiment 6"
   ]
  },
  {
   "cell_type": "markdown",
   "metadata": {},
   "source": [
    "### Negative Generation using HuggingFace Prompts and adding beta factor externally"
   ]
  },
  {
   "cell_type": "code",
   "execution_count": 12,
   "metadata": {},
   "outputs": [
    {
     "data": {
      "text/plain": [
       "'Average Perplexity is 3655.251042664615'"
      ]
     },
     "execution_count": 12,
     "metadata": {},
     "output_type": "execute_result"
    }
   ],
   "source": [
    "intrinsic_eval = IntrinsicEvaluation(r\"generated_sentences\\neg_hf_prompts.txt\")\n",
    "intr_perplexities, intr_sentences = intrinsic_eval.get_perplexities()\n",
    "f\"Average Perplexity is {intrinsic_eval.get_avg_perplexity(intr_perplexities)}\""
   ]
  },
  {
   "cell_type": "markdown",
   "metadata": {},
   "source": [
    "### Positive Generation using HuggingFace Prompts and adding beta factor externally"
   ]
  },
  {
   "cell_type": "code",
   "execution_count": 13,
   "metadata": {},
   "outputs": [
    {
     "data": {
      "text/plain": [
       "'Average Perplexity is 2622.3527374782907'"
      ]
     },
     "execution_count": 13,
     "metadata": {},
     "output_type": "execute_result"
    }
   ],
   "source": [
    "intrinsic_eval = IntrinsicEvaluation(r\"generated_sentences\\pos_hf_prompts.txt\")\n",
    "intr_perplexities, intr_sentences = intrinsic_eval.get_perplexities()\n",
    "f\"Average Perplexity is {intrinsic_eval.get_avg_perplexity(intr_perplexities)}\""
   ]
  },
  {
   "cell_type": "markdown",
   "metadata": {},
   "source": [
    "## Experiment 7"
   ]
  },
  {
   "cell_type": "markdown",
   "metadata": {},
   "source": [
    "### Negative Generation using Vader Prompts and TextBlob autocorrect"
   ]
  },
  {
   "cell_type": "code",
   "execution_count": 14,
   "metadata": {},
   "outputs": [
    {
     "data": {
      "text/plain": [
       "'Average Perplexity is 4836.6544482263425'"
      ]
     },
     "execution_count": 14,
     "metadata": {},
     "output_type": "execute_result"
    }
   ],
   "source": [
    "intrinsic_eval = IntrinsicEvaluation(r\"generated_sentences\\neg_vader_textblob.txt\")\n",
    "intr_perplexities, intr_sentences = intrinsic_eval.get_perplexities()\n",
    "f\"Average Perplexity is {intrinsic_eval.get_avg_perplexity(intr_perplexities)}\""
   ]
  },
  {
   "cell_type": "markdown",
   "metadata": {},
   "source": [
    "### Positive Generation using Vader Prompts and TextBlob autocorrect"
   ]
  },
  {
   "cell_type": "code",
   "execution_count": 15,
   "metadata": {},
   "outputs": [
    {
     "data": {
      "text/plain": [
       "'Average Perplexity is 4252.288359524329'"
      ]
     },
     "execution_count": 15,
     "metadata": {},
     "output_type": "execute_result"
    }
   ],
   "source": [
    "intrinsic_eval = IntrinsicEvaluation(r\"generated_sentences\\pos_vader_textblob.txt\")\n",
    "intr_perplexities, intr_sentences = intrinsic_eval.get_perplexities()\n",
    "f\"Average Perplexity is {intrinsic_eval.get_avg_perplexity(intr_perplexities)}\""
   ]
  }
 ],
 "metadata": {
  "kernelspec": {
   "display_name": "Python 3.10.2 ('venv')",
   "language": "python",
   "name": "python3"
  },
  "language_info": {
   "codemirror_mode": {
    "name": "ipython",
    "version": 3
   },
   "file_extension": ".py",
   "mimetype": "text/x-python",
   "name": "python",
   "nbconvert_exporter": "python",
   "pygments_lexer": "ipython3",
   "version": "3.10.2"
  },
  "orig_nbformat": 4,
  "vscode": {
   "interpreter": {
    "hash": "aecbea90afaecda7d2d5844bd9622c7f6c46f8beb4e99ad394477027755b7849"
   }
  }
 },
 "nbformat": 4,
 "nbformat_minor": 2
}
