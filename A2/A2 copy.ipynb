{
 "cells": [
  {
   "cell_type": "code",
   "execution_count": 7,
   "metadata": {},
   "outputs": [],
   "source": [
    "import pandas as pd\n",
    "import numpy as np\n",
    "import pickle\n",
    "from preprocess_text import *\n",
    "from bigrams import *\n",
    "from smoothers import *\n",
    "from LanguageModels import *\n",
    "from tqdm.notebook import tqdm\n",
    "tqdm.pandas()"
   ]
  },
  {
   "cell_type": "code",
   "execution_count": 8,
   "metadata": {},
   "outputs": [],
   "source": [
    "df = pd.read_csv('A1_dataset.csv')"
   ]
  },
  {
   "cell_type": "code",
   "execution_count": 9,
   "metadata": {},
   "outputs": [],
   "source": [
    "# text = df['TEXT'].to_list()\n",
    "# def preprocess_text(text):\n",
    "#     text = lowercase_text(text)\n",
    "#     text = remove_url_html(text)\n",
    "#     text = remove_users(text)\n",
    "#     text = remove_punctuations(text)\n",
    "#     text = remove_whitespaces(text)\n",
    "#     text = tokenization(text)\n",
    "#     text = spelling_correction(text, 'autocorrect_full')\n",
    "#     text = remove_alphanum(text)\n",
    "#     return text\n",
    "# df['preprocessed_text'] = df['TEXT'].progress_apply(preprocess_text)\n",
    "# preprocess_text = df['preprocessed_text'].to_list()\n",
    "# df.to_csv('preprocessed_A1.csv', index=False)"
   ]
  },
  {
   "cell_type": "code",
   "execution_count": 10,
   "metadata": {},
   "outputs": [],
   "source": [
    "df = pd.read_csv('preprocessed_A1.csv')\n",
    "preprocess_text = df['preprocessed_text'].to_list()\n",
    "for i in range(len(preprocess_text)):\n",
    "    preprocess_text[i] = eval(preprocess_text[i])"
   ]
  },
  {
   "cell_type": "code",
   "execution_count": 11,
   "metadata": {},
   "outputs": [],
   "source": [
    "unigram_counts = {}\n",
    "for sentence in preprocess_text:\n",
    "    for word in sentence:\n",
    "        if word in unigram_counts:\n",
    "            unigram_counts[word] += 1\n",
    "        else:\n",
    "            unigram_counts[word] = 1"
   ]
  },
  {
   "cell_type": "code",
   "execution_count": 12,
   "metadata": {},
   "outputs": [
    {
     "data": {
      "text/plain": [
       "6952"
      ]
     },
     "execution_count": 12,
     "metadata": {},
     "output_type": "execute_result"
    }
   ],
   "source": [
    "len(unigram_counts)"
   ]
  },
  {
   "cell_type": "code",
   "execution_count": 13,
   "metadata": {},
   "outputs": [],
   "source": [
    "unigram_probs = {}\n",
    "scale_factor = sum(unigram_counts.values())\n",
    "for word in unigram_counts:\n",
    "    unigram_probs[word] = unigram_counts[word] / scale_factor"
   ]
  },
  {
   "cell_type": "markdown",
   "metadata": {},
   "source": [
    "# Saving Bigrams with Smoothing"
   ]
  },
  {
   "cell_type": "code",
   "execution_count": 16,
   "metadata": {},
   "outputs": [],
   "source": [
    "bigram_wrapper = Bigrams(preprocess_text)\n",
    "bigrams = bigram_wrapper.get_bigrams()\n",
    "vocab_len = bigram_wrapper.vocab_len\n",
    "\n",
    "with open('bigram_wrapper.pickle', 'wb') as f:\n",
    "    pickle.dump(bigram_wrapper, f)"
   ]
  },
  {
   "cell_type": "code",
   "execution_count": 17,
   "metadata": {},
   "outputs": [],
   "source": [
    "def witten_bell1(unigrams, bigrams):\n",
    "    wb_prob=[]\n",
    "    for w1, w2 in bigrams:\n",
    "        ngram_count = bigrams[(w1, w2)]\n",
    "        prior_count = unigrams[w1] \n",
    "        type_count = len([bigrams[i] for i in bigrams if i[0] == w1])\n",
    "        vocab_size = sum(bigrams.values())\n",
    "        z = vocab_size - type_count\n",
    "        if ngram_count == 0:\n",
    "            prob = float(type_count)/float(z*(prior_count + type_count))\n",
    "        else:\n",
    "            prob = float(ngram_count)/float(prior_count + type_count)\n",
    "        wb_lambda=1-bigrams[(w1, w2)]/float(bigrams[(w1, w2)]+sum([bigrams[i] for i in bigrams if i[0] == w1]))\n",
    "        prob=(wb_lambda)*prob+(1-wb_lambda)*unigrams[w2]/float(sum(unigrams.values()))\n",
    "        wb_prob.append([w1,w2,prob])\n",
    "    return wb_prob"
   ]
  },
  {
   "cell_type": "code",
   "execution_count": 20,
   "metadata": {},
   "outputs": [],
   "source": [
    "x = witten_bell1(unigram_counts, bigrams)"
   ]
  },
  {
   "cell_type": "code",
   "execution_count": null,
   "metadata": {},
   "outputs": [],
   "source": [
    "x"
   ]
  },
  {
   "cell_type": "code",
   "execution_count": 8,
   "metadata": {},
   "outputs": [],
   "source": [
    "# # load bigram_wrapper\n",
    "# with open('bigram_wrapper.pickle', 'rb') as f:\n",
    "#     bigram_wrapper = pickle.load(f)\n",
    "\n",
    "# bigrams = bigram_wrapper.get_bigrams()\n",
    "# vocab_len = bigram_wrapper.vocab_len"
   ]
  },
  {
   "cell_type": "code",
   "execution_count": 9,
   "metadata": {},
   "outputs": [],
   "source": [
    "# smoother = LMSmoothers(bigrams, vocab_len, unigram_counts=unigram_counts, unigrams_probs=unigram_probs)\n",
    "# laplace_smoothed_bigrams = smoother.laplace()\n",
    "# add_5_smoothed_bigrams = smoother.add_k(5)\n",
    "# add_5_with_unigram_prior_smoothed_bigrams = smoother.add_k_with_unigram_prior(5)"
   ]
  },
  {
   "cell_type": "code",
   "execution_count": 10,
   "metadata": {},
   "outputs": [],
   "source": [
    "# with open('laplace_smoothed_bigrams.pickle', 'wb') as handle:\n",
    "#     pickle.dump(laplace_smoothed_bigrams, handle, protocol=pickle.HIGHEST_PROTOCOL)\n",
    "\n",
    "# with open('add_5_smoothed_bigrams.pickle', 'wb') as handle:\n",
    "#     pickle.dump(add_5_smoothed_bigrams, handle, protocol=pickle.HIGHEST_PROTOCOL)\n",
    "\n",
    "# with open('add_5_with_unigram_prior_smoothed_bigrams.pickle', 'wb') as handle:\n",
    "#     pickle.dump(add_5_with_unigram_prior_smoothed_bigrams, handle, protocol=pickle.HIGHEST_PROTOCOL)"
   ]
  },
  {
   "cell_type": "markdown",
   "metadata": {},
   "source": [
    "## Creating BiGram Models"
   ]
  },
  {
   "cell_type": "code",
   "execution_count": 39,
   "metadata": {},
   "outputs": [],
   "source": [
    "with open('laplace_smoothed_bigrams.pickle', 'rb') as handle:\n",
    "    laplace_smoothed_bigrams = pickle.load(handle)\n",
    "\n",
    "# with open('add_5_smoothed_bigrams.pickle', 'rb') as handle:\n",
    "#     add_5_smoothed_bigrams = pickle.load(handle)\n",
    "\n",
    "# with open('add_5_with_unigram_prior_smoothed_bigrams.pickle', 'rb') as handle:\n",
    "#     add_5_with_unigram_prior_smoothed_bigrams = pickle.load(handle)"
   ]
  },
  {
   "cell_type": "code",
   "execution_count": 42,
   "metadata": {},
   "outputs": [
    {
     "data": {
      "text/plain": [
       "66961489"
      ]
     },
     "execution_count": 42,
     "metadata": {},
     "output_type": "execute_result"
    }
   ],
   "source": [
    "len(laplace_smoothed_bigrams)"
   ]
  },
  {
   "cell_type": "code",
   "execution_count": 40,
   "metadata": {},
   "outputs": [
    {
     "data": {
      "text/plain": [
       "1812424.4418722054"
      ]
     },
     "execution_count": 40,
     "metadata": {},
     "output_type": "execute_result"
    }
   ],
   "source": [
    "lm = LanguageModel(laplace_smoothed_bigrams, unigram_probs, \"vader\", False, False, True, repetition_penalty=0.2)\n",
    "lm.computePerplexity(preprocess_text[0])"
   ]
  },
  {
   "cell_type": "code",
   "execution_count": 41,
   "metadata": {},
   "outputs": [
    {
     "data": {
      "text/plain": [
       "1.3335365643803543"
      ]
     },
     "execution_count": 41,
     "metadata": {},
     "output_type": "execute_result"
    }
   ],
   "source": [
    "lm = LanguageModel(bigrams, unigram_probs, \"vader\", False, False, True, repetition_penalty=0.2)\n",
    "lm.computePerplexity(preprocess_text[0])"
   ]
  },
  {
   "cell_type": "code",
   "execution_count": 12,
   "metadata": {},
   "outputs": [],
   "source": [
    "# Load Positive Prompts\n",
    "with open('pos_250_vader.txt', 'rb') as handle:\n",
    "    pos_prompts = handle.readlines()\n",
    "\n",
    "for i in range(len(pos_prompts)):\n",
    "    pos_prompts[i] = pos_prompts[i].decode('utf-8').strip()"
   ]
  },
  {
   "cell_type": "code",
   "execution_count": 13,
   "metadata": {},
   "outputs": [],
   "source": [
    "# # multithread\n",
    "# from multiprocessing.pool import ThreadPool as Pool\n",
    "# import os\n",
    "\n",
    "# ls_pos_gen = []\n",
    "# lm = LanguageModel(laplace_smoothed_bigrams, unigram_probs, \"vader\", False, False, True, repetition_penalty=0.2)\n",
    "\n",
    "# def generate_pos(i):\n",
    "#     sentence_pos = lm.generate_text([pos_prompts[i]], 1, 10)\n",
    "#     print(sentence_pos)\n",
    "#     ppl = lm.computePerplexity(sentence_pos)\n",
    "#     ls_pos_gen.append((sentence_pos, ppl))\n",
    "#     return\n",
    "\n",
    "# pool = Pool(os.cpu_count())\n",
    "\n",
    "# for i in range(len(pos_prompts)):\n",
    "#     pool.apply_async(generate_pos, (i,))\n",
    "\n",
    "# pool.close()\n",
    "# pool.join()\n",
    "\n",
    "# # for p in pos_prompts:\n",
    "# #     sentence_pos = lm.generate_text([p], sentiment=1, length=10)\n",
    "# #     # sentence_neg = lm.generate_text(['i', 'am'], sentiment=-1, length=10)\n",
    "# #     print(\"Positive: {}\".format(sentence_pos))\n",
    "# #     # print(\"Negative: {}\".format(sentence_neg))\n",
    "# #     ppl = lm.computePerplexity(sentence_pos)\n",
    "# #     print(\"Positive Perplexity: {}\".format(ppl))\n",
    "# #     # print(\"Negative Perplexity: {}\".format(lm.computePerplexity(sentence_neg)))\n",
    "# #     ls_pos_gen.append((sentence_pos, ppl))"
   ]
  },
  {
   "cell_type": "code",
   "execution_count": 16,
   "metadata": {},
   "outputs": [],
   "source": [
    "for i in laplace_smoothed_bigrams.keys():\n",
    "    if i[0] == 'gr8':\n",
    "        print(i)"
   ]
  },
  {
   "cell_type": "code",
   "execution_count": 14,
   "metadata": {},
   "outputs": [
    {
     "name": "stdout",
     "output_type": "stream",
     "text": [
      "Positive: ['ily', 'l', 'love', 'you', 'are', 'so', 'much', 'i', 'have', 'a']\n",
      "Positive Perplexity: 2090692.122793109\n",
      "Positive: ['paradise', 'lool', 'hope', 'you', 'are', 'so', 'much', 'i', 'have', 'a']\n",
      "Positive Perplexity: 2129159.2228822266\n",
      "Positive: ['perfectly', 'also', 'my', 'friends', 'in', 'the', 'best', 'thing', 'i', 'have']\n",
      "Positive Perplexity: 2909131.6638760096\n",
      "Positive: ['freedom', 'of', 'the', 'best', 'thing', 'i', 'have', 'a', 'good', 'morning']\n",
      "Positive Perplexity: 1635194.0598708808\n",
      "Positive: ['greatest', 'girl', 'i', 'have', 'a', 'good', 'morning', 'all', 'the', 'best']\n",
      "Positive Perplexity: 1753337.8059671018\n",
      "Positive: ['glorious', 'sunshine', 'hope', 'you', 'are', 'so', 'much', 'i', 'have', 'a']\n",
      "Positive Perplexity: 2129159.248319643\n",
      "Positive: ['best', 'thing', 'i', 'have', 'a', 'good', 'morning', 'all', 'the', 'same']\n",
      "Positive Perplexity: 1582349.5996006264\n",
      "Positive: ['love', 'you', 'are', 'so', 'much', 'i', 'have', 'a', 'good', 'morning']\n",
      "Positive Perplexity: 1134931.5221178194\n",
      "Positive: ['vbs', 'with', 'my', 'friends', 'in', 'the', 'best', 'thing', 'i', 'have']\n",
      "Positive Perplexity: 2269057.169750174\n",
      "Positive: ['awesome', 'that', 'i', 'have', 'a', 'good', 'morning', 'all', 'the', 'best']\n",
      "Positive Perplexity: 1337385.9212022328\n",
      "Positive: ['great', 'day', 'to', 'go', 'back', 'from', 'the', 'best', 'thing', 'i']\n",
      "Positive Perplexity: 2346882.4713206724\n",
      "Positive: ['xoxo', 'nerd', 'ily', 'l', 'love', 'you', 'are', 'so', 'much', 'i']\n",
      "Positive Perplexity: 4844851.07588651\n",
      "Positive: ['gorgeous', 'day', 'to', 'go', 'back', 'from', 'the', 'best', 'thing', 'i']\n",
      "Positive Perplexity: 2588738.384510422\n",
      "Positive: ['loving', 'the', 'best', 'thing', 'i', 'have', 'a', 'good', 'morning', 'all']\n",
      "Positive Perplexity: 1926147.3616546264\n",
      "Positive: ['loved', 'your', 'show', 'tonight', 'at', 'the', 'best', 'thing', 'i', 'have']\n",
      "Positive Perplexity: 3187431.1485776547\n",
      "Positive: ['soulmate', 'quiz', 'on', 'the', 'best', 'thing', 'i', 'have', 'a', 'good']\n",
      "Positive Perplexity: 2175191.7699925746\n",
      "Positive: ['congratulations', 'to', 'go', 'back', 'from', 'the', 'best', 'thing', 'i', 'have']\n",
      "Positive Perplexity: 2148675.193570882\n",
      "Positive: ['marvelous', 'on', 'the', 'best', 'thing', 'i', 'have', 'a', 'good', 'morning']\n",
      "Positive Perplexity: 1612110.1752938284\n",
      "Positive: ['bff', 'and', 'i', 'have', 'a', 'good', 'morning', 'all', 'the', 'best']\n",
      "Positive Perplexity: 1316928.779351789\n",
      "Positive: ['magnificent', 'mile', 'tomorrow', 'i', 'have', 'a', 'good', 'morning', 'all', 'the']\n",
      "Positive Perplexity: 2158607.8538120254\n",
      "Positive: ['beautiful', 'and', 'i', 'have', 'a', 'good', 'morning', 'all', 'the', 'best']\n",
      "Positive Perplexity: 1228738.0316693673\n",
      "Positive: ['lmao', 'but', 'i', 'have', 'a', 'good', 'morning', 'all', 'the', 'best']\n",
      "Positive Perplexity: 1311413.1166782666\n",
      "Positive: ['super', 'mario', 'kart', 'fucking', 'awesome', 'that', 'i', 'have', 'a', 'good']\n",
      "Positive Perplexity: 3240200.308583019\n",
      "Positive: ['blessed', 'with', 'my', 'friends', 'in', 'the', 'best', 'thing', 'i', 'have']\n",
      "Positive Perplexity: 2269057.166361574\n",
      "Positive: ['splendid', 'ily', 'l', 'love', 'you', 'are', 'so', 'much', 'i', 'have']\n",
      "Positive Perplexity: 3228040.0440060296\n",
      "Positive: ['brilliant', 'teacher', 'im', 'not', 'a', 'good', 'morning', 'all', 'the', 'best']\n",
      "Positive Perplexity: 2504075.1861071507\n",
      "Positive: ['delightful', 'enlightening', 'joy', 'of', 'the', 'best', 'thing', 'i', 'have', 'a']\n",
      "Positive Perplexity: 2892548.1567209405\n",
      "Positive: ['miracle', 'right', 'now', 'i', 'have', 'a', 'good', 'morning', 'all', 'the']\n",
      "Positive Perplexity: 1405122.8984248291\n",
      "Positive: ['darling', 'ily', 'l', 'love', 'you', 'are', 'so', 'much', 'i', 'have']\n",
      "Positive Perplexity: 3228040.0440060296\n",
      "Positive: ['joy', 'of', 'the', 'best', 'thing', 'i', 'have', 'a', 'good', 'morning']\n",
      "Positive Perplexity: 1570218.8146351855\n",
      "Positive: ['honored', 'to', 'go', 'back', 'from', 'the', 'best', 'thing', 'i', 'have']\n",
      "Positive Perplexity: 2063296.5090376474\n",
      "Positive: ['lovely', 'day', 'to', 'go', 'back', 'from', 'the', 'best', 'thing', 'i']\n",
      "Positive Perplexity: 2515326.097019623\n",
      "Positive: ['xd', 'eww', 'ily', 'l', 'love', 'you', 'are', 'so', 'much', 'i']\n",
      "Positive Perplexity: 4844851.061415954\n",
      "Positive: ['rejoicing', 'ily', 'l', 'love', 'you', 'are', 'so', 'much', 'i', 'have']\n",
      "Positive Perplexity: 3228040.0440060296\n",
      "Positive: ['cutest', 'baby', 'in', 'the', 'best', 'thing', 'i', 'have', 'a', 'good']\n",
      "Positive Perplexity: 2014845.0621975844\n",
      "Positive: ['win', 'good', 'morning', 'all', 'the', 'best', 'thing', 'i', 'have', 'a']\n",
      "Positive Perplexity: 2135985.203354598\n",
      "Positive: ['winner', 'also', 'my', 'friends', 'in', 'the', 'best', 'thing', 'i', 'have']\n",
      "Positive Perplexity: 2909131.6638760096\n",
      "Positive: ['wow', 'thats', 'not', 'a', 'good', 'morning', 'all', 'the', 'best', 'thing']\n",
      "Positive Perplexity: 2483281.4462307966\n",
      "Positive: ['rotflmao', 'muthu', 'kodi', 'kawadi', 'hada', 'is', 'a', 'good', 'morning', 'all']\n",
      "Positive Perplexity: 5186526.975765361\n",
      "Positive: ['amazing', 'i', 'have', 'a', 'good', 'morning', 'all', 'the', 'best', 'thing']\n",
      "Positive Perplexity: 1564518.2494900653\n",
      "Positive: ['wins', 'over', 'to', 'go', 'back', 'from', 'the', 'best', 'thing', 'i']\n",
      "Positive Perplexity: 2942512.510572165\n",
      "Positive: ['precious', 'has', 'a', 'good', 'morning', 'all', 'the', 'best', 'thing', 'i']\n",
      "Positive Perplexity: 2852540.162090143\n",
      "Positive: ['heroine', 'precious', 'has', 'a', 'good', 'morning', 'all', 'the', 'best', 'thing']\n",
      "Positive Perplexity: 3126264.651311969\n",
      "Positive: ['delicious', 'brunch', 'at', 'the', 'best', 'thing', 'i', 'have', 'a', 'good']\n",
      "Positive Perplexity: 2212562.008433819\n",
      "Positive: ['pleasure', 'to', 'go', 'back', 'from', 'the', 'best', 'thing', 'i', 'have']\n",
      "Positive Perplexity: 2148675.1871532374\n",
      "Positive: ['inspire', 'me', 'too', 'much', 'i', 'have', 'a', 'good', 'morning', 'all']\n",
      "Positive Perplexity: 1849081.1548615862\n",
      "Positive: ['celebrating', 'my', 'friends', 'in', 'the', 'best', 'thing', 'i', 'have', 'a']\n",
      "Positive Perplexity: 2102938.8689936916\n",
      "Positive: ['bliss', 'n', 'dc', 'june', 'by', 'the', 'best', 'thing', 'i', 'have']\n",
      "Positive Perplexity: 5130210.477148158\n",
      "Positive: ['celebrate', 'with', 'my', 'friends', 'in', 'the', 'best', 'thing', 'i', 'have']\n",
      "Positive Perplexity: 2269057.169750174\n",
      "Positive: ['loves', 'you', 'are', 'so', 'much', 'i', 'have', 'a', 'good', 'morning']\n",
      "Positive Perplexity: 1428793.7326950743\n",
      "Positive: ['perfect', 'hahaha', 'yeah', 'i', 'have', 'a', 'good', 'morning', 'all', 'the']\n",
      "Positive Perplexity: 1975325.4396815384\n",
      "Positive: ['won', 'a', 'good', 'morning', 'all', 'the', 'best', 'thing', 'i', 'have']\n",
      "Positive Perplexity: 2253857.60954894\n",
      "Positive: ['excellent', 'thank', 'you', 'are', 'so', 'much', 'i', 'have', 'a', 'good']\n",
      "Positive Perplexity: 1473802.3987188824\n",
      "Positive: ['gr8', '', '', '', '', '', '', '', '', '']\n"
     ]
    },
    {
     "ename": "KeyError",
     "evalue": "('gr8', '')",
     "output_type": "error",
     "traceback": [
      "\u001b[1;31m---------------------------------------------------------------------------\u001b[0m",
      "\u001b[1;31mKeyError\u001b[0m                                  Traceback (most recent call last)",
      "\u001b[1;32md:\\Desktop\\NLP_Assignments\\A2\\A2 copy.ipynb Cell 15\u001b[0m in \u001b[0;36m<module>\u001b[1;34m\u001b[0m\n\u001b[0;32m      <a href='vscode-notebook-cell:/d%3A/Desktop/NLP_Assignments/A2/A2%20copy.ipynb#X20sZmlsZQ%3D%3D?line=6'>7</a>\u001b[0m \u001b[39mprint\u001b[39m(\u001b[39m\"\u001b[39m\u001b[39mPositive: \u001b[39m\u001b[39m{}\u001b[39;00m\u001b[39m\"\u001b[39m\u001b[39m.\u001b[39mformat(sentence_pos))\n\u001b[0;32m      <a href='vscode-notebook-cell:/d%3A/Desktop/NLP_Assignments/A2/A2%20copy.ipynb#X20sZmlsZQ%3D%3D?line=7'>8</a>\u001b[0m \u001b[39m# print(\"Negative: {}\".format(sentence_neg))\u001b[39;00m\n\u001b[1;32m----> <a href='vscode-notebook-cell:/d%3A/Desktop/NLP_Assignments/A2/A2%20copy.ipynb#X20sZmlsZQ%3D%3D?line=8'>9</a>\u001b[0m ppl \u001b[39m=\u001b[39m lm\u001b[39m.\u001b[39;49mcomputePerplexity(sentence_pos)\n\u001b[0;32m     <a href='vscode-notebook-cell:/d%3A/Desktop/NLP_Assignments/A2/A2%20copy.ipynb#X20sZmlsZQ%3D%3D?line=9'>10</a>\u001b[0m \u001b[39mprint\u001b[39m(\u001b[39m\"\u001b[39m\u001b[39mPositive Perplexity: \u001b[39m\u001b[39m{}\u001b[39;00m\u001b[39m\"\u001b[39m\u001b[39m.\u001b[39mformat(ppl))\n\u001b[0;32m     <a href='vscode-notebook-cell:/d%3A/Desktop/NLP_Assignments/A2/A2%20copy.ipynb#X20sZmlsZQ%3D%3D?line=10'>11</a>\u001b[0m \u001b[39m# print(\"Negative Perplexity: {}\".format(lm.computePerplexity(sentence_neg)))\u001b[39;00m\n",
      "File \u001b[1;32md:\\Desktop\\NLP_Assignments\\A2\\LanguageModels.py:99\u001b[0m, in \u001b[0;36mLanguageModel.computePerplexity\u001b[1;34m(self, sentence)\u001b[0m\n\u001b[0;32m     97\u001b[0m perplexity \u001b[39m*\u001b[39m\u001b[39m=\u001b[39m vocab_size\n\u001b[0;32m     98\u001b[0m \u001b[39mfor\u001b[39;00m i \u001b[39min\u001b[39;00m \u001b[39mrange\u001b[39m(\u001b[39mlen\u001b[39m(sentence) \u001b[39m-\u001b[39m \u001b[39m1\u001b[39m):\n\u001b[1;32m---> 99\u001b[0m     perplexity \u001b[39m*\u001b[39m\u001b[39m=\u001b[39m \u001b[39m1\u001b[39m \u001b[39m/\u001b[39m \u001b[39mself\u001b[39;49m\u001b[39m.\u001b[39;49mbigrams[(sentence[i], sentence[i \u001b[39m+\u001b[39;49m \u001b[39m1\u001b[39;49m])]\n\u001b[0;32m    100\u001b[0m \u001b[39mreturn\u001b[39;00m perplexity \u001b[39m*\u001b[39m\u001b[39m*\u001b[39m (\u001b[39m1\u001b[39m \u001b[39m/\u001b[39m \u001b[39mlen\u001b[39m(sentence))\n",
      "\u001b[1;31mKeyError\u001b[0m: ('gr8', '')"
     ]
    }
   ],
   "source": [
    "ls_pos_gen = []\n",
    "lm = LanguageModel(laplace_smoothed_bigrams, unigram_probs, \"vader\", False, False, True, repetition_penalty=0.2)\n",
    "with open('pos_gen.txt', 'w') as f:\n",
    "    for p in pos_prompts:\n",
    "        sentence_pos = lm.generate_text([p], sentiment=1, length=10)\n",
    "        # sentence_neg = lm.generate_text(['i', 'am'], sentiment=-1, length=10)\n",
    "        print(\"Positive: {}\".format(sentence_pos))\n",
    "        # print(\"Negative: {}\".format(sentence_neg))\n",
    "        ppl = lm.computePerplexity(sentence_pos)\n",
    "        print(\"Positive Perplexity: {}\".format(ppl))\n",
    "        # print(\"Negative Perplexity: {}\".format(lm.computePerplexity(sentence_neg)))\n",
    "        ls_pos_gen.append((sentence_pos, ppl))\n",
    "        f.write(\"Positive: {} Perplexity: {}\\n\".format(sentence_pos, ppl))"
   ]
  },
  {
   "cell_type": "code",
   "execution_count": null,
   "metadata": {},
   "outputs": [],
   "source": [
    "# save generated sentences\n",
    "with open('ls_pos_gen_vader.pickle', 'wb') as handle:\n",
    "    pickle.dump(ls_pos_gen, handle, protocol=pickle.HIGHEST_PROTOCOL)"
   ]
  },
  {
   "cell_type": "code",
   "execution_count": 31,
   "metadata": {},
   "outputs": [],
   "source": [
    "ls = laplace_smoothed_bigrams.values()"
   ]
  },
  {
   "cell_type": "code",
   "execution_count": 33,
   "metadata": {},
   "outputs": [],
   "source": [
    "ls = np.array(list(ls))"
   ]
  },
  {
   "cell_type": "code",
   "execution_count": 40,
   "metadata": {},
   "outputs": [
    {
     "data": {
      "text/plain": [
       "1.3853485153122987e-08"
      ]
     },
     "execution_count": 40,
     "metadata": {},
     "output_type": "execute_result"
    }
   ],
   "source": [
    "min(ls)"
   ]
  }
 ],
 "metadata": {
  "kernelspec": {
   "display_name": "Python 3.9.13 64-bit (microsoft store)",
   "language": "python",
   "name": "python3"
  },
  "language_info": {
   "codemirror_mode": {
    "name": "ipython",
    "version": 3
   },
   "file_extension": ".py",
   "mimetype": "text/x-python",
   "name": "python",
   "nbconvert_exporter": "python",
   "pygments_lexer": "ipython3",
   "version": "3.9.13"
  },
  "orig_nbformat": 4,
  "vscode": {
   "interpreter": {
    "hash": "a5a87ee616be0254e3f1af9223138e3faeac65b2c9d91bc22a9fc5a4a8bd8eb0"
   }
  }
 },
 "nbformat": 4,
 "nbformat_minor": 2
}
