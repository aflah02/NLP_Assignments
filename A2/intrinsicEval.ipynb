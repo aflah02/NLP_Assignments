{
 "cells": [
  {
   "cell_type": "code",
   "execution_count": 1,
   "metadata": {},
   "outputs": [],
   "source": [
    "from evaluation import *"
   ]
  },
  {
   "cell_type": "markdown",
   "metadata": {},
   "source": [
    "### Negative Generation With Only External"
   ]
  },
  {
   "cell_type": "code",
   "execution_count": 14,
   "metadata": {},
   "outputs": [
    {
     "data": {
      "text/plain": [
       "'Average Perplexity is 1149.5631564240427'"
      ]
     },
     "execution_count": 14,
     "metadata": {},
     "output_type": "execute_result"
    }
   ],
   "source": [
    "intrinsic_eval = IntrinsicEvaluation(r\"generated_sentences\\neg_gen_only_ext.txt\")\n",
    "intr_perplexities, intr_sentences = intrinsic_eval.get_perplexities()\n",
    "f\"Average Perplexity is {intrinsic_eval.get_avg_perplexity(intr_perplexities)}\""
   ]
  },
  {
   "cell_type": "markdown",
   "metadata": {},
   "source": [
    "### Positive Generation With Only External"
   ]
  },
  {
   "cell_type": "code",
   "execution_count": 15,
   "metadata": {},
   "outputs": [
    {
     "data": {
      "text/plain": [
       "'Average Perplexity is 1033.066400924827'"
      ]
     },
     "execution_count": 15,
     "metadata": {},
     "output_type": "execute_result"
    }
   ],
   "source": [
    "intrinsic_eval = IntrinsicEvaluation(r\"generated_sentences\\pos_gen_only_ext.txt\")\n",
    "intr_perplexities, intr_sentences = intrinsic_eval.get_perplexities()\n",
    "f\"Average Perplexity is {intrinsic_eval.get_avg_perplexity(intr_perplexities)}\""
   ]
  },
  {
   "cell_type": "markdown",
   "metadata": {},
   "source": [
    "### Negative Generation With Addition to Numerator"
   ]
  },
  {
   "cell_type": "code",
   "execution_count": 16,
   "metadata": {},
   "outputs": [
    {
     "data": {
      "text/plain": [
       "'Average Perplexity is 6955.083128301696'"
      ]
     },
     "execution_count": 16,
     "metadata": {},
     "output_type": "execute_result"
    }
   ],
   "source": [
    "intrinsic_eval = IntrinsicEvaluation(r\"generated_sentences\\neg_gen_add_numerator.txt\")\n",
    "intr_perplexities, intr_sentences = intrinsic_eval.get_perplexities()\n",
    "f\"Average Perplexity is {intrinsic_eval.get_avg_perplexity(intr_perplexities)}\""
   ]
  },
  {
   "cell_type": "markdown",
   "metadata": {},
   "source": [
    "### Positive Generation With Addition to Numerator"
   ]
  },
  {
   "cell_type": "code",
   "execution_count": 17,
   "metadata": {},
   "outputs": [
    {
     "data": {
      "text/plain": [
       "'Average Perplexity is 6892.620049010152'"
      ]
     },
     "execution_count": 17,
     "metadata": {},
     "output_type": "execute_result"
    }
   ],
   "source": [
    "intrinsic_eval = IntrinsicEvaluation(r\"generated_sentences\\pos_gen_add_numerator.txt\")\n",
    "intr_perplexities, intr_sentences = intrinsic_eval.get_perplexities()\n",
    "f\"Average Perplexity is {intrinsic_eval.get_avg_perplexity(intr_perplexities)}\""
   ]
  }
 ],
 "metadata": {
  "kernelspec": {
   "display_name": "Python 3.9.13 64-bit (microsoft store)",
   "language": "python",
   "name": "python3"
  },
  "language_info": {
   "codemirror_mode": {
    "name": "ipython",
    "version": 3
   },
   "file_extension": ".py",
   "mimetype": "text/x-python",
   "name": "python",
   "nbconvert_exporter": "python",
   "pygments_lexer": "ipython3",
   "version": "3.9.13"
  },
  "orig_nbformat": 4,
  "vscode": {
   "interpreter": {
    "hash": "a5a87ee616be0254e3f1af9223138e3faeac65b2c9d91bc22a9fc5a4a8bd8eb0"
   }
  }
 },
 "nbformat": 4,
 "nbformat_minor": 2
}
