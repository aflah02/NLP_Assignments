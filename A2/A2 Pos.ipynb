{
 "cells": [
  {
   "cell_type": "code",
   "execution_count": 3,
   "metadata": {},
   "outputs": [],
   "source": [
    "import pandas as pd\n",
    "import numpy as np\n",
    "import pickle\n",
    "from preprocess_text import *\n",
    "from bigrams import *\n",
    "from smoothers import *\n",
    "from LanguageModels import *"
   ]
  },
  {
   "cell_type": "code",
   "execution_count": 4,
   "metadata": {},
   "outputs": [],
   "source": [
    "df = pd.read_csv('A1_dataset.csv')"
   ]
  },
  {
   "cell_type": "code",
   "execution_count": 3,
   "metadata": {},
   "outputs": [],
   "source": [
    "# text = df['TEXT'].to_list()\n",
    "# def preprocess_text(text):\n",
    "#     text = lowercase_text(text)\n",
    "#     text = remove_url_html(text)\n",
    "#     text = remove_users(text)\n",
    "#     text = remove_punctuations(text)\n",
    "#     text = remove_whitespaces(text)\n",
    "#     text = tokenization(text)\n",
    "#     text = spelling_correction(text, 'autocorrect_full')\n",
    "#     text = remove_alphanum(text)\n",
    "#     return text\n",
    "# df['preprocessed_text'] = df['TEXT'].progress_apply(preprocess_text)\n",
    "# preprocess_text = df['preprocessed_text'].to_list()\n",
    "# df.to_csv('preprocessed_A1.csv', index=False)"
   ]
  },
  {
   "cell_type": "code",
   "execution_count": 5,
   "metadata": {},
   "outputs": [],
   "source": [
    "df = pd.read_csv('preprocessed_A1.csv')\n",
    "preprocess_text = df['preprocessed_text'].to_list()\n",
    "for i in range(len(preprocess_text)):\n",
    "    preprocess_text[i] = eval(preprocess_text[i])"
   ]
  },
  {
   "cell_type": "code",
   "execution_count": 6,
   "metadata": {},
   "outputs": [],
   "source": [
    "unigram_counts = {}\n",
    "for sentence in preprocess_text:\n",
    "    for word in sentence:\n",
    "        if word in unigram_counts:\n",
    "            unigram_counts[word] += 1\n",
    "        else:\n",
    "            unigram_counts[word] = 1"
   ]
  },
  {
   "cell_type": "code",
   "execution_count": 7,
   "metadata": {},
   "outputs": [],
   "source": [
    "unigram_probs = {}\n",
    "scale_factor = sum(unigram_counts.values())\n",
    "for word in unigram_counts:\n",
    "    unigram_probs[word] = unigram_counts[word] / scale_factor"
   ]
  },
  {
   "cell_type": "code",
   "execution_count": 8,
   "metadata": {},
   "outputs": [
    {
     "data": {
      "text/plain": [
       "6952"
      ]
     },
     "execution_count": 8,
     "metadata": {},
     "output_type": "execute_result"
    }
   ],
   "source": [
    "len(unigram_counts)"
   ]
  },
  {
   "cell_type": "markdown",
   "metadata": {},
   "source": [
    "# Saving Bigrams with Smoothing"
   ]
  },
  {
   "cell_type": "code",
   "execution_count": 9,
   "metadata": {},
   "outputs": [],
   "source": [
    "bigram_wrapper = Bigrams(preprocess_text)\n",
    "bigrams = bigram_wrapper.get_bigrams()\n",
    "vocab_len = bigram_wrapper.vocab_len\n",
    "\n",
    "with open('bigram_wrapper.pickle', 'wb') as f:\n",
    "    pickle.dump(bigram_wrapper, f)"
   ]
  },
  {
   "cell_type": "code",
   "execution_count": 9,
   "metadata": {},
   "outputs": [],
   "source": [
    "# load bigram_wrapper\n",
    "# with open('bigram_wrapper.pickle', 'rb') as f:\n",
    "#     bigram_wrapper = pickle.load(f)\n",
    "\n",
    "# bigrams = bigram_wrapper.get_bigrams()\n",
    "# vocab_len = bigram_wrapper.vocab_len"
   ]
  },
  {
   "cell_type": "code",
   "execution_count": 10,
   "metadata": {},
   "outputs": [],
   "source": [
    "smoother = LMSmoothers(bigrams, vocab_len, unigram_counts=unigram_counts, unigrams_probs=unigram_probs)\n",
    "laplace_smoothed_bigrams = smoother.laplace()\n",
    "# add_5_smoothed_bigrams = smoother.add_k(5)\n",
    "# add_5_with_unigram_prior_smoothed_bigrams = smoother.add_k_with_unigram_prior(5)"
   ]
  },
  {
   "cell_type": "code",
   "execution_count": 11,
   "metadata": {},
   "outputs": [],
   "source": [
    "with open('laplace_smoothed_bigrams.pickle', 'wb') as handle:\n",
    "    pickle.dump(laplace_smoothed_bigrams, handle, protocol=pickle.HIGHEST_PROTOCOL)\n",
    "\n",
    "# with open('add_5_smoothed_bigrams.pickle', 'wb') as handle:\n",
    "#     pickle.dump(add_5_smoothed_bigrams, handle, protocol=pickle.HIGHEST_PROTOCOL)\n",
    "\n",
    "# with open('add_5_with_unigram_prior_smoothed_bigrams.pickle', 'wb') as handle:\n",
    "#     pickle.dump(add_5_with_unigram_prior_smoothed_bigrams, handle, protocol=pickle.HIGHEST_PROTOCOL)"
   ]
  },
  {
   "cell_type": "markdown",
   "metadata": {},
   "source": [
    "## Creating BiGram Models"
   ]
  },
  {
   "cell_type": "code",
   "execution_count": 12,
   "metadata": {},
   "outputs": [],
   "source": [
    "with open('laplace_smoothed_bigrams.pickle', 'rb') as handle:\n",
    "    laplace_smoothed_bigrams = pickle.load(handle)\n",
    "\n",
    "# with open('add_5_smoothed_bigrams.pickle', 'rb') as handle:\n",
    "#     add_5_smoothed_bigrams = pickle.load(handle)\n",
    "\n",
    "# with open('add_5_with_unigram_prior_smoothed_bigrams.pickle', 'rb') as handle:\n",
    "#     add_5_with_unigram_prior_smoothed_bigrams = pickle.load(handle)"
   ]
  },
  {
   "cell_type": "code",
   "execution_count": 13,
   "metadata": {},
   "outputs": [],
   "source": [
    "lm = LanguageModel(laplace_smoothed_bigrams, unigram_probs, \"vader\", False, False, True, repetition_penalty=0.2)"
   ]
  },
  {
   "cell_type": "code",
   "execution_count": 14,
   "metadata": {},
   "outputs": [],
   "source": [
    "# Load Positive Prompts\n",
    "with open('pos_250_vader.txt', 'rb') as handle:\n",
    "    pos_prompts = handle.readlines()\n",
    "\n",
    "for i in range(len(pos_prompts)):\n",
    "    pos_prompts[i] = pos_prompts[i].decode('utf-8').strip()"
   ]
  },
  {
   "cell_type": "code",
   "execution_count": 15,
   "metadata": {},
   "outputs": [
    {
     "data": {
      "text/plain": [
       "['paradise', 'glorious', 'perfectly', 'freedom', 'best', 'friend', 'just']"
      ]
     },
     "execution_count": 15,
     "metadata": {},
     "output_type": "execute_result"
    }
   ],
   "source": [
    "lm = LanguageModel(laplace_smoothed_bigrams, unigram_probs, \"vader\", False, False, True, repetition_penalty=0.2)\n",
    "lm.generate_text(['paradise'], 1, 7)"
   ]
  },
  {
   "cell_type": "code",
   "execution_count": 16,
   "metadata": {},
   "outputs": [
    {
     "data": {
      "text/plain": [
       "532.5508575134819"
      ]
     },
     "execution_count": 16,
     "metadata": {},
     "output_type": "execute_result"
    }
   ],
   "source": [
    "lm.computePerplexity(lm.generate_text(['paradise'], 1, 7))"
   ]
  },
  {
   "cell_type": "code",
   "execution_count": 17,
   "metadata": {},
   "outputs": [],
   "source": [
    "# clear the file\n",
    "open('pos_gen_only_ext.txt', 'w').close()"
   ]
  },
  {
   "cell_type": "code",
   "execution_count": 18,
   "metadata": {},
   "outputs": [],
   "source": [
    "def append_to_file(filename, text1, text2):\n",
    "    with open(filename, 'a') as f:\n",
    "        f.write(text1 + \" \" + text2 + '\\n')"
   ]
  },
  {
   "cell_type": "code",
   "execution_count": 19,
   "metadata": {},
   "outputs": [
    {
     "name": "stdout",
     "output_type": "stream",
     "text": [
      "Positive: ['paradise', 'love', 'to', 'be', 'a', 'great', 'time', 'i', 'dont', 'feel']\n",
      "Positive Perplexity: 644.8304013661058\n",
      "Positive: ['perfectly', 'then', 'going', 'to', 'see', 'it', 'was', 'a', 'good', 'morning']\n",
      "Positive Perplexity: 467.53033997787765\n",
      "Positive: ['freedom', 'mother', 'n', 'sunbathin', 'perfectly', 'also', 'i', 'have', 'to', 'the']\n",
      "Positive Perplexity: 1321.0342315659989\n",
      "Positive: ['greatest', 'love', 'to', 'get', 'it', 'was', 'awesome', 'now', 'i', 'am']\n",
      "Positive Perplexity: 635.7237523928185\n",
      "Positive: ['glorious', 'sunshine', 'with', 'my', 'friends', 'over', 'to', 'see', 'you', 'are']\n",
      "Positive Perplexity: 833.8439584139823\n",
      "Positive: ['best', 'friends', 'over', 'a', 'good', 'morning', 'it', 'would', 'have', 'a']\n",
      "Positive Perplexity: 793.4322208551166\n",
      "Positive: ['love', 'that', 'you', 'have', 'to', 'be', 'in', 'the', 'best', 'friends']\n",
      "Positive Perplexity: 428.3608370719978\n",
      "Positive: ['awesome', 'i', 'was', 'a', 'great', 'day', 'to', 'be', 'the', 'best']\n",
      "Positive Perplexity: 519.7401684349988\n",
      "Positive: ['great', 'weekend', 'to', 'see', 'a', 'little', 'bit', 'of', 'my', 'friend']\n",
      "Positive Perplexity: 817.4424187086247\n",
      "Positive: ['gorgeous', 'sunny', 'day', 'with', 'a', 'good', 'morning', 'twitter', 'haha', 'my']\n",
      "Positive Perplexity: 1029.6425391449854\n",
      "Positive: ['loving', 'germany', 'love', 'you', 'are', 'you', 'can', 'see', 'the', 'best']\n",
      "Positive Perplexity: 867.0834280361819\n",
      "Positive: ['loved', 'playschool', 'perfectly', 'then', 'the', 'same', 'thing', 'to', 'go', 'to']\n",
      "Positive Perplexity: 1283.14777600722\n",
      "Positive: ['congratulations', 'angelo', 'greatest', 'perfectly', 'freedom', 'love', 'that', 'i', 'have', 'the']\n",
      "Positive Perplexity: 1775.0266933895693\n",
      "Positive: ['marvelous', 'love', 'it', 'is', 'going', 'on', 'a', 'few', 'minutes', 'to']\n",
      "Positive Perplexity: 1009.4711367070965\n",
      "Positive: ['bff', 'on', 'my', 'friend', 'is', 'going', 'out', 'with', 'my', 'friends']\n",
      "Positive Perplexity: 759.7759737181734\n",
      "Positive: ['magnificent', 'mile', 'love', 'it', 'was', 'a', 'good', 'day', 'i', 'cant']\n",
      "Positive Perplexity: 722.4825711466349\n",
      "Positive: ['beautiful', 'like', 'that', 'is', 'a', 'lot', 'lately', 'throat', 'acting', 'feeling']\n",
      "Positive Perplexity: 1502.4631206992915\n",
      "Positive: ['super', 'excited', 'about', 'the', 'best', 'thing', 'to', 'be', 'there', 'is']\n",
      "Positive Perplexity: 982.7138474028671\n",
      "Positive: ['blessed', 'with', 'my', 'baby', 'all', 'i', 'love', 'you', 'and', 'a']\n",
      "Positive Perplexity: 682.4445381747181\n",
      "Positive: ['splendid', 'freedom', 'glorious', 'sunny', 'outside', 'why', 'not', 'a', 'good', 'night']\n",
      "Positive Perplexity: 1953.1035596750396\n",
      "Positive: ['brilliant', 'glorious', 'perfectly', 'also', 'my', 'friends', 'are', 'not', 'going', 'back']\n",
      "Positive Perplexity: 2024.3805097921406\n",
      "Positive: ['delightful', 'glorious', 'love', 'that', 'you', 'are', 'so', 'much', 'for', 'a']\n",
      "Positive Perplexity: 928.6466322943005\n",
      "Positive: ['miracle', 'perfectly', 'also', 'hope', 'you', 'are', 'you', 'and', 'i', 'am']\n",
      "Positive Perplexity: 714.316279792443\n",
      "Positive: ['darling', 'freedom', 'of', 'a', 'few', 'times', 'hugs', 'sorry', 'i', 'was']\n",
      "Positive Perplexity: 1522.00051089624\n",
      "Positive: ['joy', 'glorious', 'weather', 'from', 'a', 'good', 'night', 'still', 'in', 'the']\n",
      "Positive Perplexity: 1199.9783504975637\n",
      "Positive: ['honored', 'greatest', 'girl', 'from', 'the', 'day', 'for', 'the', 'best', 'friends']\n",
      "Positive Perplexity: 1088.884844341941\n",
      "Positive: ['lovely', 'evening', 'but', 'i', 'have', 'the', 'new', 'moon', 'im', 'sorry']\n",
      "Positive Perplexity: 797.1755954445072\n",
      "Positive: ['xd', 'but', 'its', 'raining', 'like', 'that', 'you', 'and', 'it', 'was']\n",
      "Positive Perplexity: 843.1323975145247\n",
      "Positive: ['win', 'the', 'last', 'night', 'and', 'it', 'will', 'i', 'have', 'a']\n",
      "Positive Perplexity: 559.7883928965821\n",
      "Positive: ['winner', 'perfectly', 'love', 'it', 'is', 'the', 'best', 'of', 'the', 'new']\n",
      "Positive Perplexity: 939.6423100018263\n",
      "Positive: ['wow', 'that', 'is', 'going', 'to', 'be', 'there', 'i', 'dont', 'think']\n",
      "Positive Perplexity: 535.6046925673888\n",
      "Positive: ['rotflmao', 'math', 'homework', 'to', 'get', 'better', 'i', 'dont', 'know', 'im']\n",
      "Positive Perplexity: 1052.2259068387561\n",
      "Positive: ['amazing', 'congratulations', 'to', 'be', 'back', 'to', 'see', 'a', 'great', 'day']\n",
      "Positive Perplexity: 686.1622937184823\n",
      "Positive: ['honour', 'greatest', 'games', 'love', 'that', 'i', 'was', 'awesome', 'haha', 'yeah']\n",
      "Positive Perplexity: 1432.4465528594167\n",
      "Positive: ['wins', 'glorious', 'sunny', 'outside', 'why', 'did', 'you', 'have', 'to', 'the']\n",
      "Positive Perplexity: 1109.8881875481584\n",
      "Positive: ['precious', 'love', 'you', 'have', 'been', 'trying', 'well', 'see', 'my', 'baby']\n",
      "Positive Perplexity: 1158.2278792109937\n",
      "Positive: ['heroine', 'glorious', 'sunny', 'hot', 'when', 'you', 'are', 'the', 'same', 'thing']\n",
      "Positive Perplexity: 1579.50760384599\n",
      "Positive: ['delicious', 'recipe', 'love', 'that', 'im', 'so', 'i', 'dont', 'have', 'to']\n",
      "Positive Perplexity: 718.12371492898\n",
      "Positive: ['pleasure', 'to', 'the', 'same', 'time', 'for', 'a', 'good', 'morning', 'all']\n",
      "Positive Perplexity: 547.0761506261929\n",
      "Positive: ['inspire', 'perfectly', 'love', 'you', 'have', 'a', 'great', 'time', 'i', 'was']\n",
      "Positive Perplexity: 684.8186157048524\n",
      "Positive: ['celebrating', 'perfectly', 'then', 'the', 'best', 'thing', 'i', 'dont', 'want', 'some']\n",
      "Positive Perplexity: 1213.2951356037338\n",
      "Positive: ['bliss', 'glorious', 'love', 'you', 'are', 'you', 'have', 'no', 'one', 'of']\n",
      "Positive Perplexity: 795.1190006450056\n",
      "Positive: ['celebrate', 'perfectly', 'greatest', 'love', 'that', 'was', 'awesome', 'now', 'im', 'not']\n",
      "Positive Perplexity: 1460.5852584400789\n",
      "Positive: ['loves', 'it', 'was', 'in', 'a', 'few', 'days', 'of', 'the', 'last']\n",
      "Positive Perplexity: 602.5397299373838\n",
      "Positive: ['perfect', 'haha', 'i', 'love', 'it', 'was', 'in', 'the', 'best', 'thing']\n",
      "Positive Perplexity: 508.8869080969709\n",
      "Positive: ['won', 'too', 'i', 'was', 'a', 'good', 'day', 'to', 'get', 'ready']\n",
      "Positive Perplexity: 571.0723190795197\n",
      "Positive: ['excellent', 'shortwave', 'love', 'that', 'was', 'the', 'new', 'album', 'believe', 'that']\n",
      "Positive Perplexity: 1719.5245193927299\n",
      "Positive: ['wonderful', 'sunny', 'warm', 'day', 'for', 'me', 'a', 'great', 'time', 'i']\n",
      "Positive Perplexity: 1123.9066811559996\n",
      "Positive: ['happy', 'birthday', 'grand', 'house', 'so', 'i', 'have', 'to', 'be', 'a']\n",
      "Positive Perplexity: 644.3843192952718\n",
      "Positive: ['divine', 'love', 'to', 'the', 'new', 'moon', 'bb', 'stuff', 'wow', 'that']\n",
      "Positive Perplexity: 1675.7954194054926\n",
      "Positive: ['gracious', 'greatest', 'perfectly', 'then', 'i', 'am', 'in', 'the', 'new', 'moon']\n",
      "Positive Perplexity: 1050.7442081393515\n",
      "Positive: ['sophisticated', 'greatest', 'girl', 'i', 'was', 'just', 'a', 'few', 'times', 'to']\n",
      "Positive Perplexity: 1315.3024690176323\n",
      "Positive: ['happiness', 'glorious', 'love', 'that', 'im', 'so', 'i', 'dont', 'think', 'im']\n",
      "Positive Perplexity: 942.6991408571448\n",
      "Positive: ['rich', 'glorious', 'sunny', 'day', 'for', 'a', 'few', 'things', 'and', 'it']\n",
      "Positive Perplexity: 1310.7255401043133\n",
      "Positive: ['positive', 'incentive', 'perfectly', 'also', 'hope', 'youre', 'not', 'a', 'little', 'sad']\n",
      "Positive Perplexity: 2086.1610906195565\n",
      "Positive: ['hero', 'party', 'when', 'i', 'have', 'a', 'few', 'times', 'in', 'the']\n",
      "Positive Perplexity: 650.9211267168033\n",
      "Positive: ['laugh', 'daily', 'perfectly', 'greatest', 'games', 'glorious', 'freedom', 'best', 'of', 'my']\n",
      "Positive Perplexity: 3808.0433293127962\n",
      "Positive: ['fantastic', 'beach', 'trip', 'to', 'see', 'my', 'phone', 'but', 'i', 'dont']\n",
      "Positive Perplexity: 791.4072521447731\n",
      "Positive: ['blessings', 'i', 'was', 'so', 'sad', 'day', 'to', 'be', 'in', 'your']\n",
      "Positive Perplexity: 692.0888832131782\n",
      "Positive: ['honorable', 'perfectly', 'then', 'the', 'new', 'moon', 'trailer', 'voodoo', 'ad', 'glorious']\n",
      "Positive Perplexity: 2661.2455376358403\n",
      "Positive: ['peace', 'love', 'the', 'best', 'of', 'the', 'day', 'with', 'me', 'feel']\n",
      "Positive Perplexity: 805.6248163394436\n",
      "Positive: ['bonus', 'followfriday', 'just', 'got', 'to', 'get', 'better', 'than', 'i', 'was']\n",
      "Positive Perplexity: 792.5778268115831\n",
      "Positive: ['glory', 'love', 'it', 'i', 'am', 'so', 'much', 'today', 'i', 'can']\n",
      "Positive Perplexity: 692.3147021801403\n",
      "Positive: ['fabulous', 'glorious', 'sunny', 'day', 'with', 'my', 'friends', 'that', 'i', 'love']\n",
      "Positive Perplexity: 939.0318538856071\n",
      "Positive: ['happier', 'with', 'you', 'are', 'going', 'out', 'on', 'a', 'lot', 'of']\n",
      "Positive Perplexity: 793.0937970819747\n",
      "Positive: ['winning', 'perfectly', 'glorious', 'weather', 'will', 'be', 'a', 'good', 'morning', 'at']\n",
      "Positive Perplexity: 1259.8501746943084\n",
      "Positive: ['wisdom', 'glorious', 'sunny', 'hot', 'dog', 'watching', 'the', 'best', 'of', 'my']\n",
      "Positive Perplexity: 1700.3344974005768\n",
      "Positive: ['sexy', 'background', 'image', 'love', 'it', 'is', 'a', 'great', 'night', 'and']\n",
      "Positive Perplexity: 1166.1332516492544\n",
      "Positive: ['passionate', 'much', 'i', 'am', 'in', 'bed', 'but', 'it', 'looks', 'awesome']\n",
      "Positive Perplexity: 1154.931338270003\n",
      "Positive: ['enjoying', 'the', 'day', 'to', 'go', 'out', 'on', 'my', 'baby', 'in']\n",
      "Positive Perplexity: 754.1745070898827\n",
      "Positive: ['brave', 'perfectly', 'also', 'enjoyed', 'the', 'new', 'iphone', 'lol', 'i', 'have']\n",
      "Positive Perplexity: 1689.5480725618443\n",
      "Positive: ['inspiration', 'freedom', 'mother', 'is', 'so', 'much', 'i', 'love', 'you', 'have']\n",
      "Positive Perplexity: 859.3527573594458\n",
      "Positive: ['kind', 'of', 'a', 'great', 'time', 'to', 'go', 'home', 'from', 'my']\n",
      "Positive Perplexity: 536.3851160762197\n",
      "Positive: ['yay', 'weekend', 'xd', 'bet', 'till', 'july', 'it', 'was', 'a', 'good']\n",
      "Positive Perplexity: 1579.661111383793\n",
      "Positive: ['delighted', 'to', 'go', 'to', 'be', 'back', 'to', 'get', 'it', 'was']\n",
      "Positive Perplexity: 357.14335581944323\n",
      "Positive: ['pleasant', 'glorious', 'sunshine', 'and', 'i', 'dont', 'have', 'a', 'great', 'day']\n",
      "Positive Perplexity: 728.6541204510687\n",
      "Positive: ['vip', 'party', 'tomorrow', 'morning', 'all', 'the', 'new', 'moon', 'trailer', 'wow']\n",
      "Positive Perplexity: 1517.7621360457288\n",
      "Positive: ['inspirational', 'music', 'hear', 'laughing', 'perfectly', 'also', 'enjoyed', 'the', 'same', 'page']\n",
      "Positive Perplexity: 3039.029470710065\n",
      "Positive: ['appreciated', 'perfectly', 'glorious', 'sunshine', 'and', 'i', 'dont', 'think', 'im', 'sorry']\n",
      "Positive Perplexity: 1225.7207881058569\n",
      "Positive: ['enjoyed', 'the', 'best', 'thing', 'about', 'the', 'last', 'week', 'of', 'the']\n",
      "Positive Perplexity: 1057.9640429375327\n",
      "Positive: ['talented', 'and', 'a', 'great', 'weekend', 'with', 'my', 'mom', 'was', 'a']\n",
      "Positive Perplexity: 923.6239516220539\n",
      "Positive: ['heaven', 'to', 'see', 'you', 'are', 'you', 'have', 'been', 'a', 'few']\n",
      "Positive Perplexity: 504.1827854269334\n",
      "Positive: ['confidence', 'love', 'you', 'can', 'you', 'are', 'going', 'to', 'the', 'same']\n",
      "Positive Perplexity: 513.7478143736668\n",
      "Positive: ['cheering', 'glorious', 'sunny', 'sunny', 'outside', 'i', 'love', 'the', 'same', 'time']\n",
      "Positive Perplexity: 1371.9481463732764\n",
      "Positive: ['kisses', 'perfectly', 'then', 'i', 'dont', 'have', 'been', 'there', 'pretty', 'fit']\n",
      "Positive Perplexity: 1278.808223445011\n",
      "Positive: ['enlightening', 'joy', 'perfectly', 'also', 'i', 'was', 'so', 'sad', 'day', 'for']\n",
      "Positive Perplexity: 1470.9393829882995\n",
      "Positive: ['tops', 'perfectly', 'then', 'i', 'love', 'it', 'is', 'a', 'great', 'day']\n",
      "Positive Perplexity: 695.1985231304495\n",
      "Positive: ['trust', 'love', 'it', 'was', 'so', 'bad', 'i', 'am', 'not', 'happy']\n",
      "Positive Perplexity: 786.8485602489186\n",
      "Positive: ['impressive', 'glorious', 'weather', 'will', 'be', 'the', 'same', 'thing', 'i', 'am']\n",
      "Positive Perplexity: 1126.5373859366055\n",
      "Positive: ['comfortable', 'love', 'you', 'and', 'its', 'raining', 'and', 'i', 'am', 'in']\n",
      "Positive Perplexity: 721.6876160729266\n",
      "Positive: ['heroes', 'love', 'that', 'was', 'so', 'far', 'too', 'late', 'to', 'be']\n",
      "Positive Perplexity: 1059.0622277915022\n",
      "Positive: ['cheer', 'up', 'and', 'i', 'was', 'a', 'good', 'day', 'of', 'my']\n",
      "Positive Perplexity: 484.0084223012277\n"
     ]
    }
   ],
   "source": [
    "ls_pos_gen = []\n",
    "lm = LanguageModel(laplace_smoothed_bigrams, unigram_probs, \"vader\", False, False, True, repetition_penalty=0.2)\n",
    "for p in pos_prompts:\n",
    "    sentence_pos = lm.generate_text([p], sentiment=1, length=10)\n",
    "    print(\"Positive: {}\".format(sentence_pos))\n",
    "    ppl = lm.computePerplexity(sentence_pos)\n",
    "    print(\"Positive Perplexity: {}\".format(ppl))\n",
    "    ls_pos_gen.append((sentence_pos, ppl))\n",
    "    append_to_file('pos_gen_only_ext.txt', \" \".join(sentence_pos), str(ppl))"
   ]
  },
  {
   "cell_type": "code",
   "execution_count": null,
   "metadata": {},
   "outputs": [],
   "source": [
    "# save generated sentences\n",
    "with open('ls_pos_gen_vader_thread.pickle', 'wb') as handle:\n",
    "    pickle.dump(ls_pos_gen, handle, protocol=pickle.HIGHEST_PROTOCOL)"
   ]
  },
  {
   "cell_type": "code",
   "execution_count": null,
   "metadata": {},
   "outputs": [],
   "source": [
    "ls_pos_gen = []\n",
    "lm = LanguageModel(laplace_smoothed_bigrams, unigram_probs, \"vader\", True, False, True, repetition_penalty=0.2, sentiment_scale_factor=1e-1)\n",
    "for p in pos_prompts:\n",
    "    sentence_pos = lm.generate_text([p], sentiment=1, length=10)\n",
    "    print(\"Positive: {}\".format(sentence_pos))\n",
    "    ppl = lm.computePerplexity(sentence_pos)\n",
    "    print(\"Positive Perplexity: {}\".format(ppl))\n",
    "    ls_pos_gen.append((sentence_pos, ppl))\n",
    "    append_to_file('pos_gen_add_numerator.txt', \" \".join(sentence_pos), str(ppl))"
   ]
  },
  {
   "cell_type": "code",
   "execution_count": null,
   "metadata": {},
   "outputs": [],
   "source": [
    "ls_pos_gen = []\n",
    "lm = LanguageModel(laplace_smoothed_bigrams, unigram_probs, \"vader\", True, False, True, repetition_penalty=0.2)\n",
    "for p in pos_prompts:\n",
    "    sentence_pos = lm.generate_text([p], sentiment=1, length=10)\n",
    "    print(\"Positive: {}\".format(sentence_pos))\n",
    "    ppl = lm.computePerplexity(sentence_pos)\n",
    "    print(\"Positive Perplexity: {}\".format(ppl))\n",
    "    ls_pos_gen.append((sentence_pos, ppl))\n",
    "    append_to_file('pos_gen_mul_numerator.txt', \" \".join(sentence_pos), str(ppl))"
   ]
  }
 ],
 "metadata": {
  "kernelspec": {
   "display_name": "Python 3.10.2 ('venv': venv)",
   "language": "python",
   "name": "python3"
  },
  "language_info": {
   "codemirror_mode": {
    "name": "ipython",
    "version": 3
   },
   "file_extension": ".py",
   "mimetype": "text/x-python",
   "name": "python",
   "nbconvert_exporter": "python",
   "pygments_lexer": "ipython3",
   "version": "3.10.2"
  },
  "orig_nbformat": 4,
  "vscode": {
   "interpreter": {
    "hash": "aecbea90afaecda7d2d5844bd9622c7f6c46f8beb4e99ad394477027755b7849"
   }
  }
 },
 "nbformat": 4,
 "nbformat_minor": 2
}
