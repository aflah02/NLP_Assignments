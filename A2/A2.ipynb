{
 "cells": [
  {
   "cell_type": "code",
   "execution_count": 1,
   "metadata": {},
   "outputs": [],
   "source": [
    "import pandas as pd\n",
    "import numpy as np\n",
    "import pickle\n",
    "from preprocess_text import *\n",
    "from bigrams import *\n",
    "from smoothers import *\n",
    "from LanguageModels import *"
   ]
  },
  {
   "cell_type": "code",
   "execution_count": 2,
   "metadata": {},
   "outputs": [],
   "source": [
    "df = pd.read_csv('A1_dataset.csv')"
   ]
  },
  {
   "cell_type": "code",
   "execution_count": 3,
   "metadata": {},
   "outputs": [],
   "source": [
    "text = df['TEXT'].to_list()\n",
    "def preprocess_text(text):\n",
    "    text = lowercase_text(text)\n",
    "    text = remove_url_html(text)\n",
    "    text = remove_users(text)\n",
    "    text = remove_punctuations(text)\n",
    "    text = remove_whitespaces(text)\n",
    "    text = tokenization(text)\n",
    "    text = spelling_correction(text, 'textblob')\n",
    "    return text\n",
    "df['preprocessed_text'] = df['TEXT'].apply(preprocess_text)\n",
    "preprocess_text = df['preprocessed_text'].to_list()"
   ]
  },
  {
   "cell_type": "code",
   "execution_count": 4,
   "metadata": {},
   "outputs": [],
   "source": [
    "unigram_counts = {}\n",
    "for sentence in preprocess_text:\n",
    "    for word in sentence:\n",
    "        if word in unigram_counts:\n",
    "            unigram_counts[word] += 1\n",
    "        else:\n",
    "            unigram_counts[word] = 1"
   ]
  },
  {
   "cell_type": "code",
   "execution_count": 5,
   "metadata": {},
   "outputs": [],
   "source": [
    "unigram_probs = {}\n",
    "scale_factor = sum(unigram_counts.values())\n",
    "for word in unigram_counts:\n",
    "    unigram_probs[word] = unigram_counts[word] / scale_factor"
   ]
  },
  {
   "cell_type": "markdown",
   "metadata": {},
   "source": [
    "# Saving Bigrams with Smoothing"
   ]
  },
  {
   "cell_type": "code",
   "execution_count": 6,
   "metadata": {},
   "outputs": [],
   "source": [
    "# bigram_wrapper = Bigrams(preprocess_text)\n",
    "# bigrams = bigram_wrapper.get_bigrams()\n",
    "# vocab_len = bigram_wrapper.vocab_len\n",
    "\n",
    "# with open('bigram_wrapper.pickle', 'wb') as f:\n",
    "#     pickle.dump(bigram_wrapper, f)"
   ]
  },
  {
   "cell_type": "code",
   "execution_count": 7,
   "metadata": {},
   "outputs": [],
   "source": [
    "# # load bigram_wrapper\n",
    "# with open('bigram_wrapper.pickle', 'rb') as f:\n",
    "#     bigram_wrapper = pickle.load(f)\n",
    "\n",
    "# bigrams = bigram_wrapper.get_bigrams()\n",
    "# vocab_len = bigram_wrapper.vocab_len"
   ]
  },
  {
   "cell_type": "code",
   "execution_count": 8,
   "metadata": {},
   "outputs": [],
   "source": [
    "# smoother = LMSmoothers(bigrams, vocab_len, unigram_counts=unigram_counts, unigrams_probs=unigram_probs)\n",
    "# laplace_smoothed_bigrams = smoother.laplace()\n",
    "# add_5_smoothed_bigrams = smoother.add_k(5)\n",
    "# add_5_with_unigram_prior_smoothed_bigrams = smoother.add_k_with_unigram_prior(5)"
   ]
  },
  {
   "cell_type": "code",
   "execution_count": 9,
   "metadata": {},
   "outputs": [],
   "source": [
    "# with open('laplace_smoothed_bigrams.pickle', 'wb') as handle:\n",
    "#     pickle.dump(laplace_smoothed_bigrams, handle, protocol=pickle.HIGHEST_PROTOCOL)\n",
    "\n",
    "# with open('add_5_smoothed_bigrams.pickle', 'wb') as handle:\n",
    "#     pickle.dump(add_5_smoothed_bigrams, handle, protocol=pickle.HIGHEST_PROTOCOL)\n",
    "\n",
    "# with open('add_5_with_unigram_prior_smoothed_bigrams.pickle', 'wb') as handle:\n",
    "#     pickle.dump(add_5_with_unigram_prior_smoothed_bigrams, handle, protocol=pickle.HIGHEST_PROTOCOL)"
   ]
  },
  {
   "cell_type": "markdown",
   "metadata": {},
   "source": [
    "## Creating BiGram Models"
   ]
  },
  {
   "cell_type": "code",
   "execution_count": 11,
   "metadata": {},
   "outputs": [],
   "source": [
    "with open('laplace_smoothed_bigrams.pickle', 'rb') as handle:\n",
    "    laplace_smoothed_bigrams = pickle.load(handle)\n",
    "\n",
    "# with open('add_5_smoothed_bigrams.pickle', 'rb') as handle:\n",
    "#     add_5_smoothed_bigrams = pickle.load(handle)\n",
    "\n",
    "# with open('add_5_with_unigram_prior_smoothed_bigrams.pickle', 'rb') as handle:\n",
    "#     add_5_with_unigram_prior_smoothed_bigrams = pickle.load(handle)"
   ]
  },
  {
   "cell_type": "code",
   "execution_count": 14,
   "metadata": {},
   "outputs": [
    {
     "name": "stdout",
     "output_type": "stream",
     "text": [
      "addNum: True, addDeno: True, addExt: True\n",
      "Positive: ['i', 'am', 'so', 'much', 'for', 'the', 'lobby']\n",
      "Negative: ['i', 'am', 'so', 'much', 'for', 'the', 'chilling']\n",
      "Positive Perplexity: 126478.20653797932\n",
      "Negative Perplexity: 139643.26154685358\n",
      "addNum: True, addDeno: True, addExt: False\n",
      "Positive: ['i', 'am', 'so', 'much', 'for', 'the', 'lobby']\n",
      "Negative: ['i', 'am', 'so', 'much', 'for', 'the', 'chilling']\n",
      "Positive Perplexity: 126478.20653797932\n",
      "Negative Perplexity: 139643.26154685358\n",
      "addNum: True, addDeno: False, addExt: True\n",
      "Positive: ['i', 'am', 'ily', 'ily', 'ily', 'ily', 'ily']\n",
      "Negative: ['i', 'am', 'raping', 'raping', 'raping', 'raping', 'raping']\n",
      "Positive Perplexity: 790905.9358747303\n",
      "Negative Perplexity: 790905.923352325\n",
      "addNum: True, addDeno: False, addExt: False\n",
      "Positive: ['i', 'am', 'ily', 'ily', 'ily', 'ily', 'ily']\n",
      "Negative: ['i', 'am', 'raping', 'raping', 'raping', 'raping', 'raping']\n",
      "Positive Perplexity: 790905.9358747303\n",
      "Negative Perplexity: 790905.923352325\n",
      "addNum: False, addDeno: True, addExt: True\n",
      "Positive: ['i', 'am', 'ily', 'love', 'freedom', 'best', 'greatest']\n",
      "Negative: ['i', 'am', 'raping', 'kill', 'hell', 'killed', 'killing']\n",
      "Positive Perplexity: 790906.3021547499\n",
      "Negative Perplexity: 790905.9577889384\n",
      "addNum: False, addDeno: True, addExt: False\n",
      "Positive: ['i', 'am', 'so', 'much', 'for', 'the', 'same']\n",
      "Negative: ['i', 'am', 'so', 'much', 'for', 'the', 'same']\n",
      "Positive Perplexity: 88168.6656573236\n",
      "Negative Perplexity: 88168.6656573236\n",
      "addNum: False, addDeno: False, addExt: True\n",
      "Positive: ['i', 'am', 'ily', 'love', 'freedom', 'best', 'greatest']\n",
      "Negative: ['i', 'am', 'raping', 'kill', 'hell', 'killed', 'killing']\n",
      "Positive Perplexity: 790906.3021547499\n",
      "Negative Perplexity: 790905.9577889384\n",
      "addNum: False, addDeno: False, addExt: False\n",
      "Positive: ['i', 'am', 'so', 'much', 'better', 'than', 'that']\n",
      "Negative: ['i', 'am', 'so', 'much', 'better', 'than', 'that']\n",
      "Positive Perplexity: 143113.4053980009\n",
      "Negative Perplexity: 143113.4053980009\n"
     ]
    }
   ],
   "source": [
    "addToNum = [True, False]\n",
    "addToDeno = [True, False]\n",
    "addExternally = [True, False]\n",
    "for addNum in addToNum:\n",
    "    for addDeno in addToDeno:\n",
    "        for addExt in addExternally:\n",
    "            lm = LanguageModel(laplace_smoothed_bigrams, unigram_probs, \"vader\", addNum, addDeno, addExt)\n",
    "            print(\"addNum: {}, addDeno: {}, addExt: {}\".format(addNum, addDeno, addExt))\n",
    "            sentence_pos = lm.generate_text(['i', 'am'], sentiment=1, length=7)\n",
    "            sentence_neg = lm.generate_text(['i', 'am'], sentiment=-1, length=7)\n",
    "            print(\"Positive: {}\".format(sentence_pos))\n",
    "            print(\"Negative: {}\".format(sentence_neg))\n",
    "            print(\"Positive Perplexity: {}\".format(lm.computePerplexity(sentence_pos)))\n",
    "            print(\"Negative Perplexity: {}\".format(lm.computePerplexity(sentence_neg)))"
   ]
  },
  {
   "cell_type": "code",
   "execution_count": null,
   "metadata": {},
   "outputs": [],
   "source": []
  }
 ],
 "metadata": {
  "kernelspec": {
   "display_name": "Python 3.9.13 64-bit (microsoft store)",
   "language": "python",
   "name": "python3"
  },
  "language_info": {
   "codemirror_mode": {
    "name": "ipython",
    "version": 3
   },
   "file_extension": ".py",
   "mimetype": "text/x-python",
   "name": "python",
   "nbconvert_exporter": "python",
   "pygments_lexer": "ipython3",
   "version": "3.9.13"
  },
  "orig_nbformat": 4,
  "vscode": {
   "interpreter": {
    "hash": "a5a87ee616be0254e3f1af9223138e3faeac65b2c9d91bc22a9fc5a4a8bd8eb0"
   }
  }
 },
 "nbformat": 4,
 "nbformat_minor": 2
}
