{
 "cells": [
  {
   "cell_type": "code",
   "execution_count": 1,
   "metadata": {},
   "outputs": [],
   "source": [
    "import pandas as pd\n",
    "import numpy as np\n",
    "import pickle\n",
    "from preprocess_text import *\n",
    "from bigrams import *\n",
    "from smoothers import *\n",
    "from LanguageModels import *"
   ]
  },
  {
   "cell_type": "code",
   "execution_count": 2,
   "metadata": {},
   "outputs": [],
   "source": [
    "df = pd.read_csv('A1_dataset.csv')"
   ]
  },
  {
   "cell_type": "code",
   "execution_count": 3,
   "metadata": {},
   "outputs": [],
   "source": [
    "text = df['TEXT'].to_list()\n",
    "def preprocess_text(text):\n",
    "    text = lowercase_text(text)\n",
    "    text = remove_url_html(text)\n",
    "    text = remove_users(text)\n",
    "    text = remove_punctuations(text)\n",
    "    text = remove_whitespaces(text)\n",
    "    text = tokenization(text)\n",
    "    text = spelling_correction(text, 'textblob')\n",
    "    return text\n",
    "df['preprocessed_text'] = df['TEXT'].apply(preprocess_text)\n",
    "preprocess_text = df['preprocessed_text'].to_list()"
   ]
  },
  {
   "cell_type": "code",
   "execution_count": 4,
   "metadata": {},
   "outputs": [],
   "source": [
    "unigram_counts = {}\n",
    "for sentence in preprocess_text:\n",
    "    for word in sentence:\n",
    "        if word in unigram_counts:\n",
    "            unigram_counts[word] += 1\n",
    "        else:\n",
    "            unigram_counts[word] = 1"
   ]
  },
  {
   "cell_type": "code",
   "execution_count": 5,
   "metadata": {},
   "outputs": [],
   "source": [
    "unigram_probs = {}\n",
    "scale_factor = sum(unigram_counts.values())\n",
    "for word in unigram_counts:\n",
    "    unigram_probs[word] = unigram_counts[word] / scale_factor"
   ]
  },
  {
   "cell_type": "markdown",
   "metadata": {},
   "source": [
    "# Sentiment Score Dump"
   ]
  },
  {
   "cell_type": "code",
   "execution_count": 6,
   "metadata": {},
   "outputs": [],
   "source": [
    "# from tqdm import tqdm\n",
    "# from nltk.sentiment.vader import SentimentIntensityAnalyzer\n",
    "# from transformers import pipeline"
   ]
  },
  {
   "cell_type": "code",
   "execution_count": 7,
   "metadata": {},
   "outputs": [],
   "source": [
    "# sid = SentimentIntensityAnalyzer()\n",
    "# ls_word_sentiment_vader = []\n",
    "# for word in tqdm(unigram_counts):\n",
    "#     ls_word_sentiment_vader.append((word, sid.polarity_scores(word)['compound']))\n",
    "# with open('ls_word_sentiment_vader.pickle', 'wb') as f:\n",
    "#     pickle.dump(ls_word_sentiment_vader, f)"
   ]
  },
  {
   "cell_type": "code",
   "execution_count": 8,
   "metadata": {},
   "outputs": [],
   "source": [
    "# hf_sentiment_model = pipeline('sentiment-analysis')\n",
    "# ls_word_sentiment_hf = []\n",
    "# for word in tqdm(unigram_counts):\n",
    "#     hf_res = hf_sentiment_model(word)\n",
    "#     score = hf_res[0]['score']\n",
    "#     pos_neg = hf_res[0]['label']\n",
    "#     if pos_neg == 'NEGATIVE':\n",
    "#         score = -score\n",
    "#     ls_word_sentiment_hf.append((word,score))\n",
    "# with open('ls_word_sentiment_hf.pickle', 'wb') as f:\n",
    "#     pickle.dump(ls_word_sentiment_hf, f)\n"
   ]
  },
  {
   "cell_type": "markdown",
   "metadata": {},
   "source": [
    "# Saving Bigrams with Smoothing"
   ]
  },
  {
   "cell_type": "code",
   "execution_count": 9,
   "metadata": {},
   "outputs": [],
   "source": [
    "# bigram_wrapper = Bigrams(preprocess_text)\n",
    "# bigrams = bigram_wrapper.get_bigrams()\n",
    "# vocab_len = bigram_wrapper.vocab_len\n",
    "\n",
    "# with open('bigram_wrapper.pickle', 'wb') as f:\n",
    "#     pickle.dump(bigram_wrapper, f)"
   ]
  },
  {
   "cell_type": "code",
   "execution_count": 10,
   "metadata": {},
   "outputs": [],
   "source": [
    "# # load bigram_wrapper\n",
    "# with open('bigram_wrapper.pickle', 'rb') as f:\n",
    "#     bigram_wrapper = pickle.load(f)\n",
    "\n",
    "# bigrams = bigram_wrapper.get_bigrams()\n",
    "# vocab_len = bigram_wrapper.vocab_len"
   ]
  },
  {
   "cell_type": "code",
   "execution_count": 11,
   "metadata": {},
   "outputs": [],
   "source": [
    "# smoother = LMSmoothers(bigrams, vocab_len, unigram_counts=unigram_counts, unigrams_probs=unigram_probs)\n",
    "# laplace_smoothed_bigrams = smoother.laplace()\n",
    "# add_5_smoothed_bigrams = smoother.add_k(5)\n",
    "# add_5_with_unigram_prior_smoothed_bigrams = smoother.add_k_with_unigram_prior(5)"
   ]
  },
  {
   "cell_type": "code",
   "execution_count": 12,
   "metadata": {},
   "outputs": [],
   "source": [
    "# with open('laplace_smoothed_bigrams.pickle', 'wb') as handle:\n",
    "#     pickle.dump(laplace_smoothed_bigrams, handle, protocol=pickle.HIGHEST_PROTOCOL)\n",
    "\n",
    "# with open('add_5_smoothed_bigrams.pickle', 'wb') as handle:\n",
    "#     pickle.dump(add_5_smoothed_bigrams, handle, protocol=pickle.HIGHEST_PROTOCOL)\n",
    "\n",
    "# with open('add_5_with_unigram_prior_smoothed_bigrams.pickle', 'wb') as handle:\n",
    "#     pickle.dump(add_5_with_unigram_prior_smoothed_bigrams, handle, protocol=pickle.HIGHEST_PROTOCOL)"
   ]
  },
  {
   "cell_type": "code",
   "execution_count": 13,
   "metadata": {},
   "outputs": [],
   "source": [
    "# with open('laplace_smoothed_bigrams.pickle', 'rb') as handle:\n",
    "#     laplace_smoothed_bigrams = pickle.load(handle)\n",
    "\n",
    "# with open('add_5_smoothed_bigrams.pickle', 'rb') as handle:\n",
    "#     add_5_smoothed_bigrams = pickle.load(handle)\n",
    "\n",
    "with open('add_5_with_unigram_prior_smoothed_bigrams.pickle', 'rb') as handle:\n",
    "    add_5_with_unigram_prior_smoothed_bigrams = pickle.load(handle)"
   ]
  },
  {
   "cell_type": "code",
   "execution_count": 14,
   "metadata": {},
   "outputs": [],
   "source": [
    "BigramLM = LanguageModel(add_5_with_unigram_prior_smoothed_bigrams, unigram_counts, 'vader')"
   ]
  },
  {
   "cell_type": "code",
   "execution_count": 15,
   "metadata": {},
   "outputs": [],
   "source": [
    "sentence_pos = BigramLM.generate_text(['i', 'am'], sentiment=1, length=7)"
   ]
  },
  {
   "cell_type": "code",
   "execution_count": 16,
   "metadata": {},
   "outputs": [
    {
     "data": {
      "text/plain": [
       "['i', 'am', 'ily', 'love', 'best', 'greatest', 'glorious']"
      ]
     },
     "execution_count": 16,
     "metadata": {},
     "output_type": "execute_result"
    }
   ],
   "source": [
    "sentence_pos"
   ]
  },
  {
   "cell_type": "code",
   "execution_count": 17,
   "metadata": {},
   "outputs": [],
   "source": [
    "sentence_neg = BigramLM.generate_text(['i', 'am'], sentiment=-1, length=7)"
   ]
  },
  {
   "cell_type": "code",
   "execution_count": 18,
   "metadata": {},
   "outputs": [
    {
     "data": {
      "text/plain": [
       "['i', 'am', 'raping', 'kill', 'hell', 'killed', 'killing']"
      ]
     },
     "execution_count": 18,
     "metadata": {},
     "output_type": "execute_result"
    }
   ],
   "source": [
    "sentence_neg"
   ]
  },
  {
   "cell_type": "code",
   "execution_count": 19,
   "metadata": {},
   "outputs": [],
   "source": [
    "BigramLM2 = LanguageModel(add_5_with_unigram_prior_smoothed_bigrams, unigram_counts, 'hf')"
   ]
  },
  {
   "cell_type": "code",
   "execution_count": 20,
   "metadata": {},
   "outputs": [],
   "source": [
    "sentence_pos2 = BigramLM2.generate_text(['i', 'am'], sentiment=1, length=7)"
   ]
  },
  {
   "cell_type": "code",
   "execution_count": 21,
   "metadata": {},
   "outputs": [
    {
     "data": {
      "text/plain": [
       "['i', 'am', 'love', 'happy', 'good', 'bliss', 'you']"
      ]
     },
     "execution_count": 21,
     "metadata": {},
     "output_type": "execute_result"
    }
   ],
   "source": [
    "sentence_pos2"
   ]
  },
  {
   "cell_type": "code",
   "execution_count": 22,
   "metadata": {},
   "outputs": [],
   "source": [
    "sentence_neg2 = BigramLM2.generate_text(['i', 'am'], sentiment=-1, length=7)"
   ]
  },
  {
   "cell_type": "code",
   "execution_count": 23,
   "metadata": {},
   "outputs": [
    {
     "data": {
      "text/plain": [
       "['i', 'am', 'pathetic', 'ill', 'bad', 'bored', 'sorry']"
      ]
     },
     "execution_count": 23,
     "metadata": {},
     "output_type": "execute_result"
    }
   ],
   "source": [
    "sentence_neg2"
   ]
  },
  {
   "cell_type": "code",
   "execution_count": null,
   "metadata": {},
   "outputs": [],
   "source": []
  }
 ],
 "metadata": {
  "kernelspec": {
   "display_name": "Python 3.9.13 64-bit (microsoft store)",
   "language": "python",
   "name": "python3"
  },
  "language_info": {
   "codemirror_mode": {
    "name": "ipython",
    "version": 3
   },
   "file_extension": ".py",
   "mimetype": "text/x-python",
   "name": "python",
   "nbconvert_exporter": "python",
   "pygments_lexer": "ipython3",
   "version": "3.9.13"
  },
  "orig_nbformat": 4,
  "vscode": {
   "interpreter": {
    "hash": "a5a87ee616be0254e3f1af9223138e3faeac65b2c9d91bc22a9fc5a4a8bd8eb0"
   }
  }
 },
 "nbformat": 4,
 "nbformat_minor": 2
}
