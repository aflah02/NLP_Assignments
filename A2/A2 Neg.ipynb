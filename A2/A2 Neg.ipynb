{
 "cells": [
  {
   "cell_type": "code",
   "execution_count": 1,
   "metadata": {},
   "outputs": [],
   "source": [
    "import pandas as pd\n",
    "import numpy as np\n",
    "import pickle\n",
    "from preprocess_text import *\n",
    "from bigrams import *\n",
    "from smoothers import *\n",
    "from LanguageModels import *"
   ]
  },
  {
   "cell_type": "code",
   "execution_count": 2,
   "metadata": {},
   "outputs": [],
   "source": [
    "df = pd.read_csv('A1_dataset.csv')"
   ]
  },
  {
   "cell_type": "code",
   "execution_count": 3,
   "metadata": {},
   "outputs": [],
   "source": [
    "# text = df['TEXT'].to_list()\n",
    "# def preprocess_text(text):\n",
    "#     text = lowercase_text(text)\n",
    "#     text = remove_url_html(text)\n",
    "#     text = remove_users(text)\n",
    "#     text = remove_punctuations(text)\n",
    "#     text = remove_whitespaces(text)\n",
    "#     text = tokenization(text)\n",
    "#     text = spelling_correction(text, 'autocorrect_full')\n",
    "#     text = remove_alphanum(text)\n",
    "#     return text\n",
    "# df['preprocessed_text'] = df['TEXT'].progress_apply(preprocess_text)\n",
    "# preprocess_text = df['preprocessed_text'].to_list()\n",
    "# df.to_csv('preprocessed_A1.csv', index=False)"
   ]
  },
  {
   "cell_type": "code",
   "execution_count": 4,
   "metadata": {},
   "outputs": [],
   "source": [
    "df = pd.read_csv('preprocessed_A1.csv')\n",
    "preprocess_text = df['preprocessed_text'].to_list()\n",
    "for i in range(len(preprocess_text)):\n",
    "    preprocess_text[i] = eval(preprocess_text[i])\n",
    "    "
   ]
  },
  {
   "cell_type": "code",
   "execution_count": 5,
   "metadata": {},
   "outputs": [],
   "source": [
    "unigram_counts = {}\n",
    "for sentence in preprocess_text:\n",
    "    for word in sentence:\n",
    "        if word in unigram_counts:\n",
    "            unigram_counts[word] += 1\n",
    "        else:\n",
    "            unigram_counts[word] = 1"
   ]
  },
  {
   "cell_type": "code",
   "execution_count": 6,
   "metadata": {},
   "outputs": [],
   "source": [
    "unigram_probs = {}\n",
    "scale_factor = sum(unigram_counts.values())\n",
    "for word in unigram_counts:\n",
    "    unigram_probs[word] = unigram_counts[word] / scale_factor"
   ]
  },
  {
   "cell_type": "code",
   "execution_count": 7,
   "metadata": {},
   "outputs": [
    {
     "data": {
      "text/plain": [
       "6952"
      ]
     },
     "execution_count": 7,
     "metadata": {},
     "output_type": "execute_result"
    }
   ],
   "source": [
    "len(unigram_counts)"
   ]
  },
  {
   "cell_type": "markdown",
   "metadata": {},
   "source": [
    "# Saving Bigrams with Smoothing"
   ]
  },
  {
   "cell_type": "code",
   "execution_count": 8,
   "metadata": {},
   "outputs": [],
   "source": [
    "# bigram_wrapper = Bigrams(preprocess_text)\n",
    "# bigrams = bigram_wrapper.get_bigrams()\n",
    "# vocab_len = bigram_wrapper.vocab_len\n",
    "\n",
    "# with open('bigram_wrapper.pickle', 'wb') as f:\n",
    "#     pickle.dump(bigram_wrapper, f)"
   ]
  },
  {
   "cell_type": "code",
   "execution_count": 9,
   "metadata": {},
   "outputs": [],
   "source": [
    "# load bigram_wrapper\n",
    "# with open('bigram_wrapper.pickle', 'rb') as f:\n",
    "#     bigram_wrapper = pickle.load(f)\n",
    "\n",
    "# bigrams = bigram_wrapper.get_bigrams()\n",
    "# vocab_len = bigram_wrapper.vocab_len"
   ]
  },
  {
   "cell_type": "code",
   "execution_count": 10,
   "metadata": {},
   "outputs": [],
   "source": [
    "# smoother = LMSmoothers(bigrams, vocab_len, unigram_counts=unigram_counts, unigrams_probs=unigram_probs)\n",
    "# laplace_smoothed_bigrams = smoother.laplace()\n",
    "# add_5_smoothed_bigrams = smoother.add_k(5)\n",
    "# add_5_with_unigram_prior_smoothed_bigrams = smoother.add_k_with_unigram_prior(5)"
   ]
  },
  {
   "cell_type": "code",
   "execution_count": 11,
   "metadata": {},
   "outputs": [],
   "source": [
    "# with open('laplace_smoothed_bigrams.pickle', 'wb') as handle:\n",
    "#     pickle.dump(laplace_smoothed_bigrams, handle, protocol=pickle.HIGHEST_PROTOCOL)\n",
    "\n",
    "# with open('add_5_smoothed_bigrams.pickle', 'wb') as handle:\n",
    "#     pickle.dump(add_5_smoothed_bigrams, handle, protocol=pickle.HIGHEST_PROTOCOL)\n",
    "\n",
    "# with open('add_5_with_unigram_prior_smoothed_bigrams.pickle', 'wb') as handle:\n",
    "#     pickle.dump(add_5_with_unigram_prior_smoothed_bigrams, handle, protocol=pickle.HIGHEST_PROTOCOL)"
   ]
  },
  {
   "cell_type": "markdown",
   "metadata": {},
   "source": [
    "## Creating BiGram Models"
   ]
  },
  {
   "cell_type": "code",
   "execution_count": 13,
   "metadata": {},
   "outputs": [],
   "source": [
    "with open('laplace_smoothed_bigrams.pickle', 'rb') as handle:\n",
    "    laplace_smoothed_bigrams = pickle.load(handle)\n",
    "\n",
    "# with open('add_5_smoothed_bigrams.pickle', 'rb') as handle:\n",
    "#     add_5_smoothed_bigrams = pickle.load(handle)\n",
    "\n",
    "# with open('add_5_with_unigram_prior_smoothed_bigrams.pickle', 'rb') as handle:\n",
    "#     add_5_with_unigram_prior_smoothed_bigrams = pickle.load(handle)"
   ]
  },
  {
   "cell_type": "code",
   "execution_count": 9,
   "metadata": {},
   "outputs": [],
   "source": [
    "lm = LanguageModel(laplace_smoothed_bigrams, unigram_probs, \"vader\", False, False, True, repetition_penalty=0.2)"
   ]
  },
  {
   "cell_type": "code",
   "execution_count": 15,
   "metadata": {},
   "outputs": [],
   "source": [
    "# Load Positive Prompts\n",
    "with open('pos_250_vader.txt', 'rb') as handle:\n",
    "    pos_prompts = handle.readlines()\n",
    "\n",
    "for i in range(len(pos_prompts)):\n",
    "    pos_prompts[i] = pos_prompts[i].decode('utf-8').strip()"
   ]
  },
  {
   "cell_type": "code",
   "execution_count": 16,
   "metadata": {},
   "outputs": [
    {
     "data": {
      "text/plain": [
       "['paradise', 'perfectly', 'freedom', 'mother', 'is', 'a', 'lot']"
      ]
     },
     "execution_count": 16,
     "metadata": {},
     "output_type": "execute_result"
    }
   ],
   "source": [
    "lm = LanguageModel(laplace_smoothed_bigrams, unigram_probs, \"vader\", False, False, True, repetition_penalty=0.2)\n",
    "lm.generate_text(['paradise'], 1, 7)"
   ]
  },
  {
   "cell_type": "code",
   "execution_count": 18,
   "metadata": {},
   "outputs": [
    {
     "data": {
      "text/plain": [
       "2020.132004640018"
      ]
     },
     "execution_count": 18,
     "metadata": {},
     "output_type": "execute_result"
    }
   ],
   "source": [
    "lm.computePerplexity(lm.generate_text(['paradise'], 1, 7))"
   ]
  },
  {
   "cell_type": "code",
   "execution_count": null,
   "metadata": {},
   "outputs": [],
   "source": [
    "# clear the file\n",
    "open('pos_gen.txt', 'w').close()"
   ]
  },
  {
   "cell_type": "code",
   "execution_count": 19,
   "metadata": {},
   "outputs": [],
   "source": [
    "def append_to_file(filename, text1, text2):\n",
    "    with open(filename, 'a') as f:\n",
    "        f.write(text1 + \" \" + text2 + '\\n')"
   ]
  },
  {
   "cell_type": "code",
   "execution_count": 20,
   "metadata": {},
   "outputs": [
    {
     "name": "stdout",
     "output_type": "stream",
     "text": [
      "Positive: ['paradise', 'freedom', 'greatest', 'games', 'like', 'that', 'im', 'sorry', 'to', 'see']\n",
      "Positive Perplexity: 1518.033414028229\n",
      "Positive: ['perfectly', 'paradise', 'look', 'like', 'to', 'the', 'same', 'time', 'for', 'a']\n",
      "Positive Perplexity: 857.6415965567389\n",
      "Positive: ['freedom', 'of', 'the', 'last', 'time', 'i', 'am', 'in', 'my', 'baby']\n",
      "Positive Perplexity: 619.8685178267399\n",
      "Positive: ['greatest', 'games', 'paradise', 'look', 'like', 'a', 'great', 'time', 'to', 'go']\n",
      "Positive Perplexity: 1047.5797729105059\n",
      "Positive: ['glorious', 'sunny', 'day', 'to', 'see', 'a', 'great', 'idea', 'serena', 'greatest']\n",
      "Positive Perplexity: 1361.984966818199\n"
     ]
    },
    {
     "ename": "KeyboardInterrupt",
     "evalue": "",
     "output_type": "error",
     "traceback": [
      "\u001b[1;31m---------------------------------------------------------------------------\u001b[0m",
      "\u001b[1;31mKeyboardInterrupt\u001b[0m                         Traceback (most recent call last)",
      "\u001b[1;32md:\\Desktop\\NLP_Assignments\\A2\\A2.ipynb Cell 20\u001b[0m in \u001b[0;36m<module>\u001b[1;34m\u001b[0m\n\u001b[0;32m      <a href='vscode-notebook-cell:/d%3A/Desktop/NLP_Assignments/A2/A2.ipynb#X26sZmlsZQ%3D%3D?line=1'>2</a>\u001b[0m lm \u001b[39m=\u001b[39m LanguageModel(laplace_smoothed_bigrams, unigram_probs, \u001b[39m\"\u001b[39m\u001b[39mvader\u001b[39m\u001b[39m\"\u001b[39m, \u001b[39mFalse\u001b[39;00m, \u001b[39mFalse\u001b[39;00m, \u001b[39mTrue\u001b[39;00m, repetition_penalty\u001b[39m=\u001b[39m\u001b[39m0.2\u001b[39m)\n\u001b[0;32m      <a href='vscode-notebook-cell:/d%3A/Desktop/NLP_Assignments/A2/A2.ipynb#X26sZmlsZQ%3D%3D?line=2'>3</a>\u001b[0m \u001b[39mfor\u001b[39;00m p \u001b[39min\u001b[39;00m pos_prompts:\n\u001b[1;32m----> <a href='vscode-notebook-cell:/d%3A/Desktop/NLP_Assignments/A2/A2.ipynb#X26sZmlsZQ%3D%3D?line=3'>4</a>\u001b[0m     sentence_pos \u001b[39m=\u001b[39m lm\u001b[39m.\u001b[39;49mgenerate_text([p], sentiment\u001b[39m=\u001b[39;49m\u001b[39m1\u001b[39;49m, length\u001b[39m=\u001b[39;49m\u001b[39m10\u001b[39;49m)\n\u001b[0;32m      <a href='vscode-notebook-cell:/d%3A/Desktop/NLP_Assignments/A2/A2.ipynb#X26sZmlsZQ%3D%3D?line=4'>5</a>\u001b[0m     \u001b[39m# sentence_neg = lm.generate_text(['i', 'am'], sentiment=-1, length=10)\u001b[39;00m\n\u001b[0;32m      <a href='vscode-notebook-cell:/d%3A/Desktop/NLP_Assignments/A2/A2.ipynb#X26sZmlsZQ%3D%3D?line=5'>6</a>\u001b[0m     \u001b[39mprint\u001b[39m(\u001b[39m\"\u001b[39m\u001b[39mPositive: \u001b[39m\u001b[39m{}\u001b[39;00m\u001b[39m\"\u001b[39m\u001b[39m.\u001b[39mformat(sentence_pos))\n",
      "File \u001b[1;32md:\\Desktop\\NLP_Assignments\\A2\\LanguageModels.py:45\u001b[0m, in \u001b[0;36mLanguageModel.generate_text\u001b[1;34m(self, prompt, sentiment, length)\u001b[0m\n\u001b[0;32m     41\u001b[0m         generated_so_far[word] \u001b[39m=\u001b[39m \u001b[39m1\u001b[39m\n\u001b[0;32m     43\u001b[0m \u001b[39mfor\u001b[39;00m i \u001b[39min\u001b[39;00m \u001b[39mrange\u001b[39m(length):\n\u001b[1;32m---> 45\u001b[0m     next_word \u001b[39m=\u001b[39m \u001b[39mself\u001b[39;49m\u001b[39m.\u001b[39;49mget_next_word(last_word, sentiment, generated_so_far, sentence_so_far \u001b[39m=\u001b[39;49m prompt)\n\u001b[0;32m     47\u001b[0m     \u001b[39mif\u001b[39;00m next_word \u001b[39min\u001b[39;00m generated_so_far:\n\u001b[0;32m     48\u001b[0m         generated_so_far[next_word] \u001b[39m+\u001b[39m\u001b[39m=\u001b[39m \u001b[39m1\u001b[39m\n",
      "File \u001b[1;32md:\\Desktop\\NLP_Assignments\\A2\\LanguageModels.py:66\u001b[0m, in \u001b[0;36mLanguageModel.get_next_word\u001b[1;34m(self, word, sentiment, generated_so_far, sentence_so_far)\u001b[0m\n\u001b[0;32m     63\u001b[0m top_word_freqs \u001b[39m=\u001b[39m []\n\u001b[0;32m     65\u001b[0m \u001b[39mfor\u001b[39;00m bigram, freq \u001b[39min\u001b[39;00m \u001b[39mself\u001b[39m\u001b[39m.\u001b[39mbigrams\u001b[39m.\u001b[39mitems():\n\u001b[1;32m---> 66\u001b[0m     \u001b[39mif\u001b[39;00m bigram[\u001b[39m0\u001b[39;49m] \u001b[39m==\u001b[39m word:\n\u001b[0;32m     67\u001b[0m         numerator \u001b[39m=\u001b[39m freq\n\u001b[0;32m     68\u001b[0m         denominator \u001b[39m=\u001b[39m \u001b[39mself\u001b[39m\u001b[39m.\u001b[39munigram_counts[bigram[\u001b[39m0\u001b[39m]]\n",
      "\u001b[1;31mKeyboardInterrupt\u001b[0m: "
     ]
    }
   ],
   "source": [
    "ls_pos_gen = []\n",
    "lm = LanguageModel(laplace_smoothed_bigrams, unigram_probs, \"vader\", False, False, True, repetition_penalty=0.2)\n",
    "for p in pos_prompts:\n",
    "    sentence_pos = lm.generate_text([p], sentiment=1, length=10)\n",
    "    # sentence_neg = lm.generate_text(['i', 'am'], sentiment=-1, length=10)\n",
    "    print(\"Positive: {}\".format(sentence_pos))\n",
    "    # print(\"Negative: {}\".format(sentence_neg))\n",
    "    ppl = lm.computePerplexity(sentence_pos)\n",
    "    print(\"Positive Perplexity: {}\".format(ppl))\n",
    "    # print(\"Negative Perplexity: {}\".format(lm.computePerplexity(sentence_neg)))\n",
    "    ls_pos_gen.append((sentence_pos, ppl))\n",
    "    append_to_file('pos_gen.txt', \" \".join(sentence_pos), str(ppl))"
   ]
  },
  {
   "cell_type": "code",
   "execution_count": null,
   "metadata": {},
   "outputs": [],
   "source": [
    "# save generated sentences\n",
    "with open('ls_pos_gen_vader_thread.pickle', 'wb') as handle:\n",
    "    pickle.dump(ls_pos_gen, handle, protocol=pickle.HIGHEST_PROTOCOL)"
   ]
  },
  {
   "cell_type": "code",
   "execution_count": null,
   "metadata": {},
   "outputs": [],
   "source": [
    "# Load Positive Prompts\n",
    "with open('neg_250_vader.txt', 'rb') as handle:\n",
    "    neg_prompts = handle.readlines()\n",
    "\n",
    "for i in range(len(neg_prompts)):\n",
    "    neg_prompts[i] = neg_prompts[i].decode('utf-8').strip()"
   ]
  },
  {
   "cell_type": "code",
   "execution_count": null,
   "metadata": {},
   "outputs": [],
   "source": [
    "ls_neg_gen = []\n",
    "lm = LanguageModel(laplace_smoothed_bigrams, unigram_probs, \"vader\", False, False, True, repetition_penalty=0.2)\n",
    "for n in neg_prompts:\n",
    "    sentence_neg = lm.generate_text([n], sentiment=-1, length=10)\n",
    "    # sentence_neg = lm.generate_text(['i', 'am'], sentiment=-1, length=10)\n",
    "    print(\"Negative: {}\".format(sentence_pos))\n",
    "    # print(\"Negative: {}\".format(sentence_neg))\n",
    "    ppl = lm.computePerplexity(sentence_pos)\n",
    "    print(\"Negative Perplexity: {}\".format(ppl))\n",
    "    # print(\"Negative Perplexity: {}\".format(lm.computePerplexity(sentence_neg)))\n",
    "    ls_neg_gen.append((sentence_pos, ppl))\n",
    "    append_to_file('nnn.txt', \" \".join(sentence_pos), str(ppl))"
   ]
  },
  {
   "cell_type": "code",
   "execution_count": 31,
   "metadata": {},
   "outputs": [],
   "source": [
    "ls = laplace_smoothed_bigrams.values()"
   ]
  },
  {
   "cell_type": "code",
   "execution_count": 33,
   "metadata": {},
   "outputs": [],
   "source": [
    "ls = np.array(list(ls))"
   ]
  },
  {
   "cell_type": "code",
   "execution_count": 40,
   "metadata": {},
   "outputs": [
    {
     "data": {
      "text/plain": [
       "1.3853485153122987e-08"
      ]
     },
     "execution_count": 40,
     "metadata": {},
     "output_type": "execute_result"
    }
   ],
   "source": [
    "min(ls)"
   ]
  }
 ],
 "metadata": {
  "kernelspec": {
   "display_name": "Python 3.9.13 64-bit (microsoft store)",
   "language": "python",
   "name": "python3"
  },
  "language_info": {
   "codemirror_mode": {
    "name": "ipython",
    "version": 3
   },
   "file_extension": ".py",
   "mimetype": "text/x-python",
   "name": "python",
   "nbconvert_exporter": "python",
   "pygments_lexer": "ipython3",
   "version": "3.9.13"
  },
  "orig_nbformat": 4,
  "vscode": {
   "interpreter": {
    "hash": "a5a87ee616be0254e3f1af9223138e3faeac65b2c9d91bc22a9fc5a4a8bd8eb0"
   }
  }
 },
 "nbformat": 4,
 "nbformat_minor": 2
}
