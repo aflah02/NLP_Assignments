{
 "cells": [
  {
   "cell_type": "code",
   "execution_count": 1,
   "metadata": {},
   "outputs": [],
   "source": [
    "import pandas as pd\n",
    "import numpy as np\n",
    "import pickle\n",
    "from preprocess_text import *\n",
    "from bigrams import *\n",
    "from smoothers import *\n",
    "from LanguageModels import *"
   ]
  },
  {
   "cell_type": "code",
   "execution_count": 2,
   "metadata": {},
   "outputs": [],
   "source": [
    "df = pd.read_csv('A1_dataset.csv')"
   ]
  },
  {
   "cell_type": "code",
   "execution_count": 3,
   "metadata": {},
   "outputs": [],
   "source": [
    "# text = df['TEXT'].to_list()\n",
    "# def preprocess_text(text):\n",
    "#     text = lowercase_text(text)\n",
    "#     text = remove_url_html(text)\n",
    "#     text = remove_users(text)\n",
    "#     text = remove_punctuations(text)\n",
    "#     text = remove_whitespaces(text)\n",
    "#     text = tokenization(text)\n",
    "#     text = spelling_correction(text, 'autocorrect_full')\n",
    "#     text = remove_alphanum(text)\n",
    "#     return text\n",
    "# df['preprocessed_text'] = df['TEXT'].progress_apply(preprocess_text)\n",
    "# preprocess_text = df['preprocessed_text'].to_list()\n",
    "# df.to_csv('preprocessed_A1.csv', index=False)"
   ]
  },
  {
   "cell_type": "code",
   "execution_count": 3,
   "metadata": {},
   "outputs": [],
   "source": [
    "df = pd.read_csv('preprocessed_A1.csv')\n",
    "preprocess_text = df['preprocessed_text'].to_list()\n",
    "for i in range(len(preprocess_text)):\n",
    "    preprocess_text[i] = eval(preprocess_text[i])\n",
    "    "
   ]
  },
  {
   "cell_type": "code",
   "execution_count": 4,
   "metadata": {},
   "outputs": [],
   "source": [
    "unigram_counts = {}\n",
    "for sentence in preprocess_text:\n",
    "    for word in sentence:\n",
    "        if word in unigram_counts:\n",
    "            unigram_counts[word] += 1\n",
    "        else:\n",
    "            unigram_counts[word] = 1"
   ]
  },
  {
   "cell_type": "code",
   "execution_count": 5,
   "metadata": {},
   "outputs": [],
   "source": [
    "unigram_probs = {}\n",
    "scale_factor = sum(unigram_counts.values())\n",
    "for word in unigram_counts:\n",
    "    unigram_probs[word] = unigram_counts[word] / scale_factor"
   ]
  },
  {
   "cell_type": "code",
   "execution_count": 6,
   "metadata": {},
   "outputs": [
    {
     "data": {
      "text/plain": [
       "6952"
      ]
     },
     "execution_count": 6,
     "metadata": {},
     "output_type": "execute_result"
    }
   ],
   "source": [
    "len(unigram_counts)"
   ]
  },
  {
   "cell_type": "markdown",
   "metadata": {},
   "source": [
    "# Saving Bigrams with Smoothing"
   ]
  },
  {
   "cell_type": "code",
   "execution_count": 8,
   "metadata": {},
   "outputs": [],
   "source": [
    "# bigram_wrapper = Bigrams(preprocess_text)\n",
    "# bigrams = bigram_wrapper.get_bigrams()\n",
    "# vocab_len = bigram_wrapper.vocab_len\n",
    "\n",
    "# with open('bigram_wrapper.pickle', 'wb') as f:\n",
    "#     pickle.dump(bigram_wrapper, f)"
   ]
  },
  {
   "cell_type": "code",
   "execution_count": 9,
   "metadata": {},
   "outputs": [],
   "source": [
    "# load bigram_wrapper\n",
    "# with open('bigram_wrapper.pickle', 'rb') as f:\n",
    "#     bigram_wrapper = pickle.load(f)\n",
    "\n",
    "# bigrams = bigram_wrapper.get_bigrams()\n",
    "# vocab_len = bigram_wrapper.vocab_len"
   ]
  },
  {
   "cell_type": "code",
   "execution_count": 10,
   "metadata": {},
   "outputs": [],
   "source": [
    "# smoother = LMSmoothers(bigrams, vocab_len, unigram_counts=unigram_counts, unigrams_probs=unigram_probs)\n",
    "# laplace_smoothed_bigrams = smoother.laplace()\n",
    "# add_5_smoothed_bigrams = smoother.add_k(5)\n",
    "# add_5_with_unigram_prior_smoothed_bigrams = smoother.add_k_with_unigram_prior(5)"
   ]
  },
  {
   "cell_type": "code",
   "execution_count": 11,
   "metadata": {},
   "outputs": [],
   "source": [
    "# with open('laplace_smoothed_bigrams.pickle', 'wb') as handle:\n",
    "#     pickle.dump(laplace_smoothed_bigrams, handle, protocol=pickle.HIGHEST_PROTOCOL)\n",
    "\n",
    "# with open('add_5_smoothed_bigrams.pickle', 'wb') as handle:\n",
    "#     pickle.dump(add_5_smoothed_bigrams, handle, protocol=pickle.HIGHEST_PROTOCOL)\n",
    "\n",
    "# with open('add_5_with_unigram_prior_smoothed_bigrams.pickle', 'wb') as handle:\n",
    "#     pickle.dump(add_5_with_unigram_prior_smoothed_bigrams, handle, protocol=pickle.HIGHEST_PROTOCOL)"
   ]
  },
  {
   "cell_type": "markdown",
   "metadata": {},
   "source": [
    "## Creating BiGram Models"
   ]
  },
  {
   "cell_type": "code",
   "execution_count": 7,
   "metadata": {},
   "outputs": [
    {
     "ename": "MemoryError",
     "evalue": "",
     "output_type": "error",
     "traceback": [
      "\u001b[1;31m---------------------------------------------------------------------------\u001b[0m",
      "\u001b[1;31mMemoryError\u001b[0m                               Traceback (most recent call last)",
      "\u001b[1;32md:\\Desktop\\NLP_Assignments\\A2\\A2 Neg.ipynb Cell 14\u001b[0m in \u001b[0;36m<module>\u001b[1;34m\u001b[0m\n\u001b[0;32m      <a href='vscode-notebook-cell:/d%3A/Desktop/NLP_Assignments/A2/A2%20Neg.ipynb#X16sZmlsZQ%3D%3D?line=0'>1</a>\u001b[0m \u001b[39mwith\u001b[39;00m \u001b[39mopen\u001b[39m(\u001b[39m'\u001b[39m\u001b[39mlaplace_smoothed_bigrams.pickle\u001b[39m\u001b[39m'\u001b[39m, \u001b[39m'\u001b[39m\u001b[39mrb\u001b[39m\u001b[39m'\u001b[39m) \u001b[39mas\u001b[39;00m handle:\n\u001b[1;32m----> <a href='vscode-notebook-cell:/d%3A/Desktop/NLP_Assignments/A2/A2%20Neg.ipynb#X16sZmlsZQ%3D%3D?line=1'>2</a>\u001b[0m     laplace_smoothed_bigrams \u001b[39m=\u001b[39m pickle\u001b[39m.\u001b[39;49mload(handle)\n",
      "\u001b[1;31mMemoryError\u001b[0m: "
     ]
    }
   ],
   "source": [
    "with open('laplace_smoothed_bigrams.pickle', 'rb') as handle:\n",
    "    laplace_smoothed_bigrams = pickle.load(handle)\n",
    "\n",
    "# with open('add_5_smoothed_bigrams.pickle', 'rb') as handle:\n",
    "#     add_5_smoothed_bigrams = pickle.load(handle)\n",
    "\n",
    "# with open('add_5_with_unigram_prior_smoothed_bigrams.pickle', 'rb') as handle:\n",
    "#     add_5_with_unigram_prior_smoothed_bigrams = pickle.load(handle)"
   ]
  },
  {
   "cell_type": "code",
   "execution_count": null,
   "metadata": {},
   "outputs": [],
   "source": [
    "lm = LanguageModel(laplace_smoothed_bigrams, unigram_probs, \"vader\", False, False, True, repetition_penalty=0.2)"
   ]
  },
  {
   "cell_type": "code",
   "execution_count": 15,
   "metadata": {},
   "outputs": [],
   "source": [
    "# Load Negative Prompts\n",
    "with open('neg_250_vader.txt', 'rb') as handle:\n",
    "    pos_prompts = handle.readlines()\n",
    "\n",
    "for i in range(len(pos_prompts)):\n",
    "    pos_prompts[i] = pos_prompts[i].decode('utf-8').strip()"
   ]
  },
  {
   "cell_type": "code",
   "execution_count": 16,
   "metadata": {},
   "outputs": [
    {
     "data": {
      "text/plain": [
       "['paradise', 'perfectly', 'freedom', 'mother', 'is', 'a', 'lot']"
      ]
     },
     "execution_count": 16,
     "metadata": {},
     "output_type": "execute_result"
    }
   ],
   "source": [
    "lm = LanguageModel(laplace_smoothed_bigrams, unigram_probs, \"vader\", False, False, True, repetition_penalty=0.2)\n",
    "lm.generate_text(['paradise'], 1, 7)"
   ]
  },
  {
   "cell_type": "code",
   "execution_count": 18,
   "metadata": {},
   "outputs": [
    {
     "data": {
      "text/plain": [
       "2020.132004640018"
      ]
     },
     "execution_count": 18,
     "metadata": {},
     "output_type": "execute_result"
    }
   ],
   "source": [
    "lm.computePerplexity(lm.generate_text(['paradise'], 1, 7))"
   ]
  },
  {
   "cell_type": "code",
   "execution_count": 21,
   "metadata": {},
   "outputs": [],
   "source": [
    "# clear the file\n",
    "open('pos_gen.txt', 'w').close()"
   ]
  },
  {
   "cell_type": "code",
   "execution_count": 22,
   "metadata": {},
   "outputs": [],
   "source": [
    "def append_to_file(filename, text1, text2):\n",
    "    with open(filename, 'a') as f:\n",
    "        f.write(text1 + \" \" + text2 + '\\n')"
   ]
  },
  {
   "cell_type": "code",
   "execution_count": 23,
   "metadata": {},
   "outputs": [
    {
     "name": "stdout",
     "output_type": "stream",
     "text": [
      "Positive: ['paradise', 'perfectly', 'also', 'my', 'baby', 'in', 'a', 'good', 'morning', 'everyone']\n",
      "Positive Perplexity: 1134.3025646113133\n",
      "Positive: ['perfectly', 'also', 'i', 'dont', 'know', 'its', 'so', 'i', 'love', 'that']\n",
      "Positive Perplexity: 692.1065077159777\n",
      "Positive: ['freedom', 'love', 'to', 'be', 'back', 'in', 'the', 'best', 'i', 'am']\n",
      "Positive Perplexity: 664.4386295623581\n",
      "Positive: ['greatest', 'love', 'you', 'are', 'you', 'are', 'not', 'good', 'luck', 'then']\n",
      "Positive Perplexity: 825.4306711415389\n",
      "Positive: ['glorious', 'paradise', 'perfectly', 'then', 'it', 'was', 'in', 'bed', 'now', 'its']\n",
      "Positive Perplexity: 1779.9200003281508\n",
      "Positive: ['best', 'thing', 'in', 'the', 'same', 'time', 'i', 'have', 'to', 'get']\n",
      "Positive Perplexity: 460.2516562929812\n",
      "Positive: ['love', 'you', 'are', 'you', 'get', 'a', 'lot', 'of', 'course', 'since']\n",
      "Positive Perplexity: 592.0100005723118\n",
      "Positive: ['awesome', 'now', 'im', 'not', 'a', 'little', 'bit', 'better', 'thanks', 'for']\n",
      "Positive Perplexity: 926.846443231725\n",
      "Positive: ['great', 'day', 'of', 'my', 'baby', 'boy', 'i', 'dont', 'want', 'to']\n",
      "Positive Perplexity: 640.305184497344\n",
      "Positive: ['gorgeous', 'day', 'to', 'see', 'a', 'lot', 'of', 'the', 'last', 'night']\n",
      "Positive Perplexity: 535.170668018533\n",
      "Positive: ['loving', 'all', 'the', 'day', 'with', 'me', 'to', 'see', 'what', 'a']\n",
      "Positive Perplexity: 640.9497990957674\n",
      "Positive: ['loved', 'ya', 'gotta', 'get', 'to', 'be', 'in', 'the', 'same', 'time']\n",
      "Positive Perplexity: 783.2655684329426\n",
      "Positive: ['congratulations', 'paradise', 'look', 'at', 'the', 'best', 'friend', 'were', 'in', 'my']\n",
      "Positive Perplexity: 1231.468662311954\n",
      "Positive: ['marvelous', 'greatest', 'games', 'like', 'a', 'good', 'to', 'the', 'same', 'thing']\n",
      "Positive Perplexity: 1063.6831716507234\n",
      "Positive: ['bff', 'on', 'a', 'good', 'morning', 'at', 'least', 'play', 'in', 'the']\n",
      "Positive Perplexity: 811.2780194820376\n",
      "Positive: ['magnificent', 'paradise', 'freedom', 'love', 'you', 'and', 'i', 'dont', 'know', 'it']\n",
      "Positive Perplexity: 1050.826341788084\n"
     ]
    }
   ],
   "source": [
    "ls_pos_gen = []\n",
    "lm = LanguageModel(laplace_smoothed_bigrams, unigram_probs, \"vader\", False, False, True, repetition_penalty=0.2)\n",
    "for p in pos_prompts:\n",
    "    sentence_pos = lm.generate_text([p], sentiment=1, length=10)\n",
    "    # sentence_neg = lm.generate_text(['i', 'am'], sentiment=-1, length=10)\n",
    "    print(\"Positive: {}\".format(sentence_pos))\n",
    "    # print(\"Negative: {}\".format(sentence_neg))\n",
    "    ppl = lm.computePerplexity(sentence_pos)\n",
    "    print(\"Positive Perplexity: {}\".format(ppl))\n",
    "    # print(\"Negative Perplexity: {}\".format(lm.computePerplexity(sentence_neg)))\n",
    "    ls_pos_gen.append((sentence_pos, ppl))\n",
    "    append_to_file('pos_gen.txt', \" \".join(sentence_pos), str(ppl))"
   ]
  },
  {
   "cell_type": "code",
   "execution_count": null,
   "metadata": {},
   "outputs": [],
   "source": [
    "# save generated sentences\n",
    "with open('ls_pos_gen_vader_thread.pickle', 'wb') as handle:\n",
    "    pickle.dump(ls_pos_gen, handle, protocol=pickle.HIGHEST_PROTOCOL)"
   ]
  },
  {
   "cell_type": "code",
   "execution_count": null,
   "metadata": {},
   "outputs": [],
   "source": [
    "# Load Positive Prompts\n",
    "with open('neg_250_vader.txt', 'rb') as handle:\n",
    "    neg_prompts = handle.readlines()\n",
    "\n",
    "for i in range(len(neg_prompts)):\n",
    "    neg_prompts[i] = neg_prompts[i].decode('utf-8').strip()"
   ]
  },
  {
   "cell_type": "code",
   "execution_count": null,
   "metadata": {},
   "outputs": [],
   "source": [
    "ls_neg_gen = []\n",
    "lm = LanguageModel(laplace_smoothed_bigrams, unigram_probs, \"vader\", False, False, True, repetition_penalty=0.2)\n",
    "for n in neg_prompts:\n",
    "    sentence_neg = lm.generate_text([n], sentiment=-1, length=10)\n",
    "    # sentence_neg = lm.generate_text(['i', 'am'], sentiment=-1, length=10)\n",
    "    print(\"Negative: {}\".format(sentence_pos))\n",
    "    # print(\"Negative: {}\".format(sentence_neg))\n",
    "    ppl = lm.computePerplexity(sentence_pos)\n",
    "    print(\"Negative Perplexity: {}\".format(ppl))\n",
    "    # print(\"Negative Perplexity: {}\".format(lm.computePerplexity(sentence_neg)))\n",
    "    ls_neg_gen.append((sentence_pos, ppl))\n",
    "    append_to_file('nnn.txt', \" \".join(sentence_pos), str(ppl))"
   ]
  },
  {
   "cell_type": "code",
   "execution_count": 31,
   "metadata": {},
   "outputs": [],
   "source": [
    "ls = laplace_smoothed_bigrams.values()"
   ]
  },
  {
   "cell_type": "code",
   "execution_count": 33,
   "metadata": {},
   "outputs": [],
   "source": [
    "ls = np.array(list(ls))"
   ]
  },
  {
   "cell_type": "code",
   "execution_count": 40,
   "metadata": {},
   "outputs": [
    {
     "data": {
      "text/plain": [
       "1.3853485153122987e-08"
      ]
     },
     "execution_count": 40,
     "metadata": {},
     "output_type": "execute_result"
    }
   ],
   "source": [
    "min(ls)"
   ]
  }
 ],
 "metadata": {
  "kernelspec": {
   "display_name": "Python 3.9.13 64-bit (microsoft store)",
   "language": "python",
   "name": "python3"
  },
  "language_info": {
   "codemirror_mode": {
    "name": "ipython",
    "version": 3
   },
   "file_extension": ".py",
   "mimetype": "text/x-python",
   "name": "python",
   "nbconvert_exporter": "python",
   "pygments_lexer": "ipython3",
   "version": "3.9.13"
  },
  "orig_nbformat": 4,
  "vscode": {
   "interpreter": {
    "hash": "a5a87ee616be0254e3f1af9223138e3faeac65b2c9d91bc22a9fc5a4a8bd8eb0"
   }
  }
 },
 "nbformat": 4,
 "nbformat_minor": 2
}
