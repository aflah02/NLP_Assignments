{
  "cells": [
    {
      "cell_type": "code",
      "execution_count": 1,
      "metadata": {
        "id": "xURHYz8XsLoR"
      },
      "outputs": [],
      "source": [
        "import pandas as pd"
      ]
    },
    {
      "cell_type": "code",
      "execution_count": 2,
      "metadata": {
        "colab": {
          "base_uri": "https://localhost:8080/",
          "height": 328
        },
        "id": "k-ptEnijslOo",
        "outputId": "7077eda8-1c04-4a89-f17e-ea5b286477a5"
      },
      "outputs": [],
      "source": [
        "df_data = pd.read_csv('A1_dataset.csv')"
      ]
    },
    {
      "cell_type": "code",
      "execution_count": 3,
      "metadata": {
        "id": "RBquCbrZsny5"
      },
      "outputs": [
        {
          "data": {
            "text/html": [
              "<div>\n",
              "<style scoped>\n",
              "    .dataframe tbody tr th:only-of-type {\n",
              "        vertical-align: middle;\n",
              "    }\n",
              "\n",
              "    .dataframe tbody tr th {\n",
              "        vertical-align: top;\n",
              "    }\n",
              "\n",
              "    .dataframe thead th {\n",
              "        text-align: right;\n",
              "    }\n",
              "</style>\n",
              "<table border=\"1\" class=\"dataframe\">\n",
              "  <thead>\n",
              "    <tr style=\"text-align: right;\">\n",
              "      <th></th>\n",
              "      <th>LABEL</th>\n",
              "      <th>DATE_TIME</th>\n",
              "      <th>TEXT</th>\n",
              "    </tr>\n",
              "  </thead>\n",
              "  <tbody>\n",
              "    <tr>\n",
              "      <th>0</th>\n",
              "      <td>0</td>\n",
              "      <td>Fri Jun 05 14:26:50 2009</td>\n",
              "      <td>About to get threaded and scared</td>\n",
              "    </tr>\n",
              "    <tr>\n",
              "      <th>1</th>\n",
              "      <td>1</td>\n",
              "      <td>Thu May 14 10:13:55 2009</td>\n",
              "      <td>@awaisnaseer I like Shezan Mangooo too!!! I ha...</td>\n",
              "    </tr>\n",
              "    <tr>\n",
              "      <th>2</th>\n",
              "      <td>1</td>\n",
              "      <td>Fri Jun 05 21:02:20 2009</td>\n",
              "      <td>worked on my car after work. showering then go...</td>\n",
              "    </tr>\n",
              "    <tr>\n",
              "      <th>3</th>\n",
              "      <td>1</td>\n",
              "      <td>Sun Jun 14 22:25:52 2009</td>\n",
              "      <td>@Marama Actually we start this afternoon!  I w...</td>\n",
              "    </tr>\n",
              "    <tr>\n",
              "      <th>4</th>\n",
              "      <td>1</td>\n",
              "      <td>Sun May 31 00:42:12 2009</td>\n",
              "      <td>@gfalcone601 Aww Gi.don't worry.we'll vote for...</td>\n",
              "    </tr>\n",
              "    <tr>\n",
              "      <th>...</th>\n",
              "      <td>...</td>\n",
              "      <td>...</td>\n",
              "      <td>...</td>\n",
              "    </tr>\n",
              "    <tr>\n",
              "      <th>4282</th>\n",
              "      <td>1</td>\n",
              "      <td>Sat Jun 06 22:45:26 2009</td>\n",
              "      <td>@QandQ My performances on my CLEP tests.  #qshock</td>\n",
              "    </tr>\n",
              "    <tr>\n",
              "      <th>4283</th>\n",
              "      <td>0</td>\n",
              "      <td>Tue Jun 16 10:17:07 2009</td>\n",
              "      <td>ugh no, rcn had all the true blood episodes on...</td>\n",
              "    </tr>\n",
              "    <tr>\n",
              "      <th>4284</th>\n",
              "      <td>1</td>\n",
              "      <td>Fri May 01 22:00:42 2009</td>\n",
              "      <td>Just returned from the forest! Sarah (my merch...</td>\n",
              "    </tr>\n",
              "    <tr>\n",
              "      <th>4285</th>\n",
              "      <td>1</td>\n",
              "      <td>Sun Jun 07 02:09:46 2009</td>\n",
              "      <td>is proud of her dad and his piece of work. ( h...</td>\n",
              "    </tr>\n",
              "    <tr>\n",
              "      <th>4286</th>\n",
              "      <td>0</td>\n",
              "      <td>Fri May 22 04:49:37 2009</td>\n",
              "      <td>Just woke up, gonna eat pizza for breakfast. A...</td>\n",
              "    </tr>\n",
              "  </tbody>\n",
              "</table>\n",
              "<p>4287 rows × 3 columns</p>\n",
              "</div>"
            ],
            "text/plain": [
              "      LABEL                 DATE_TIME  \\\n",
              "0         0  Fri Jun 05 14:26:50 2009   \n",
              "1         1  Thu May 14 10:13:55 2009   \n",
              "2         1  Fri Jun 05 21:02:20 2009   \n",
              "3         1  Sun Jun 14 22:25:52 2009   \n",
              "4         1  Sun May 31 00:42:12 2009   \n",
              "...     ...                       ...   \n",
              "4282      1  Sat Jun 06 22:45:26 2009   \n",
              "4283      0  Tue Jun 16 10:17:07 2009   \n",
              "4284      1  Fri May 01 22:00:42 2009   \n",
              "4285      1  Sun Jun 07 02:09:46 2009   \n",
              "4286      0  Fri May 22 04:49:37 2009   \n",
              "\n",
              "                                                   TEXT  \n",
              "0                     About to get threaded and scared   \n",
              "1     @awaisnaseer I like Shezan Mangooo too!!! I ha...  \n",
              "2     worked on my car after work. showering then go...  \n",
              "3     @Marama Actually we start this afternoon!  I w...  \n",
              "4     @gfalcone601 Aww Gi.don't worry.we'll vote for...  \n",
              "...                                                 ...  \n",
              "4282  @QandQ My performances on my CLEP tests.  #qshock  \n",
              "4283  ugh no, rcn had all the true blood episodes on...  \n",
              "4284  Just returned from the forest! Sarah (my merch...  \n",
              "4285  is proud of her dad and his piece of work. ( h...  \n",
              "4286  Just woke up, gonna eat pizza for breakfast. A...  \n",
              "\n",
              "[4287 rows x 3 columns]"
            ]
          },
          "execution_count": 3,
          "metadata": {},
          "output_type": "execute_result"
        }
      ],
      "source": [
        "df_data"
      ]
    },
    {
      "cell_type": "code",
      "execution_count": 4,
      "metadata": {
        "colab": {
          "base_uri": "https://localhost:8080/",
          "height": 166
        },
        "id": "nHxGLvCZbejn",
        "outputId": "7d6f0aa3-570e-4cdb-ec26-b877e93edd4a"
      },
      "outputs": [
        {
          "data": {
            "text/plain": [
              "['About to get threaded and scared ',\n",
              " '@awaisnaseer I like Shezan Mangooo too!!! I had one yesterday ',\n",
              " 'worked on my car after work. showering then going to bed. sooooooooooo tired. sparrow signing out  &lt;Cowboy Up&gt;',\n",
              " '@Marama Actually we start this afternoon!  I will try to have something by Wed. It will be a slow process of collecting, many on vac.',\n",
              " \"@gfalcone601 Aww Gi.don't worry.we'll vote for you non-stop coz we love you so much \",\n",
              " '@mrstessyman What ever you do have a good day. I love knitpicks ',\n",
              " '@GetMeVideo Sorry, not my forte,  Ask me about #trading, #scalping the dax and I can answer ',\n",
              " \"Getting ready for church and bummed I cannot watch Rafa whoop Djokovic LIVE, I'll settle for DVR I suppose \",\n",
              " 'Up early tomorrow. Last open home. Goodnight ',\n",
              " \"Needs to shake this gloomy feeling!!    Maybe it's the rain???\"]"
            ]
          },
          "execution_count": 4,
          "metadata": {},
          "output_type": "execute_result"
        }
      ],
      "source": [
        "df_data['TEXT'].to_list()[:10]"
      ]
    },
    {
      "cell_type": "code",
      "execution_count": 8,
      "metadata": {
        "id": "woQssMfKAQe3"
      },
      "outputs": [],
      "source": [
        "import re"
      ]
    },
    {
      "cell_type": "markdown",
      "metadata": {
        "id": "GAVPGC_8rRM7"
      },
      "source": [
        "# I. REGULAR EXPRESSION"
      ]
    },
    {
      "cell_type": "markdown",
      "metadata": {
        "id": "0n87jQodrSJ5"
      },
      "source": [
        "# A."
      ]
    },
    {
      "cell_type": "markdown",
      "metadata": {
        "id": "mtiD3IRnsvR0"
      },
      "source": [
        "## a. Average number of sentences and tokens \n",
        "- ! or ? (Even Continous)\n",
        "- . Followed by one or more spaces and then a capital character"
      ]
    },
    {
      "cell_type": "code",
      "execution_count": 39,
      "metadata": {},
      "outputs": [],
      "source": [
        "def lrstrip(text):\n",
        "    return re.sub(r'^\\s+|\\s+$', '', text)"
      ]
    },
    {
      "cell_type": "code",
      "execution_count": 42,
      "metadata": {},
      "outputs": [],
      "source": [
        "def match_empty(text):\n",
        "    return re.match(r'^\\s*$', text)"
      ]
    },
    {
      "cell_type": "code",
      "execution_count": 48,
      "metadata": {},
      "outputs": [
        {
          "data": {
            "text/plain": [
              "\"Maybe it's the rain\""
            ]
          },
          "execution_count": 48,
          "metadata": {},
          "output_type": "execute_result"
        }
      ],
      "source": [
        "lrstrip(\"    Maybe it's the rain\")"
      ]
    },
    {
      "cell_type": "code",
      "execution_count": 53,
      "metadata": {
        "id": "jRin0vasANxH"
      },
      "outputs": [],
      "source": [
        "def findSentenceCount(paragraph):\n",
        "  # Split on ! and ? first\n",
        "  sentences = re.split(\"[!?]+\", paragraph)\n",
        "\n",
        "  # Split on . followed by space and capital letter\n",
        "\n",
        "  new_sentence_components = []\n",
        "  for sentence in sentences:\n",
        "    if not re.search(\"\\.\\s+[A-Z]\", sentence):\n",
        "      new_sentence_components.append(sentence)\n",
        "    else:\n",
        "      new_sentence_components.extend(re.split(\"\\.\\s+([A-Z]+\\w*)\", sentence))\n",
        "  sentences = new_sentence_components\n",
        "\n",
        "  # Remove empty strings\n",
        "  new_sentence_components = []\n",
        "  for i in range(len(sentences)):\n",
        "    if not match_empty(sentences[i]):\n",
        "      new_sentence_components.append(sentences[i])\n",
        "\n",
        "  # Remove leading and trailing spaces\n",
        "  sentences = new_sentence_components\n",
        "  for i in range(len(sentences)):\n",
        "    sentences[i] = lrstrip(sentences[i])\n",
        "  \n",
        "  return len(sentences)"
      ]
    },
    {
      "cell_type": "code",
      "execution_count": 56,
      "metadata": {
        "id": "1-38IM7hfmVc"
      },
      "outputs": [],
      "source": [
        "df_data['sentence_count'] = df_data['TEXT'].apply(lambda x: findSentenceCount(x))"
      ]
    },
    {
      "cell_type": "code",
      "execution_count": 57,
      "metadata": {},
      "outputs": [
        {
          "data": {
            "text/plain": [
              "1.8313505948215536"
            ]
          },
          "execution_count": 57,
          "metadata": {},
          "output_type": "execute_result"
        }
      ],
      "source": [
        "df_data['sentence_count'].mean()"
      ]
    },
    {
      "cell_type": "code",
      "execution_count": 45,
      "metadata": {
        "id": "gwcqyOJqdn7_"
      },
      "outputs": [],
      "source": [
        "def findTokenCount(sentence):\n",
        "  return re.split(\"(?<=[.?!])\\s+(?=[A-Z])\", sentence)"
      ]
    },
    {
      "cell_type": "code",
      "execution_count": null,
      "metadata": {
        "id": "B_TPe1l6fchP"
      },
      "outputs": [],
      "source": [
        "def findTokenCount(sentence, filterEmpty=True):\n",
        "  sentence = re.sub(r'^\\s*', \"\", sentence)\n",
        "  sentence = re.sub(r'\\s*$', \"\", sentence)\n",
        "  sentence = re.split(\"([.?!,\\s;]+)\", sentence)\n",
        "  new_sentence = []\n",
        "  for i in range(len(sentence)):\n",
        "    if not (re.fullmatch(' ', sentence[i]) or re.fullmatch('', sentence[i])):\n",
        "      new_sentence.append(sentence[i])\n",
        "  sentence = new_sentence\n",
        "  for i in range(len(sentence)):\n",
        "    sentence[i] = re.sub(r'^\\s*', \"\", sentence[i])\n",
        "    sentence[i] = re.sub(r'\\s*$', \"\", sentence[i])\n",
        "  return len(sentence)"
      ]
    },
    {
      "cell_type": "code",
      "execution_count": null,
      "metadata": {
        "id": "GiDosJOaRAgw"
      },
      "outputs": [],
      "source": [
        "df_data['token_count'] = df_data['TEXT'].apply(lambda x: findTokenCount(x, True))"
      ]
    },
    {
      "cell_type": "code",
      "execution_count": null,
      "metadata": {
        "colab": {
          "base_uri": "https://localhost:8080/"
        },
        "id": "zXZd-DZcsu_4",
        "outputId": "0d516035-5bdb-4aab-fc08-f6d6d3ba0f8a"
      },
      "outputs": [
        {
          "data": {
            "text/plain": [
              "15.2234662934453"
            ]
          },
          "execution_count": 13,
          "metadata": {},
          "output_type": "execute_result"
        }
      ],
      "source": [
        "df_data['token_count'].mean()"
      ]
    },
    {
      "cell_type": "markdown",
      "metadata": {
        "id": "4DCL4GeyBb2B"
      },
      "source": [
        "## b. Words Starting With Consonants or Vowels\n",
        "\n",
        "Basic Rules and Assumptions:\n",
        "\n",
        "- Word Boundary or Punctuation then a Vowel followed by only Alphabets (accented-non-accented both) and nothing else so A9A is not a word\n",
        "\n",
        "- Word Boundary or Punctuation then a Consonant followed by only Alphabets (accented-non-accented both) and nothing else so A9A is not a word\n",
        "\n",
        "- Compound Words like truck-driver can also be there\n",
        "\n",
        "- Since it is Twitter data the data can be multilingual/can have non ascii characters (stuff like accented characters) and they can be handled."
      ]
    },
    {
      "cell_type": "code",
      "execution_count": null,
      "metadata": {
        "id": "A0SSW2qXJYdd"
      },
      "outputs": [],
      "source": [
        "def findWordsStartingWithVowel(sentence):\n",
        "  return len(re.findall(\"\\\\b[aeiouAEIOU][\\w|À-Ö|Ø-ö|ø-ÿ|'|-]*\\\\b\", sentence))"
      ]
    },
    {
      "cell_type": "code",
      "execution_count": null,
      "metadata": {
        "colab": {
          "base_uri": "https://localhost:8080/"
        },
        "id": "5zLOdmzhCGVW",
        "outputId": "154d9bf6-100f-40aa-e3f8-0f7389880743"
      },
      "outputs": [
        {
          "data": {
            "text/plain": [
              "11"
            ]
          },
          "execution_count": 15,
          "metadata": {},
          "output_type": "execute_result"
        }
      ],
      "source": [
        "findWordsStartingWithVowel(\"Aww Gi...Aon't worry:ae'll \\n vote for UUUU and IM. A9A ae-l ee:ef aruck-ariver\")"
      ]
    },
    {
      "cell_type": "code",
      "execution_count": null,
      "metadata": {
        "id": "21bourgDKKyL"
      },
      "outputs": [],
      "source": [
        "df_data['words_starting_with_vowel'] = df_data['TEXT'].apply(lambda x: findWordsStartingWithVowel(x))"
      ]
    },
    {
      "cell_type": "code",
      "execution_count": null,
      "metadata": {
        "colab": {
          "base_uri": "https://localhost:8080/"
        },
        "id": "nIUx_RhlqJkQ",
        "outputId": "1220f13f-7b0f-4796-eda8-53e5c875cfd7"
      },
      "outputs": [
        {
          "data": {
            "text/plain": [
              "14177"
            ]
          },
          "execution_count": 21,
          "metadata": {},
          "output_type": "execute_result"
        }
      ],
      "source": [
        "df_data['words_starting_with_vowel'].sum()"
      ]
    },
    {
      "cell_type": "code",
      "execution_count": null,
      "metadata": {
        "id": "X38Xu10RN-Pu"
      },
      "outputs": [],
      "source": [
        "def findWordsStartingWithConsonant(sentence):\n",
        "  return len(re.findall(\"\\\\s([bcdfghjklmnpqrstvwxyzBCDFGHJKLMNPQRSTVWXYZ][\\w|À-Ö|Ø-ö|ø-ÿ|'|-]*)\\\\b\", sentence))"
      ]
    },
    {
      "cell_type": "code",
      "execution_count": null,
      "metadata": {
        "colab": {
          "base_uri": "https://localhost:8080/"
        },
        "id": "enbkdMy9Pojv",
        "outputId": "70d825dd-5c47-4ae0-a41d-a6eb842a167c"
      },
      "outputs": [
        {
          "data": {
            "text/plain": [
              "4"
            ]
          },
          "execution_count": 18,
          "metadata": {},
          "output_type": "execute_result"
        }
      ],
      "source": [
        "findWordsStartingWithConsonant(\"Aww Gi...Aon't worry:ae'll \\n vote for UUUU and IM. A9A ae-l ee:ef aruck-ariver\")"
      ]
    },
    {
      "cell_type": "code",
      "execution_count": null,
      "metadata": {
        "id": "wibwwaouCJDC"
      },
      "outputs": [],
      "source": [
        "df_data['words_starting_with_consonant'] = df_data['TEXT'].apply(lambda x: findWordsStartingWithConsonant(x))"
      ]
    },
    {
      "cell_type": "code",
      "execution_count": null,
      "metadata": {
        "colab": {
          "base_uri": "https://localhost:8080/"
        },
        "id": "ookPUBYcqHY8",
        "outputId": "f60386ca-600a-4767-8c56-79dc666d52b1"
      },
      "outputs": [
        {
          "data": {
            "text/plain": [
              "37196"
            ]
          },
          "execution_count": 20,
          "metadata": {},
          "output_type": "execute_result"
        }
      ],
      "source": [
        "df_data['words_starting_with_consonant'].sum()"
      ]
    },
    {
      "cell_type": "markdown",
      "metadata": {
        "id": "bYRKw0v3Pq2n"
      },
      "source": [
        "## c. Lowercase the text and report the number of unique tokens present before and after lower casing.\n",
        "\n",
        "Basic Rules and Assumptions:\n",
        "\n",
        "- To get tokens "
      ]
    },
    {
      "cell_type": "code",
      "execution_count": null,
      "metadata": {
        "id": "Fa4UbCdpPOoL"
      },
      "outputs": [],
      "source": []
    },
    {
      "cell_type": "markdown",
      "metadata": {
        "id": "rdc4Ufy2XiVE"
      },
      "source": [
        "## d. Count and list all the usernames.\n",
        "\n",
        "Basic Rules and Assumptions:\n",
        "\n",
        "- According to [Twitter Guidelines](https://help.twitter.com/en/managing-your-account/twitter-username-rules)\n",
        "  - Your username cannot be longer than 15 characters. Your name can be longer (50 characters) or shorter than 4 characters, but usernames are kept shorter for the sake of ease.\n",
        "  - A username can only contain alphanumeric characters (letters A-Z, numbers 0-9) with the exception of underscores, as noted above. Check to make sure your desired username doesn't contain any symbols, dashes, or spaces.\n",
        "  - *Optional Rule to Spot Users* - Usernames containing the words Twitter or Admin cannot be claimed. No account names can contain Twitter or Admin unless they are official Twitter accounts.\n",
        "\n",
        "- Some experimentation with our Twitter Handle helped us reach the following conclusions:\n",
        "  - @UserName can't be placed with other alphanumeric characters so abc@user 9@user are not valid and won't tag the user\n",
        "  - X@UserName where X is a punctuation is valid but the following cases also don't allow tagging - \n",
        "    - @@xyz\n",
        "    - _@xyz\n",
        "\n",
        "Hence we propose regexes which actually find real tag matches instead of say a user just writing an @ somewhere in the tweet and it getting falsely matched as a tagged user when it really isn't"
      ]
    },
    {
      "cell_type": "code",
      "execution_count": null,
      "metadata": {
        "id": "D6xfqm4QXk3Q"
      },
      "outputs": [],
      "source": [
        "s = ' @awaisnaseer I like Shezan Mangooo too!!! I '"
      ]
    },
    {
      "cell_type": "code",
      "execution_count": null,
      "metadata": {
        "id": "jmsSHW76XqZU"
      },
      "outputs": [],
      "source": [
        "def findUsernames(sentence):\n",
        "  return re.findall(\"[^\\wÀ-ÖØ-öø-ÿ@_]?(@[A-Za-z0-9_]{1,15})\\\\b\", sentence)\n",
        "\n",
        "def findUsernameCount(sentence):\n",
        "  return len(re.findall(\"[^\\wÀ-ÖØ-öø-ÿ@_]?(@[A-Za-z0-9_]{1,15})\\\\b\", sentence))"
      ]
    },
    {
      "cell_type": "code",
      "execution_count": null,
      "metadata": {
        "id": "QxPV1weuX1rn"
      },
      "outputs": [],
      "source": [
        "df_data['UserNames'] = df_data['TEXT'].apply(lambda x: findUsernames(x))\n",
        "df_data['UserNamesCounts'] = df_data['TEXT'].apply(lambda x: findUsernameCount(x))"
      ]
    },
    {
      "cell_type": "code",
      "execution_count": null,
      "metadata": {
        "colab": {
          "base_uri": "https://localhost:8080/"
        },
        "id": "tIRVTSpZqmDL",
        "outputId": "9d11b68b-019f-4731-c556-66324d14d6c4"
      },
      "outputs": [
        {
          "data": {
            "text/plain": [
              "2108"
            ]
          },
          "execution_count": 25,
          "metadata": {},
          "output_type": "execute_result"
        }
      ],
      "source": [
        "df_data['UserNamesCounts'].sum()"
      ]
    },
    {
      "cell_type": "code",
      "execution_count": null,
      "metadata": {
        "id": "1IQi6p5SqsHy"
      },
      "outputs": [],
      "source": [
        "usernames = df_data['UserNames'].to_numpy()\n",
        "flattened_usernames = []\n",
        "for i in usernames:\n",
        "  flattened_usernames.extend(i)"
      ]
    },
    {
      "cell_type": "code",
      "execution_count": null,
      "metadata": {
        "colab": {
          "base_uri": "https://localhost:8080/"
        },
        "id": "We06hPGvrYVB",
        "outputId": "3ec7df54-41ab-4cde-8bf6-2aa8f5bc7cea"
      },
      "outputs": [
        {
          "data": {
            "text/plain": [
              "2021"
            ]
          },
          "execution_count": 30,
          "metadata": {},
          "output_type": "execute_result"
        }
      ],
      "source": [
        "len(set(flattened_usernames))"
      ]
    },
    {
      "cell_type": "markdown",
      "metadata": {
        "id": "L9D-7fwqgYNe"
      },
      "source": [
        "## e. Count and list all the urls\n",
        "\n",
        "Basic Rules and Assumptions\n",
        "\n",
        "- `http`, `https`, `www` common starters for URLs usually\n",
        "- Manually investigating all sentences which contain `http` shows no false positives that is all occurences of `http` correspond to links\n",
        "- Manually investigating all sentences which contain `www` shows lots of false positives due to words like `aww`\n",
        "- On manual inspection we find no sentences which contain `https`\n",
        "- According to [Twitter's official Blog](https://help.twitter.com/en/using-twitter/url-shortener), Twitter uses a URL-Shortener which converts links to the form `t.co` however there are no positive matches for this in our dataset. The only matches that arise are spurious matches in links like `blogspot.com`\n",
        "- A URL maybe as simple as `www.xyz.abc` and as complex as `http://www.xyz.abc/efg` and can get even more complex by adding / to index more indepth into pages\n",
        "- There are false positives that we encounter such as `Gi.don` or `worry.we` but they are both valid URLs as well as there can be custom domains by those names. We assume the domain will be atleast 2 characters long to account for `.me`, `.uk` etc.\n",
        "- Numbers have been allowed as [only numbers can form valid URLs](https://stackoverflow.com/q/56804936/13858953)"
      ]
    },
    {
      "cell_type": "code",
      "execution_count": null,
      "metadata": {
        "id": "Qpl1ARRsk8Hx"
      },
      "outputs": [],
      "source": [
        "def findURLs(sentence):\n",
        "  x = re.findall(\"(?:http://|https://)?[A-Za-z0-9_]+\\.[A-Za-z0-9_]{2,}[\\.A-Za-z0-9_]*[/?[A-Za-z0-9_]*]*\\.?[A-Za-z0-9_]*\\\\b\", sentence)\n",
        "  return x\n",
        "\n",
        "def findURLCount(sentence):\n",
        "  return len(re.findall(\"(?:http://|https://)?[A-Za-z0-9_]+\\.[A-Za-z0-9_]{2,}[\\.A-Za-z0-9_]*[/?[A-Za-z0-9_]*]*\\.?[A-Za-z0-9_]*\\\\b\", sentence))"
      ]
    },
    {
      "cell_type": "code",
      "execution_count": null,
      "metadata": {
        "colab": {
          "base_uri": "https://localhost:8080/"
        },
        "id": "ufbLV4LZ84F7",
        "outputId": "4a3eabd6-491a-44a2-8ff1-045805e02d2b"
      },
      "outputs": [
        {
          "data": {
            "text/plain": [
              "['http://www.spiritisup.com/ahuginyourinboxgmb.html']"
            ]
          },
          "execution_count": 3,
          "metadata": {},
          "output_type": "execute_result"
        }
      ],
      "source": [
        "findURLs(\"Something so beautiful I want to share with my tweeter friends  http://www.spiritisup.com/ahuginyourinboxgmb.html\")"
      ]
    },
    {
      "cell_type": "code",
      "execution_count": null,
      "metadata": {
        "colab": {
          "base_uri": "https://localhost:8080/"
        },
        "id": "RCOMFaBHy5ou",
        "outputId": "79fe2cbf-641a-41ea-b17c-5fba692803ab"
      },
      "outputs": [
        {
          "data": {
            "text/plain": [
              "['https://www.google.c.uk.in',\n",
              " '1.91',\n",
              " '1.com',\n",
              " 'http://www.Google.Co.Uk.in',\n",
              " 'www.google.c.uk.in',\n",
              " 'www.google.c.uk',\n",
              " 'http://apps.facebook.com/catbook/profile/view/620328',\n",
              " 'http://www.hakkastudy.in.th',\n",
              " 'http://in.groups.yahoo.com/group/TheComicsClub']"
            ]
          },
          "execution_count": 110,
          "metadata": {},
          "output_type": "execute_result"
        }
      ],
      "source": [
        "findURLs(\"      https://www.google.c.uk.in 1.91 1.com com.1 http://www.Google.Co.Uk.in :://www.google.c.uk.in gogole.c www.google.c.uk the best http://apps.facebook.com/catbook/profile/view/620328 ( http://www.hakkastudy.in.th/) http://in.groups.yahoo.com/group/TheComicsClub/\")"
      ]
    },
    {
      "cell_type": "code",
      "execution_count": null,
      "metadata": {
        "id": "Pzjw7gUbgj3H"
      },
      "outputs": [],
      "source": [
        "df_data['URLs'] = df_data['TEXT'].apply(lambda x: findURLs(x))\n",
        "df_data['URLCounts'] = df_data['TEXT'].apply(lambda x: findURLCount(x))"
      ]
    },
    {
      "cell_type": "code",
      "execution_count": null,
      "metadata": {
        "colab": {
          "base_uri": "https://localhost:8080/"
        },
        "id": "NWU3UgeYzAMn",
        "outputId": "05476f13-c5ff-4e27-daec-4d3279fd39b9"
      },
      "outputs": [
        {
          "data": {
            "text/plain": [
              "242"
            ]
          },
          "execution_count": 112,
          "metadata": {},
          "output_type": "execute_result"
        }
      ],
      "source": [
        "df_data['URLCounts'].sum()"
      ]
    },
    {
      "cell_type": "markdown",
      "metadata": {
        "id": "-jENr0Gqos6H"
      },
      "source": [
        "## f. Count the number of tweets for each day of the week. Eg Mon: 58, Tues: 20, Wed..."
      ]
    },
    {
      "cell_type": "code",
      "execution_count": null,
      "metadata": {
        "id": "d1lPRxi9pR1t"
      },
      "outputs": [],
      "source": [
        "def getDay(sentence):\n",
        "  return re.findall(\"Fri|Mon|Thu|Sun|Tue|Wed|Sat\", sentence)[0]"
      ]
    },
    {
      "cell_type": "code",
      "execution_count": null,
      "metadata": {
        "id": "Dswe26lFmQi5"
      },
      "outputs": [],
      "source": [
        "df_data['Day'] = df_data['DATE_TIME'].apply(lambda x: getDay(x))"
      ]
    },
    {
      "cell_type": "code",
      "execution_count": null,
      "metadata": {
        "colab": {
          "base_uri": "https://localhost:8080/"
        },
        "id": "VUuFLwxkqgqk",
        "outputId": "c85ced00-76f0-4e27-d429-61eafb57646d"
      },
      "outputs": [
        {
          "data": {
            "text/plain": [
              "Sun    1328\n",
              "Mon     872\n",
              "Fri     864\n",
              "Sat     417\n",
              "Wed     299\n",
              "Tue     286\n",
              "Thu     221\n",
              "Name: Day, dtype: int64"
            ]
          },
          "execution_count": 615,
          "metadata": {},
          "output_type": "execute_result"
        }
      ],
      "source": [
        "df_data['Day'].value_counts()"
      ]
    },
    {
      "cell_type": "markdown",
      "metadata": {
        "id": "-YQY-xmesj5X"
      },
      "source": [
        "# B."
      ]
    },
    {
      "cell_type": "markdown",
      "metadata": {
        "id": "y-itGBwas5XQ"
      },
      "source": [
        "## a. Total number of occurrences of the given word and sentences containing that word."
      ]
    },
    {
      "cell_type": "code",
      "execution_count": null,
      "metadata": {
        "id": "kCtBlSzwqiYl"
      },
      "outputs": [],
      "source": [
        "def re_find_word_in_sentence(word, sentence):\n",
        "  return len(re.findall(f'\\\\b{word}\\\\b', sentence))"
      ]
    },
    {
      "cell_type": "code",
      "execution_count": null,
      "metadata": {
        "id": "PHLgD9f4tfmK"
      },
      "outputs": [],
      "source": [
        "def find_word_counts(df_data, word, class_label):\n",
        "  filtered_df = df_data[df_data['LABEL'] == class_label]\n",
        "  filtered_df['Counts'] = filtered_df['TEXT'].apply(lambda x: re_find_word_in_sentence(word, x))\n",
        "  total_occurence = sum(filtered_df['Counts'])\n",
        "  sentences_containing_word = filtered_df[filtered_df['Counts'] > 0]['TEXT'].to_list()\n",
        "  return total_occurence, sentences_containing_word"
      ]
    },
    {
      "cell_type": "code",
      "execution_count": null,
      "metadata": {
        "colab": {
          "base_uri": "https://localhost:8080/"
        },
        "id": "WBTpIOtcticy",
        "outputId": "f4bdbdbf-9a5e-4927-8070-0ac1307c9b6b"
      },
      "outputs": [
        {
          "name": "stderr",
          "output_type": "stream",
          "text": [
            "/usr/local/lib/python3.7/dist-packages/ipykernel_launcher.py:3: SettingWithCopyWarning: \n",
            "A value is trying to be set on a copy of a slice from a DataFrame.\n",
            "Try using .loc[row_indexer,col_indexer] = value instead\n",
            "\n",
            "See the caveats in the documentation: https://pandas.pydata.org/pandas-docs/stable/user_guide/indexing.html#returning-a-view-versus-a-copy\n",
            "  This is separate from the ipykernel package so we can avoid doing imports until\n"
          ]
        }
      ],
      "source": [
        "total_occurence, sentences_containing_word = find_word_counts(df_data, 'i', 0)"
      ]
    },
    {
      "cell_type": "code",
      "execution_count": null,
      "metadata": {
        "colab": {
          "base_uri": "https://localhost:8080/"
        },
        "id": "EmWK4oTPts86",
        "outputId": "048479e4-abdb-4c91-ff15-f4d14d904e69"
      },
      "outputs": [
        {
          "data": {
            "text/plain": [
              "450"
            ]
          },
          "execution_count": 645,
          "metadata": {},
          "output_type": "execute_result"
        }
      ],
      "source": [
        "total_occurence"
      ]
    },
    {
      "cell_type": "code",
      "execution_count": null,
      "metadata": {
        "colab": {
          "base_uri": "https://localhost:8080/"
        },
        "id": "REgyf0cnvEoa",
        "outputId": "5041960d-7124-4800-c039-ecc3c49218f3"
      },
      "outputs": [
        {
          "data": {
            "text/plain": [
              "[\"@buckhollywood I Cant Watch That i'm in the UK  Can you tell me what its about? Please x\",\n",
              " '@mykiaisosm omj ur bad and mean i should not have meet u in 2nd grade even thouggh we hated each other i should have stayed like that ',\n",
              " ' i missed the game',\n",
              " \"dr office... hopefully finding out why i've been so sick  it's so hard to keep my eyes open\",\n",
              " 'i feel like death...my next investment?going to the spa! i need a new body that can function  (via @IngaDurgin)i herd sleep is good 4 dat']"
            ]
          },
          "execution_count": 647,
          "metadata": {},
          "output_type": "execute_result"
        }
      ],
      "source": [
        "sentences_containing_word[:5]"
      ]
    },
    {
      "cell_type": "markdown",
      "metadata": {
        "id": "cx1eiKQNvZID"
      },
      "source": [
        "## b. Number of sentences starting with the given word."
      ]
    },
    {
      "cell_type": "code",
      "execution_count": null,
      "metadata": {
        "id": "C7f0n-rmvFeQ"
      },
      "outputs": [],
      "source": [
        "def re_find_sentence_starting_with_word(word, sentence):\n",
        "  if re.findall(f'^\\s*{word}\\\\b', sentence):\n",
        "    return 1\n",
        "  return 0"
      ]
    },
    {
      "cell_type": "code",
      "execution_count": null,
      "metadata": {
        "colab": {
          "base_uri": "https://localhost:8080/"
        },
        "id": "ohoOqq48wwA9",
        "outputId": "04378213-307e-40cd-b870-9c2adb72bae5"
      },
      "outputs": [
        {
          "data": {
            "text/plain": [
              "(0, 1)"
            ]
          },
          "execution_count": 688,
          "metadata": {},
          "output_type": "execute_result"
        }
      ],
      "source": [
        "re_find_sentence_starting_with_word(\"i\", \" am i \"), re_find_sentence_starting_with_word(\"i\", \" i am i \")"
      ]
    },
    {
      "cell_type": "code",
      "execution_count": null,
      "metadata": {
        "id": "B4qf7D0tvjwr"
      },
      "outputs": [],
      "source": [
        "def find_all_sentences_starting_with_word(df_data, word, class_label):\n",
        "  filtered_df = df_data[df_data['LABEL'] == class_label]\n",
        "  filtered_df['Counts'] = filtered_df['TEXT'].apply(lambda x: re_find_sentence_starting_with_word(word, x))\n",
        "  total_occurence = sum(filtered_df['Counts'])\n",
        "  sentences_starting_with_word = filtered_df[filtered_df['Counts'] == 1]['TEXT'].to_list()\n",
        "  return total_occurence, sentences_starting_with_word"
      ]
    },
    {
      "cell_type": "code",
      "execution_count": null,
      "metadata": {
        "colab": {
          "base_uri": "https://localhost:8080/"
        },
        "id": "ldBGVY_evmvH",
        "outputId": "dd9a0064-1eb6-4f95-f6d2-bfa91ac55e22"
      },
      "outputs": [
        {
          "name": "stderr",
          "output_type": "stream",
          "text": [
            "/usr/local/lib/python3.7/dist-packages/ipykernel_launcher.py:3: SettingWithCopyWarning: \n",
            "A value is trying to be set on a copy of a slice from a DataFrame.\n",
            "Try using .loc[row_indexer,col_indexer] = value instead\n",
            "\n",
            "See the caveats in the documentation: https://pandas.pydata.org/pandas-docs/stable/user_guide/indexing.html#returning-a-view-versus-a-copy\n",
            "  This is separate from the ipykernel package so we can avoid doing imports until\n"
          ]
        }
      ],
      "source": [
        "total_occurence, sentences_starting_with_word = find_all_sentences_starting_with_word(df_data, 'i', 0)"
      ]
    },
    {
      "cell_type": "code",
      "execution_count": null,
      "metadata": {
        "colab": {
          "base_uri": "https://localhost:8080/"
        },
        "id": "a3H49wwTwY48",
        "outputId": "ebda4a54-f32f-411c-a06b-1fff1085e02a"
      },
      "outputs": [
        {
          "data": {
            "text/plain": [
              "(2,\n",
              " [' i missed the game',\n",
              "  \" i don't know, darlin. I'm so sorry. I wish i had what you need to make everything right.\"])"
            ]
          },
          "execution_count": 682,
          "metadata": {},
          "output_type": "execute_result"
        }
      ],
      "source": [
        "total_occurence, sentences_starting_with_word"
      ]
    },
    {
      "cell_type": "markdown",
      "metadata": {
        "id": "yxu11MKXwi_I"
      },
      "source": [
        "## c. Number of sentences ending with the given word."
      ]
    },
    {
      "cell_type": "code",
      "execution_count": null,
      "metadata": {
        "id": "58BVCGSnwguC"
      },
      "outputs": [],
      "source": [
        "def re_find_sentence_ending_with_word(word, sentence):\n",
        "  if re.findall(f'\\\\b{word}\\s*$', sentence):\n",
        "    return 1\n",
        "  return 0"
      ]
    },
    {
      "cell_type": "code",
      "execution_count": null,
      "metadata": {
        "colab": {
          "base_uri": "https://localhost:8080/"
        },
        "id": "NpfAFnRRw3J3",
        "outputId": "9ca64ae0-c694-4811-c6c4-8b208bef7831"
      },
      "outputs": [
        {
          "data": {
            "text/plain": [
              "(0, 1)"
            ]
          },
          "execution_count": 693,
          "metadata": {},
          "output_type": "execute_result"
        }
      ],
      "source": [
        "re_find_sentence_ending_with_word(\"i\", \" am\"), re_find_sentence_ending_with_word(\"i\", \" i am i\")"
      ]
    },
    {
      "cell_type": "code",
      "execution_count": null,
      "metadata": {
        "id": "vB9e_reFw9ds"
      },
      "outputs": [],
      "source": [
        "def find_all_sentences_ending_with_word(df_data, word, class_label):\n",
        "  filtered_df = df_data[df_data['LABEL'] == class_label]\n",
        "  filtered_df['Counts'] = filtered_df['TEXT'].apply(lambda x: re_find_sentence_ending_with_word(word, x))\n",
        "  total_occurence = sum(filtered_df['Counts'])\n",
        "  sentences_ending_with_word = filtered_df[filtered_df['Counts'] == 1]['TEXT'].to_list()\n",
        "  return total_occurence, sentences_ending_with_word"
      ]
    },
    {
      "cell_type": "code",
      "execution_count": null,
      "metadata": {
        "colab": {
          "base_uri": "https://localhost:8080/"
        },
        "id": "AQbh03oJxNgA",
        "outputId": "ca165aad-2375-4d41-98ba-f8ddb38b6e95"
      },
      "outputs": [
        {
          "name": "stderr",
          "output_type": "stream",
          "text": [
            "/usr/local/lib/python3.7/dist-packages/ipykernel_launcher.py:3: SettingWithCopyWarning: \n",
            "A value is trying to be set on a copy of a slice from a DataFrame.\n",
            "Try using .loc[row_indexer,col_indexer] = value instead\n",
            "\n",
            "See the caveats in the documentation: https://pandas.pydata.org/pandas-docs/stable/user_guide/indexing.html#returning-a-view-versus-a-copy\n",
            "  This is separate from the ipykernel package so we can avoid doing imports until\n"
          ]
        }
      ],
      "source": [
        "total_occurence, sentences_ending_with_word = find_all_sentences_ending_with_word(df_data, 'scared', 0)"
      ]
    },
    {
      "cell_type": "code",
      "execution_count": null,
      "metadata": {
        "colab": {
          "base_uri": "https://localhost:8080/"
        },
        "id": "HIYOTYfTxQAn",
        "outputId": "dc4265ee-64aa-4e6b-9815-d17f9c83c31f"
      },
      "outputs": [
        {
          "data": {
            "text/plain": [
              "(1, ['About to get threaded and scared '])"
            ]
          },
          "execution_count": 698,
          "metadata": {},
          "output_type": "execute_result"
        }
      ],
      "source": [
        "total_occurence, sentences_ending_with_word"
      ]
    },
    {
      "cell_type": "code",
      "execution_count": null,
      "metadata": {
        "id": "4dzbkQusxRlQ"
      },
      "outputs": [],
      "source": []
    }
  ],
  "metadata": {
    "colab": {
      "collapsed_sections": [],
      "provenance": []
    },
    "kernelspec": {
      "display_name": "Python 3.9.13 64-bit (microsoft store)",
      "language": "python",
      "name": "python3"
    },
    "language_info": {
      "codemirror_mode": {
        "name": "ipython",
        "version": 3
      },
      "file_extension": ".py",
      "mimetype": "text/x-python",
      "name": "python",
      "nbconvert_exporter": "python",
      "pygments_lexer": "ipython3",
      "version": "3.9.13"
    },
    "vscode": {
      "interpreter": {
        "hash": "a5a87ee616be0254e3f1af9223138e3faeac65b2c9d91bc22a9fc5a4a8bd8eb0"
      }
    }
  },
  "nbformat": 4,
  "nbformat_minor": 0
}
