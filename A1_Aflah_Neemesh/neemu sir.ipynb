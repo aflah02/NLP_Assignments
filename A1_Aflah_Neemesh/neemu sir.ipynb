{
 "cells": [
  {
   "cell_type": "markdown",
   "id": "64e0100a",
   "metadata": {
    "id": "64e0100a"
   },
   "source": [
    "# Assignment 1"
   ]
  },
  {
   "cell_type": "code",
   "execution_count": 101,
   "id": "17c1803a",
   "metadata": {},
   "outputs": [
    {
     "name": "stderr",
     "output_type": "stream",
     "text": [
      "\n",
      "[notice] A new release of pip available: 22.2.1 -> 22.2.2\n",
      "[notice] To update, run: C:\\Users\\ASUS\\AppData\\Local\\Microsoft\\WindowsApps\\PythonSoftwareFoundation.Python.3.9_qbz5n2kfra8p0\\python.exe -m pip install --upgrade pip\n"
     ]
    },
    {
     "name": "stdout",
     "output_type": "stream",
     "text": [
      "Collecting autocorrect\n",
      "  Downloading autocorrect-2.6.1.tar.gz (622 kB)\n",
      "     -------------------------------------- 622.8/622.8 kB 6.6 MB/s eta 0:00:00\n",
      "  Preparing metadata (setup.py): started\n",
      "  Preparing metadata (setup.py): finished with status 'done'\n",
      "Building wheels for collected packages: autocorrect\n",
      "  Building wheel for autocorrect (setup.py): started\n",
      "  Building wheel for autocorrect (setup.py): finished with status 'done'\n",
      "  Created wheel for autocorrect: filename=autocorrect-2.6.1-py3-none-any.whl size=622382 sha256=0741a6a60f8d9d43246271df1678958b040f8a7cf50e741684a2846f21a9d9a5\n",
      "  Stored in directory: c:\\users\\asus\\appdata\\local\\pip\\cache\\wheels\\ab\\0f\\23\\3c010c3fd877b962146e7765f9e9b08026cac8b035094c5750\n",
      "Successfully built autocorrect\n",
      "Installing collected packages: autocorrect\n",
      "Successfully installed autocorrect-2.6.1\n"
     ]
    },
    {
     "name": "stderr",
     "output_type": "stream",
     "text": [
      "\n",
      "[notice] A new release of pip available: 22.2.1 -> 22.2.2\n",
      "[notice] To update, run: C:\\Users\\ASUS\\AppData\\Local\\Microsoft\\WindowsApps\\PythonSoftwareFoundation.Python.3.9_qbz5n2kfra8p0\\python.exe -m pip install --upgrade pip\n"
     ]
    }
   ],
   "source": [
    "!pip install wordcloud -q\n",
    "!pip install autocorrect"
   ]
  },
  {
   "cell_type": "code",
   "execution_count": 141,
   "id": "6da9f49e",
   "metadata": {
    "id": "6da9f49e"
   },
   "outputs": [],
   "source": [
    "import re\n",
    "import pandas as pd\n",
    "import nltk\n",
    "import numpy as np\n",
    "from tqdm.notebook import tqdm\n",
    "tqdm.pandas()"
   ]
  },
  {
   "cell_type": "code",
   "execution_count": 3,
   "id": "ouo7j7FBhgPg",
   "metadata": {
    "colab": {
     "base_uri": "https://localhost:8080/"
    },
    "id": "ouo7j7FBhgPg",
    "outputId": "2b9b1d29-bc85-4eda-e6e3-68d0fdc64d31"
   },
   "outputs": [
    {
     "name": "stderr",
     "output_type": "stream",
     "text": [
      "[nltk_data] Downloading package stopwords to\n",
      "[nltk_data]     C:\\Users\\ASUS\\AppData\\Roaming\\nltk_data...\n",
      "[nltk_data]   Package stopwords is already up-to-date!\n",
      "[nltk_data] Downloading package words to\n",
      "[nltk_data]     C:\\Users\\ASUS\\AppData\\Roaming\\nltk_data...\n",
      "[nltk_data]   Package words is already up-to-date!\n",
      "[nltk_data] Downloading package wordnet to\n",
      "[nltk_data]     C:\\Users\\ASUS\\AppData\\Roaming\\nltk_data...\n",
      "[nltk_data]   Package wordnet is already up-to-date!\n",
      "[nltk_data] Downloading package omw-1.4 to\n",
      "[nltk_data]     C:\\Users\\ASUS\\AppData\\Roaming\\nltk_data...\n",
      "[nltk_data]   Package omw-1.4 is already up-to-date!\n",
      "[nltk_data] Downloading package vader_lexicon to\n",
      "[nltk_data]     C:\\Users\\ASUS\\AppData\\Roaming\\nltk_data...\n",
      "[nltk_data]   Package vader_lexicon is already up-to-date!\n"
     ]
    },
    {
     "data": {
      "text/plain": [
       "True"
      ]
     },
     "execution_count": 3,
     "metadata": {},
     "output_type": "execute_result"
    }
   ],
   "source": [
    "nltk.download(\"stopwords\")\n",
    "nltk.download(\"words\")\n",
    "nltk.download(\"wordnet\")\n",
    "nltk.download('omw-1.4')\n",
    "nltk.download('vader_lexicon')"
   ]
  },
  {
   "cell_type": "code",
   "execution_count": 6,
   "id": "50e6ec41",
   "metadata": {
    "id": "50e6ec41"
   },
   "outputs": [],
   "source": [
    "df = pd.read_csv(\"A1_dataset.csv\")"
   ]
  },
  {
   "cell_type": "code",
   "execution_count": 7,
   "id": "c4f016af",
   "metadata": {
    "id": "c4f016af"
   },
   "outputs": [
    {
     "data": {
      "text/html": [
       "<div>\n",
       "<style scoped>\n",
       "    .dataframe tbody tr th:only-of-type {\n",
       "        vertical-align: middle;\n",
       "    }\n",
       "\n",
       "    .dataframe tbody tr th {\n",
       "        vertical-align: top;\n",
       "    }\n",
       "\n",
       "    .dataframe thead th {\n",
       "        text-align: right;\n",
       "    }\n",
       "</style>\n",
       "<table border=\"1\" class=\"dataframe\">\n",
       "  <thead>\n",
       "    <tr style=\"text-align: right;\">\n",
       "      <th></th>\n",
       "      <th>LABEL</th>\n",
       "      <th>DATE_TIME</th>\n",
       "      <th>TEXT</th>\n",
       "    </tr>\n",
       "  </thead>\n",
       "  <tbody>\n",
       "    <tr>\n",
       "      <th>0</th>\n",
       "      <td>0</td>\n",
       "      <td>Fri Jun 05 14:26:50 2009</td>\n",
       "      <td>About to get threaded and scared</td>\n",
       "    </tr>\n",
       "    <tr>\n",
       "      <th>1</th>\n",
       "      <td>1</td>\n",
       "      <td>Thu May 14 10:13:55 2009</td>\n",
       "      <td>@awaisnaseer I like Shezan Mangooo too!!! I ha...</td>\n",
       "    </tr>\n",
       "    <tr>\n",
       "      <th>2</th>\n",
       "      <td>1</td>\n",
       "      <td>Fri Jun 05 21:02:20 2009</td>\n",
       "      <td>worked on my car after work. showering then go...</td>\n",
       "    </tr>\n",
       "    <tr>\n",
       "      <th>3</th>\n",
       "      <td>1</td>\n",
       "      <td>Sun Jun 14 22:25:52 2009</td>\n",
       "      <td>@Marama Actually we start this afternoon!  I w...</td>\n",
       "    </tr>\n",
       "    <tr>\n",
       "      <th>4</th>\n",
       "      <td>1</td>\n",
       "      <td>Sun May 31 00:42:12 2009</td>\n",
       "      <td>@gfalcone601 Aww Gi.don't worry.we'll vote for...</td>\n",
       "    </tr>\n",
       "  </tbody>\n",
       "</table>\n",
       "</div>"
      ],
      "text/plain": [
       "   LABEL                 DATE_TIME  \\\n",
       "0      0  Fri Jun 05 14:26:50 2009   \n",
       "1      1  Thu May 14 10:13:55 2009   \n",
       "2      1  Fri Jun 05 21:02:20 2009   \n",
       "3      1  Sun Jun 14 22:25:52 2009   \n",
       "4      1  Sun May 31 00:42:12 2009   \n",
       "\n",
       "                                                TEXT  \n",
       "0                  About to get threaded and scared   \n",
       "1  @awaisnaseer I like Shezan Mangooo too!!! I ha...  \n",
       "2  worked on my car after work. showering then go...  \n",
       "3  @Marama Actually we start this afternoon!  I w...  \n",
       "4  @gfalcone601 Aww Gi.don't worry.we'll vote for...  "
      ]
     },
     "execution_count": 7,
     "metadata": {},
     "output_type": "execute_result"
    }
   ],
   "source": [
    "df.head()"
   ]
  },
  {
   "cell_type": "code",
   "execution_count": 8,
   "id": "5d3f6870",
   "metadata": {},
   "outputs": [],
   "source": [
    "from customregexes import *"
   ]
  },
  {
   "cell_type": "markdown",
   "id": "c92072ee",
   "metadata": {},
   "source": [
    "---"
   ]
  },
  {
   "cell_type": "markdown",
   "id": "07d84008",
   "metadata": {
    "id": "07d84008"
   },
   "source": [
    "### II) Text Preprocessing"
   ]
  },
  {
   "cell_type": "code",
   "execution_count": 129,
   "id": "20b0e3eb",
   "metadata": {},
   "outputs": [],
   "source": [
    "special_tokens = ['@user', '@url']"
   ]
  },
  {
   "cell_type": "code",
   "execution_count": 9,
   "id": "a7f0ad1f",
   "metadata": {
    "id": "a7f0ad1f"
   },
   "outputs": [],
   "source": [
    "from nltk.tokenize import TweetTokenizer\n",
    "\n",
    "def tokenization(text):\n",
    "    twt_tk = TweetTokenizer()\n",
    "    return twt_tk.tokenize(text)"
   ]
  },
  {
   "cell_type": "code",
   "execution_count": 80,
   "id": "6d2bf917",
   "metadata": {},
   "outputs": [],
   "source": [
    "from nltk.corpus import wordnet as wn\n",
    "wordnet_words = []\n",
    "for word in wn.words():\n",
    "    wordnet_words.append(word)\n",
    "\n",
    "# from nltk.corpus import words\n",
    "# wrd = words.words()\n",
    "\n",
    "words = set(wordnet_words)"
   ]
  },
  {
   "cell_type": "code",
   "execution_count": 82,
   "id": "01a91515",
   "metadata": {},
   "outputs": [
    {
     "data": {
      "text/plain": [
       "False"
      ]
     },
     "execution_count": 82,
     "metadata": {},
     "output_type": "execute_result"
    }
   ],
   "source": [
    "'helluo' in words"
   ]
  },
  {
   "cell_type": "code",
   "execution_count": 112,
   "id": "d270225c",
   "metadata": {
    "id": "d270225c"
   },
   "outputs": [],
   "source": [
    "# Can use Jaccard distance or edit distance to do this\n",
    "from nltk.metrics.distance import jaccard_distance, edit_distance\n",
    "\n",
    "# Spelling correction using jaccard distance\n",
    "def spelling_correction_jaccard(text):\n",
    "    res = []\n",
    "    for curr in text:\n",
    "        if curr not in words:\n",
    "            crrct_words = []\n",
    "            for w in words:\n",
    "                crrct_words.append([jaccard_distance(set(w), set(curr)), w])\n",
    "            crrct_words = sorted(crrct_words, key = lambda x: x[0])\n",
    "            res.append(crrct_words[0][1][0])\n",
    "        else:\n",
    "            res.append(curr)\n",
    "    return res\n",
    "\n",
    "# Spelling correction using edit distance\n",
    "def spelling_correction_edit(text):\n",
    "    res = []\n",
    "    for curr in text:\n",
    "        if curr not in words:\n",
    "            crrct_words = []\n",
    "            for w in words:\n",
    "                crrct_words.append([edit_distance(w, curr), w])\n",
    "            crrct_words = sorted(crrct_words, key = lambda x: x[0])\n",
    "            res.append(crrct_words[0][1])\n",
    "        else:\n",
    "            res.append(curr)\n",
    "    return res\n",
    "\n",
    "# Spelling correction using edit distance\n",
    "def spelling_correction_autocorrect(text):\n",
    "    spell = Speller()\n",
    "    res = []\n",
    "    for curr in text:\n",
    "        if curr not in words:\n",
    "            res.append(spell(curr))\n",
    "        else:\n",
    "            res.append(curr)\n",
    "    return res\n",
    "\n",
    "def spelling_correction(text, method ='autocorrect'):\n",
    "    if method == 'autocorrect':\n",
    "        return spelling_correction_autocorrect(text)\n",
    "    elif method == 'edit_distance':\n",
    "        return spelling_correction_edit(text)\n",
    "    elif method == 'jaccard':\n",
    "        return spelling_correction_jaccard(text)\n",
    "    else:\n",
    "        raise ValueError('Please use a valid method')"
   ]
  },
  {
   "cell_type": "code",
   "execution_count": 130,
   "id": "15abece4",
   "metadata": {
    "scrolled": true
   },
   "outputs": [
    {
     "data": {
      "text/plain": [
       "['hello', 'good']"
      ]
     },
     "execution_count": 130,
     "metadata": {},
     "output_type": "execute_result"
    }
   ],
   "source": [
    "spelling_correction([\"helllo\", \"good\"])"
   ]
  },
  {
   "cell_type": "code",
   "execution_count": 12,
   "id": "553f11fa",
   "metadata": {
    "id": "553f11fa"
   },
   "outputs": [],
   "source": [
    "#Here we can either do lemmatization or stemming, doing both at the same time will not be useful\n",
    "\n",
    "from nltk.stem import WordNetLemmatizer, PorterStemmer\n",
    "\n",
    "def lemmatization_text(text):\n",
    "    wn = WordNetLemmatizer()\n",
    "    lemmatized_text = []\n",
    "    for each in text:\n",
    "        lemmatized_word = wn.lemmatize(each)\n",
    "        lemmatized_text.append(lemmatized_word)\n",
    "    return ' '.join(lemmatized_text)\n",
    "\n",
    "def stemming_text(text):\n",
    "    stemmed_text = []\n",
    "    ps = PorterStemmer()\n",
    "    for each in text:\n",
    "        stemmed_word = ps.stem(each)\n",
    "        stemmed_text.append(stemmed_word)\n",
    "    return ' '.join(stemmed_text)"
   ]
  },
  {
   "cell_type": "code",
   "execution_count": 13,
   "id": "a705cafd",
   "metadata": {},
   "outputs": [
    {
     "data": {
      "text/plain": [
       "('dog becomes', 'dog becom')"
      ]
     },
     "execution_count": 13,
     "metadata": {},
     "output_type": "execute_result"
    }
   ],
   "source": [
    "lemmatization_text([\"dogs\", \"becomes\"]), stemming_text([\"dogs\", \"becomes\"])"
   ]
  },
  {
   "cell_type": "code",
   "execution_count": 17,
   "id": "3288d974",
   "metadata": {
    "id": "3288d974"
   },
   "outputs": [],
   "source": [
    "import string\n",
    "\n",
    "def remove_punctuations(text):\n",
    "    puncts = string.punctuation\n",
    "    s = \"\"\n",
    "    for i in text:\n",
    "        if i not in puncts:\n",
    "            s += i\n",
    "    return s"
   ]
  },
  {
   "cell_type": "code",
   "execution_count": 18,
   "id": "c7767f59",
   "metadata": {},
   "outputs": [
    {
     "name": "stdout",
     "output_type": "stream",
     "text": [
      "Punctuations:  !\"#$%&'()*+,-./:;<=>?@[\\]^_`{|}~\n"
     ]
    },
    {
     "data": {
      "text/plain": [
       "'lesgoooo whooohooo'"
      ]
     },
     "execution_count": 18,
     "metadata": {},
     "output_type": "execute_result"
    }
   ],
   "source": [
    "print(\"Punctuations: \", string.punctuation)\n",
    "remove_punctuations(\"lesgoooo!!!!!?!??!! whooohooo!\")"
   ]
  },
  {
   "cell_type": "code",
   "execution_count": 210,
   "id": "9dc21a70",
   "metadata": {
    "colab": {
     "base_uri": "https://localhost:8080/"
    },
    "id": "9dc21a70",
    "outputId": "db3f5680-9af7-4e25-cd9c-173511dded97"
   },
   "outputs": [],
   "source": [
    "from nltk.corpus import stopwords\n",
    "stop_words = stopwords.words(\"english\")\n",
    "stop_words.append(\"i'm\")\n",
    "def remove_stopwords(text):\n",
    "    pattern = re.compile(r'\\b(' + (r'|'.join(stop_words)) + r')\\b\\s*')\n",
    "    return pattern.sub('', text)"
   ]
  },
  {
   "cell_type": "code",
   "execution_count": 22,
   "id": "9887901e",
   "metadata": {
    "id": "9887901e",
    "outputId": "efff88b0-b1a8-4507-edc1-461a2bc6a07c"
   },
   "outputs": [
    {
     "data": {
      "text/plain": [
       "'name neemesh aflah'"
      ]
     },
     "execution_count": 22,
     "metadata": {},
     "output_type": "execute_result"
    }
   ],
   "source": [
    "remove_stopwords(\"the is when am i the when the when name is neemesh aflah\")"
   ]
  },
  {
   "cell_type": "code",
   "execution_count": 23,
   "id": "64bb7a09",
   "metadata": {
    "id": "64bb7a09"
   },
   "outputs": [],
   "source": [
    "def remove_whitespaces(text):\n",
    "    return re.sub(r'\\s*\\s', ' ', text)"
   ]
  },
  {
   "cell_type": "code",
   "execution_count": 24,
   "id": "f85fb229",
   "metadata": {
    "colab": {
     "base_uri": "https://localhost:8080/",
     "height": 35
    },
    "id": "f85fb229",
    "outputId": "a985ebe7-f1cb-40c2-fedf-a5e3bb89f07d"
   },
   "outputs": [
    {
     "data": {
      "text/plain": [
       "'whoa a s f'"
      ]
     },
     "execution_count": 24,
     "metadata": {},
     "output_type": "execute_result"
    }
   ],
   "source": [
    "remove_whitespaces(\"whoa a    s f\")"
   ]
  },
  {
   "cell_type": "code",
   "execution_count": 131,
   "id": "0ac4f51f",
   "metadata": {
    "id": "0ac4f51f"
   },
   "outputs": [],
   "source": [
    "def remove_url_html(text):\n",
    "    urls = findURLs(text)\n",
    "    for i in urls:\n",
    "        text = re.sub(f\"{i}\", \"@url\", text)\n",
    "    return text"
   ]
  },
  {
   "cell_type": "code",
   "execution_count": 132,
   "id": "4f242653",
   "metadata": {},
   "outputs": [],
   "source": [
    "def remove_users(text):\n",
    "    username = findUsernames(text)\n",
    "    for i in username:\n",
    "        text = re.sub(f\"{i}\", \"@user\", text)\n",
    "    return text"
   ]
  },
  {
   "cell_type": "code",
   "execution_count": 133,
   "id": "bab18db3",
   "metadata": {},
   "outputs": [],
   "source": [
    "def lowercase_text(text):\n",
    "    return lowercase(text)"
   ]
  },
  {
   "cell_type": "code",
   "execution_count": 119,
   "id": "4cf479b6",
   "metadata": {
    "colab": {
     "base_uri": "https://localhost:8080/",
     "height": 52
    },
    "id": "4cf479b6",
    "outputId": "dfbf9e6c-c056-4e7d-da42-730d196200ed"
   },
   "outputs": [
    {
     "data": {
      "text/plain": [
       "'something so beautiful i want to share with my tweeter friends  '"
      ]
     },
     "execution_count": 119,
     "metadata": {},
     "output_type": "execute_result"
    }
   ],
   "source": [
    "remove_url_html('Something so beautiful I want to share with my tweeter friends  http://www.spiritisup.com/ahuginyourinboxgmb.html')"
   ]
  },
  {
   "cell_type": "code",
   "execution_count": 139,
   "id": "59e23f91",
   "metadata": {},
   "outputs": [],
   "source": [
    "# Here we prefer to perform lemmatization over stemming so that the words don't lose their inherent meaning\n",
    "# and we perform spelling correction using the edit_distance metric in nltk, this is mainly because of the results shown above\n",
    "# comparing the jaccard distance and the edit distance method.\n",
    "\n",
    "def preprocess_text(text):\n",
    "    text = lowercase_text(text)\n",
    "    text = remove_url_html(text)\n",
    "    text = remove_users(text)\n",
    "    text = remove_stopwords(text)\n",
    "    text = remove_punctuations(text)\n",
    "    text = remove_whitespaces(text)\n",
    "    text = tokenization(text)\n",
    "    text = spelling_correction(text)\n",
    "    text = lemmatization_text(text)\n",
    "    return text"
   ]
  },
  {
   "cell_type": "code",
   "execution_count": 200,
   "id": "5a75d5f1",
   "metadata": {},
   "outputs": [
    {
     "data": {
      "text/plain": [
       "'something beautiful want user share tweeter friend user'"
      ]
     },
     "execution_count": 200,
     "metadata": {},
     "output_type": "execute_result"
    }
   ],
   "source": [
    "preprocess_text('Something so beautiful I want @Aflah to share with my tweeter friends  http://www.spiritisup.com/ahuginyourinboxgmb.html')"
   ]
  },
  {
   "cell_type": "code",
   "execution_count": 142,
   "id": "9d538299",
   "metadata": {
    "scrolled": true
   },
   "outputs": [
    {
     "data": {
      "application/vnd.jupyter.widget-view+json": {
       "model_id": "45e31c4a7c7d4a9da8fcc308385fa7db",
       "version_major": 2,
       "version_minor": 0
      },
      "text/plain": [
       "  0%|          | 0/4287 [00:00<?, ?it/s]"
      ]
     },
     "metadata": {},
     "output_type": "display_data"
    }
   ],
   "source": [
    "df[\"PREPROCESSED_TEXT\"] = df[\"TEXT\"].progress_apply(lambda row: preprocess_text(row))"
   ]
  },
  {
   "cell_type": "code",
   "execution_count": 162,
   "id": "5ae651cc",
   "metadata": {
    "scrolled": true
   },
   "outputs": [
    {
     "data": {
      "text/html": [
       "<div>\n",
       "<style scoped>\n",
       "    .dataframe tbody tr th:only-of-type {\n",
       "        vertical-align: middle;\n",
       "    }\n",
       "\n",
       "    .dataframe tbody tr th {\n",
       "        vertical-align: top;\n",
       "    }\n",
       "\n",
       "    .dataframe thead th {\n",
       "        text-align: right;\n",
       "    }\n",
       "</style>\n",
       "<table border=\"1\" class=\"dataframe\">\n",
       "  <thead>\n",
       "    <tr style=\"text-align: right;\">\n",
       "      <th></th>\n",
       "      <th>LABEL</th>\n",
       "      <th>DATE_TIME</th>\n",
       "      <th>TEXT</th>\n",
       "      <th>PREPROCESSED_TEXT</th>\n",
       "    </tr>\n",
       "  </thead>\n",
       "  <tbody>\n",
       "    <tr>\n",
       "      <th>0</th>\n",
       "      <td>0</td>\n",
       "      <td>Fri Jun 05 14:26:50 2009</td>\n",
       "      <td>About to get threaded and scared</td>\n",
       "      <td>get threaded scared</td>\n",
       "    </tr>\n",
       "    <tr>\n",
       "      <th>1</th>\n",
       "      <td>1</td>\n",
       "      <td>Thu May 14 10:13:55 2009</td>\n",
       "      <td>@awaisnaseer I like Shezan Mangooo too!!! I ha...</td>\n",
       "      <td>user like sedan mango one yesterday</td>\n",
       "    </tr>\n",
       "    <tr>\n",
       "      <th>2</th>\n",
       "      <td>1</td>\n",
       "      <td>Fri Jun 05 21:02:20 2009</td>\n",
       "      <td>worked on my car after work. showering then go...</td>\n",
       "      <td>worked car work showing going bed sooooooooooo...</td>\n",
       "    </tr>\n",
       "    <tr>\n",
       "      <th>3</th>\n",
       "      <td>1</td>\n",
       "      <td>Sun Jun 14 22:25:52 2009</td>\n",
       "      <td>@Marama Actually we start this afternoon!  I w...</td>\n",
       "      <td>user actually start afternoon try something we...</td>\n",
       "    </tr>\n",
       "    <tr>\n",
       "      <th>4</th>\n",
       "      <td>1</td>\n",
       "      <td>Sun May 31 00:42:12 2009</td>\n",
       "      <td>@gfalcone601 Aww Gi.don't worry.we'll vote for...</td>\n",
       "      <td>user www giant worrywell vote nonstop col love...</td>\n",
       "    </tr>\n",
       "    <tr>\n",
       "      <th>...</th>\n",
       "      <td>...</td>\n",
       "      <td>...</td>\n",
       "      <td>...</td>\n",
       "      <td>...</td>\n",
       "    </tr>\n",
       "    <tr>\n",
       "      <th>4282</th>\n",
       "      <td>1</td>\n",
       "      <td>Sat Jun 06 22:45:26 2009</td>\n",
       "      <td>@QandQ My performances on my CLEP tests.  #qshock</td>\n",
       "      <td>user performance clip test shock</td>\n",
       "    </tr>\n",
       "    <tr>\n",
       "      <th>4283</th>\n",
       "      <td>0</td>\n",
       "      <td>Tue Jun 16 10:17:07 2009</td>\n",
       "      <td>ugh no, rcn had all the true blood episodes on...</td>\n",
       "      <td>gh rcn true blood episode demand 1013</td>\n",
       "    </tr>\n",
       "    <tr>\n",
       "      <th>4284</th>\n",
       "      <td>1</td>\n",
       "      <td>Fri May 01 22:00:42 2009</td>\n",
       "      <td>Just returned from the forest! Sarah (my merch...</td>\n",
       "      <td>returned forest sarah mercy lost key wood day</td>\n",
       "    </tr>\n",
       "    <tr>\n",
       "      <th>4285</th>\n",
       "      <td>1</td>\n",
       "      <td>Sun Jun 07 02:09:46 2009</td>\n",
       "      <td>is proud of her dad and his piece of work. ( h...</td>\n",
       "      <td>proud dad piece work user keep papa</td>\n",
       "    </tr>\n",
       "    <tr>\n",
       "      <th>4286</th>\n",
       "      <td>0</td>\n",
       "      <td>Fri May 22 04:49:37 2009</td>\n",
       "      <td>Just woke up, gonna eat pizza for breakfast. A...</td>\n",
       "      <td>woke gonna eat pizza breakfast also dentist ap...</td>\n",
       "    </tr>\n",
       "  </tbody>\n",
       "</table>\n",
       "<p>4287 rows × 4 columns</p>\n",
       "</div>"
      ],
      "text/plain": [
       "      LABEL                 DATE_TIME  \\\n",
       "0         0  Fri Jun 05 14:26:50 2009   \n",
       "1         1  Thu May 14 10:13:55 2009   \n",
       "2         1  Fri Jun 05 21:02:20 2009   \n",
       "3         1  Sun Jun 14 22:25:52 2009   \n",
       "4         1  Sun May 31 00:42:12 2009   \n",
       "...     ...                       ...   \n",
       "4282      1  Sat Jun 06 22:45:26 2009   \n",
       "4283      0  Tue Jun 16 10:17:07 2009   \n",
       "4284      1  Fri May 01 22:00:42 2009   \n",
       "4285      1  Sun Jun 07 02:09:46 2009   \n",
       "4286      0  Fri May 22 04:49:37 2009   \n",
       "\n",
       "                                                   TEXT  \\\n",
       "0                     About to get threaded and scared    \n",
       "1     @awaisnaseer I like Shezan Mangooo too!!! I ha...   \n",
       "2     worked on my car after work. showering then go...   \n",
       "3     @Marama Actually we start this afternoon!  I w...   \n",
       "4     @gfalcone601 Aww Gi.don't worry.we'll vote for...   \n",
       "...                                                 ...   \n",
       "4282  @QandQ My performances on my CLEP tests.  #qshock   \n",
       "4283  ugh no, rcn had all the true blood episodes on...   \n",
       "4284  Just returned from the forest! Sarah (my merch...   \n",
       "4285  is proud of her dad and his piece of work. ( h...   \n",
       "4286  Just woke up, gonna eat pizza for breakfast. A...   \n",
       "\n",
       "                                      PREPROCESSED_TEXT  \n",
       "0                                   get threaded scared  \n",
       "1                   user like sedan mango one yesterday  \n",
       "2     worked car work showing going bed sooooooooooo...  \n",
       "3     user actually start afternoon try something we...  \n",
       "4     user www giant worrywell vote nonstop col love...  \n",
       "...                                                 ...  \n",
       "4282                   user performance clip test shock  \n",
       "4283              gh rcn true blood episode demand 1013  \n",
       "4284      returned forest sarah mercy lost key wood day  \n",
       "4285                proud dad piece work user keep papa  \n",
       "4286  woke gonna eat pizza breakfast also dentist ap...  \n",
       "\n",
       "[4287 rows x 4 columns]"
      ]
     },
     "execution_count": 162,
     "metadata": {},
     "output_type": "execute_result"
    }
   ],
   "source": [
    "df"
   ]
  },
  {
   "cell_type": "code",
   "execution_count": 196,
   "id": "ebe74cfc",
   "metadata": {},
   "outputs": [
    {
     "data": {
      "text/plain": [
       "LABEL                0\n",
       "DATE_TIME            0\n",
       "TEXT                 0\n",
       "PREPROCESSED_TEXT    0\n",
       "dtype: int64"
      ]
     },
     "execution_count": 196,
     "metadata": {},
     "output_type": "execute_result"
    }
   ],
   "source": [
    "df.isna().sum(axis=0)"
   ]
  },
  {
   "cell_type": "code",
   "execution_count": 197,
   "id": "923ea2e7",
   "metadata": {},
   "outputs": [],
   "source": [
    "df.to_csv('PreProcessed.csv')"
   ]
  },
  {
   "cell_type": "code",
   "execution_count": 198,
   "id": "4536e346",
   "metadata": {},
   "outputs": [],
   "source": [
    "df2 = pd.read_csv('PreProcessed.csv')"
   ]
  },
  {
   "cell_type": "code",
   "execution_count": 199,
   "id": "ac64fcd3",
   "metadata": {},
   "outputs": [],
   "source": [
    "df2 = df2.fillna(\"\")"
   ]
  },
  {
   "cell_type": "markdown",
   "id": "2d9e3d6d",
   "metadata": {},
   "source": [
    "---"
   ]
  },
  {
   "cell_type": "markdown",
   "id": "d8cd79c5",
   "metadata": {},
   "source": [
    "### III) Visualization"
   ]
  },
  {
   "cell_type": "code",
   "execution_count": 176,
   "id": "ceac15f9",
   "metadata": {},
   "outputs": [],
   "source": [
    "from wordcloud import WordCloud\n",
    "import matplotlib.pyplot as plt"
   ]
  },
  {
   "cell_type": "markdown",
   "id": "28a46cb3",
   "metadata": {},
   "source": [
    "#### a) Word Clouds of both classes"
   ]
  },
  {
   "cell_type": "code",
   "execution_count": null,
   "id": "4bfde07b",
   "metadata": {},
   "outputs": [],
   "source": []
  },
  {
   "cell_type": "code",
   "execution_count": 177,
   "id": "192ac359",
   "metadata": {
    "scrolled": true
   },
   "outputs": [],
   "source": [
    "positive_preprocessed_text = df[\"PREPROCESSED_TEXT\"][df.LABEL==1]\n",
    "negative_preprocessed_text = df[\"PREPROCESSED_TEXT\"][df.LABEL==0]"
   ]
  },
  {
   "cell_type": "code",
   "execution_count": 178,
   "id": "0502c59e",
   "metadata": {
    "scrolled": true
   },
   "outputs": [],
   "source": [
    "positive_preprocessed_text = ' '.join(positive_preprocessed_text.values)"
   ]
  },
  {
   "cell_type": "code",
   "execution_count": 179,
   "id": "91075f5d",
   "metadata": {},
   "outputs": [],
   "source": [
    "wordcloud = WordCloud(width = 1500, height = 720,\n",
    "                background_color ='black',\n",
    "                min_font_size = 10).generate(positive_preprocessed_text)"
   ]
  },
  {
   "cell_type": "code",
   "execution_count": 180,
   "id": "5e9fac8a",
   "metadata": {
    "scrolled": true
   },
   "outputs": [
    {
     "data": {
      "image/png": "[encoded data removed]",
      "text/plain": [
       "<Figure size 432x288 with 1 Axes>"
      ]
     },
     "metadata": {
      "needs_background": "light"
     },
     "output_type": "display_data"
    }
   ],
   "source": [
    "plt.axis(\"off\")\n",
    "plt.imshow(wordcloud, interpolation=\"bilinear\")\n",
    "plt.show()"
   ]
  },
  {
   "cell_type": "code",
   "execution_count": 181,
   "id": "4c4638db",
   "metadata": {},
   "outputs": [],
   "source": [
    "negative_preprocessed_text = ' '.join(negative_preprocessed_text.values)"
   ]
  },
  {
   "cell_type": "code",
   "execution_count": 182,
   "id": "f67834bf",
   "metadata": {},
   "outputs": [],
   "source": [
    "wordcloud = WordCloud(width = 1500, height = 720,\n",
    "                background_color ='black',\n",
    "                min_font_size = 10).generate(negative_preprocessed_text)"
   ]
  },
  {
   "cell_type": "code",
   "execution_count": 183,
   "id": "1e2e6ab1",
   "metadata": {},
   "outputs": [
    {
     "data": {
      "image/png": "[encoded data removed]",
      "text/plain": [
       "<Figure size 432x288 with 1 Axes>"
      ]
     },
     "metadata": {
      "needs_background": "light"
     },
     "output_type": "display_data"
    }
   ],
   "source": [
    "plt.axis(\"off\")\n",
    "plt.imshow(wordcloud, interpolation=\"bilinear\")\n",
    "plt.show()"
   ]
  },
  {
   "cell_type": "markdown",
   "id": "874c5c41",
   "metadata": {},
   "source": [
    "#### b) Comparing both Word Clouds"
   ]
  },
  {
   "cell_type": "code",
   "execution_count": null,
   "id": "edf6c78b",
   "metadata": {},
   "outputs": [],
   "source": []
  },
  {
   "cell_type": "markdown",
   "id": "4900451d",
   "metadata": {},
   "source": [
    "---"
   ]
  },
  {
   "cell_type": "markdown",
   "id": "6136fa57",
   "metadata": {},
   "source": [
    "### IV) Rule-Based Sentiment Analysis"
   ]
  },
  {
   "cell_type": "code",
   "execution_count": 184,
   "id": "68d272d7",
   "metadata": {},
   "outputs": [],
   "source": [
    "from nltk.sentiment.vader import SentimentIntensityAnalyzer"
   ]
  },
  {
   "cell_type": "markdown",
   "id": "c2f03215",
   "metadata": {},
   "source": [
    "#### a) Retrieving Class Label for every instance"
   ]
  },
  {
   "cell_type": "code",
   "execution_count": 185,
   "id": "f7e2f5ee",
   "metadata": {},
   "outputs": [],
   "source": [
    "sid = SentimentIntensityAnalyzer()"
   ]
  },
  {
   "cell_type": "code",
   "execution_count": 186,
   "id": "4f2ee687",
   "metadata": {},
   "outputs": [],
   "source": [
    "def retrieve_label(y_pred):\n",
    "    label = int(y_pred[\"pos\"] >= y_pred[\"neg\"])\n",
    "    return label"
   ]
  },
  {
   "cell_type": "code",
   "execution_count": 188,
   "id": "44a3f777",
   "metadata": {},
   "outputs": [
    {
     "data": {
      "text/plain": [
       "{'neg': 1.0, 'neu': 0.0, 'pos': 0.0, 'compound': -0.5719}"
      ]
     },
     "execution_count": 188,
     "metadata": {},
     "output_type": "execute_result"
    }
   ],
   "source": [
    "sid.polarity_scores(\"I hate h\")"
   ]
  },
  {
   "cell_type": "markdown",
   "id": "01c90d7f",
   "metadata": {},
   "source": [
    "##### i) On preprocessed text"
   ]
  },
  {
   "cell_type": "code",
   "execution_count": 189,
   "id": "682dc7c6",
   "metadata": {},
   "outputs": [],
   "source": [
    "prptext_labels = []\n",
    "for each_text in df[\"PREPROCESSED_TEXT\"].values:\n",
    "    sentiment_pred = sid.polarity_scores(each_text)\n",
    "    prptext_labels.append(retrieve_label(sentiment_pred))\n",
    "prptext_labels = np.array(prptext_labels)"
   ]
  },
  {
   "cell_type": "markdown",
   "id": "4bd3c286",
   "metadata": {},
   "source": [
    "##### ii) On raw text"
   ]
  },
  {
   "cell_type": "code",
   "execution_count": 190,
   "id": "2d69c6fb",
   "metadata": {},
   "outputs": [],
   "source": [
    "rawtxt_labels = []\n",
    "for each_text in df[\"TEXT\"].values:\n",
    "    sentiment_pred = sid.polarity_scores(each_text)\n",
    "    rawtxt_labels.append(retrieve_label(sentiment_pred))\n",
    "rawtxt_labels = np.array(rawtxt_labels)"
   ]
  },
  {
   "cell_type": "markdown",
   "id": "f7ac0b00",
   "metadata": {},
   "source": [
    "#### b) Get accuracy scores"
   ]
  },
  {
   "cell_type": "code",
   "execution_count": 191,
   "id": "8a5cebfa",
   "metadata": {},
   "outputs": [],
   "source": [
    "y = df[\"LABEL\"].values"
   ]
  },
  {
   "cell_type": "code",
   "execution_count": 192,
   "id": "a49bd64a",
   "metadata": {},
   "outputs": [],
   "source": [
    "def get_accuracy(y_preds, y):\n",
    "    no_instances = len(y)\n",
    "    return sum(y_preds==y)/no_instances"
   ]
  },
  {
   "cell_type": "markdown",
   "id": "c1a4915b",
   "metadata": {},
   "source": [
    "##### i) Of preprocessed text"
   ]
  },
  {
   "cell_type": "code",
   "execution_count": 193,
   "id": "21d5355d",
   "metadata": {
    "scrolled": true
   },
   "outputs": [
    {
     "name": "stdout",
     "output_type": "stream",
     "text": [
      "The accuracy score of labels calculated on the preprocessed text is:  0.6641007697690693\n"
     ]
    }
   ],
   "source": [
    "print(\"The accuracy score of labels calculated on the preprocessed text is: \", get_accuracy(prptext_labels, y))"
   ]
  },
  {
   "cell_type": "markdown",
   "id": "99822cd3",
   "metadata": {},
   "source": [
    "##### ii) Of raw text"
   ]
  },
  {
   "cell_type": "code",
   "execution_count": 194,
   "id": "a4f2a62b",
   "metadata": {
    "scrolled": true
   },
   "outputs": [
    {
     "name": "stdout",
     "output_type": "stream",
     "text": [
      "The accuracy score of labels calculated on the raw text is:  0.6846279449498484\n"
     ]
    }
   ],
   "source": [
    "print(\"The accuracy score of labels calculated on the raw text is: \", get_accuracy(rawtxt_labels, y))"
   ]
  },
  {
   "cell_type": "code",
   "execution_count": null,
   "id": "4e02c4a0",
   "metadata": {},
   "outputs": [],
   "source": []
  }
 ],
 "metadata": {
  "colab": {
   "provenance": []
  },
  "kernelspec": {
   "display_name": "Python 3 (ipykernel)",
   "language": "python",
   "name": "python3"
  },
  "language_info": {
   "codemirror_mode": {
    "name": "ipython",
    "version": 3
   },
   "file_extension": ".py",
   "mimetype": "text/x-python",
   "name": "python",
   "nbconvert_exporter": "python",
   "pygments_lexer": "ipython3",
   "version": "3.9.13"
  }
 },
 "nbformat": 4,
 "nbformat_minor": 5
}
