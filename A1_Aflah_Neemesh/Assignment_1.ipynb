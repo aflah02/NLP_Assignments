{
 "cells": [
  {
   "cell_type": "markdown",
   "id": "64e0100a",
   "metadata": {
    "id": "64e0100a"
   },
   "source": [
    "# Assignment 1"
   ]
  },
  {
   "cell_type": "code",
   "execution_count": 63,
   "id": "17c1803a",
   "metadata": {
    "scrolled": true
   },
   "outputs": [
    {
     "name": "stdout",
     "output_type": "stream",
     "text": [
      "Requirement already satisfied: wordcloud in c:\\kyodestuff\\anaconda\\envs\\venv\\lib\\site-packages (1.8.2.2)\n",
      "Requirement already satisfied: numpy>=1.6.1 in c:\\kyodestuff\\anaconda\\envs\\venv\\lib\\site-packages (from wordcloud) (1.23.3)\n",
      "Requirement already satisfied: pillow in c:\\kyodestuff\\anaconda\\envs\\venv\\lib\\site-packages (from wordcloud) (9.2.0)\n",
      "Requirement already satisfied: matplotlib in c:\\kyodestuff\\anaconda\\envs\\venv\\lib\\site-packages (from wordcloud) (3.5.3)\n",
      "Requirement already satisfied: cycler>=0.10 in c:\\kyodestuff\\anaconda\\envs\\venv\\lib\\site-packages (from matplotlib->wordcloud) (0.11.0)\n",
      "Requirement already satisfied: packaging>=20.0 in c:\\kyodestuff\\anaconda\\envs\\venv\\lib\\site-packages (from matplotlib->wordcloud) (21.3)\n",
      "Requirement already satisfied: pyparsing>=2.2.1 in c:\\kyodestuff\\anaconda\\envs\\venv\\lib\\site-packages (from matplotlib->wordcloud) (3.0.9)\n",
      "Requirement already satisfied: python-dateutil>=2.7 in c:\\kyodestuff\\anaconda\\envs\\venv\\lib\\site-packages (from matplotlib->wordcloud) (2.8.2)\n",
      "Requirement already satisfied: fonttools>=4.22.0 in c:\\kyodestuff\\anaconda\\envs\\venv\\lib\\site-packages (from matplotlib->wordcloud) (4.37.1)\n",
      "Requirement already satisfied: kiwisolver>=1.0.1 in c:\\kyodestuff\\anaconda\\envs\\venv\\lib\\site-packages (from matplotlib->wordcloud) (1.4.4)\n",
      "Requirement already satisfied: six>=1.5 in c:\\kyodestuff\\anaconda\\envs\\venv\\lib\\site-packages (from python-dateutil>=2.7->matplotlib->wordcloud) (1.16.0)\n"
     ]
    }
   ],
   "source": [
    "!pip install wordcloud"
   ]
  },
  {
   "cell_type": "code",
   "execution_count": 64,
   "id": "6da9f49e",
   "metadata": {
    "id": "6da9f49e"
   },
   "outputs": [],
   "source": [
    "import re\n",
    "import pandas as pd\n",
    "import nltk"
   ]
  },
  {
   "cell_type": "code",
   "execution_count": 65,
   "id": "ouo7j7FBhgPg",
   "metadata": {
    "colab": {
     "base_uri": "https://localhost:8080/"
    },
    "id": "ouo7j7FBhgPg",
    "outputId": "2b9b1d29-bc85-4eda-e6e3-68d0fdc64d31"
   },
   "outputs": [
    {
     "name": "stderr",
     "output_type": "stream",
     "text": [
      "[nltk_data] Downloading package stopwords to\n",
      "[nltk_data]     C:\\Users\\gener\\AppData\\Roaming\\nltk_data...\n",
      "[nltk_data]   Package stopwords is already up-to-date!\n",
      "[nltk_data] Downloading package words to\n",
      "[nltk_data]     C:\\Users\\gener\\AppData\\Roaming\\nltk_data...\n",
      "[nltk_data]   Package words is already up-to-date!\n",
      "[nltk_data] Downloading package wordnet to\n",
      "[nltk_data]     C:\\Users\\gener\\AppData\\Roaming\\nltk_data...\n",
      "[nltk_data]   Package wordnet is already up-to-date!\n",
      "[nltk_data] Downloading package omw-1.4 to\n",
      "[nltk_data]     C:\\Users\\gener\\AppData\\Roaming\\nltk_data...\n",
      "[nltk_data]   Package omw-1.4 is already up-to-date!\n"
     ]
    },
    {
     "data": {
      "text/plain": [
       "True"
      ]
     },
     "execution_count": 65,
     "metadata": {},
     "output_type": "execute_result"
    }
   ],
   "source": [
    "nltk.download(\"stopwords\")\n",
    "nltk.download(\"words\")\n",
    "nltk.download(\"wordnet\")\n",
    "nltk.download('omw-1.4')"
   ]
  },
  {
   "cell_type": "code",
   "execution_count": 66,
   "id": "50e6ec41",
   "metadata": {
    "id": "50e6ec41"
   },
   "outputs": [],
   "source": [
    "df = pd.read_csv(\"A1_dataset.csv\")"
   ]
  },
  {
   "cell_type": "code",
   "execution_count": 67,
   "id": "c4f016af",
   "metadata": {
    "id": "c4f016af"
   },
   "outputs": [
    {
     "data": {
      "text/html": [
       "<div>\n",
       "<style scoped>\n",
       "    .dataframe tbody tr th:only-of-type {\n",
       "        vertical-align: middle;\n",
       "    }\n",
       "\n",
       "    .dataframe tbody tr th {\n",
       "        vertical-align: top;\n",
       "    }\n",
       "\n",
       "    .dataframe thead th {\n",
       "        text-align: right;\n",
       "    }\n",
       "</style>\n",
       "<table border=\"1\" class=\"dataframe\">\n",
       "  <thead>\n",
       "    <tr style=\"text-align: right;\">\n",
       "      <th></th>\n",
       "      <th>LABEL</th>\n",
       "      <th>DATE_TIME</th>\n",
       "      <th>TEXT</th>\n",
       "    </tr>\n",
       "  </thead>\n",
       "  <tbody>\n",
       "    <tr>\n",
       "      <th>0</th>\n",
       "      <td>0</td>\n",
       "      <td>Fri Jun 05 14:26:50 2009</td>\n",
       "      <td>About to get threaded and scared</td>\n",
       "    </tr>\n",
       "    <tr>\n",
       "      <th>1</th>\n",
       "      <td>1</td>\n",
       "      <td>Thu May 14 10:13:55 2009</td>\n",
       "      <td>@awaisnaseer I like Shezan Mangooo too!!! I ha...</td>\n",
       "    </tr>\n",
       "    <tr>\n",
       "      <th>2</th>\n",
       "      <td>1</td>\n",
       "      <td>Fri Jun 05 21:02:20 2009</td>\n",
       "      <td>worked on my car after work. showering then go...</td>\n",
       "    </tr>\n",
       "    <tr>\n",
       "      <th>3</th>\n",
       "      <td>1</td>\n",
       "      <td>Sun Jun 14 22:25:52 2009</td>\n",
       "      <td>@Marama Actually we start this afternoon!  I w...</td>\n",
       "    </tr>\n",
       "    <tr>\n",
       "      <th>4</th>\n",
       "      <td>1</td>\n",
       "      <td>Sun May 31 00:42:12 2009</td>\n",
       "      <td>@gfalcone601 Aww Gi.don't worry.we'll vote for...</td>\n",
       "    </tr>\n",
       "  </tbody>\n",
       "</table>\n",
       "</div>"
      ],
      "text/plain": [
       "   LABEL                 DATE_TIME  \\\n",
       "0      0  Fri Jun 05 14:26:50 2009   \n",
       "1      1  Thu May 14 10:13:55 2009   \n",
       "2      1  Fri Jun 05 21:02:20 2009   \n",
       "3      1  Sun Jun 14 22:25:52 2009   \n",
       "4      1  Sun May 31 00:42:12 2009   \n",
       "\n",
       "                                                TEXT  \n",
       "0                  About to get threaded and scared   \n",
       "1  @awaisnaseer I like Shezan Mangooo too!!! I ha...  \n",
       "2  worked on my car after work. showering then go...  \n",
       "3  @Marama Actually we start this afternoon!  I w...  \n",
       "4  @gfalcone601 Aww Gi.don't worry.we'll vote for...  "
      ]
     },
     "execution_count": 67,
     "metadata": {},
     "output_type": "execute_result"
    }
   ],
   "source": [
    "df.head()"
   ]
  },
  {
   "cell_type": "markdown",
   "id": "07d84008",
   "metadata": {
    "id": "07d84008"
   },
   "source": [
    "### II) Text Preprocessing"
   ]
  },
  {
   "cell_type": "code",
   "execution_count": 68,
   "id": "a7f0ad1f",
   "metadata": {
    "id": "a7f0ad1f"
   },
   "outputs": [],
   "source": [
    "from nltk.tokenize import TweetTokenizer\n",
    "\n",
    "def tokenization(text):\n",
    "    twt_tk = TweetTokenizer()\n",
    "    return ' '.join(twt_tk.tokenize(text))"
   ]
  },
  {
   "cell_type": "code",
   "execution_count": 112,
   "id": "d270225c",
   "metadata": {
    "id": "d270225c"
   },
   "outputs": [],
   "source": [
    "# Can use Jaccard distance or edit distance to do this\n",
    "from nltk.metrics.distance import jaccard_distance, edit_distance\n",
    "from nltk.corpus import words\n",
    "\n",
    "wrd = words.words()\n",
    "\n",
    "# Spelling correction using jaccard distance\n",
    "def spelling_correction_jaccard(text):\n",
    "    res = []\n",
    "    for curr in text:\n",
    "        if curr not in wrd:\n",
    "            crrct_words = []\n",
    "            for w in wrd:\n",
    "                crrct_words.append([jaccard_distance(set(w), set(curr)), w])\n",
    "            crrct_words = sorted(crrct_words, key = lambda x: x[0])\n",
    "            res.append(crrct_words[0][1][0])\n",
    "        else:\n",
    "            res.append(curr)\n",
    "    return ' '.join(res)\n",
    "\n",
    "# Spelling correction using edit distance\n",
    "def spelling_correction_edit(text):\n",
    "    res = []\n",
    "    for curr in text:\n",
    "        if curr not in wrd:\n",
    "            crrct_words = []\n",
    "            for w in wrd:\n",
    "                crrct_words.append([edit_distance(w, curr), w])\n",
    "            crrct_words = sorted(crrct_words, key = lambda x: x[0])\n",
    "            res.append(crrct_words[0][1])\n",
    "        else:\n",
    "            res.append(curr)\n",
    "    return ' '.join(res)"
   ]
  },
  {
   "cell_type": "code",
   "execution_count": 113,
   "id": "5d87a48e",
   "metadata": {},
   "outputs": [
    {
     "data": {
      "text/plain": [
       "('h good', 'hello good')"
      ]
     },
     "execution_count": 113,
     "metadata": {},
     "output_type": "execute_result"
    }
   ],
   "source": [
    "spelling_correction_jaccard([\"helllo\", \"good\"]), spelling_correction_edit([\"helllo\", \"good\"])\n",
    "\n",
    "#As we can see from the results below that the corrected words we get using edit distance are\n",
    "#far better than the ones we get from jaccard distance"
   ]
  },
  {
   "cell_type": "code",
   "execution_count": 71,
   "id": "553f11fa",
   "metadata": {
    "id": "553f11fa"
   },
   "outputs": [],
   "source": [
    "#Here we can either do lemmatization or stemming, doing both at the same time will not be useful\n",
    "\n",
    "from nltk.stem import WordNetLemmatizer, PorterStemmer\n",
    "\n",
    "def lemmatization_text(text):\n",
    "    wn = WordNetLemmatizer()\n",
    "    res = []\n",
    "    for each in text:\n",
    "        lemmatized_text = wn.lemmatize(each)\n",
    "        res.append(lemmatized_text)\n",
    "    return res\n",
    "\n",
    "def stemming_text(text):\n",
    "    res = []\n",
    "    ps = PorterStemmer()\n",
    "    for each in text:\n",
    "        stemmed_text = ps.stem(each)\n",
    "        res.append(stemmed_text)\n",
    "    return res"
   ]
  },
  {
   "cell_type": "code",
   "execution_count": 72,
   "id": "a705cafd",
   "metadata": {},
   "outputs": [
    {
     "data": {
      "text/plain": [
       "(['dog', 'becomes'], ['dog', 'becom'])"
      ]
     },
     "execution_count": 72,
     "metadata": {},
     "output_type": "execute_result"
    }
   ],
   "source": [
    "lemmatization_text([\"dogs\", \"becomes\"]), stemming_text([\"dogs\", \"becomes\"])"
   ]
  },
  {
   "cell_type": "code",
   "execution_count": 73,
   "id": "3288d974",
   "metadata": {
    "id": "3288d974"
   },
   "outputs": [],
   "source": [
    "import string\n",
    "\n",
    "def remove_punctuations(text):\n",
    "    puncts = string.punctuation\n",
    "    return ''.join(re.split(\"[\" + puncts + \"]\", text))"
   ]
  },
  {
   "cell_type": "code",
   "execution_count": 74,
   "id": "c7767f59",
   "metadata": {},
   "outputs": [
    {
     "name": "stdout",
     "output_type": "stream",
     "text": [
      "Punctuations:  !\"#$%&'()*+,-./:;<=>?@[\\]^_`{|}~\n"
     ]
    },
    {
     "data": {
      "text/plain": [
       "'lesgoooo whooohooo'"
      ]
     },
     "execution_count": 74,
     "metadata": {},
     "output_type": "execute_result"
    }
   ],
   "source": [
    "print(\"Punctuations: \", string.punctuation)\n",
    "remove_punctuations(\"lesgoooo!!!!!?!??!! whooohooo!\")"
   ]
  },
  {
   "cell_type": "code",
   "execution_count": 75,
   "id": "9dc21a70",
   "metadata": {
    "colab": {
     "base_uri": "https://localhost:8080/"
    },
    "id": "9dc21a70",
    "outputId": "db3f5680-9af7-4e25-cd9c-173511dded97"
   },
   "outputs": [],
   "source": [
    "from nltk.corpus import stopwords\n",
    "\n",
    "def remove_stopwords(text):\n",
    "    pattern = re.compile(r'\\b(' + (r'|'.join(stopwords.words(\"english\"))) + r')\\b\\s*')\n",
    "    return pattern.sub('', text)"
   ]
  },
  {
   "cell_type": "code",
   "execution_count": 76,
   "id": "9887901e",
   "metadata": {
    "id": "9887901e",
    "outputId": "efff88b0-b1a8-4507-edc1-461a2bc6a07c"
   },
   "outputs": [
    {
     "data": {
      "text/plain": [
       "'name '"
      ]
     },
     "execution_count": 76,
     "metadata": {},
     "output_type": "execute_result"
    }
   ],
   "source": [
    "remove_stopwords(\"the is when am i the when the when name is\")"
   ]
  },
  {
   "cell_type": "code",
   "execution_count": 77,
   "id": "64bb7a09",
   "metadata": {
    "id": "64bb7a09"
   },
   "outputs": [],
   "source": [
    "def remove_whitespaces(text):\n",
    "    return re.sub(r'\\s*\\s', ' ', text).split()"
   ]
  },
  {
   "cell_type": "code",
   "execution_count": 78,
   "id": "f85fb229",
   "metadata": {
    "colab": {
     "base_uri": "https://localhost:8080/",
     "height": 35
    },
    "id": "f85fb229",
    "outputId": "a985ebe7-f1cb-40c2-fedf-a5e3bb89f07d"
   },
   "outputs": [
    {
     "data": {
      "text/plain": [
       "['whoa', 'a', 's', 'f']"
      ]
     },
     "execution_count": 78,
     "metadata": {},
     "output_type": "execute_result"
    }
   ],
   "source": [
    "remove_whitespaces(\"whoa a    s f\")"
   ]
  },
  {
   "cell_type": "code",
   "execution_count": 79,
   "id": "0ac4f51f",
   "metadata": {
    "id": "0ac4f51f"
   },
   "outputs": [],
   "source": [
    "def remove_url_html(text):\n",
    "    text = text.lower()\n",
    "    text = re.sub('(?:http://|https://)?[A-Za-z0-9_]+\\.[A-Za-z0-9_]{2,}[\\.A-Za-z0-9_]*[/?[A-Za-z0-9_]*]*\\.?[A-Za-z0-9_]*\\\\b', '', text)\n",
    "    return text"
   ]
  },
  {
   "cell_type": "code",
   "execution_count": 80,
   "id": "4cf479b6",
   "metadata": {
    "colab": {
     "base_uri": "https://localhost:8080/",
     "height": 52
    },
    "id": "4cf479b6",
    "outputId": "dfbf9e6c-c056-4e7d-da42-730d196200ed"
   },
   "outputs": [
    {
     "data": {
      "text/plain": [
       "'something so beautiful i want to share with my tweeter friends  '"
      ]
     },
     "execution_count": 80,
     "metadata": {},
     "output_type": "execute_result"
    }
   ],
   "source": [
    "remove_url_html('Something so beautiful I want to share with my tweeter friends  http://www.spiritisup.com/ahuginyourinboxgmb.html')"
   ]
  },
  {
   "cell_type": "markdown",
   "id": "d8cd79c5",
   "metadata": {},
   "source": [
    "### III) Visualization"
   ]
  },
  {
   "cell_type": "code",
   "execution_count": 115,
   "id": "59e23f91",
   "metadata": {},
   "outputs": [],
   "source": [
    "# Here we prefer to perform lemmatization over stemming so that the words don't lose their inherent meaning\n",
    "# and we perform spelling correction using the edit_distance metric in nltk, this is mainly because of the results shown above\n",
    "# comparing the jaccard distance and the edit distance method.\n",
    "\n",
    "def preprocess_text(text):\n",
    "    text = tokenization(text)\n",
    "    text = remove_url_html(text)\n",
    "    text = remove_punctuations(text)\n",
    "    text = remove_whitespaces(text)\n",
    "    text = spelling_correction_edit(text)\n",
    "    text = remove_stopwords(text)\n",
    "    text = ''.join(lemmatization_text(text))\n",
    "    return text"
   ]
  },
  {
   "cell_type": "code",
   "execution_count": null,
   "id": "e84e5b74",
   "metadata": {
    "scrolled": true
   },
   "outputs": [],
   "source": [
    "df[\"TEXT\"] = df[\"TEXT\"].apply(lambda row: preprocess_text(row))"
   ]
  },
  {
   "cell_type": "code",
   "execution_count": null,
   "id": "524d33b2",
   "metadata": {},
   "outputs": [],
   "source": [
    "preprocessed_text = ' '.join(df[\"TEXT\"])"
   ]
  },
  {
   "cell_type": "code",
   "execution_count": 103,
   "id": "ceac15f9",
   "metadata": {},
   "outputs": [],
   "source": [
    "from wordcloud import WordCloud\n",
    "import matplotlib.pyplot as plt"
   ]
  },
  {
   "cell_type": "code",
   "execution_count": null,
   "id": "91075f5d",
   "metadata": {},
   "outputs": [],
   "source": [
    "wordcloud = WordCloud(width = 1500, height = 720,\n",
    "                background_color ='black',\n",
    "                min_font_size = 10).generate(preprocessed_text)"
   ]
  },
  {
   "cell_type": "code",
   "execution_count": null,
   "id": "5e9fac8a",
   "metadata": {},
   "outputs": [],
   "source": [
    "plt.axis(\"off\")\n",
    "plt.imshow(wordcloud, interpolation=\"bilinear\")\n",
    "plt.show()"
   ]
  },
  {
   "cell_type": "code",
   "execution_count": null,
   "id": "190d2449",
   "metadata": {},
   "outputs": [],
   "source": []
  }
 ],
 "metadata": {
  "colab": {
   "provenance": []
  },
  "kernelspec": {
   "display_name": "Python 3 (ipykernel)",
   "language": "python",
   "name": "python3"
  },
  "language_info": {
   "codemirror_mode": {
    "name": "ipython",
    "version": 3
   },
   "file_extension": ".py",
   "mimetype": "text/x-python",
   "name": "python",
   "nbconvert_exporter": "python",
   "pygments_lexer": "ipython3",
   "version": "3.9.12"
  }
 },
 "nbformat": 4,
 "nbformat_minor": 5
}
