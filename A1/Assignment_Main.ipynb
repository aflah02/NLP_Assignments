{
 "cells": [
  {
   "cell_type": "code",
   "execution_count": 206,
   "metadata": {},
   "outputs": [
    {
     "name": "stderr",
     "output_type": "stream",
     "text": [
      "\n",
      "[notice] A new release of pip available: 22.2.1 -> 22.2.2\n",
      "[notice] To update, run: C:\\Users\\ASUS\\AppData\\Local\\Microsoft\\WindowsApps\\PythonSoftwareFoundation.Python.3.9_qbz5n2kfra8p0\\python.exe -m pip install --upgrade pip\n",
      "\n",
      "[notice] A new release of pip available: 22.2.1 -> 22.2.2\n",
      "[notice] To update, run: C:\\Users\\ASUS\\AppData\\Local\\Microsoft\\WindowsApps\\PythonSoftwareFoundation.Python.3.9_qbz5n2kfra8p0\\python.exe -m pip install --upgrade pip\n",
      "\n",
      "[notice] A new release of pip available: 22.2.1 -> 22.2.2\n",
      "[notice] To update, run: C:\\Users\\ASUS\\AppData\\Local\\Microsoft\\WindowsApps\\PythonSoftwareFoundation.Python.3.9_qbz5n2kfra8p0\\python.exe -m pip install --upgrade pip\n",
      "\n",
      "[notice] A new release of pip available: 22.2.1 -> 22.2.2\n",
      "[notice] To update, run: C:\\Users\\ASUS\\AppData\\Local\\Microsoft\\WindowsApps\\PythonSoftwareFoundation.Python.3.9_qbz5n2kfra8p0\\python.exe -m pip install --upgrade pip\n",
      "\n",
      "[notice] A new release of pip available: 22.2.1 -> 22.2.2\n",
      "[notice] To update, run: C:\\Users\\ASUS\\AppData\\Local\\Microsoft\\WindowsApps\\PythonSoftwareFoundation.Python.3.9_qbz5n2kfra8p0\\python.exe -m pip install --upgrade pip\n"
     ]
    }
   ],
   "source": [
    "!pip install wordcloud -q\n",
    "!pip install autocorrect -q\n",
    "!pip install nltk -q\n",
    "!pip install tqdm -q\n",
    "!pip install textblob -q"
   ]
  },
  {
   "cell_type": "code",
   "execution_count": 114,
   "metadata": {
    "id": "xURHYz8XsLoR"
   },
   "outputs": [],
   "source": [
    "import pandas as pd\n",
    "import re\n",
    "from nltk.sentiment.vader import SentimentIntensityAnalyzer\n",
    "from wordcloud import WordCloud\n",
    "from nltk.metrics.distance import jaccard_distance, edit_distance\n",
    "from autocorrect import Speller\n",
    "import string\n",
    "from nltk.corpus import stopwords\n",
    "from nltk.corpus import wordnet as wn\n",
    "import matplotlib.pyplot as plt\n",
    "from nltk.stem import WordNetLemmatizer, PorterStemmer\n",
    "import nltk\n",
    "from nltk.tokenize import TweetTokenizer\n",
    "import numpy as np\n",
    "from tqdm.notebook import tqdm\n",
    "tqdm.pandas()\n",
    "from textblob import TextBlob\n",
    "# customregexes.py contains all the regex functions used for all parts\n",
    "from customregexes import *"
   ]
  },
  {
   "cell_type": "code",
   "execution_count": 115,
   "metadata": {},
   "outputs": [
    {
     "name": "stderr",
     "output_type": "stream",
     "text": [
      "[nltk_data] Downloading package stopwords to\n",
      "[nltk_data]     C:\\Users\\ASUS\\AppData\\Roaming\\nltk_data...\n",
      "[nltk_data]   Package stopwords is already up-to-date!\n",
      "[nltk_data] Downloading package words to\n",
      "[nltk_data]     C:\\Users\\ASUS\\AppData\\Roaming\\nltk_data...\n",
      "[nltk_data]   Package words is already up-to-date!\n",
      "[nltk_data] Downloading package wordnet to\n",
      "[nltk_data]     C:\\Users\\ASUS\\AppData\\Roaming\\nltk_data...\n",
      "[nltk_data]   Package wordnet is already up-to-date!\n",
      "[nltk_data] Downloading package omw-1.4 to\n",
      "[nltk_data]     C:\\Users\\ASUS\\AppData\\Roaming\\nltk_data...\n",
      "[nltk_data]   Package omw-1.4 is already up-to-date!\n",
      "[nltk_data] Downloading package vader_lexicon to\n",
      "[nltk_data]     C:\\Users\\ASUS\\AppData\\Roaming\\nltk_data...\n",
      "[nltk_data]   Package vader_lexicon is already up-to-date!\n"
     ]
    },
    {
     "data": {
      "text/plain": [
       "True"
      ]
     },
     "execution_count": 115,
     "metadata": {},
     "output_type": "execute_result"
    }
   ],
   "source": [
    "nltk.download(\"stopwords\")\n",
    "nltk.download(\"words\")\n",
    "nltk.download(\"wordnet\")\n",
    "nltk.download('omw-1.4')\n",
    "nltk.download('vader_lexicon')"
   ]
  },
  {
   "cell_type": "code",
   "execution_count": 116,
   "metadata": {
    "colab": {
     "base_uri": "https://localhost:8080/",
     "height": 328
    },
    "id": "k-ptEnijslOo",
    "outputId": "7077eda8-1c04-4a89-f17e-ea5b286477a5"
   },
   "outputs": [],
   "source": [
    "df_data = pd.read_csv('A1_dataset.csv')"
   ]
  },
  {
   "cell_type": "code",
   "execution_count": 117,
   "metadata": {
    "id": "RBquCbrZsny5"
   },
   "outputs": [
    {
     "data": {
      "text/html": [
       "<div>\n",
       "<style scoped>\n",
       "    .dataframe tbody tr th:only-of-type {\n",
       "        vertical-align: middle;\n",
       "    }\n",
       "\n",
       "    .dataframe tbody tr th {\n",
       "        vertical-align: top;\n",
       "    }\n",
       "\n",
       "    .dataframe thead th {\n",
       "        text-align: right;\n",
       "    }\n",
       "</style>\n",
       "<table border=\"1\" class=\"dataframe\">\n",
       "  <thead>\n",
       "    <tr style=\"text-align: right;\">\n",
       "      <th></th>\n",
       "      <th>LABEL</th>\n",
       "      <th>DATE_TIME</th>\n",
       "      <th>TEXT</th>\n",
       "    </tr>\n",
       "  </thead>\n",
       "  <tbody>\n",
       "    <tr>\n",
       "      <th>0</th>\n",
       "      <td>0</td>\n",
       "      <td>Fri Jun 05 14:26:50 2009</td>\n",
       "      <td>About to get threaded and scared</td>\n",
       "    </tr>\n",
       "    <tr>\n",
       "      <th>1</th>\n",
       "      <td>1</td>\n",
       "      <td>Thu May 14 10:13:55 2009</td>\n",
       "      <td>@awaisnaseer I like Shezan Mangooo too!!! I ha...</td>\n",
       "    </tr>\n",
       "    <tr>\n",
       "      <th>2</th>\n",
       "      <td>1</td>\n",
       "      <td>Fri Jun 05 21:02:20 2009</td>\n",
       "      <td>worked on my car after work. showering then go...</td>\n",
       "    </tr>\n",
       "    <tr>\n",
       "      <th>3</th>\n",
       "      <td>1</td>\n",
       "      <td>Sun Jun 14 22:25:52 2009</td>\n",
       "      <td>@Marama Actually we start this afternoon!  I w...</td>\n",
       "    </tr>\n",
       "    <tr>\n",
       "      <th>4</th>\n",
       "      <td>1</td>\n",
       "      <td>Sun May 31 00:42:12 2009</td>\n",
       "      <td>@gfalcone601 Aww Gi.don't worry.we'll vote for...</td>\n",
       "    </tr>\n",
       "    <tr>\n",
       "      <th>...</th>\n",
       "      <td>...</td>\n",
       "      <td>...</td>\n",
       "      <td>...</td>\n",
       "    </tr>\n",
       "    <tr>\n",
       "      <th>4282</th>\n",
       "      <td>1</td>\n",
       "      <td>Sat Jun 06 22:45:26 2009</td>\n",
       "      <td>@QandQ My performances on my CLEP tests.  #qshock</td>\n",
       "    </tr>\n",
       "    <tr>\n",
       "      <th>4283</th>\n",
       "      <td>0</td>\n",
       "      <td>Tue Jun 16 10:17:07 2009</td>\n",
       "      <td>ugh no, rcn had all the true blood episodes on...</td>\n",
       "    </tr>\n",
       "    <tr>\n",
       "      <th>4284</th>\n",
       "      <td>1</td>\n",
       "      <td>Fri May 01 22:00:42 2009</td>\n",
       "      <td>Just returned from the forest! Sarah (my merch...</td>\n",
       "    </tr>\n",
       "    <tr>\n",
       "      <th>4285</th>\n",
       "      <td>1</td>\n",
       "      <td>Sun Jun 07 02:09:46 2009</td>\n",
       "      <td>is proud of her dad and his piece of work. ( h...</td>\n",
       "    </tr>\n",
       "    <tr>\n",
       "      <th>4286</th>\n",
       "      <td>0</td>\n",
       "      <td>Fri May 22 04:49:37 2009</td>\n",
       "      <td>Just woke up, gonna eat pizza for breakfast. A...</td>\n",
       "    </tr>\n",
       "  </tbody>\n",
       "</table>\n",
       "<p>4287 rows × 3 columns</p>\n",
       "</div>"
      ],
      "text/plain": [
       "      LABEL                 DATE_TIME  \\\n",
       "0         0  Fri Jun 05 14:26:50 2009   \n",
       "1         1  Thu May 14 10:13:55 2009   \n",
       "2         1  Fri Jun 05 21:02:20 2009   \n",
       "3         1  Sun Jun 14 22:25:52 2009   \n",
       "4         1  Sun May 31 00:42:12 2009   \n",
       "...     ...                       ...   \n",
       "4282      1  Sat Jun 06 22:45:26 2009   \n",
       "4283      0  Tue Jun 16 10:17:07 2009   \n",
       "4284      1  Fri May 01 22:00:42 2009   \n",
       "4285      1  Sun Jun 07 02:09:46 2009   \n",
       "4286      0  Fri May 22 04:49:37 2009   \n",
       "\n",
       "                                                   TEXT  \n",
       "0                     About to get threaded and scared   \n",
       "1     @awaisnaseer I like Shezan Mangooo too!!! I ha...  \n",
       "2     worked on my car after work. showering then go...  \n",
       "3     @Marama Actually we start this afternoon!  I w...  \n",
       "4     @gfalcone601 Aww Gi.don't worry.we'll vote for...  \n",
       "...                                                 ...  \n",
       "4282  @QandQ My performances on my CLEP tests.  #qshock  \n",
       "4283  ugh no, rcn had all the true blood episodes on...  \n",
       "4284  Just returned from the forest! Sarah (my merch...  \n",
       "4285  is proud of her dad and his piece of work. ( h...  \n",
       "4286  Just woke up, gonna eat pizza for breakfast. A...  \n",
       "\n",
       "[4287 rows x 3 columns]"
      ]
     },
     "execution_count": 117,
     "metadata": {},
     "output_type": "execute_result"
    }
   ],
   "source": [
    "df_data"
   ]
  },
  {
   "cell_type": "markdown",
   "metadata": {
    "id": "GAVPGC_8rRM7"
   },
   "source": [
    "# I. REGULAR EXPRESSION"
   ]
  },
  {
   "cell_type": "markdown",
   "metadata": {
    "id": "0n87jQodrSJ5"
   },
   "source": [
    "# A."
   ]
  },
  {
   "cell_type": "markdown",
   "metadata": {
    "id": "mtiD3IRnsvR0"
   },
   "source": [
    "## a. Average number of sentences and tokens \n",
    "- ! or ? (Even Continous)\n",
    "- . Followed by one or more spaces and then a capital character"
   ]
  },
  {
   "cell_type": "code",
   "execution_count": 118,
   "metadata": {
    "id": "1-38IM7hfmVc"
   },
   "outputs": [],
   "source": [
    "df_data['sentence_count'] = df_data['TEXT'].apply(lambda x: findSentenceCount(x))"
   ]
  },
  {
   "cell_type": "code",
   "execution_count": 119,
   "metadata": {},
   "outputs": [
    {
     "data": {
      "text/plain": [
       "LABEL\n",
       "0    1.800500\n",
       "1    1.854832\n",
       "Name: sentence_count, dtype: float64"
      ]
     },
     "execution_count": 119,
     "metadata": {},
     "output_type": "execute_result"
    }
   ],
   "source": [
    "df_data.groupby(['LABEL'])['sentence_count'].mean()"
   ]
  },
  {
   "cell_type": "code",
   "execution_count": 120,
   "metadata": {
    "id": "GiDosJOaRAgw"
   },
   "outputs": [],
   "source": [
    "df_data['token_count'] = df_data['TEXT'].apply(lambda x: findTokenCount(x))"
   ]
  },
  {
   "cell_type": "code",
   "execution_count": 121,
   "metadata": {},
   "outputs": [],
   "source": [
    "df_data['tokens'] = df_data['TEXT'].apply(lambda x: findTokens(x))"
   ]
  },
  {
   "cell_type": "code",
   "execution_count": 122,
   "metadata": {
    "colab": {
     "base_uri": "https://localhost:8080/"
    },
    "id": "zXZd-DZcsu_4",
    "outputId": "0d516035-5bdb-4aab-fc08-f6d6d3ba0f8a",
    "scrolled": true
   },
   "outputs": [
    {
     "data": {
      "text/plain": [
       "LABEL\n",
       "0    14.801000\n",
       "1    14.116747\n",
       "Name: token_count, dtype: float64"
      ]
     },
     "execution_count": 122,
     "metadata": {},
     "output_type": "execute_result"
    }
   ],
   "source": [
    "df_data.groupby(['LABEL'])['token_count'].mean()"
   ]
  },
  {
   "cell_type": "markdown",
   "metadata": {},
   "source": [
    "## b. Total number of words starting with consonants and vowels\n",
    "- Words starting with either Consonant or Vowel (depending on subpart) followed by either an alphabet, an accented alphabet, an apostrophe or a hyphen.\n",
    "- This was done to ensure no cases of say spanish text which creep in twitter data from countries like the U.S. are not missed\n"
   ]
  },
  {
   "cell_type": "code",
   "execution_count": 123,
   "metadata": {
    "id": "21bourgDKKyL"
   },
   "outputs": [],
   "source": [
    "df_data['words_starting_with_vowel'] = df_data['TEXT'].apply(lambda x: countWordsStartingWithVowel(x))"
   ]
  },
  {
   "cell_type": "code",
   "execution_count": 124,
   "metadata": {
    "colab": {
     "base_uri": "https://localhost:8080/"
    },
    "id": "nIUx_RhlqJkQ",
    "outputId": "1220f13f-7b0f-4796-eda8-53e5c875cfd7"
   },
   "outputs": [
    {
     "data": {
      "text/plain": [
       "14177"
      ]
     },
     "execution_count": 124,
     "metadata": {},
     "output_type": "execute_result"
    }
   ],
   "source": [
    "df_data['words_starting_with_vowel'].sum()"
   ]
  },
  {
   "cell_type": "code",
   "execution_count": 125,
   "metadata": {},
   "outputs": [
    {
     "data": {
      "text/plain": [
       "LABEL\n",
       "0    6989\n",
       "1    7188\n",
       "Name: words_starting_with_vowel, dtype: int64"
      ]
     },
     "execution_count": 125,
     "metadata": {},
     "output_type": "execute_result"
    }
   ],
   "source": [
    "df_data.groupby(['LABEL'])['words_starting_with_vowel'].sum()"
   ]
  },
  {
   "cell_type": "code",
   "execution_count": 126,
   "metadata": {
    "id": "wibwwaouCJDC"
   },
   "outputs": [],
   "source": [
    "df_data['words_starting_with_consonant'] = df_data['TEXT'].apply(lambda x: countWordsStartingWithConsonant(x))"
   ]
  },
  {
   "cell_type": "code",
   "execution_count": 127,
   "metadata": {
    "colab": {
     "base_uri": "https://localhost:8080/"
    },
    "id": "ookPUBYcqHY8",
    "outputId": "f60386ca-600a-4767-8c56-79dc666d52b1"
   },
   "outputs": [
    {
     "data": {
      "text/plain": [
       "37196"
      ]
     },
     "execution_count": 127,
     "metadata": {},
     "output_type": "execute_result"
    }
   ],
   "source": [
    "df_data['words_starting_with_consonant'].sum()"
   ]
  },
  {
   "cell_type": "code",
   "execution_count": 128,
   "metadata": {},
   "outputs": [
    {
     "data": {
      "text/plain": [
       "LABEL\n",
       "0    17995\n",
       "1    19201\n",
       "Name: words_starting_with_consonant, dtype: int64"
      ]
     },
     "execution_count": 128,
     "metadata": {},
     "output_type": "execute_result"
    }
   ],
   "source": [
    "df_data.groupby(['LABEL'])['words_starting_with_consonant'].sum()"
   ]
  },
  {
   "cell_type": "markdown",
   "metadata": {
    "id": "bYRKw0v3Pq2n"
   },
   "source": [
    "## c. Lowercase the text and report the number of unique tokens present before and after lower casing."
   ]
  },
  {
   "cell_type": "markdown",
   "metadata": {},
   "source": [
    "Unique Tokens Before Splitting"
   ]
  },
  {
   "cell_type": "code",
   "execution_count": 129,
   "metadata": {
    "id": "Fa4UbCdpPOoL"
   },
   "outputs": [],
   "source": [
    "def get_unique_tokens(tokens):\n",
    "    unique_tokens = set()\n",
    "    for token_list in tokens:\n",
    "        for token in token_list:\n",
    "            unique_tokens.add(token)\n",
    "    return len(unique_tokens)"
   ]
  },
  {
   "cell_type": "markdown",
   "metadata": {},
   "source": [
    "Total"
   ]
  },
  {
   "cell_type": "code",
   "execution_count": 130,
   "metadata": {},
   "outputs": [],
   "source": [
    "tokens = df_data['tokens'].to_list()\n",
    "df_data['lowercase_text'] = df_data['TEXT'].apply(lambda x: lowercase(x))\n",
    "df_data['lowercase_tokens'] = df_data['lowercase_text'].apply(lambda x: findTokens(x))\n",
    "lowercase_tokens = df_data['lowercase_tokens'].to_list()"
   ]
  },
  {
   "cell_type": "code",
   "execution_count": 131,
   "metadata": {},
   "outputs": [
    {
     "name": "stdout",
     "output_type": "stream",
     "text": [
      "Unique Tokens 13159\n",
      "Unique Lowercase Tokens 11556\n"
     ]
    }
   ],
   "source": [
    "print(\"Unique Tokens\", get_unique_tokens(tokens))\n",
    "print(\"Unique Lowercase Tokens\", get_unique_tokens(lowercase_tokens))"
   ]
  },
  {
   "cell_type": "markdown",
   "metadata": {},
   "source": [
    "Label 0"
   ]
  },
  {
   "cell_type": "code",
   "execution_count": 132,
   "metadata": {},
   "outputs": [],
   "source": [
    "tokens_LABEL_0 = df_data[df_data['LABEL'] == 0]['tokens'].to_list()\n",
    "lowercase_tokens_LABEL_0 = df_data[df_data['LABEL'] == 0]['lowercase_tokens'].to_list()"
   ]
  },
  {
   "cell_type": "code",
   "execution_count": 133,
   "metadata": {
    "scrolled": true
   },
   "outputs": [
    {
     "name": "stdout",
     "output_type": "stream",
     "text": [
      "Unique Tokens 6987\n",
      "Unique Lowercase Tokens 6210\n"
     ]
    }
   ],
   "source": [
    "print(\"Unique Tokens\", get_unique_tokens(tokens_LABEL_0))\n",
    "print(\"Unique Lowercase Tokens\", get_unique_tokens(lowercase_tokens_LABEL_0))"
   ]
  },
  {
   "cell_type": "markdown",
   "metadata": {},
   "source": [
    "Label 1"
   ]
  },
  {
   "cell_type": "code",
   "execution_count": 134,
   "metadata": {},
   "outputs": [],
   "source": [
    "tokens_LABEL_1 = df_data[df_data['LABEL'] == 1]['tokens'].to_list()\n",
    "lowercase_tokens_LABEL_1 = df_data[df_data['LABEL'] == 1]['lowercase_tokens'].to_list()"
   ]
  },
  {
   "cell_type": "code",
   "execution_count": 135,
   "metadata": {},
   "outputs": [
    {
     "name": "stdout",
     "output_type": "stream",
     "text": [
      "Unique Tokens 8617\n",
      "Unique Lowercase Tokens 7610\n"
     ]
    }
   ],
   "source": [
    "print(\"Unique Tokens\", get_unique_tokens(tokens_LABEL_1))\n",
    "print(\"Unique Lowercase Tokens\", get_unique_tokens(lowercase_tokens_LABEL_1))"
   ]
  },
  {
   "cell_type": "markdown",
   "metadata": {
    "id": "rdc4Ufy2XiVE"
   },
   "source": [
    "## d. Count and list all the usernames.\n",
    "\n",
    "Basic Rules and Assumptions:\n",
    "\n",
    "- According to [Twitter Guidelines](https://help.twitter.com/en/managing-your-account/twitter-username-rules)\n",
    "  - Your username cannot be longer than 15 characters. Your name can be longer (50 characters) or shorter than 4 characters, but usernames are kept shorter for the sake of ease.\n",
    "  - A username can only contain alphanumeric characters (letters A-Z, numbers 0-9) with the exception of underscores, as noted above. Check to make sure your desired username doesn't contain any symbols, dashes, or spaces.\n",
    "  - *Optional Rule to Spot Users* - Usernames containing the words Twitter or Admin cannot be claimed. No account names can contain Twitter or Admin unless they are official Twitter accounts.\n",
    "\n",
    "- Some experimentation with our Twitter Handle helped us reach the following conclusions:\n",
    "  - @UserName can't be placed with other alphanumeric characters so abc@user 9@user are not valid and won't tag the user\n",
    "  - X@UserName where X is a punctuation is valid but the following cases also don't allow tagging - \n",
    "    - @@xyz\n",
    "    - _@xyz\n",
    "\n",
    "Hence we propose regexes which actually find real tag matches instead of say a user just writing an @ somewhere in the tweet and it getting falsely matched as a tagged user when it really isn't"
   ]
  },
  {
   "cell_type": "code",
   "execution_count": 136,
   "metadata": {
    "id": "QxPV1weuX1rn"
   },
   "outputs": [],
   "source": [
    "df_data['UserNames'] = df_data['TEXT'].apply(lambda x: findUsernames(x))\n",
    "df_data['UserNamesCounts'] = df_data['TEXT'].apply(lambda x: findUsernameCount(x))"
   ]
  },
  {
   "cell_type": "code",
   "execution_count": 137,
   "metadata": {
    "colab": {
     "base_uri": "https://localhost:8080/"
    },
    "id": "tIRVTSpZqmDL",
    "outputId": "9d11b68b-019f-4731-c556-66324d14d6c4"
   },
   "outputs": [
    {
     "data": {
      "text/plain": [
       "2108"
      ]
     },
     "execution_count": 137,
     "metadata": {},
     "output_type": "execute_result"
    }
   ],
   "source": [
    "df_data['UserNamesCounts'].sum()"
   ]
  },
  {
   "cell_type": "code",
   "execution_count": 138,
   "metadata": {},
   "outputs": [
    {
     "name": "stdout",
     "output_type": "stream",
     "text": [
      "Username Count Label 0 -  803\n"
     ]
    }
   ],
   "source": [
    "print(\"Username Count Label 0 - \" , df_data[df_data['LABEL'] == 0]['UserNamesCounts'].sum())"
   ]
  },
  {
   "cell_type": "code",
   "execution_count": 139,
   "metadata": {},
   "outputs": [
    {
     "name": "stdout",
     "output_type": "stream",
     "text": [
      "Username Count Label 1 -  1305\n"
     ]
    }
   ],
   "source": [
    "print(\"Username Count Label 1 - \" , df_data[df_data['LABEL'] == 1]['UserNamesCounts'].sum())"
   ]
  },
  {
   "cell_type": "code",
   "execution_count": 140,
   "metadata": {
    "id": "1IQi6p5SqsHy"
   },
   "outputs": [],
   "source": [
    "usernames = df_data['UserNames'].to_numpy()\n",
    "flattened_usernames = []\n",
    "for i in usernames:\n",
    "  flattened_usernames.extend(i)"
   ]
  },
  {
   "cell_type": "code",
   "execution_count": 141,
   "metadata": {
    "colab": {
     "base_uri": "https://localhost:8080/"
    },
    "id": "We06hPGvrYVB",
    "outputId": "3ec7df54-41ab-4cde-8bf6-2aa8f5bc7cea"
   },
   "outputs": [
    {
     "data": {
      "text/plain": [
       "2021"
      ]
     },
     "execution_count": 141,
     "metadata": {},
     "output_type": "execute_result"
    }
   ],
   "source": [
    "len(set(flattened_usernames))"
   ]
  },
  {
   "cell_type": "markdown",
   "metadata": {
    "id": "L9D-7fwqgYNe"
   },
   "source": [
    "## e. Count and list all the urls\n",
    "\n",
    "Basic Rules and Assumptions\n",
    "\n",
    "- `http`, `https`, `www` common starters for URLs usually\n",
    "- Manually investigating all sentences which contain `http` shows no false positives that is all occurences of `http` correspond to links\n",
    "- Manually investigating all sentences which contain `www` shows lots of false positives due to words like `aww`\n",
    "- On manual inspection we find no sentences which contain `https`\n",
    "- According to [Twitter's official Blog](https://help.twitter.com/en/using-twitter/url-shortener), Twitter uses a URL-Shortener which converts links to the form `t.co` however there are no positive matches for this in our dataset. The only matches that arise are spurious matches in links like `blogspot.com`\n",
    "- A URL maybe as simple as `www.xyz.abc` and as complex as `http://www.xyz.abc/efg` and can get even more complex by adding / to index more indepth into pages\n",
    "- There are false positives that we encounter such as `Gi.don` or `worry.we` but they are both valid URLs as well as there can be custom domains by those names. We assume the domain will be atleast 2 characters long to account for `.me`, `.uk` etc.\n",
    "- Numbers have been allowed as [only numbers can form valid URLs](https://stackoverflow.com/q/56804936/13858953)"
   ]
  },
  {
   "cell_type": "code",
   "execution_count": 142,
   "metadata": {
    "id": "Pzjw7gUbgj3H"
   },
   "outputs": [],
   "source": [
    "df_data['URLs'] = df_data['TEXT'].apply(lambda x: findURLs(x))\n",
    "df_data['URLCounts'] = df_data['TEXT'].apply(lambda x: findURLCount(x))"
   ]
  },
  {
   "cell_type": "code",
   "execution_count": 143,
   "metadata": {},
   "outputs": [
    {
     "name": "stdout",
     "output_type": "stream",
     "text": [
      "URL Count Label 0 -  60\n"
     ]
    }
   ],
   "source": [
    "print(\"URL Count Label 0 - \" , df_data[df_data['LABEL'] == 0]['URLCounts'].sum())"
   ]
  },
  {
   "cell_type": "code",
   "execution_count": 144,
   "metadata": {},
   "outputs": [
    {
     "name": "stdout",
     "output_type": "stream",
     "text": [
      "URL Count Label 1 -  145\n"
     ]
    }
   ],
   "source": [
    "print(\"URL Count Label 1 - \" , df_data[df_data['LABEL'] == 1]['URLCounts'].sum())"
   ]
  },
  {
   "cell_type": "markdown",
   "metadata": {
    "id": "-jENr0Gqos6H"
   },
   "source": [
    "## f. Count the number of tweets for each day of the week. Eg Mon: 58, Tues: 20, Wed..."
   ]
  },
  {
   "cell_type": "code",
   "execution_count": 145,
   "metadata": {
    "id": "Dswe26lFmQi5"
   },
   "outputs": [],
   "source": [
    "df_data['Day'] = df_data['DATE_TIME'].apply(lambda x: getDay(x))"
   ]
  },
  {
   "cell_type": "code",
   "execution_count": 146,
   "metadata": {},
   "outputs": [
    {
     "name": "stdout",
     "output_type": "stream",
     "text": [
      "Day Counts Label 0\n"
     ]
    },
    {
     "data": {
      "text/plain": [
       "Sun    565\n",
       "Fri    473\n",
       "Mon    391\n",
       "Thu    171\n",
       "Tue    154\n",
       "Wed    127\n",
       "Sat    119\n",
       "Name: Day, dtype: int64"
      ]
     },
     "execution_count": 146,
     "metadata": {},
     "output_type": "execute_result"
    }
   ],
   "source": [
    "print(\"Day Counts Label 0\")\n",
    "df_data[df_data['LABEL'] == 0]['Day'].value_counts()"
   ]
  },
  {
   "cell_type": "code",
   "execution_count": 147,
   "metadata": {
    "colab": {
     "base_uri": "https://localhost:8080/"
    },
    "id": "VUuFLwxkqgqk",
    "outputId": "c85ced00-76f0-4e27-d429-61eafb57646d"
   },
   "outputs": [
    {
     "name": "stdout",
     "output_type": "stream",
     "text": [
      "Day Counts Label 1\n"
     ]
    },
    {
     "data": {
      "text/plain": [
       "Sun    763\n",
       "Mon    481\n",
       "Fri    391\n",
       "Sat    298\n",
       "Wed    172\n",
       "Tue    132\n",
       "Thu     50\n",
       "Name: Day, dtype: int64"
      ]
     },
     "execution_count": 147,
     "metadata": {},
     "output_type": "execute_result"
    }
   ],
   "source": [
    "print(\"Day Counts Label 1\")\n",
    "df_data[df_data['LABEL'] == 1]['Day'].value_counts()"
   ]
  },
  {
   "cell_type": "code",
   "execution_count": 148,
   "metadata": {},
   "outputs": [],
   "source": [
    "df_data.to_csv('Save_post_regular_exp_section.csv')"
   ]
  },
  {
   "cell_type": "markdown",
   "metadata": {
    "id": "-YQY-xmesj5X"
   },
   "source": [
    "# B."
   ]
  },
  {
   "cell_type": "markdown",
   "metadata": {
    "id": "y-itGBwas5XQ"
   },
   "source": [
    "## a. Total number of occurrences of the given word and sentences containing that word."
   ]
  },
  {
   "cell_type": "code",
   "execution_count": 149,
   "metadata": {
    "id": "kCtBlSzwqiYl"
   },
   "outputs": [],
   "source": [
    "def re_find_word_in_sentence(word, sentence):\n",
    "  return len(re.findall(f'\\\\b{word}\\\\b', sentence))"
   ]
  },
  {
   "cell_type": "code",
   "execution_count": 150,
   "metadata": {
    "id": "PHLgD9f4tfmK"
   },
   "outputs": [],
   "source": [
    "def find_word_counts(df_data, word, class_label):\n",
    "  filtered_df = df_data[df_data['LABEL'] == class_label]\n",
    "  filtered_df['Counts'] = filtered_df['TEXT'].apply(lambda x: re_find_word_in_sentence(word, x))\n",
    "  total_occurence = sum(filtered_df['Counts'])\n",
    "  sentences_containing_word = filtered_df[filtered_df['Counts'] > 0]['TEXT'].to_list()\n",
    "  return total_occurence, sentences_containing_word"
   ]
  },
  {
   "cell_type": "code",
   "execution_count": 151,
   "metadata": {
    "colab": {
     "base_uri": "https://localhost:8080/"
    },
    "id": "WBTpIOtcticy",
    "outputId": "f4bdbdbf-9a5e-4927-8070-0ac1307c9b6b"
   },
   "outputs": [
    {
     "name": "stderr",
     "output_type": "stream",
     "text": [
      "C:\\Users\\ASUS\\AppData\\Local\\Temp\\ipykernel_17968\\4136765138.py:3: SettingWithCopyWarning: \n",
      "A value is trying to be set on a copy of a slice from a DataFrame.\n",
      "Try using .loc[row_indexer,col_indexer] = value instead\n",
      "\n",
      "See the caveats in the documentation: https://pandas.pydata.org/pandas-docs/stable/user_guide/indexing.html#returning-a-view-versus-a-copy\n",
      "  filtered_df['Counts'] = filtered_df['TEXT'].apply(lambda x: re_find_word_in_sentence(word, x))\n"
     ]
    }
   ],
   "source": [
    "total_occurence, sentences_containing_word = find_word_counts(df_data, 'i', 0)"
   ]
  },
  {
   "cell_type": "code",
   "execution_count": 152,
   "metadata": {
    "colab": {
     "base_uri": "https://localhost:8080/"
    },
    "id": "EmWK4oTPts86",
    "outputId": "048479e4-abdb-4c91-ff15-f4d14d904e69"
   },
   "outputs": [
    {
     "data": {
      "text/plain": [
       "450"
      ]
     },
     "execution_count": 152,
     "metadata": {},
     "output_type": "execute_result"
    }
   ],
   "source": [
    "total_occurence"
   ]
  },
  {
   "cell_type": "code",
   "execution_count": 153,
   "metadata": {
    "colab": {
     "base_uri": "https://localhost:8080/"
    },
    "id": "REgyf0cnvEoa",
    "outputId": "5041960d-7124-4800-c039-ecc3c49218f3"
   },
   "outputs": [
    {
     "data": {
      "text/plain": [
       "[\"@buckhollywood I Cant Watch That i'm in the UK  Can you tell me what its about? Please x\",\n",
       " '@mykiaisosm omj ur bad and mean i should not have meet u in 2nd grade even thouggh we hated each other i should have stayed like that ',\n",
       " ' i missed the game',\n",
       " \"dr office... hopefully finding out why i've been so sick  it's so hard to keep my eyes open\",\n",
       " 'i feel like death...my next investment?going to the spa! i need a new body that can function  (via @IngaDurgin)i herd sleep is good 4 dat']"
      ]
     },
     "execution_count": 153,
     "metadata": {},
     "output_type": "execute_result"
    }
   ],
   "source": [
    "sentences_containing_word[:5]"
   ]
  },
  {
   "cell_type": "markdown",
   "metadata": {
    "id": "cx1eiKQNvZID"
   },
   "source": [
    "## b. Number of sentences starting with the given word."
   ]
  },
  {
   "cell_type": "code",
   "execution_count": 154,
   "metadata": {
    "id": "C7f0n-rmvFeQ"
   },
   "outputs": [],
   "source": [
    "def re_find_sentence_starting_with_word(word, sentence):\n",
    "  if re.findall(f'^\\s*{word}\\\\b', sentence):\n",
    "    return 1\n",
    "  return 0"
   ]
  },
  {
   "cell_type": "code",
   "execution_count": 155,
   "metadata": {
    "colab": {
     "base_uri": "https://localhost:8080/"
    },
    "id": "ohoOqq48wwA9",
    "outputId": "04378213-307e-40cd-b870-9c2adb72bae5"
   },
   "outputs": [
    {
     "data": {
      "text/plain": [
       "(0, 1)"
      ]
     },
     "execution_count": 155,
     "metadata": {},
     "output_type": "execute_result"
    }
   ],
   "source": [
    "re_find_sentence_starting_with_word(\"i\", \" am i \"), re_find_sentence_starting_with_word(\"i\", \" i am i \")"
   ]
  },
  {
   "cell_type": "code",
   "execution_count": 156,
   "metadata": {
    "id": "B4qf7D0tvjwr"
   },
   "outputs": [],
   "source": [
    "def find_all_sentences_starting_with_word(df_data, word, class_label):\n",
    "  filtered_df = df_data[df_data['LABEL'] == class_label]\n",
    "  filtered_df['Counts'] = filtered_df['TEXT'].apply(lambda x: re_find_sentence_starting_with_word(word, x))\n",
    "  total_occurence = sum(filtered_df['Counts'])\n",
    "  sentences_starting_with_word = filtered_df[filtered_df['Counts'] == 1]['TEXT'].to_list()\n",
    "  return total_occurence, sentences_starting_with_word"
   ]
  },
  {
   "cell_type": "code",
   "execution_count": 157,
   "metadata": {
    "colab": {
     "base_uri": "https://localhost:8080/"
    },
    "id": "ldBGVY_evmvH",
    "outputId": "dd9a0064-1eb6-4f95-f6d2-bfa91ac55e22"
   },
   "outputs": [
    {
     "name": "stderr",
     "output_type": "stream",
     "text": [
      "C:\\Users\\ASUS\\AppData\\Local\\Temp\\ipykernel_17968\\110637590.py:3: SettingWithCopyWarning: \n",
      "A value is trying to be set on a copy of a slice from a DataFrame.\n",
      "Try using .loc[row_indexer,col_indexer] = value instead\n",
      "\n",
      "See the caveats in the documentation: https://pandas.pydata.org/pandas-docs/stable/user_guide/indexing.html#returning-a-view-versus-a-copy\n",
      "  filtered_df['Counts'] = filtered_df['TEXT'].apply(lambda x: re_find_sentence_starting_with_word(word, x))\n"
     ]
    }
   ],
   "source": [
    "total_occurence, sentences_starting_with_word = find_all_sentences_starting_with_word(df_data, 'i', 0)"
   ]
  },
  {
   "cell_type": "code",
   "execution_count": 158,
   "metadata": {
    "colab": {
     "base_uri": "https://localhost:8080/"
    },
    "id": "a3H49wwTwY48",
    "outputId": "ebda4a54-f32f-411c-a06b-1fff1085e02a"
   },
   "outputs": [
    {
     "data": {
      "text/plain": [
       "(52,\n",
       " [' i missed the game',\n",
       "  'i feel like death...my next investment?going to the spa! i need a new body that can function  (via @IngaDurgin)i herd sleep is good 4 dat',\n",
       "  \"i bet i was mistaking.. nah i'm not surprised \",\n",
       "  'i swear i just felt a earthquake  lol',\n",
       "  'i need to go out soon   i dont wanna but this weight aint gonna shift its self is it lol x',\n",
       "  \"i'm eating chocolate covered pretzels which is reminding me of Mallrats and making me not want to eat them anymore. \",\n",
       "  'i really miss photoshop ',\n",
       "  'i hate it im not yet done to my homework!! ',\n",
       "  \"i have officially lost all feeling in my legs! playing the sims 3 for seven hours isn't good... \",\n",
       "  \"i'm gonna miss those dayss \",\n",
       "  'i miss my feather duster ',\n",
       "  'i wish i was watching The Hills ',\n",
       "  'i miss @romylovesmcfly, anke and paula  i was going with them to tokio hotel.',\n",
       "  'i feel really bad i just talked to my parents like they were my slaves, and they were being so nice to me  punish me.',\n",
       "  \"i #blamedrewscancer for my b'day falling on a glorious sunny day this year &amp; me being cooped up in the office all day \",\n",
       "  'i hate being sick.&amp;in the same week as all my half yearlys, ahh poo ',\n",
       "  \"i can't make up my mind on what to wear \",\n",
       "  \"i has a headache.  i'm home alone doin stuff til 3-4 then partyin it upp!\",\n",
       "  \"i can't wait to play in leeds on my birthday, i wish i was on tour though! \",\n",
       "  'i dont want to pack! ',\n",
       "  'i have to leave ',\n",
       "  'i know i told him i didnt want him to stay home with me but i lied, i really did want him to stay home with me ',\n",
       "  \" i don't know, darlin. I'm so sorry. I wish i had what you need to make everything right.\",\n",
       "  'i think spoon is sick ',\n",
       "  \"i am watching the insider live and i sawed miley cyrus break up with nick......ummm isn't that old news? im just angry \",\n",
       "  \"i think i'm getting sick \",\n",
       "  'i dont want rudy to die oh my god i am going to cry why did death say that was going to happen ',\n",
       "  \"i miss my best friend!   we're one and the same &lt;3\",\n",
       "  'i wish our internet wasnt fucked. i could be doing any number of things right now ',\n",
       "  \"i hope THEY didn't return together \",\n",
       "  'i miss my crush ',\n",
       "  'i feel kind of sick.  hopefully supernatural will make me feel better.',\n",
       "  'i am cold ',\n",
       "  'i firmly believe the worst part of the working day is waiting for public transport - so boring. ',\n",
       "  \"i'm tired. and feel slightly ill. \",\n",
       "  'i dunno y @tweetpeete speaks of himself thru 3rd party tweets lol but @tweetpeete is mad cuz sports is finna suck til sunday ',\n",
       "  \"i'm so bored! i wanna go out with my friends.. \",\n",
       "  'i need to do my religion assignment, but its at school ',\n",
       "  \"i'm Bumbed about the lego batman being sold out \",\n",
       "  'i have to fill two hours ',\n",
       "  'i want my brother home so i can play sims 3 ',\n",
       "  'i didnt read cuz i felt to yucky so i had a yogut and that just made made me feel more yucky..damn teeth  and now i dont know what to eat',\n",
       "  'i dont want to start studying again today ',\n",
       "  'i blew up this balloon that tasted and smelt like burnt rubber and now i have a fricken headache    ',\n",
       "  'i am hungry but I ate so many bagels today i can feel them coming up. I needz a cheeseburger! ',\n",
       "  'i should be in malia right now! ',\n",
       "  \"i'm gunna cry when asher &amp; kay kiss in fame  better yet, i'll close my eyes.\",\n",
       "  'i fucking miss him so much ',\n",
       "  'i am about 99% sure that i just killed the new digital camera my parents got me yesterday ',\n",
       "  \"i'm sooo tired but i just can't seem to get to sleep! \",\n",
       "  'i am sad ',\n",
       "  'i wonder if there any anything as GIT tract transplant. i want to replace all my intestines to a healthier one '])"
      ]
     },
     "execution_count": 158,
     "metadata": {},
     "output_type": "execute_result"
    }
   ],
   "source": [
    "total_occurence, sentences_starting_with_word"
   ]
  },
  {
   "cell_type": "markdown",
   "metadata": {
    "id": "yxu11MKXwi_I"
   },
   "source": [
    "## c. Number of sentences ending with the given word."
   ]
  },
  {
   "cell_type": "code",
   "execution_count": 159,
   "metadata": {
    "id": "58BVCGSnwguC"
   },
   "outputs": [],
   "source": [
    "def re_find_sentence_ending_with_word(word, sentence):\n",
    "  if re.findall(f'\\\\b{word}\\s*$', sentence):\n",
    "    return 1\n",
    "  return 0"
   ]
  },
  {
   "cell_type": "code",
   "execution_count": 160,
   "metadata": {
    "colab": {
     "base_uri": "https://localhost:8080/"
    },
    "id": "NpfAFnRRw3J3",
    "outputId": "9ca64ae0-c694-4811-c6c4-8b208bef7831"
   },
   "outputs": [
    {
     "data": {
      "text/plain": [
       "(0, 1)"
      ]
     },
     "execution_count": 160,
     "metadata": {},
     "output_type": "execute_result"
    }
   ],
   "source": [
    "re_find_sentence_ending_with_word(\"i\", \" am\"), re_find_sentence_ending_with_word(\"i\", \" i am i\")"
   ]
  },
  {
   "cell_type": "code",
   "execution_count": 161,
   "metadata": {
    "id": "vB9e_reFw9ds"
   },
   "outputs": [],
   "source": [
    "def find_all_sentences_ending_with_word(df_data, word, class_label):\n",
    "  filtered_df = df_data[df_data['LABEL'] == class_label]\n",
    "  filtered_df['Counts'] = filtered_df['TEXT'].apply(lambda x: re_find_sentence_ending_with_word(word, x))\n",
    "  total_occurence = sum(filtered_df['Counts'])\n",
    "  sentences_ending_with_word = filtered_df[filtered_df['Counts'] == 1]['TEXT'].to_list()\n",
    "  return total_occurence, sentences_ending_with_word"
   ]
  },
  {
   "cell_type": "code",
   "execution_count": 162,
   "metadata": {
    "colab": {
     "base_uri": "https://localhost:8080/"
    },
    "id": "AQbh03oJxNgA",
    "outputId": "ca165aad-2375-4d41-98ba-f8ddb38b6e95"
   },
   "outputs": [
    {
     "name": "stderr",
     "output_type": "stream",
     "text": [
      "C:\\Users\\ASUS\\AppData\\Local\\Temp\\ipykernel_17968\\981797926.py:3: SettingWithCopyWarning: \n",
      "A value is trying to be set on a copy of a slice from a DataFrame.\n",
      "Try using .loc[row_indexer,col_indexer] = value instead\n",
      "\n",
      "See the caveats in the documentation: https://pandas.pydata.org/pandas-docs/stable/user_guide/indexing.html#returning-a-view-versus-a-copy\n",
      "  filtered_df['Counts'] = filtered_df['TEXT'].apply(lambda x: re_find_sentence_ending_with_word(word, x))\n"
     ]
    }
   ],
   "source": [
    "total_occurence, sentences_ending_with_word = find_all_sentences_ending_with_word(df_data, 'scared', 0)"
   ]
  },
  {
   "cell_type": "code",
   "execution_count": 163,
   "metadata": {
    "colab": {
     "base_uri": "https://localhost:8080/"
    },
    "id": "HIYOTYfTxQAn",
    "outputId": "dc4265ee-64aa-4e6b-9815-d17f9c83c31f"
   },
   "outputs": [
    {
     "data": {
      "text/plain": [
       "(1, ['About to get threaded and scared '])"
      ]
     },
     "execution_count": 163,
     "metadata": {},
     "output_type": "execute_result"
    }
   ],
   "source": [
    "total_occurence, sentences_ending_with_word"
   ]
  },
  {
   "cell_type": "markdown",
   "metadata": {},
   "source": [
    "# II) Text Preprocessing"
   ]
  },
  {
   "cell_type": "code",
   "execution_count": 164,
   "metadata": {},
   "outputs": [],
   "source": [
    "df_data = pd.read_csv('A1_dataset.csv')"
   ]
  },
  {
   "cell_type": "code",
   "execution_count": 165,
   "metadata": {},
   "outputs": [],
   "source": [
    "def tokenization(text):\n",
    "    twt_tk = TweetTokenizer()\n",
    "    return twt_tk.tokenize(text)"
   ]
  },
  {
   "cell_type": "code",
   "execution_count": 166,
   "metadata": {},
   "outputs": [],
   "source": [
    "wordnet_words = []\n",
    "\n",
    "for word in wn.words():\n",
    "    wordnet_words.append(word)\n",
    "\n",
    "words = set(wordnet_words)"
   ]
  },
  {
   "cell_type": "code",
   "execution_count": 177,
   "metadata": {},
   "outputs": [],
   "source": [
    "# Spelling correction using jaccard distance\n",
    "def spelling_correction_jaccard(text):\n",
    "    res = []\n",
    "    for curr in text:\n",
    "        if curr not in words:\n",
    "            crrct_words = []\n",
    "            for w in words:\n",
    "                if abs(len(w) - len(curr)) <= 2:\n",
    "                    crrct_words.append([jaccard_distance(set(w), set(curr)), w])\n",
    "            crrct_words = sorted(crrct_words, key = lambda x: x[0])\n",
    "            res.append(crrct_words[0][1][0])\n",
    "        else:\n",
    "            res.append(curr)\n",
    "    return res\n",
    "\n",
    "# Spelling correction using edit distance\n",
    "def spelling_correction_edit(text):\n",
    "    res = []\n",
    "    for curr in text:\n",
    "        if curr not in words:\n",
    "            crrct_words = []\n",
    "            for w in words:\n",
    "                if abs(len(w) - len(curr)) <= 2:\n",
    "                    crrct_words.append([edit_distance(w, curr), w])\n",
    "            crrct_words = sorted(crrct_words, key = lambda x: x[0])\n",
    "            res.append(crrct_words[0][1])\n",
    "        else:\n",
    "            res.append(curr)\n",
    "    return res\n",
    "\n",
    "# Spelling correction using autocorrect\n",
    "def spelling_correction_autocorrect(text):\n",
    "    spell = Speller()\n",
    "    res = []\n",
    "    text = \" \".join(text)\n",
    "    text = spell(text)\n",
    "    return tokenization(text)\n",
    "\n",
    "# Spelling correction using textblob\n",
    "def spelling_correction_textblob(text):\n",
    "    text = \" \".join(text)\n",
    "    text = str(TextBlob(text))\n",
    "    return tokenization(text)\n",
    "\n",
    "def spelling_correction(text, method ='autocorrect'):\n",
    "    if method == 'autocorrect':\n",
    "        return spelling_correction_autocorrect(text)\n",
    "    elif method == 'edit_distance':\n",
    "        return spelling_correction_edit(text)\n",
    "    elif method == 'jaccard':\n",
    "        return spelling_correction_jaccard(text)\n",
    "    elif method == 'textblob':\n",
    "        return spelling_correction_textblob(text)\n",
    "    else:\n",
    "        raise ValueError('Please use a valid method')"
   ]
  },
  {
   "cell_type": "code",
   "execution_count": 178,
   "metadata": {},
   "outputs": [],
   "source": [
    "#Here we can either do lemmatization or stemming, doing both at the same time will not be useful\n",
    "\n",
    "def lemmatization_text(text):\n",
    "    wn = WordNetLemmatizer()\n",
    "    lemmatized_text = []\n",
    "    for each in text:\n",
    "        lemmatized_word = wn.lemmatize(each)\n",
    "        lemmatized_text.append(lemmatized_word)\n",
    "    return ' '.join(lemmatized_text)\n",
    "\n",
    "def stemming_text(text):\n",
    "    stemmed_text = []\n",
    "    ps = PorterStemmer()\n",
    "    for each in text:\n",
    "        stemmed_word = ps.stem(each)\n",
    "        stemmed_text.append(stemmed_word)\n",
    "    return ' '.join(stemmed_text)"
   ]
  },
  {
   "cell_type": "code",
   "execution_count": 179,
   "metadata": {},
   "outputs": [],
   "source": [
    "def remove_punctuations(text):\n",
    "    puncts = string.punctuation\n",
    "    s = \"\"\n",
    "    for i in text:\n",
    "        if i not in puncts:\n",
    "            s += i\n",
    "    return s"
   ]
  },
  {
   "cell_type": "code",
   "execution_count": 180,
   "metadata": {},
   "outputs": [],
   "source": [
    "stop_words = stopwords.words(\"english\")\n",
    "stop_words.append(\"i'm\")\n",
    "\n",
    "def remove_stopwords(text):\n",
    "    pattern = re.compile(r'\\b(' + (r'|'.join(stop_words)) + r')\\b\\s*')\n",
    "    return pattern.sub('', text)"
   ]
  },
  {
   "cell_type": "code",
   "execution_count": 181,
   "metadata": {},
   "outputs": [],
   "source": [
    "def remove_whitespaces(text):\n",
    "    return re.sub(r'\\s*\\s', ' ', text)"
   ]
  },
  {
   "cell_type": "code",
   "execution_count": 182,
   "metadata": {},
   "outputs": [],
   "source": [
    "def remove_url_html(text):\n",
    "    urls = findURLs(text)\n",
    "    for i in urls:\n",
    "        text = re.sub(f\"{i}\", \"\", text)\n",
    "    return text"
   ]
  },
  {
   "cell_type": "code",
   "execution_count": 183,
   "metadata": {},
   "outputs": [],
   "source": [
    "def remove_users(text):\n",
    "    username = findUsernames(text)\n",
    "    for i in username:\n",
    "        text = re.sub(f\"{i}\", \"\", text)\n",
    "    return text"
   ]
  },
  {
   "cell_type": "code",
   "execution_count": 184,
   "metadata": {},
   "outputs": [],
   "source": [
    "def lowercase_text(text):\n",
    "    return lowercase(text)"
   ]
  },
  {
   "cell_type": "code",
   "execution_count": 185,
   "metadata": {},
   "outputs": [],
   "source": [
    "# Here we prefer to perform lemmatization over stemming so that the words don't lose their inherent meaning\n",
    "# and we perform spelling correction using the autocorrect libaray over edit_distance and jaccard because jaccard\n",
    "# and edit_distance are much slower and inaccurate in places\n",
    "\n",
    "def preprocess_text(text):\n",
    "    text = lowercase_text(text)\n",
    "    text = remove_url_html(text)\n",
    "    text = remove_users(text)\n",
    "    text = remove_stopwords(text)\n",
    "    text = remove_punctuations(text)\n",
    "    text = remove_whitespaces(text)\n",
    "    text = tokenization(text)\n",
    "    text = spelling_correction(text)\n",
    "    text = stemming_text(text)\n",
    "    return text\n",
    "\n",
    "def preprocess_text_verbose(text):\n",
    "    print(\"Recieved input ->\", text)\n",
    "    text = lowercase_text(text)\n",
    "    print(\"After lowercasing text ->\", text)\n",
    "    text = remove_url_html(text)\n",
    "    print(\"After removing urls and html ->\", text)\n",
    "    text = remove_users(text)\n",
    "    print(\"After removing usernames ->\", text)\n",
    "    text = remove_stopwords(text)\n",
    "    print(\"After removing stopwords ->\", text)\n",
    "    text = remove_punctuations(text)\n",
    "    print(\"After removing punctuations ->\", text)\n",
    "    text = remove_whitespaces(text)\n",
    "    print(\"After removing extra whitespaces ->\", text)\n",
    "    text = tokenization(text)\n",
    "    print(\"After tokenization ->\", text)\n",
    "    text = spelling_correction(text)\n",
    "    print(\"After spelling correction ->\", text)\n",
    "    text = lemmatization_text(text)\n",
    "    print(\"After lemmatization ->\", text)"
   ]
  },
  {
   "cell_type": "code",
   "execution_count": 186,
   "metadata": {},
   "outputs": [
    {
     "data": {
      "application/vnd.jupyter.widget-view+json": {
       "model_id": "0930eff78fda47f7b99b5bac71b5996b",
       "version_major": 2,
       "version_minor": 0
      },
      "text/plain": [
       "  0%|          | 0/4287 [00:00<?, ?it/s]"
      ]
     },
     "metadata": {},
     "output_type": "display_data"
    }
   ],
   "source": [
    "df_data[\"PREPROCESSED_TEXT\"] = df_data[\"TEXT\"].progress_apply(lambda row: preprocess_text(row))"
   ]
  },
  {
   "cell_type": "code",
   "execution_count": 187,
   "metadata": {},
   "outputs": [],
   "source": [
    "df_data.to_csv('PreProcessed.csv')"
   ]
  },
  {
   "cell_type": "code",
   "execution_count": 188,
   "metadata": {},
   "outputs": [],
   "source": [
    "# Label 0\n",
    "\n",
    "sample_0 = \"Bill Killed.  http://tr.im/nqmj  I'm sure I'm not the first to make this joke...\""
   ]
  },
  {
   "cell_type": "code",
   "execution_count": 189,
   "metadata": {},
   "outputs": [
    {
     "name": "stdout",
     "output_type": "stream",
     "text": [
      "Recieved input -> Bill Killed.  http://tr.im/nqmj  I'm sure I'm not the first to make this joke...\n",
      "After lowercasing text -> bill killed.  http://tr.im/nqmj  i'm sure i'm not the first to make this joke...\n",
      "After removing urls and html -> bill killed.    i'm sure i'm not the first to make this joke...\n",
      "After removing usernames -> bill killed.    i'm sure i'm not the first to make this joke...\n",
      "After removing stopwords -> bill killed.    'sure 'first make joke...\n",
      "After removing punctuations -> bill killed    sure first make joke\n",
      "After removing extra whitespaces -> bill killed sure first make joke\n",
      "After tokenization -> ['bill', 'killed', 'sure', 'first', 'make', 'joke']\n",
      "After spelling correction -> ['bill', 'killed', 'sure', 'first', 'make', 'joke']\n",
      "After lemmatization -> bill killed sure first make joke\n"
     ]
    }
   ],
   "source": [
    "preprocess_text_verbose(sample_0)"
   ]
  },
  {
   "cell_type": "code",
   "execution_count": 190,
   "metadata": {},
   "outputs": [],
   "source": [
    "# Label 1\n",
    "\n",
    "sample_1 = '@rainbowsleeve thanks for passing on the word re: no plastic bags petition (http://tinyurl.com/dk5p94)  '"
   ]
  },
  {
   "cell_type": "code",
   "execution_count": 191,
   "metadata": {},
   "outputs": [
    {
     "name": "stdout",
     "output_type": "stream",
     "text": [
      "Recieved input -> @rainbowsleeve thanks for passing on the word re: no plastic bags petition (http://tinyurl.com/dk5p94)  \n",
      "After lowercasing text -> @rainbowsleeve thanks for passing on the word re: no plastic bags petition (http://tinyurl.com/dk5p94)  \n",
      "After removing urls and html -> @rainbowsleeve thanks for passing on the word re: no plastic bags petition ()  \n",
      "After removing usernames ->  thanks for passing on the word re: no plastic bags petition ()  \n",
      "After removing stopwords ->  thanks passing word : plastic bags petition ()  \n",
      "After removing punctuations ->  thanks passing word  plastic bags petition   \n",
      "After removing extra whitespaces ->  thanks passing word plastic bags petition \n",
      "After tokenization -> ['thanks', 'passing', 'word', 'plastic', 'bags', 'petition']\n",
      "After spelling correction -> ['thanks', 'passing', 'word', 'plastic', 'bags', 'petition']\n",
      "After lemmatization -> thanks passing word plastic bag petition\n"
     ]
    }
   ],
   "source": [
    "preprocess_text_verbose(sample_1)"
   ]
  },
  {
   "cell_type": "markdown",
   "metadata": {},
   "source": [
    "# III) Visualization"
   ]
  },
  {
   "cell_type": "markdown",
   "metadata": {},
   "source": [
    "## a) Word Clouds of both classes"
   ]
  },
  {
   "cell_type": "code",
   "execution_count": 210,
   "metadata": {},
   "outputs": [],
   "source": [
    "positive_preprocessed_text = df_data[\"PREPROCESSED_TEXT\"][df_data.LABEL==1]\n",
    "negative_preprocessed_text = df_data[\"PREPROCESSED_TEXT\"][df_data.LABEL==0]"
   ]
  },
  {
   "cell_type": "code",
   "execution_count": 211,
   "metadata": {},
   "outputs": [],
   "source": [
    "positive_preprocessed_text = ' '.join(positive_preprocessed_text.values)\n",
    "negative_preprocessed_text = ' '.join(negative_preprocessed_text.values)"
   ]
  },
  {
   "cell_type": "code",
   "execution_count": 223,
   "metadata": {},
   "outputs": [],
   "source": [
    "pos_wordcloud = WordCloud(width = 1500, height = 720,\n",
    "                background_color ='black',\n",
    "                min_font_size = 10).generate(positive_preprocessed_text)"
   ]
  },
  {
   "cell_type": "code",
   "execution_count": 224,
   "metadata": {},
   "outputs": [
    {
     "data": {
      "image/png": "[encoded data removed]",
      "text/plain": [
       "<Figure size 432x288 with 1 Axes>"
      ]
     },
     "metadata": {
      "needs_background": "light"
     },
     "output_type": "display_data"
    },
    {
     "data": {
      "text/plain": [
       "<wordcloud.wordcloud.WordCloud at 0x1b6f8413220>"
      ]
     },
     "execution_count": 224,
     "metadata": {},
     "output_type": "execute_result"
    }
   ],
   "source": [
    "plt.axis(\"off\")\n",
    "plt.imshow(pos_wordcloud, interpolation=\"bilinear\")\n",
    "plt.show()\n",
    "pos_wordcloud.to_file('pos.png')"
   ]
  },
  {
   "cell_type": "code",
   "execution_count": 225,
   "metadata": {},
   "outputs": [],
   "source": [
    "neg_wordcloud = WordCloud(width = 1500, height = 720,\n",
    "                background_color ='black',\n",
    "                min_font_size = 10).generate(negative_preprocessed_text)"
   ]
  },
  {
   "cell_type": "code",
   "execution_count": 226,
   "metadata": {},
   "outputs": [
    {
     "data": {
      "image/png": "[encoded data removed]",
      "text/plain": [
       "<Figure size 432x288 with 1 Axes>"
      ]
     },
     "metadata": {
      "needs_background": "light"
     },
     "output_type": "display_data"
    },
    {
     "data": {
      "text/plain": [
       "<wordcloud.wordcloud.WordCloud at 0x1b703287be0>"
      ]
     },
     "execution_count": 226,
     "metadata": {},
     "output_type": "execute_result"
    }
   ],
   "source": [
    "plt.axis(\"off\")\n",
    "plt.imshow(neg_wordcloud, interpolation=\"bilinear\")\n",
    "plt.show()\n",
    "neg_wordcloud.to_file('neg.png') "
   ]
  },
  {
   "cell_type": "markdown",
   "metadata": {},
   "source": [
    "## b) Observations"
   ]
  },
  {
   "cell_type": "code",
   "execution_count": 233,
   "metadata": {},
   "outputs": [],
   "source": [
    "positive_vocab = {}\n",
    "for word in positive_preprocessed_text.split():\n",
    "    if word in positive_vocab.keys():\n",
    "        positive_vocab[word] += 1\n",
    "    else:\n",
    "        positive_vocab[word] = 1    "
   ]
  },
  {
   "cell_type": "code",
   "execution_count": 234,
   "metadata": {},
   "outputs": [],
   "source": [
    "positive_vocab = dict(sorted(positive_vocab.items(), key=lambda item: -1*item[1]))"
   ]
  },
  {
   "cell_type": "code",
   "execution_count": 235,
   "metadata": {},
   "outputs": [],
   "source": [
    "negative_vocab = {}\n",
    "for word in negative_preprocessed_text.split():\n",
    "    if word in negative_vocab.keys():\n",
    "        negative_vocab[word] += 1\n",
    "    else:\n",
    "        negative_vocab[word] = 1"
   ]
  },
  {
   "cell_type": "code",
   "execution_count": 236,
   "metadata": {},
   "outputs": [],
   "source": [
    "negative_vocab = dict(sorted(negative_vocab.items(), key=lambda item: -1*item[1]))"
   ]
  },
  {
   "cell_type": "code",
   "execution_count": 237,
   "metadata": {
    "collapsed": true
   },
   "outputs": [
    {
     "data": {
      "text/plain": [
       "{'go': 204,\n",
       " 'get': 180,\n",
       " 'work': 148,\n",
       " 'want': 116,\n",
       " 'miss': 113,\n",
       " 'day': 111,\n",
       " 'feel': 107,\n",
       " 'like': 103,\n",
       " 'realli': 92,\n",
       " 'back': 90,\n",
       " 'today': 89,\n",
       " 'got': 87,\n",
       " 'sad': 82,\n",
       " 'time': 82,\n",
       " 'still': 79,\n",
       " 'need': 75,\n",
       " 'one': 72,\n",
       " 'good': 66,\n",
       " 'lol': 66,\n",
       " 'tomorrow': 65,\n",
       " 'home': 65,\n",
       " 'last': 65,\n",
       " 'know': 64,\n",
       " '2': 64,\n",
       " 'im': 63,\n",
       " 'make': 63,\n",
       " 'hope': 60,\n",
       " 'see': 59,\n",
       " 'u': 59,\n",
       " 'oh': 56,\n",
       " 'sleep': 54,\n",
       " 'think': 53,\n",
       " 'sorri': 53,\n",
       " 'much': 53,\n",
       " 'amp': 51,\n",
       " 'wish': 48,\n",
       " 'love': 47,\n",
       " 'hate': 46,\n",
       " 'come': 46,\n",
       " 'night': 46,\n",
       " 'tri': 45,\n",
       " 'morn': 45,\n",
       " 'right': 45,\n",
       " 'look': 45,\n",
       " 'bad': 43,\n",
       " 'watch': 41,\n",
       " 'friend': 40,\n",
       " 'twitter': 39,\n",
       " 'sick': 39,\n",
       " 'new': 39,\n",
       " 'thing': 39,\n",
       " 'though': 38,\n",
       " 'tonight': 38,\n",
       " 'week': 35,\n",
       " 'hour': 35,\n",
       " 'cant': 34,\n",
       " 'suck': 34,\n",
       " 'never': 34,\n",
       " 'even': 33,\n",
       " 'way': 33,\n",
       " 'dont': 32,\n",
       " 'bore': 31,\n",
       " 'wait': 31,\n",
       " 'say': 31,\n",
       " 'rain': 30,\n",
       " 'school': 30,\n",
       " 'take': 30,\n",
       " 'gh': 29,\n",
       " 'tire': 29,\n",
       " 'gonna': 29,\n",
       " 'www': 29,\n",
       " 'use': 28,\n",
       " 'long': 28,\n",
       " 'call': 28,\n",
       " 'yeah': 27,\n",
       " 'could': 27,\n",
       " 'wanna': 27,\n",
       " 'well': 27,\n",
       " 'play': 26,\n",
       " 'find': 26,\n",
       " 'bed': 26,\n",
       " 'haha': 26,\n",
       " 'phone': 25,\n",
       " 'left': 25,\n",
       " 'better': 25,\n",
       " 'head': 25,\n",
       " 'yet': 25,\n",
       " 'littl': 24,\n",
       " 'hurt': 24,\n",
       " 'start': 24,\n",
       " 'cri': 24,\n",
       " 'live': 24,\n",
       " 'weekend': 23,\n",
       " 'man': 23,\n",
       " 'break': 23,\n",
       " 'soon': 23,\n",
       " 'talk': 23,\n",
       " 'would': 23,\n",
       " 'fun': 22,\n",
       " 'peopl': 22,\n",
       " 'poor': 22,\n",
       " 'someth': 22,\n",
       " 'damn': 22,\n",
       " 'pleas': 21,\n",
       " 'year': 21,\n",
       " 'old': 21,\n",
       " 'leav': 21,\n",
       " 'follow': 21,\n",
       " 'done': 21,\n",
       " 'away': 20,\n",
       " '3': 20,\n",
       " 'noth': 20,\n",
       " 'earli': 20,\n",
       " 'ok': 20,\n",
       " 'show': 20,\n",
       " 'hey': 20,\n",
       " 'hear': 19,\n",
       " 'x': 19,\n",
       " 'guy': 19,\n",
       " 'test': 19,\n",
       " 'gone': 19,\n",
       " 'thank': 19,\n",
       " 'didnt': 19,\n",
       " 'mean': 18,\n",
       " 'tweet': 18,\n",
       " '4': 18,\n",
       " 'went': 18,\n",
       " 'exam': 18,\n",
       " 'lost': 18,\n",
       " 'headach': 18,\n",
       " 'life': 18,\n",
       " 'ill': 18,\n",
       " 'read': 18,\n",
       " 'studi': 18,\n",
       " 'late': 18,\n",
       " 'fuck': 18,\n",
       " 'anyth': 17,\n",
       " 'help': 17,\n",
       " 'move': 17,\n",
       " 'ur': 17,\n",
       " 'final': 17,\n",
       " 'made': 17,\n",
       " 'stop': 17,\n",
       " 'friday': 17,\n",
       " 'anoth': 17,\n",
       " 'give': 17,\n",
       " 'shit': 17,\n",
       " 'alreadi': 17,\n",
       " 'someon': 17,\n",
       " 'let': 17,\n",
       " 'sinc': 17,\n",
       " 'die': 17,\n",
       " 'gotta': 17,\n",
       " 'great': 17,\n",
       " 'eat': 17,\n",
       " 'tell': 16,\n",
       " 'kill': 16,\n",
       " 'keep': 16,\n",
       " 'hous': 16,\n",
       " 'woke': 16,\n",
       " 'alway': 16,\n",
       " 'kid': 16,\n",
       " 'sun': 16,\n",
       " 'money': 16,\n",
       " '1': 16,\n",
       " 'r': 16,\n",
       " 'stuck': 16,\n",
       " 'nice': 16,\n",
       " 'cold': 16,\n",
       " 'n': 16,\n",
       " 'run': 16,\n",
       " 'seem': 15,\n",
       " 'stupid': 15,\n",
       " 'hard': 15,\n",
       " 'open': 15,\n",
       " 'guess': 15,\n",
       " 'job': 15,\n",
       " 'parti': 15,\n",
       " 'babi': 15,\n",
       " 'song': 15,\n",
       " 'wonder': 15,\n",
       " 'next': 15,\n",
       " 'hot': 15,\n",
       " 'stuff': 15,\n",
       " 'summer': 15,\n",
       " 'wont': 14,\n",
       " 'meet': 14,\n",
       " 'food': 14,\n",
       " 'finish': 14,\n",
       " 'readi': 14,\n",
       " 'lot': 14,\n",
       " 'us': 14,\n",
       " 'book': 14,\n",
       " 'best': 14,\n",
       " 'sure': 14,\n",
       " 'check': 14,\n",
       " 'sunday': 14,\n",
       " 'also': 14,\n",
       " 'cup': 14,\n",
       " 'stay': 13,\n",
       " 'everyon': 13,\n",
       " 'enough': 13,\n",
       " 'monday': 13,\n",
       " 'fix': 13,\n",
       " 'total': 13,\n",
       " 'happi': 13,\n",
       " 'broke': 13,\n",
       " 'god': 13,\n",
       " 'sound': 13,\n",
       " 'win': 13,\n",
       " 'caus': 13,\n",
       " 'girl': 13,\n",
       " 'ya': 13,\n",
       " 'fail': 13,\n",
       " 'aw': 13,\n",
       " 'awesom': 13,\n",
       " 'alon': 12,\n",
       " 'without': 12,\n",
       " 'answer': 12,\n",
       " 'ever': 12,\n",
       " 'offic': 12,\n",
       " 'bit': 12,\n",
       " 'probabl': 12,\n",
       " 'pain': 12,\n",
       " 'updat': 12,\n",
       " 'ago': 12,\n",
       " 'ye': 12,\n",
       " 'mom': 12,\n",
       " 'later': 12,\n",
       " 'ah': 12,\n",
       " 'car': 12,\n",
       " 'movi': 12,\n",
       " 'thought': 12,\n",
       " 'hug': 11,\n",
       " 'eye': 11,\n",
       " 'two': 11,\n",
       " 'drive': 11,\n",
       " 'abl': 11,\n",
       " 'tho': 11,\n",
       " 'told': 11,\n",
       " 'felt': 11,\n",
       " 'happen': 11,\n",
       " 'wake': 11,\n",
       " 'either': 11,\n",
       " 'around': 11,\n",
       " 'omg': 11,\n",
       " 'end': 11,\n",
       " 'pack': 11,\n",
       " 'that': 11,\n",
       " 'busi': 11,\n",
       " 'first': 11,\n",
       " 'mayb': 10,\n",
       " 'ride': 10,\n",
       " 'whole': 10,\n",
       " 'game': 10,\n",
       " 'dead': 10,\n",
       " 'forgot': 10,\n",
       " 'shop': 10,\n",
       " 'news': 10,\n",
       " 'half': 10,\n",
       " 'hell': 10,\n",
       " 'anymor': 10,\n",
       " 'found': 10,\n",
       " 'site': 10,\n",
       " 'ticket': 10,\n",
       " 'wrong': 10,\n",
       " 'b': 10,\n",
       " 'hit': 10,\n",
       " 'weather': 10,\n",
       " 'cool': 10,\n",
       " 'pic': 10,\n",
       " 'crazi': 10,\n",
       " 'els': 10,\n",
       " 'outsid': 10,\n",
       " 'chang': 10,\n",
       " 'scare': 9,\n",
       " 'face': 9,\n",
       " 'must': 9,\n",
       " 'minut': 9,\n",
       " 'far': 9,\n",
       " 'hungri': 9,\n",
       " 'heart': 9,\n",
       " 'glad': 9,\n",
       " 'link': 9,\n",
       " 'wors': 9,\n",
       " 'slept': 9,\n",
       " 'hospit': 9,\n",
       " 'actual': 9,\n",
       " 'annoy': 9,\n",
       " 'free': 9,\n",
       " 'boy': 9,\n",
       " 'onlin': 9,\n",
       " 'listen': 9,\n",
       " 'plan': 9,\n",
       " 'box': 9,\n",
       " 'page': 9,\n",
       " 'doesnt': 9,\n",
       " 'month': 9,\n",
       " 'said': 9,\n",
       " 'almost': 9,\n",
       " 'class': 9,\n",
       " 'sit': 9,\n",
       " 'lucki': 9,\n",
       " 'write': 9,\n",
       " 'music': 8,\n",
       " 'arm': 8,\n",
       " 'gt': 8,\n",
       " 'instead': 8,\n",
       " 'crap': 8,\n",
       " 'clean': 8,\n",
       " 'yesterday': 8,\n",
       " 'dad': 8,\n",
       " 'rest': 8,\n",
       " 'enjoy': 8,\n",
       " 'jealou': 8,\n",
       " 'afford': 8,\n",
       " 'none': 8,\n",
       " 'drink': 8,\n",
       " 'water': 8,\n",
       " 'real': 8,\n",
       " 'disappoint': 8,\n",
       " 'mani': 8,\n",
       " 'note': 8,\n",
       " 'dream': 8,\n",
       " 'sweet': 8,\n",
       " 'text': 8,\n",
       " 'storm': 8,\n",
       " 'world': 8,\n",
       " 'boo': 8,\n",
       " 'homework': 8,\n",
       " 'la': 8,\n",
       " 'reason': 8,\n",
       " 'train': 8,\n",
       " 'download': 8,\n",
       " 'id': 8,\n",
       " '5': 8,\n",
       " 'saturday': 8,\n",
       " 'kind': 8,\n",
       " 'pictur': 8,\n",
       " 'anyway': 8,\n",
       " 'cake': 8,\n",
       " 'room': 8,\n",
       " 'true': 8,\n",
       " 'forget': 7,\n",
       " 'app': 7,\n",
       " 'bodi': 7,\n",
       " 'teacher': 7,\n",
       " 'pull': 7,\n",
       " 'dinner': 7,\n",
       " 'okay': 7,\n",
       " 'ppl': 7,\n",
       " 'send': 7,\n",
       " 'repli': 7,\n",
       " 'big': 7,\n",
       " 'lunch': 7,\n",
       " 'post': 7,\n",
       " 'famili': 7,\n",
       " 'trip': 7,\n",
       " 'card': 7,\n",
       " 'tast': 7,\n",
       " 'serious': 7,\n",
       " 'lie': 7,\n",
       " 'caught': 7,\n",
       " 'parent': 7,\n",
       " 'hotel': 7,\n",
       " 'awak': 7,\n",
       " 'expect': 7,\n",
       " 'date': 7,\n",
       " 'store': 7,\n",
       " 'heard': 7,\n",
       " 'idea': 7,\n",
       " 'turn': 7,\n",
       " 'wear': 7,\n",
       " 'dog': 7,\n",
       " 'beauti': 7,\n",
       " 'radio': 7,\n",
       " 'doctor': 7,\n",
       " 'hi': 7,\n",
       " 'comput': 7,\n",
       " 'part': 7,\n",
       " 'iphon': 7,\n",
       " 'top': 7,\n",
       " 'took': 7,\n",
       " 'close': 7,\n",
       " 'may': 7,\n",
       " 'air': 7,\n",
       " 'josh': 7,\n",
       " 'unfortun': 7,\n",
       " 'beach': 7,\n",
       " 'offici': 7,\n",
       " 'airport': 7,\n",
       " 'lame': 7,\n",
       " 'everi': 7,\n",
       " 'quot': 7,\n",
       " 'vacat': 7,\n",
       " 'hand': 7,\n",
       " 'person': 7,\n",
       " 'brother': 7,\n",
       " 'til': 7,\n",
       " 'anyon': 7,\n",
       " 'taken': 7,\n",
       " 'case': 6,\n",
       " 'ate': 6,\n",
       " 'worri': 6,\n",
       " 'figur': 6,\n",
       " 'rememb': 6,\n",
       " 'moment': 6,\n",
       " 'full': 6,\n",
       " 'laugh': 6,\n",
       " 'block': 6,\n",
       " 'invit': 6,\n",
       " 'sore': 6,\n",
       " 'sadli': 6,\n",
       " 'tea': 6,\n",
       " 'star': 6,\n",
       " 'cream': 6,\n",
       " 'name': 6,\n",
       " 'allow': 6,\n",
       " 'sold': 6,\n",
       " 'till': 6,\n",
       " 'mad': 6,\n",
       " 'lt3': 6,\n",
       " 'burn': 6,\n",
       " 'smoke': 6,\n",
       " 'due': 6,\n",
       " 'past': 6,\n",
       " 'three': 6,\n",
       " 'realiz': 6,\n",
       " 'itun': 6,\n",
       " 'exhaust': 6,\n",
       " 'appar': 6,\n",
       " 'realis': 6,\n",
       " 'xx': 6,\n",
       " 'aaaaaa': 6,\n",
       " 'catch': 6,\n",
       " 'bt': 6,\n",
       " 'nobodi': 6,\n",
       " 'ga': 6,\n",
       " 'video': 6,\n",
       " 'suppos': 6,\n",
       " 'revis': 6,\n",
       " 'dri': 6,\n",
       " 'side': 6,\n",
       " 'horribl': 6,\n",
       " 'voodoo': 6,\n",
       " 'key': 6,\n",
       " 'slow': 6,\n",
       " 'church': 6,\n",
       " 'front': 6,\n",
       " 'pass': 6,\n",
       " 'wed': 6,\n",
       " 'remind': 6,\n",
       " 'togeth': 6,\n",
       " 'kinda': 6,\n",
       " 'place': 6,\n",
       " 'pretti': 6,\n",
       " 'blood': 6,\n",
       " 'lone': 6,\n",
       " 'cook': 6,\n",
       " 'paper': 6,\n",
       " '6': 6,\n",
       " 'bag': 6,\n",
       " 'coffe': 6,\n",
       " 'fill': 6,\n",
       " 'sigh': 6,\n",
       " 'confus': 6,\n",
       " 'red': 6,\n",
       " 'ha': 6,\n",
       " 'put': 6,\n",
       " 'gun': 6,\n",
       " 'goe': 6,\n",
       " 'kate': 6,\n",
       " 'isnt': 6,\n",
       " 'pc': 6,\n",
       " 'spend': 6,\n",
       " 'da': 6,\n",
       " 'mine': 6,\n",
       " 'hair': 6,\n",
       " 'afraid': 5,\n",
       " 'mention': 5,\n",
       " 'saw': 5,\n",
       " 'ive': 5,\n",
       " 'cannot': 5,\n",
       " 'thursday': 5,\n",
       " 'physic': 5,\n",
       " 'server': 5,\n",
       " 'crash': 5,\n",
       " 'screen': 5,\n",
       " 'rip': 5,\n",
       " 'fast': 5,\n",
       " 'bet': 5,\n",
       " 'ice': 5,\n",
       " 'chees': 5,\n",
       " 'set': 5,\n",
       " 'hav': 5,\n",
       " 'believ': 5,\n",
       " 'plane': 5,\n",
       " 'pop': 5,\n",
       " 'receiv': 5,\n",
       " 'funni': 5,\n",
       " 'puppi': 5,\n",
       " 'email': 5,\n",
       " 'wash': 5,\n",
       " 'alarm': 5,\n",
       " 'race': 5,\n",
       " 'bb': 5,\n",
       " '15': 5,\n",
       " 'station': 5,\n",
       " 'nap': 5,\n",
       " 'london': 5,\n",
       " 'soo': 5,\n",
       " 'land': 5,\n",
       " 'super': 5,\n",
       " 'buy': 5,\n",
       " 'btw': 5,\n",
       " 'there': 5,\n",
       " 'yr': 5,\n",
       " 'shift': 5,\n",
       " 'sister': 5,\n",
       " 'mother': 5,\n",
       " 'comic': 5,\n",
       " 'summit': 5,\n",
       " 'learn': 5,\n",
       " 'less': 5,\n",
       " 'huge': 5,\n",
       " 'hangov': 5,\n",
       " '20': 5,\n",
       " 'gross': 5,\n",
       " 'although': 5,\n",
       " 'log': 5,\n",
       " 'thu': 5,\n",
       " 'chocol': 5,\n",
       " 'wow': 5,\n",
       " 'gut': 5,\n",
       " 'ipod': 5,\n",
       " 'internet': 5,\n",
       " 'mess': 5,\n",
       " 'might': 5,\n",
       " 'seriou': 5,\n",
       " 'w': 5,\n",
       " 'shot': 5,\n",
       " 'skin': 5,\n",
       " 'smell': 5,\n",
       " 'shower': 5,\n",
       " 'add': 5,\n",
       " 'terribl': 5,\n",
       " 'leg': 5,\n",
       " 'somewher': 5,\n",
       " 'sell': 5,\n",
       " 'singl': 5,\n",
       " 'hill': 5,\n",
       " 'project': 5,\n",
       " 'beer': 5,\n",
       " 'sky': 5,\n",
       " 'record': 5,\n",
       " 'dang': 5,\n",
       " 'bar': 5,\n",
       " 'camp': 5,\n",
       " 'forward': 5,\n",
       " 'understand': 5,\n",
       " 'channel': 5,\n",
       " 'everyth': 5,\n",
       " 'return': 5,\n",
       " 'bout': 5,\n",
       " 'account': 5,\n",
       " 'cloth': 5,\n",
       " 'usual': 5,\n",
       " 'batteri': 5,\n",
       " 'bare': 5,\n",
       " 'fli': 5,\n",
       " 'neck': 5,\n",
       " 'ear': 5,\n",
       " 'drop': 5,\n",
       " 'pray': 5,\n",
       " 'what': 5,\n",
       " 'speak': 5,\n",
       " 'dress': 5,\n",
       " 'shake': 4,\n",
       " 'gloomi': 4,\n",
       " 'om': 4,\n",
       " 'sleepi': 4,\n",
       " 'cancel': 4,\n",
       " 'xxx': 4,\n",
       " 'student': 4,\n",
       " 'cat': 4,\n",
       " 'thunder': 4,\n",
       " 'care': 4,\n",
       " 'complet': 4,\n",
       " 'sup': 4,\n",
       " 'small': 4,\n",
       " 'function': 4,\n",
       " 'longer': 4,\n",
       " 'upset': 4,\n",
       " 'pick': 4,\n",
       " 'traffic': 4,\n",
       " 'street': 4,\n",
       " 'tweetdeck': 4,\n",
       " 'stori': 4,\n",
       " 'state': 4,\n",
       " 'decid': 4,\n",
       " 'came': 4,\n",
       " 'grand': 4,\n",
       " 'fire': 4,\n",
       " 'cooki': 4,\n",
       " 'expens': 4,\n",
       " 'knew': 4,\n",
       " 'mmm': 4,\n",
       " 'badli': 4,\n",
       " 'light': 4,\n",
       " 'arriv': 4,\n",
       " 'fine': 4,\n",
       " 'pay': 4,\n",
       " 'paid': 4,\n",
       " 'white': 4,\n",
       " 'taylor': 4,\n",
       " 'practic': 4,\n",
       " 'easi': 4,\n",
       " 'exactli': 4,\n",
       " 'have': 4,\n",
       " 'dear': 4,\n",
       " 'album': 4,\n",
       " 'concert': 4,\n",
       " 'hayfev': 4,\n",
       " 'yay': 4,\n",
       " 'worth': 4,\n",
       " 'chanc': 4,\n",
       " 'um': 4,\n",
       " 'point': 4,\n",
       " 'self': 4,\n",
       " 'darn': 4,\n",
       " 'tour': 4,\n",
       " 'doi': 4,\n",
       " 'share': 4,\n",
       " '4am': 4,\n",
       " 'energi': 4,\n",
       " 'bike': 4,\n",
       " 'dude': 4,\n",
       " 'dm': 4,\n",
       " 'you': 4,\n",
       " 'whatev': 4,\n",
       " 'click': 4,\n",
       " 'loss': 4,\n",
       " 'lazi': 4,\n",
       " 'forev': 4,\n",
       " 'feet': 4,\n",
       " 'colleg': 4,\n",
       " 'jump': 4,\n",
       " 'band': 4,\n",
       " 'xd': 4,\n",
       " 'sign': 4,\n",
       " 'attack': 4,\n",
       " 'sever': 4,\n",
       " 'least': 4,\n",
       " 'math': 4,\n",
       " 'lose': 4,\n",
       " 'san': 4,\n",
       " 'diego': 4,\n",
       " 'tom': 4,\n",
       " 'toast': 4,\n",
       " 'sunni': 4,\n",
       " 'thru': 4,\n",
       " 'bueno': 4,\n",
       " '9': 4,\n",
       " 'clear': 4,\n",
       " 'sim': 4,\n",
       " 'he': 4,\n",
       " 'seen': 4,\n",
       " 'dunno': 4,\n",
       " 'dvd': 4,\n",
       " 'ash': 4,\n",
       " 'ala': 4,\n",
       " '1st': 4,\n",
       " 'order': 4,\n",
       " 'ugli': 4,\n",
       " 'dummi': 4,\n",
       " 'fan': 4,\n",
       " 'met': 4,\n",
       " 'sniff': 4,\n",
       " 'pool': 4,\n",
       " 'blog': 4,\n",
       " 'blue': 4,\n",
       " 'birthday': 4,\n",
       " 'continu': 4,\n",
       " 'delet': 4,\n",
       " 'kick': 4,\n",
       " 'mind': 4,\n",
       " 'della': 4,\n",
       " 'gym': 4,\n",
       " 'min': 4,\n",
       " 'depress': 4,\n",
       " 'mainten': 4,\n",
       " 'gray': 4,\n",
       " 'laptop': 4,\n",
       " 'base': 4,\n",
       " 'respond': 4,\n",
       " 'apart': 4,\n",
       " 'trust': 4,\n",
       " 'save': 4,\n",
       " 'amaz': 4,\n",
       " 'bring': 4,\n",
       " 'citi': 4,\n",
       " 'apprentic': 4,\n",
       " 'mac': 4,\n",
       " 'art': 4,\n",
       " 'breakfast': 4,\n",
       " 'camera': 4,\n",
       " 'instal': 4,\n",
       " 'six': 4,\n",
       " 'sing': 4,\n",
       " 'age': 4,\n",
       " 'contact': 4,\n",
       " 'photo': 4,\n",
       " 'sometim': 4,\n",
       " 'jk': 4,\n",
       " 'motiv': 4,\n",
       " 'hold': 4,\n",
       " 'visit': 4,\n",
       " '8': 4,\n",
       " 'yea': 3,\n",
       " 'iranelect': 3,\n",
       " 'current': 3,\n",
       " 'uk': 3,\n",
       " '2nd': 3,\n",
       " 'grade': 3,\n",
       " 'l': 3,\n",
       " 'wast': 3,\n",
       " 'afternoon': 3,\n",
       " 'hide': 3,\n",
       " 'effect': 3,\n",
       " 'lightn': 3,\n",
       " 'includ': 3,\n",
       " 'profil': 3,\n",
       " 'net': 3,\n",
       " 'fair': 3,\n",
       " 'definit': 3,\n",
       " 'level': 3,\n",
       " '\\x80': 3,\n",
       " '\\x99': 3,\n",
       " 'earlier': 3,\n",
       " 'dark': 3,\n",
       " 'web': 3,\n",
       " 'bath': 3,\n",
       " 'second': 3,\n",
       " 'remov': 3,\n",
       " 'blow': 3,\n",
       " 'choic': 3,\n",
       " 'hang': 3,\n",
       " 'armi': 3,\n",
       " 'bubbl': 3,\n",
       " 'mistak': 3,\n",
       " 'surpris': 3,\n",
       " 'kitti': 3,\n",
       " 'histori': 3,\n",
       " 'gossip': 3,\n",
       " 'overtim': 3,\n",
       " 'buddi': 3,\n",
       " 'problem': 3,\n",
       " 'absolut': 3,\n",
       " 'public': 3,\n",
       " 'rude': 3,\n",
       " 'rock': 3,\n",
       " 'mcflyinmanila': 3,\n",
       " 'vega': 3,\n",
       " 'ang': 3,\n",
       " 'word': 3,\n",
       " 'machin': 3,\n",
       " 'scari': 3,\n",
       " 'china': 3,\n",
       " 'nick': 3,\n",
       " 'swear': 3,\n",
       " 'truck': 3,\n",
       " 'death': 3,\n",
       " 'fam': 3,\n",
       " 'support': 3,\n",
       " 'mile': 3,\n",
       " 'grow': 3,\n",
       " 'luck': 3,\n",
       " 'tear': 3,\n",
       " 'ridicul': 3,\n",
       " 'polish': 3,\n",
       " 'human': 3,\n",
       " 'bf': 3,\n",
       " 'agre': 3,\n",
       " 'surgeri': 3,\n",
       " 'spent': 3,\n",
       " 'sale': 3,\n",
       " 'fit': 3,\n",
       " 'gay': 3,\n",
       " 'breath': 3,\n",
       " 'children': 3,\n",
       " 'begin': 3,\n",
       " 'jenni': 3,\n",
       " 'robot': 3,\n",
       " 'bill': 3,\n",
       " 'carri': 3,\n",
       " 'messag': 3,\n",
       " 'number': 3,\n",
       " 'aint': 3,\n",
       " 'graduat': 3,\n",
       " 'f': 3,\n",
       " 'seven': 3,\n",
       " 'bought': 3,\n",
       " 'mario': 3,\n",
       " 'cricket': 3,\n",
       " '2day': 3,\n",
       " 'fall': 3,\n",
       " 'dentist': 3,\n",
       " 'somebodi': 3,\n",
       " 'piss': 3,\n",
       " 'million': 3,\n",
       " 'cabl': 3,\n",
       " 'chick': 3,\n",
       " 'delay': 3,\n",
       " '30': 3,\n",
       " 'import': 3,\n",
       " 'jazz': 3,\n",
       " 'chri': 3,\n",
       " 'manag': 3,\n",
       " 'differ': 3,\n",
       " 'product': 3,\n",
       " 'shame': 3,\n",
       " 'green': 3,\n",
       " 'winter': 3,\n",
       " 'forc': 3,\n",
       " 'stand': 3,\n",
       " 'chemistri': 3,\n",
       " 'list': 3,\n",
       " 'bigger': 3,\n",
       " 'cover': 3,\n",
       " '3g': 3,\n",
       " 'anywher': 3,\n",
       " 'worst': 3,\n",
       " 'evil': 3,\n",
       " 'tissu': 3,\n",
       " 'babel': 3,\n",
       " 'lesson': 3,\n",
       " 'choos': 3,\n",
       " 'franc': 3,\n",
       " 'howev': 3,\n",
       " 'fed': 3,\n",
       " 'five': 3,\n",
       " 'stress': 3,\n",
       " 'panic': 3,\n",
       " 'asap': 3,\n",
       " 'such': 3,\n",
       " 'male': 3,\n",
       " 'fell': 3,\n",
       " 'asleep': 3,\n",
       " 'victim': 3,\n",
       " 'tune': 3,\n",
       " 'map': 3,\n",
       " 'seri': 3,\n",
       " 'hero': 3,\n",
       " 'spoke': 3,\n",
       " 'shoot': 3,\n",
       " 'bowl': 3,\n",
       " 'kati': 3,\n",
       " 'wall': 3,\n",
       " 'facebook': 3,\n",
       " 'il': 3,\n",
       " 'flight': 3,\n",
       " 'edit': 3,\n",
       " 'hr': 3,\n",
       " 'girlfriend': 3,\n",
       " 'comp': 3,\n",
       " 'bitch': 3,\n",
       " 'june': 3,\n",
       " 'oxo': 3,\n",
       " 'ufc': 3,\n",
       " 'insid': 3,\n",
       " 'weird': 3,\n",
       " 'stomach': 3,\n",
       " 'episod': 3,\n",
       " 'sunburnt': 3,\n",
       " 'migrain': 3,\n",
       " 'alright': 3,\n",
       " 'pound': 3,\n",
       " 'charact': 3,\n",
       " 'ask': 3,\n",
       " 'upload': 3,\n",
       " '2site': 3,\n",
       " 'ick': 3,\n",
       " 'chill': 3,\n",
       " 'appl': 3,\n",
       " 'wtf': 3,\n",
       " 'gig': 3,\n",
       " 'ebay': 3,\n",
       " 'xxxx': 3,\n",
       " 'experi': 3,\n",
       " 'fever': 3,\n",
       " 'pizza': 3,\n",
       " 'miley': 3,\n",
       " 'soak': 3,\n",
       " 'perfect': 3,\n",
       " 'tree': 3,\n",
       " 'magic': 3,\n",
       " 'japan': 3,\n",
       " 'heat': 3,\n",
       " 'sub': 3,\n",
       " 'beg': 3,\n",
       " 'softwar': 3,\n",
       " 'poo': 3,\n",
       " 'david': 3,\n",
       " 'forgotten': 3,\n",
       " 'imagin': 3,\n",
       " 'yup': 3,\n",
       " 'di': 3,\n",
       " 'fault': 3,\n",
       " 'soup': 3,\n",
       " 'ass': 3,\n",
       " 'limit': 3,\n",
       " '7': 3,\n",
       " 'stole': 3,\n",
       " 'jon': 3,\n",
       " 'teddi': 3,\n",
       " 'vote': 3,\n",
       " 'epic': 3,\n",
       " 'hobbi': 3,\n",
       " 'danni': 3,\n",
       " 'middl': 3,\n",
       " 'round': 3,\n",
       " 'burnt': 3,\n",
       " 'lil': 3,\n",
       " 'nowher': 3,\n",
       " 'bright': 3,\n",
       " 'doubl': 3,\n",
       " 'twice': 3,\n",
       " 'randomli': 3,\n",
       " 'walk': 3,\n",
       " 'rid': 3,\n",
       " 'salad': 3,\n",
       " 'contest': 3,\n",
       " 'couldnt': 3,\n",
       " 'solo': 3,\n",
       " 'issu': 3,\n",
       " 'coupl': 3,\n",
       " 'toy': 3,\n",
       " 'count': 3,\n",
       " 'join': 3,\n",
       " 'broken': 3,\n",
       " 'the': 3,\n",
       " 'essay': 3,\n",
       " 'ruin': 3,\n",
       " 'ran': 3,\n",
       " 'no': 3,\n",
       " 'flu': 3,\n",
       " 'question': 3,\n",
       " 'throw': 3,\n",
       " 'plz': 3,\n",
       " 'exist': 3,\n",
       " 'address': 3,\n",
       " 'troubl': 3,\n",
       " 'throat': 3,\n",
       " 'brandi': 3,\n",
       " 'mood': 3,\n",
       " 'mobil': 3,\n",
       " 'sent': 3,\n",
       " 'ahead': 3,\n",
       " 'crappi': 3,\n",
       " 'kitchen': 3,\n",
       " 'paint': 3,\n",
       " 'wah': 3,\n",
       " 'player': 3,\n",
       " 'low': 3,\n",
       " 'goodby': 3,\n",
       " 'replac': 3,\n",
       " 'major': 3,\n",
       " 'board': 3,\n",
       " 'team': 3,\n",
       " 'pari': 3,\n",
       " 'beat': 3,\n",
       " '18': 3,\n",
       " 'belli': 3,\n",
       " 'knee': 3,\n",
       " 'bro': 3,\n",
       " 'teeth': 3,\n",
       " 'strawberri': 3,\n",
       " 'vet': 3,\n",
       " 'difficult': 3,\n",
       " 'bay': 3,\n",
       " 'idiot': 3,\n",
       " 'convent': 3,\n",
       " 'window': 3,\n",
       " '3am': 3,\n",
       " 'finger': 3,\n",
       " 'debut': 3,\n",
       " 'obsess': 2,\n",
       " 'develop': 2,\n",
       " '8am': 2,\n",
       " 'ds': 2,\n",
       " 'bonnaroo': 2,\n",
       " 'blah': 2,\n",
       " 'grumpi': 2,\n",
       " 'via': 2,\n",
       " 'herd': 2,\n",
       " 'dat': 2,\n",
       " 'brain': 2,\n",
       " 'slap': 2,\n",
       " 'comm': 2,\n",
       " 'lmaz': 2,\n",
       " ...}"
      ]
     },
     "execution_count": 237,
     "metadata": {},
     "output_type": "execute_result"
    }
   ],
   "source": [
    "negative_vocab"
   ]
  },
  {
   "cell_type": "code",
   "execution_count": 238,
   "metadata": {
    "collapsed": true
   },
   "outputs": [
    {
     "data": {
      "text/plain": [
       "{'go': 193,\n",
       " 'good': 193,\n",
       " 'love': 183,\n",
       " 'thank': 156,\n",
       " 'get': 146,\n",
       " 'day': 145,\n",
       " 'ð': 109,\n",
       " 'lol': 103,\n",
       " 'like': 100,\n",
       " 'haha': 100,\n",
       " 'see': 92,\n",
       " 'time': 91,\n",
       " 'watch': 88,\n",
       " 'work': 87,\n",
       " 'amp': 85,\n",
       " 'new': 85,\n",
       " 'hope': 79,\n",
       " 'u': 75,\n",
       " 'back': 75,\n",
       " 'night': 73,\n",
       " 'look': 72,\n",
       " 'morn': 71,\n",
       " 'got': 71,\n",
       " 'great': 70,\n",
       " 'today': 68,\n",
       " 'im': 66,\n",
       " 'twitter': 65,\n",
       " 'know': 61,\n",
       " 'happi': 61,\n",
       " 'well': 59,\n",
       " 'think': 59,\n",
       " 'come': 58,\n",
       " 'awesom': 58,\n",
       " 'one': 57,\n",
       " 'make': 54,\n",
       " '2': 53,\n",
       " 'realli': 53,\n",
       " 'nice': 49,\n",
       " 'need': 49,\n",
       " 'much': 48,\n",
       " 'tomorrow': 47,\n",
       " 'follow': 46,\n",
       " 'yeah': 45,\n",
       " 'home': 44,\n",
       " 'want': 44,\n",
       " 'feel': 44,\n",
       " 'better': 44,\n",
       " 'still': 43,\n",
       " 'wait': 43,\n",
       " 'hey': 42,\n",
       " 'thing': 42,\n",
       " 'tweet': 42,\n",
       " 'ñ': 42,\n",
       " 'would': 41,\n",
       " 'say': 39,\n",
       " 'right': 38,\n",
       " 'friend': 38,\n",
       " 'oh': 38,\n",
       " 'fun': 37,\n",
       " 'week': 37,\n",
       " 'movi': 36,\n",
       " 'gonna': 36,\n",
       " 'soon': 35,\n",
       " 'take': 35,\n",
       " 'tonight': 35,\n",
       " 'way': 35,\n",
       " 'tri': 34,\n",
       " 'last': 34,\n",
       " 'amaz': 34,\n",
       " 'guy': 34,\n",
       " 'weekend': 33,\n",
       " 'best': 33,\n",
       " 'miss': 33,\n",
       " 'sunday': 33,\n",
       " 'bed': 32,\n",
       " 'show': 31,\n",
       " 'play': 31,\n",
       " 'song': 31,\n",
       " 'next': 30,\n",
       " 'cool': 30,\n",
       " 'excit': 30,\n",
       " 'wow': 30,\n",
       " 'sleep': 30,\n",
       " 'someth': 29,\n",
       " 'finish': 29,\n",
       " 'alreadi': 28,\n",
       " 'ye': 28,\n",
       " 'ok': 28,\n",
       " 'keep': 28,\n",
       " 'alway': 28,\n",
       " 'start': 27,\n",
       " 'eat': 27,\n",
       " 'school': 27,\n",
       " 'final': 26,\n",
       " '4': 26,\n",
       " 'even': 26,\n",
       " 'check': 26,\n",
       " '¾': 26,\n",
       " 'yay': 25,\n",
       " 'help': 25,\n",
       " 'babi': 25,\n",
       " 'www': 24,\n",
       " 'call': 24,\n",
       " 'us': 24,\n",
       " 'use': 24,\n",
       " 'old': 24,\n",
       " 'though': 24,\n",
       " 'first': 24,\n",
       " '°': 24,\n",
       " 'summer': 23,\n",
       " 'sure': 23,\n",
       " 'life': 23,\n",
       " '3': 23,\n",
       " 'actual': 22,\n",
       " 'readi': 22,\n",
       " 'pleas': 22,\n",
       " 'head': 22,\n",
       " 'listen': 22,\n",
       " 'littl': 22,\n",
       " 'lot': 22,\n",
       " 'phone': 22,\n",
       " 'enjoy': 22,\n",
       " 'could': 22,\n",
       " 'updat': 22,\n",
       " '¸': 22,\n",
       " 'live': 21,\n",
       " 'anoth': 21,\n",
       " '½': 21,\n",
       " 'give': 21,\n",
       " 'long': 21,\n",
       " 'year': 21,\n",
       " 'also': 21,\n",
       " 'never': 21,\n",
       " 'girl': 21,\n",
       " 'game': 20,\n",
       " 'read': 20,\n",
       " 'everyon': 20,\n",
       " 'around': 20,\n",
       " 'talk': 20,\n",
       " 'hi': 20,\n",
       " '\\x82': 20,\n",
       " 'hour': 19,\n",
       " 'happen': 19,\n",
       " 'omg': 19,\n",
       " 'later': 19,\n",
       " 'ever': 18,\n",
       " 'glad': 18,\n",
       " 'may': 18,\n",
       " 'book': 18,\n",
       " 'peopl': 18,\n",
       " 'made': 18,\n",
       " 'cute': 18,\n",
       " 'ur': 18,\n",
       " 'found': 18,\n",
       " 'word': 18,\n",
       " 'find': 18,\n",
       " 'wish': 18,\n",
       " 'lt3': 18,\n",
       " 'post': 18,\n",
       " 'learn': 18,\n",
       " 'gotta': 17,\n",
       " 'funni': 17,\n",
       " 'bring': 17,\n",
       " 'away': 17,\n",
       " 'meet': 17,\n",
       " 'pretti': 17,\n",
       " 'sunni': 17,\n",
       " 'hard': 17,\n",
       " 'hello': 17,\n",
       " 'noth': 16,\n",
       " 'pic': 16,\n",
       " 'x': 16,\n",
       " 'late': 16,\n",
       " 'place': 16,\n",
       " 'mayb': 16,\n",
       " 'far': 16,\n",
       " 'wonder': 16,\n",
       " 'yet': 16,\n",
       " 'hear': 16,\n",
       " 'welcom': 16,\n",
       " 'sweet': 16,\n",
       " 'luck': 16,\n",
       " 'dream': 16,\n",
       " 'total': 16,\n",
       " 'coffe': 16,\n",
       " 'done': 16,\n",
       " 'ì': 16,\n",
       " 'n': 15,\n",
       " 'mother': 15,\n",
       " 'leav': 15,\n",
       " 'someon': 15,\n",
       " 'parti': 15,\n",
       " 'thought': 15,\n",
       " 'fan': 15,\n",
       " 'stuff': 15,\n",
       " 'breakfast': 15,\n",
       " 'mom': 15,\n",
       " 'dont': 15,\n",
       " 'birthday': 15,\n",
       " 'big': 15,\n",
       " 'tire': 14,\n",
       " 'afternoon': 14,\n",
       " 'ask': 14,\n",
       " 'sinc': 14,\n",
       " 'quot': 14,\n",
       " 'part': 14,\n",
       " 'beach': 14,\n",
       " 'kid': 14,\n",
       " 'beauti': 14,\n",
       " 'here': 14,\n",
       " 'site': 14,\n",
       " 'boy': 14,\n",
       " 'cant': 14,\n",
       " 'exam': 14,\n",
       " 'shop': 14,\n",
       " 'let': 14,\n",
       " 'send': 14,\n",
       " 'stay': 14,\n",
       " 'sound': 14,\n",
       " 'earli': 13,\n",
       " 'took': 13,\n",
       " 'name': 13,\n",
       " 'rain': 13,\n",
       " '1': 13,\n",
       " 'bad': 13,\n",
       " 'chang': 13,\n",
       " 'lunch': 13,\n",
       " '5': 13,\n",
       " 'said': 13,\n",
       " 'tell': 13,\n",
       " 'put': 13,\n",
       " '\\x80': 13,\n",
       " 'rock': 13,\n",
       " 'man': 13,\n",
       " 'least': 13,\n",
       " 'music': 13,\n",
       " 'might': 13,\n",
       " 'goodnight': 12,\n",
       " 'hot': 12,\n",
       " 'super': 12,\n",
       " 'bout': 12,\n",
       " 'world': 12,\n",
       " 'run': 12,\n",
       " 'break': 12,\n",
       " 'sing': 12,\n",
       " 'trip': 12,\n",
       " 'guess': 12,\n",
       " 'buy': 12,\n",
       " 'real': 12,\n",
       " 'must': 12,\n",
       " 'hhh': 12,\n",
       " 'plan': 12,\n",
       " 'xx': 12,\n",
       " 'free': 12,\n",
       " 'went': 12,\n",
       " 'sun': 12,\n",
       " 'everyth': 12,\n",
       " 'news': 12,\n",
       " 'email': 12,\n",
       " 'yesterday': 11,\n",
       " 'wed': 11,\n",
       " 'btw': 11,\n",
       " 'vote': 11,\n",
       " 'okay': 11,\n",
       " 'saw': 11,\n",
       " 'food': 11,\n",
       " 'chanc': 11,\n",
       " 'ya': 11,\n",
       " 'hous': 11,\n",
       " 'forward': 11,\n",
       " 'blog': 11,\n",
       " 'band': 11,\n",
       " 'friday': 11,\n",
       " 'seem': 11,\n",
       " 'weather': 11,\n",
       " 'anyth': 11,\n",
       " 'togeth': 11,\n",
       " 'end': 11,\n",
       " 'till': 11,\n",
       " 'ladi': 11,\n",
       " '×': 11,\n",
       " 'bit': 11,\n",
       " 'almost': 11,\n",
       " 'catch': 11,\n",
       " 'moon': 11,\n",
       " 'church': 10,\n",
       " 'page': 10,\n",
       " 'wake': 10,\n",
       " 'clean': 10,\n",
       " 'gave': 10,\n",
       " 'quit': 10,\n",
       " 'fli': 10,\n",
       " 'kind': 10,\n",
       " 'idea': 10,\n",
       " 'have': 10,\n",
       " 'voic': 10,\n",
       " 'wanna': 10,\n",
       " 'set': 10,\n",
       " 'mean': 10,\n",
       " 'smile': 10,\n",
       " 'month': 10,\n",
       " 'park': 10,\n",
       " 'money': 10,\n",
       " 'ago': 10,\n",
       " 'tour': 10,\n",
       " 'full': 10,\n",
       " 'pick': 10,\n",
       " 'support': 10,\n",
       " 'visit': 10,\n",
       " 'rememb': 10,\n",
       " 'cup': 10,\n",
       " 'video': 10,\n",
       " 'walk': 10,\n",
       " 'what': 10,\n",
       " 'sorri': 9,\n",
       " 'bless': 9,\n",
       " 'episod': 9,\n",
       " '¿': 9,\n",
       " 'monday': 9,\n",
       " 'woke': 9,\n",
       " 'soo': 9,\n",
       " 'cat': 9,\n",
       " 'ill': 9,\n",
       " 'that': 9,\n",
       " 'link': 9,\n",
       " 'anyway': 9,\n",
       " 'person': 9,\n",
       " 'true': 9,\n",
       " 'bb': 9,\n",
       " 'job': 9,\n",
       " 'remind': 9,\n",
       " 'ha': 9,\n",
       " 'god': 9,\n",
       " 'top': 9,\n",
       " 'yea': 9,\n",
       " 'rest': 9,\n",
       " 'act': 9,\n",
       " 'beer': 9,\n",
       " '»': 9,\n",
       " '²': 9,\n",
       " 'red': 9,\n",
       " 'ah': 9,\n",
       " 'bore': 9,\n",
       " 'care': 9,\n",
       " 'pictur': 9,\n",
       " 'dog': 9,\n",
       " 'iphon': 9,\n",
       " 'facebook': 9,\n",
       " 'contrast': 9,\n",
       " 'concert': 9,\n",
       " 'í': 9,\n",
       " 'gt': 8,\n",
       " 'mani': 8,\n",
       " 'answer': 8,\n",
       " 'two': 8,\n",
       " 'everi': 8,\n",
       " 'lucki': 8,\n",
       " 'famili': 8,\n",
       " 'r': 8,\n",
       " 'bag': 8,\n",
       " 'c': 8,\n",
       " 'differ': 8,\n",
       " 'busi': 8,\n",
       " 'came': 8,\n",
       " 'upload': 8,\n",
       " 'outsid': 8,\n",
       " 'easi': 8,\n",
       " 'ride': 8,\n",
       " 'hate': 8,\n",
       " 'favorit': 8,\n",
       " 'guitar': 8,\n",
       " 'followfriday': 8,\n",
       " 'recommend': 8,\n",
       " 'drink': 8,\n",
       " 'fail': 8,\n",
       " 'lost': 8,\n",
       " '\\x95': 8,\n",
       " 'dinner': 8,\n",
       " 'probabl': 8,\n",
       " 'hand': 8,\n",
       " 'fuck': 8,\n",
       " 'swim': 8,\n",
       " 'heart': 8,\n",
       " 'season': 8,\n",
       " 'nom': 8,\n",
       " 'oxo': 8,\n",
       " 'win': 8,\n",
       " 'hang': 8,\n",
       " 'ad': 8,\n",
       " 'interest': 8,\n",
       " 'yep': 8,\n",
       " 'test': 8,\n",
       " 'â': 8,\n",
       " '\\x99': 8,\n",
       " 'car': 7,\n",
       " 'cheer': 7,\n",
       " 'share': 7,\n",
       " 'si': 7,\n",
       " 'everybodi': 7,\n",
       " 'fantast': 7,\n",
       " 'arriv': 7,\n",
       " 'room': 7,\n",
       " 'grand': 7,\n",
       " 'left': 7,\n",
       " 'cousin': 7,\n",
       " 'pay': 7,\n",
       " '6': 7,\n",
       " 'pass': 7,\n",
       " 'london': 7,\n",
       " 'cours': 7,\n",
       " 'question': 7,\n",
       " 'gone': 7,\n",
       " 'brother': 7,\n",
       " 'voodoo': 7,\n",
       " 'join': 7,\n",
       " 'dead': 7,\n",
       " 'warm': 7,\n",
       " 'pack': 7,\n",
       " 'studi': 7,\n",
       " 'class': 7,\n",
       " 'note': 7,\n",
       " 'minut': 7,\n",
       " 'hit': 7,\n",
       " 'no': 7,\n",
       " 'studio': 7,\n",
       " 'agre': 7,\n",
       " 'without': 7,\n",
       " 'stop': 7,\n",
       " '8': 7,\n",
       " 'cold': 7,\n",
       " 'perfect': 7,\n",
       " 'saturday': 7,\n",
       " 'mine': 7,\n",
       " 'move': 7,\n",
       " 'eh': 7,\n",
       " 'sunshin': 7,\n",
       " 'chat': 7,\n",
       " 'men': 7,\n",
       " 'either': 7,\n",
       " 'text': 7,\n",
       " 'serious': 7,\n",
       " 'shine': 7,\n",
       " 'die': 7,\n",
       " 'app': 7,\n",
       " 'danc': 7,\n",
       " 'choic': 7,\n",
       " 'didnt': 7,\n",
       " 'mind': 7,\n",
       " 'cannot': 6,\n",
       " 'shirt': 6,\n",
       " 'seen': 6,\n",
       " 'releas': 6,\n",
       " 'case': 6,\n",
       " 'hair': 6,\n",
       " 'complet': 6,\n",
       " 'suggest': 6,\n",
       " 'state': 6,\n",
       " 'less': 6,\n",
       " 'w': 6,\n",
       " 'weird': 6,\n",
       " 'problem': 6,\n",
       " '10': 6,\n",
       " 'exactli': 6,\n",
       " 'caus': 6,\n",
       " 'basic': 6,\n",
       " 'abl': 6,\n",
       " 'math': 6,\n",
       " 'winter': 6,\n",
       " 'comput': 6,\n",
       " 'revis': 6,\n",
       " 'fine': 6,\n",
       " 'button': 6,\n",
       " 'cook': 6,\n",
       " 'els': 6,\n",
       " '\\x98': 6,\n",
       " '±': 6,\n",
       " '\\x8c': 6,\n",
       " '´': 6,\n",
       " 'peac': 6,\n",
       " 'worth': 6,\n",
       " 'train': 6,\n",
       " 'citi': 6,\n",
       " 'graduat': 6,\n",
       " 'crazi': 6,\n",
       " 'pool': 6,\n",
       " 'drive': 6,\n",
       " 'mum': 6,\n",
       " 'wear': 6,\n",
       " 'son': 6,\n",
       " 'sometim': 6,\n",
       " 'relax': 6,\n",
       " 'camp': 6,\n",
       " 'film': 6,\n",
       " 'wood': 6,\n",
       " 'shower': 6,\n",
       " 'dress': 6,\n",
       " 'beat': 6,\n",
       " 'connect': 6,\n",
       " 'laugh': 6,\n",
       " 'gym': 6,\n",
       " 'worri': 6,\n",
       " 'believ': 6,\n",
       " 'websit': 6,\n",
       " 'dummi': 6,\n",
       " 'sit': 6,\n",
       " 'road': 6,\n",
       " 'turn': 6,\n",
       " '¥': 6,\n",
       " 'award': 6,\n",
       " 'damn': 6,\n",
       " 'luv': 6,\n",
       " 'add': 6,\n",
       " 'mr': 6,\n",
       " 'goe': 6,\n",
       " 'chill': 6,\n",
       " 'code': 6,\n",
       " 'enough': 6,\n",
       " '\\x84': 6,\n",
       " 'sign': 5,\n",
       " 'settl': 5,\n",
       " 'open': 5,\n",
       " '¼': 5,\n",
       " 'wrong': 5,\n",
       " 'chocol': 5,\n",
       " 'roll': 5,\n",
       " 'repli': 5,\n",
       " 'appreci': 5,\n",
       " 'green': 5,\n",
       " 'kill': 5,\n",
       " 'fat': 5,\n",
       " 'laptop': 5,\n",
       " 'bye': 5,\n",
       " 'pink': 5,\n",
       " 'prayer': 5,\n",
       " 'knew': 5,\n",
       " 'daddi': 5,\n",
       " 'step': 5,\n",
       " 'certainli': 5,\n",
       " 'offic': 5,\n",
       " 'round': 5,\n",
       " 'myspac': 5,\n",
       " 'easier': 5,\n",
       " 'record': 5,\n",
       " 'mobil': 5,\n",
       " 'origin': 5,\n",
       " 'clip': 5,\n",
       " 'deal': 5,\n",
       " 'vs': 5,\n",
       " 'aaaaaa': 5,\n",
       " 'la': 5,\n",
       " 'bday': 5,\n",
       " 'download': 5,\n",
       " 'um': 5,\n",
       " 'b': 5,\n",
       " 'scare': 5,\n",
       " 'hmm': 5,\n",
       " 'pray': 5,\n",
       " 'smell': 5,\n",
       " 'past': 5,\n",
       " 'lay': 5,\n",
       " 'fight': 5,\n",
       " '100': 5,\n",
       " 'twitpic': 5,\n",
       " 'date': 5,\n",
       " 'sent': 5,\n",
       " '\\x9e': 5,\n",
       " '©': 5,\n",
       " 'excel': 5,\n",
       " 'futur': 5,\n",
       " 'ñð': 5,\n",
       " '·': 5,\n",
       " 'ññ': 5,\n",
       " 'celebr': 5,\n",
       " 'shall': 5,\n",
       " 'photo': 5,\n",
       " 'da': 5,\n",
       " 'thx': 5,\n",
       " 'whole': 5,\n",
       " 'juli': 5,\n",
       " 'dc': 5,\n",
       " 'usual': 5,\n",
       " 'bodi': 5,\n",
       " 'addict': 5,\n",
       " 'imagin': 5,\n",
       " 'e': 5,\n",
       " 'st': 5,\n",
       " 'mac': 5,\n",
       " 'design': 5,\n",
       " 'street': 5,\n",
       " 'posit': 5,\n",
       " 'ff': 5,\n",
       " 'load': 5,\n",
       " 'insan': 5,\n",
       " 'count': 5,\n",
       " 'cartoon': 5,\n",
       " 'tom': 5,\n",
       " '9': 5,\n",
       " 'glass': 5,\n",
       " 'twin': 5,\n",
       " 'cross': 5,\n",
       " 'normal': 5,\n",
       " 'nap': 5,\n",
       " 'mmm': 5,\n",
       " '2day': 5,\n",
       " 'forgot': 5,\n",
       " 'bought': 5,\n",
       " 'point': 5,\n",
       " 'extrem': 5,\n",
       " 'mention': 5,\n",
       " 'dm': 5,\n",
       " 'fast': 5,\n",
       " 'mtv': 5,\n",
       " 'mmmm': 5,\n",
       " 'dad': 5,\n",
       " 'shit': 5,\n",
       " 'cake': 5,\n",
       " 'second': 5,\n",
       " 'ë': 5,\n",
       " 'ê': 5,\n",
       " 'whoop': 4,\n",
       " 'light': 4,\n",
       " 'ice': 4,\n",
       " 'cream': 4,\n",
       " 'wing': 4,\n",
       " 'goo': 4,\n",
       " 'sushi': 4,\n",
       " 'ass': 4,\n",
       " 'order': 4,\n",
       " 'id': 4,\n",
       " 'gh': 4,\n",
       " 'power': 4,\n",
       " 'grad': 4,\n",
       " 'puppi': 4,\n",
       " 'hawaii': 4,\n",
       " 'pop': 4,\n",
       " 'le': 4,\n",
       " 'seri': 4,\n",
       " 'laker': 4,\n",
       " 'v': 4,\n",
       " 'longer': 4,\n",
       " 'harri': 4,\n",
       " 'mood': 4,\n",
       " 'technic': 4,\n",
       " 'sell': 4,\n",
       " 'honor': 4,\n",
       " 'em': 4,\n",
       " 'number': 4,\n",
       " 'hurt': 4,\n",
       " 'smash': 4,\n",
       " 'sat': 4,\n",
       " 'grill': 4,\n",
       " 'chees': 4,\n",
       " 'inspir': 4,\n",
       " 'alot': 4,\n",
       " 'art': 4,\n",
       " 'lose': 4,\n",
       " 'fb': 4,\n",
       " 'brand': 4,\n",
       " 'marathon': 4,\n",
       " '17': 4,\n",
       " 'countri': 4,\n",
       " 'hold': 4,\n",
       " 'aw': 4,\n",
       " 'favourit': 4,\n",
       " 'shout': 4,\n",
       " 'yup': 4,\n",
       " 'joke': 4,\n",
       " 'album': 4,\n",
       " 'daniel': 4,\n",
       " 'store': 4,\n",
       " 'hill': 4,\n",
       " 'kitti': 4,\n",
       " 'promot': 4,\n",
       " 'result': 4,\n",
       " 'mile': 4,\n",
       " 'confus': 4,\n",
       " 'min': 4,\n",
       " 'chuck': 4,\n",
       " 'na': 4,\n",
       " 'reason': 4,\n",
       " 'east': 4,\n",
       " 'cd': 4,\n",
       " 'roof': 4,\n",
       " 'improv': 4,\n",
       " 'bet': 4,\n",
       " '\\x9c': 4,\n",
       " '³': 4,\n",
       " 'ðµ': 4,\n",
       " '\\x83': 4,\n",
       " 'holiday': 4,\n",
       " 'view': 4,\n",
       " 'flower': 4,\n",
       " 'secret': 4,\n",
       " 'taylor': 4,\n",
       " 'lisa': 4,\n",
       " 'shoot': 4,\n",
       " 'fake': 4,\n",
       " 'law': 4,\n",
       " 'annoy': 4,\n",
       " 'empti': 4,\n",
       " 'christma': 4,\n",
       " 'flight': 4,\n",
       " 'ooh': 4,\n",
       " 'ty': 4,\n",
       " 'gorgeou': 4,\n",
       " 'self': 4,\n",
       " 'you': 4,\n",
       " 'congratul': 4,\n",
       " 'shut': 4,\n",
       " 'sleepi': 4,\n",
       " 'xd': 4,\n",
       " 'invit': 4,\n",
       " 'fri': 4,\n",
       " 'quotquot': 4,\n",
       " 'al': 4,\n",
       " 'tv': 4,\n",
       " 'sexi': 4,\n",
       " 'paper': 4,\n",
       " 'boat': 4,\n",
       " 'suck': 4,\n",
       " 'drunk': 4,\n",
       " 'battl': 4,\n",
       " 'dude': 4,\n",
       " 'random': 4,\n",
       " 'twilight': 4,\n",
       " 'mark': 4,\n",
       " 'bubbl': 4,\n",
       " 'kick': 4,\n",
       " 'bike': 4,\n",
       " 'garden': 4,\n",
       " 'via': 4,\n",
       " 'area': 4,\n",
       " 'rt': 4,\n",
       " 'login': 4,\n",
       " 'sarah': 4,\n",
       " 'lt': 4,\n",
       " 'ticket': 4,\n",
       " 'ny': 4,\n",
       " 'besid': 4,\n",
       " 'ca': 4,\n",
       " 'doubt': 4,\n",
       " 'ship': 4,\n",
       " 'short': 4,\n",
       " 'gift': 4,\n",
       " 'absolut': 4,\n",
       " 'flat': 4,\n",
       " 'between': 4,\n",
       " 'tho': 4,\n",
       " 'interview': 4,\n",
       " 'entertain': 4,\n",
       " 'heard': 4,\n",
       " 'sir': 4,\n",
       " 'tweetdeck': 4,\n",
       " 'natur': 4,\n",
       " '\\xad': 4,\n",
       " 'contact': 4,\n",
       " 'info': 4,\n",
       " 'joy': 4,\n",
       " 'aliv': 4,\n",
       " 'p': 4,\n",
       " 'special': 4,\n",
       " 'star': 4,\n",
       " 'har': 4,\n",
       " 'fanci': 4,\n",
       " 'close': 4,\n",
       " 'speak': 4,\n",
       " 'bedsid': 4,\n",
       " 'ate': 4,\n",
       " 'cover': 4,\n",
       " 'hug': 4,\n",
       " 'bro': 4,\n",
       " 'figur': 4,\n",
       " 'woo': 4,\n",
       " 'latest': 4,\n",
       " 'includ': 4,\n",
       " 'proud': 4,\n",
       " 'michael': 4,\n",
       " 'dia': 4,\n",
       " '¬': 4,\n",
       " 'vega': 4,\n",
       " 'appli': 4,\n",
       " 'mango': 3,\n",
       " 'process': 3,\n",
       " 'collect': 3,\n",
       " 'sum': 3,\n",
       " 'suppos': 3,\n",
       " 'other': 3,\n",
       " 'afeee': 3,\n",
       " 'cut': 3,\n",
       " 'write': 3,\n",
       " 'ã': 3,\n",
       " '7': 3,\n",
       " 'goodmorn': 3,\n",
       " 'rule': 3,\n",
       " 'yum': 3,\n",
       " 'ive': 3,\n",
       " 'xo': 3,\n",
       " 'et': 3,\n",
       " 'f1': 3,\n",
       " 'alon': 3,\n",
       " 'mate': 3,\n",
       " 'decid': 3,\n",
       " 'drop': 3,\n",
       " 'not': 3,\n",
       " 'rout': 3,\n",
       " 'husband': 3,\n",
       " 'jack': 3,\n",
       " 'air': 3,\n",
       " 'market': 3,\n",
       " 'whilst': 3,\n",
       " 'stick': 3,\n",
       " 'x3': 3,\n",
       " 'wall': 3,\n",
       " 'especi': 3,\n",
       " 'amazon': 3,\n",
       " 'spread': 3,\n",
       " 'wave': 3,\n",
       " 'tower': 3,\n",
       " '16': 3,\n",
       " 'cooki': 3,\n",
       " '1000': 3,\n",
       " 'key': 3,\n",
       " 'yyyi': 3,\n",
       " 'brazil': 3,\n",
       " 'jam': 3,\n",
       " 'unit': 3,\n",
       " 'rise': 3,\n",
       " 'boo': 3,\n",
       " 'david': 3,\n",
       " 'sky': 3,\n",
       " 'thursday': 3,\n",
       " 'forev': 3,\n",
       " 'tamagotchi': 3,\n",
       " 'plu': 3,\n",
       " 'color': 3,\n",
       " 'motherday': 3,\n",
       " 'onlin': 3,\n",
       " 'featur': 3,\n",
       " 'metro': 3,\n",
       " 'develop': 3,\n",
       " 'issu': 3,\n",
       " 'ador': 3,\n",
       " 'chicago': 3,\n",
       " 'lake': 3,\n",
       " 'tree': 3,\n",
       " 'file': 3,\n",
       " 'crack': 3,\n",
       " 'internet': 3,\n",
       " 'stori': 3,\n",
       " 'save': 3,\n",
       " 'lane': 3,\n",
       " 'earn': 3,\n",
       " 'cherri': 3,\n",
       " 'sad': 3,\n",
       " 'swear': 3,\n",
       " 'yung': 3,\n",
       " 'chicken': 3,\n",
       " 'such': 3,\n",
       " 'hannah': 3,\n",
       " 'montana': 3,\n",
       " 'imag': 3,\n",
       " 'woman': 3,\n",
       " 'surviv': 3,\n",
       " 'definit': 3,\n",
       " 'closer': 3,\n",
       " 'refer': 3,\n",
       " 'main': 3,\n",
       " 'jame': 3,\n",
       " 'channel': 3,\n",
       " 'simpl': 3,\n",
       " 'match': 3,\n",
       " 'network': 3,\n",
       " 'ðµñ': 3,\n",
       " '¹': 3,\n",
       " 'ðµð': 3,\n",
       " 'list': 3,\n",
       " 'cafe': 3,\n",
       " 'friendli': 3,\n",
       " 'josh': 3,\n",
       " 'jealou': 3,\n",
       " 'contest': 3,\n",
       " 'piec': 3,\n",
       " 'cash': 3,\n",
       " 'broken': 3,\n",
       " 'row': 3,\n",
       " 'than': 3,\n",
       " 'except': 3,\n",
       " 'pair': 3,\n",
       " 'met': 3,\n",
       " 'stand': 3,\n",
       " 'cell': 3,\n",
       " 'sore': 3,\n",
       " 'uh': 3,\n",
       " 'she': 3,\n",
       " 'sister': 3,\n",
       " 'hero': 3,\n",
       " 'quiet': 3,\n",
       " 'fair': 3,\n",
       " 'foot': 3,\n",
       " 'chip': 3,\n",
       " 'scream': 3,\n",
       " 'grow': 3,\n",
       " 'makeup': 3,\n",
       " 'sport': 3,\n",
       " 'g': 3,\n",
       " 'attack': 3,\n",
       " 'student': 3,\n",
       " 'seminar': 3,\n",
       " 'boom': 3,\n",
       " 'town': 3,\n",
       " '24': 3,\n",
       " 'john': 3,\n",
       " '15': 3,\n",
       " 'holi': 3,\n",
       " 'spirit': 3,\n",
       " 'hon': 3,\n",
       " 'bright': 3,\n",
       " 'health': 3,\n",
       " 'wifi': 3,\n",
       " 'bu': 3,\n",
       " 'howev': 3,\n",
       " 'june': 3,\n",
       " 'sex': 3,\n",
       " 'regga': 3,\n",
       " 'nah': 3,\n",
       " 'fill': 3,\n",
       " 'radio': 3,\n",
       " 'joe': 3,\n",
       " 'pascal': 3,\n",
       " 'shell': 3,\n",
       " 'rainbow': 3,\n",
       " 'l': 3,\n",
       " 'face': 3,\n",
       " 'leg': 3,\n",
       " 'tenni': 3,\n",
       " 'tip': 3,\n",
       " 'anyon': 3,\n",
       " 'hop': 3,\n",
       " 'exhaust': 3,\n",
       " 'raini': 3,\n",
       " 'spin': 3,\n",
       " 'base': 3,\n",
       " 'search': 3,\n",
       " 'rather': 3,\n",
       " 'toast': 3,\n",
       " 'b4': 3,\n",
       " 'premier': 3,\n",
       " 'nokia': 3,\n",
       " 'christian': 3,\n",
       " 'all': 3,\n",
       " 'half': 3,\n",
       " 'perhap': 3,\n",
       " 'thunderstorm': 3,\n",
       " 'tan': 3,\n",
       " 'roger': 3,\n",
       " 'peter': 3,\n",
       " 'wash': 3,\n",
       " 'mission': 3,\n",
       " 'side': 3,\n",
       " 'front': 3,\n",
       " 'histori': 3,\n",
       " 'hilari': 3,\n",
       " 'egg': 3,\n",
       " 'bacon': 3,\n",
       " 'shoe': 3,\n",
       " 'oop': 3,\n",
       " 'eye': 3,\n",
       " 'heheh': 3,\n",
       " 'bitch': 3,\n",
       " 'nj': 3,\n",
       " 'troubl': 3,\n",
       " 'spent': 3,\n",
       " 'lazi': 3,\n",
       " 'cheesecak': 3,\n",
       " '30': 3,\n",
       " 'black': 3,\n",
       " 'bean': 3,\n",
       " 'kiss': 3,\n",
       " 'lt333': 3,\n",
       " 'fish': 3,\n",
       " 'anytim': 3,\n",
       " 'doubl': 3,\n",
       " 'compani': 3,\n",
       " 'known': 3,\n",
       " 'inde': 3,\n",
       " 'bath': 3,\n",
       " 'plz': 3,\n",
       " 'tast': 3,\n",
       " 'stream': 3,\n",
       " 'nugget': 3,\n",
       " 'mario': 3,\n",
       " 'pepper': 3,\n",
       " 'spot': 3,\n",
       " 'honey': 3,\n",
       " 'edit': 3,\n",
       " 'orlando': 3,\n",
       " 'natali': 3,\n",
       " 'tune': 3,\n",
       " '\\x8b': 3,\n",
       " 'sa': 3,\n",
       " ...}"
      ]
     },
     "execution_count": 238,
     "metadata": {},
     "output_type": "execute_result"
    }
   ],
   "source": [
    "positive_vocab"
   ]
  },
  {
   "cell_type": "markdown",
   "metadata": {},
   "source": [
    "On seeing the vocabs it is clear that in the most frequent words there are some common words which repeat in both classes however there are some distinctive words such as 'love', 'good' for positive and 'sad' for negative. But overall we see a clear lack of characterizing lexicon between the two and this adds to the difficulty of the task"
   ]
  },
  {
   "cell_type": "code",
   "execution_count": 246,
   "metadata": {},
   "outputs": [],
   "source": [
    "from collections import Counter\n",
    "from sklearn.metrics import mutual_info_score\n",
    "def mutualInfo(dictA, dictB, commonOnly, k):\n",
    "  ls_A = []\n",
    "  ls_B = []\n",
    "  wordSet = set()\n",
    "  c1=Counter(dictA).most_common()[:k]\n",
    "  c2=Counter(dictB).most_common()[:k]\n",
    "  dictA = {}\n",
    "  for i,j in c1:\n",
    "    dictA[i] = j\n",
    "  dictB = {}\n",
    "  for i,j in c2:\n",
    "    dictB[i] = j\n",
    "  for word in dictA:\n",
    "      wordSet.add(word)\n",
    "      if word in dictB:\n",
    "        ls_A.append(dictA[word])\n",
    "        ls_B.append(dictB[word])\n",
    "      else:\n",
    "        if not commonOnly:\n",
    "          ls_A.append(dictA[word])\n",
    "          ls_B.append(0)\n",
    "  for word in dictB:\n",
    "      if word in wordSet:\n",
    "        continue\n",
    "      wordSet.add(word)\n",
    "      if word in dictA:\n",
    "        ls_A.append(dictA[word])\n",
    "        ls_B.append(dictB[word])\n",
    "      else:\n",
    "        if not commonOnly:\n",
    "          ls_A.append(0)\n",
    "          ls_B.append(dictB[word])\n",
    "  return mutual_info_score(ls_A, ls_B)"
   ]
  },
  {
   "cell_type": "code",
   "execution_count": 255,
   "metadata": {},
   "outputs": [],
   "source": [
    "mutual = []\n",
    "for i in range(1, 10000):\n",
    "    mutual.append(mutualInfo(negative_vocab, positive_vocab, True, i))"
   ]
  },
  {
   "cell_type": "code",
   "execution_count": 261,
   "metadata": {},
   "outputs": [
    {
     "data": {
      "image/png": "[encoded data removed]",
      "text/plain": [
       "<Figure size 432x288 with 1 Axes>"
      ]
     },
     "metadata": {
      "needs_background": "light"
     },
     "output_type": "display_data"
    }
   ],
   "source": [
    "plt.plot(mutual)\n",
    "plt.xlabel('Top-K Vocab Tokens', fontsize=10)\n",
    "plt.ylabel('Mutual Information', fontsize=10)\n",
    "plt.savefig('mutual_info.png')"
   ]
  },
  {
   "cell_type": "markdown",
   "metadata": {},
   "source": [
    "This seems to indicate that up untill the first 200-300 top words or so we have high mutual information but that then begins to scale down"
   ]
  },
  {
   "cell_type": "markdown",
   "metadata": {},
   "source": [
    "# IV) Rule-Based Sentiment Analysis"
   ]
  },
  {
   "cell_type": "markdown",
   "metadata": {},
   "source": [
    "## a) Retrieving Class Label for every instance"
   ]
  },
  {
   "cell_type": "code",
   "execution_count": 198,
   "metadata": {},
   "outputs": [],
   "source": [
    "sid = SentimentIntensityAnalyzer()"
   ]
  },
  {
   "cell_type": "code",
   "execution_count": 199,
   "metadata": {},
   "outputs": [],
   "source": [
    "def retrieve_label(y_pred, metric = \"compound_with_neutral\"):\n",
    "    if metric == \"compound_with_neutral\":\n",
    "        if y_pred[\"compound\"] >= 0.05:\n",
    "            label = 1\n",
    "        elif y_pred[\"compound\"] <= -0.05:\n",
    "            label = 0\n",
    "        else:\n",
    "            label = -1\n",
    "    elif metric == \"compound_without_neutral\":\n",
    "        if y_pred[\"compound\"] >= 0:\n",
    "            label = 1\n",
    "        else:\n",
    "            label = 0\n",
    "    elif metric == \"neutral_mapped_to_pos_scores\":\n",
    "        if y_pred[\"neu\"] >= y_pred[\"pos\"] and y_pred[\"neu\"] >= y_pred[\"neg\"]:\n",
    "            label = 1\n",
    "        elif y_pred[\"pos\"] >= y_pred[\"neg\"]:\n",
    "            label = 1\n",
    "        else:\n",
    "            label = 0\n",
    "    elif metric == \"neutral_mapped_to_neg_scores\":\n",
    "        if y_pred[\"neu\"] >= y_pred[\"pos\"] and y_pred[\"neu\"] >= y_pred[\"neg\"]:\n",
    "            label = 0\n",
    "        elif y_pred[\"pos\"] >= y_pred[\"neg\"]:\n",
    "            label = 1\n",
    "        else:\n",
    "            label = 0\n",
    "    elif metric == \"pos_neg_scores\":\n",
    "        label = int(y_pred[\"pos\"] >= y_pred[\"neg\"])\n",
    "    else:\n",
    "        print(metric)\n",
    "        raise ValueError(\"Use an appropriate metric from compound, pos_neg_neu_scores, pos_neg_scores\")\n",
    "    return label"
   ]
  },
  {
   "cell_type": "markdown",
   "metadata": {},
   "source": [
    "### i) On preprocessed text"
   ]
  },
  {
   "cell_type": "code",
   "execution_count": 200,
   "metadata": {},
   "outputs": [],
   "source": [
    "prptext_labels = []\n",
    "for each_text in df_data[\"PREPROCESSED_TEXT\"].values:\n",
    "    sentiment_pred = sid.polarity_scores(each_text)\n",
    "    prptext_labels.append(\n",
    "        np.array(\n",
    "            [\n",
    "                retrieve_label(sentiment_pred, \"compound_with_neutral\"), \n",
    "                retrieve_label(sentiment_pred, \"compound_without_neutral\"), \n",
    "                retrieve_label(sentiment_pred, \"neutral_mapped_to_pos_scores\"),\n",
    "                retrieve_label(sentiment_pred, \"neutral_mapped_to_neg_scores\"),\n",
    "                retrieve_label(sentiment_pred, \"pos_neg_scores\")\n",
    "            ]\n",
    "        )\n",
    "    )\n",
    "prptext_labels = np.array(prptext_labels)"
   ]
  },
  {
   "cell_type": "markdown",
   "metadata": {},
   "source": [
    "### ii) On raw text"
   ]
  },
  {
   "cell_type": "code",
   "execution_count": 201,
   "metadata": {},
   "outputs": [],
   "source": [
    "rawtxt_labels = []\n",
    "for each_text in df_data[\"TEXT\"].values:\n",
    "    sentiment_pred = sid.polarity_scores(each_text)\n",
    "    rawtxt_labels.append(\n",
    "        np.array(\n",
    "            [\n",
    "                retrieve_label(sentiment_pred, \"compound_with_neutral\"), \n",
    "                retrieve_label(sentiment_pred, \"compound_without_neutral\"), \n",
    "                retrieve_label(sentiment_pred, \"neutral_mapped_to_pos_scores\"),\n",
    "                retrieve_label(sentiment_pred, \"neutral_mapped_to_neg_scores\"),\n",
    "                retrieve_label(sentiment_pred, \"pos_neg_scores\")\n",
    "            ]\n",
    "        )\n",
    "    )\n",
    "rawtxt_labels = np.array(rawtxt_labels)"
   ]
  },
  {
   "cell_type": "markdown",
   "metadata": {},
   "source": [
    "## b) Get accuracy scores"
   ]
  },
  {
   "cell_type": "code",
   "execution_count": 202,
   "metadata": {},
   "outputs": [],
   "source": [
    "y = df_data[\"LABEL\"].values"
   ]
  },
  {
   "cell_type": "code",
   "execution_count": 203,
   "metadata": {},
   "outputs": [],
   "source": [
    "def get_accuracy(y_preds, y):\n",
    "    no_instances = len(y)\n",
    "    return 100*sum(y_preds==y)/no_instances"
   ]
  },
  {
   "cell_type": "markdown",
   "metadata": {},
   "source": [
    "### i) Of preprocessed text"
   ]
  },
  {
   "cell_type": "code",
   "execution_count": 204,
   "metadata": {},
   "outputs": [
    {
     "name": "stdout",
     "output_type": "stream",
     "text": [
      "The accuracy score of labels calculated on the preprocessed text is:\n",
      "using the compound_with_neutral metric:  44.55330067646373\n",
      "using the compound_without_neutral metric:  64.1940751108001\n",
      "using the neutral_mapped_to_pos_scores metric:  57.03289013296011\n",
      "using the neutral_mapped_to_neg_scores metric:  55.09680429204572\n",
      "using the pos_neg_scores metric:  64.2174014462328\n"
     ]
    }
   ],
   "source": [
    "print(\"The accuracy score of labels calculated on the preprocessed text is:\")\n",
    "print(\"using the compound_with_neutral metric: \", get_accuracy(prptext_labels[:, 0], y))\n",
    "print(\"using the compound_without_neutral metric: \", get_accuracy(prptext_labels[:, 1], y))\n",
    "print(\"using the neutral_mapped_to_pos_scores metric: \", get_accuracy(prptext_labels[:, 2], y))\n",
    "print(\"using the neutral_mapped_to_neg_scores metric: \", get_accuracy(prptext_labels[:, 3], y))\n",
    "print(\"using the pos_neg_scores metric: \", get_accuracy(prptext_labels[:, 4], y))"
   ]
  },
  {
   "cell_type": "markdown",
   "metadata": {},
   "source": [
    "### ii) Of raw text"
   ]
  },
  {
   "cell_type": "code",
   "execution_count": 205,
   "metadata": {},
   "outputs": [
    {
     "name": "stdout",
     "output_type": "stream",
     "text": [
      "The accuracy score of labels calculated on the raw text is:\n",
      "using the compound_with_neutral metric:  53.230697457429436\n",
      "using the compound_without_neutral metric:  68.34616281782132\n",
      "using the neutral_mapped_to_pos_scores metric:  55.28341497550735\n",
      "using the neutral_mapped_to_neg_scores metric:  51.551201306274784\n",
      "using the pos_neg_scores metric:  68.46279449498483\n"
     ]
    }
   ],
   "source": [
    "print(\"The accuracy score of labels calculated on the raw text is:\")\n",
    "print(\"using the compound_with_neutral metric: \", get_accuracy(rawtxt_labels[:, 0], y))\n",
    "print(\"using the compound_without_neutral metric: \", get_accuracy(rawtxt_labels[:, 1], y))\n",
    "print(\"using the neutral_mapped_to_pos_scores metric: \", get_accuracy(rawtxt_labels[:, 2], y))\n",
    "print(\"using the neutral_mapped_to_neg_scores metric: \", get_accuracy(rawtxt_labels[:, 3], y))\n",
    "print(\"using the pos_neg_scores metric: \", get_accuracy(rawtxt_labels[:, 4], y))"
   ]
  }
 ],
 "metadata": {
  "colab": {
   "collapsed_sections": [],
   "provenance": []
  },
  "kernelspec": {
   "display_name": "Python 3 (ipykernel)",
   "language": "python",
   "name": "python3"
  },
  "language_info": {
   "codemirror_mode": {
    "name": "ipython",
    "version": 3
   },
   "file_extension": ".py",
   "mimetype": "text/x-python",
   "name": "python",
   "nbconvert_exporter": "python",
   "pygments_lexer": "ipython3",
   "version": "3.9.13"
  },
  "vscode": {
   "interpreter": {
    "hash": "a5a87ee616be0254e3f1af9223138e3faeac65b2c9d91bc22a9fc5a4a8bd8eb0"
   }
  }
 },
 "nbformat": 4,
 "nbformat_minor": 1
}
