{
 "cells": [
  {
   "cell_type": "code",
   "execution_count": 1,
   "metadata": {},
   "outputs": [
    {
     "name": "stderr",
     "output_type": "stream",
     "text": [
      "\n",
      "[notice] A new release of pip available: 22.2.1 -> 22.2.2\n",
      "[notice] To update, run: C:\\Users\\ASUS\\AppData\\Local\\Microsoft\\WindowsApps\\PythonSoftwareFoundation.Python.3.9_qbz5n2kfra8p0\\python.exe -m pip install --upgrade pip\n",
      "\n",
      "[notice] A new release of pip available: 22.2.1 -> 22.2.2\n",
      "[notice] To update, run: C:\\Users\\ASUS\\AppData\\Local\\Microsoft\\WindowsApps\\PythonSoftwareFoundation.Python.3.9_qbz5n2kfra8p0\\python.exe -m pip install --upgrade pip\n",
      "\n",
      "[notice] A new release of pip available: 22.2.1 -> 22.2.2\n",
      "[notice] To update, run: C:\\Users\\ASUS\\AppData\\Local\\Microsoft\\WindowsApps\\PythonSoftwareFoundation.Python.3.9_qbz5n2kfra8p0\\python.exe -m pip install --upgrade pip\n",
      "\n",
      "[notice] A new release of pip available: 22.2.1 -> 22.2.2\n",
      "[notice] To update, run: C:\\Users\\ASUS\\AppData\\Local\\Microsoft\\WindowsApps\\PythonSoftwareFoundation.Python.3.9_qbz5n2kfra8p0\\python.exe -m pip install --upgrade pip\n",
      "\n",
      "[notice] A new release of pip available: 22.2.1 -> 22.2.2\n",
      "[notice] To update, run: C:\\Users\\ASUS\\AppData\\Local\\Microsoft\\WindowsApps\\PythonSoftwareFoundation.Python.3.9_qbz5n2kfra8p0\\python.exe -m pip install --upgrade pip\n"
     ]
    }
   ],
   "source": [
    "!pip install wordcloud -q\n",
    "!pip install autocorrect -q\n",
    "!pip install nltk -q\n",
    "!pip install tqdm -q\n",
    "!pip install textblob -q"
   ]
  },
  {
   "cell_type": "code",
   "execution_count": 2,
   "metadata": {
    "id": "xURHYz8XsLoR"
   },
   "outputs": [],
   "source": [
    "import pandas as pd\n",
    "import re\n",
    "from nltk.sentiment.vader import SentimentIntensityAnalyzer\n",
    "from wordcloud import WordCloud\n",
    "from nltk.metrics.distance import jaccard_distance, edit_distance\n",
    "from autocorrect import Speller\n",
    "import string\n",
    "from nltk.corpus import stopwords\n",
    "from nltk.corpus import wordnet as wn\n",
    "import matplotlib.pyplot as plt\n",
    "from nltk.stem import WordNetLemmatizer, PorterStemmer\n",
    "import nltk\n",
    "from nltk.tokenize import TweetTokenizer\n",
    "import numpy as np\n",
    "from tqdm.notebook import tqdm\n",
    "tqdm.pandas()\n",
    "from textblob import TextBlob\n",
    "# customregexes.py contains all the regex functions used for all parts\n",
    "from customregexes import *"
   ]
  },
  {
   "cell_type": "code",
   "execution_count": 3,
   "metadata": {},
   "outputs": [
    {
     "name": "stderr",
     "output_type": "stream",
     "text": [
      "[nltk_data] Downloading package stopwords to\n",
      "[nltk_data]     C:\\Users\\ASUS\\AppData\\Roaming\\nltk_data...\n",
      "[nltk_data]   Package stopwords is already up-to-date!\n",
      "[nltk_data] Downloading package words to\n",
      "[nltk_data]     C:\\Users\\ASUS\\AppData\\Roaming\\nltk_data...\n",
      "[nltk_data]   Package words is already up-to-date!\n",
      "[nltk_data] Downloading package wordnet to\n",
      "[nltk_data]     C:\\Users\\ASUS\\AppData\\Roaming\\nltk_data...\n",
      "[nltk_data]   Package wordnet is already up-to-date!\n",
      "[nltk_data] Downloading package omw-1.4 to\n",
      "[nltk_data]     C:\\Users\\ASUS\\AppData\\Roaming\\nltk_data...\n",
      "[nltk_data]   Package omw-1.4 is already up-to-date!\n",
      "[nltk_data] Downloading package vader_lexicon to\n",
      "[nltk_data]     C:\\Users\\ASUS\\AppData\\Roaming\\nltk_data...\n",
      "[nltk_data]   Package vader_lexicon is already up-to-date!\n"
     ]
    },
    {
     "data": {
      "text/plain": [
       "True"
      ]
     },
     "execution_count": 3,
     "metadata": {},
     "output_type": "execute_result"
    }
   ],
   "source": [
    "nltk.download(\"stopwords\")\n",
    "nltk.download(\"words\")\n",
    "nltk.download(\"wordnet\")\n",
    "nltk.download('omw-1.4')\n",
    "nltk.download('vader_lexicon')"
   ]
  },
  {
   "cell_type": "code",
   "execution_count": 4,
   "metadata": {
    "colab": {
     "base_uri": "https://localhost:8080/",
     "height": 328
    },
    "id": "k-ptEnijslOo",
    "outputId": "7077eda8-1c04-4a89-f17e-ea5b286477a5"
   },
   "outputs": [],
   "source": [
    "df_data = pd.read_csv('A1_dataset.csv')"
   ]
  },
  {
   "cell_type": "code",
   "execution_count": 5,
   "metadata": {
    "id": "RBquCbrZsny5"
   },
   "outputs": [
    {
     "data": {
      "text/html": [
       "<div>\n",
       "<style scoped>\n",
       "    .dataframe tbody tr th:only-of-type {\n",
       "        vertical-align: middle;\n",
       "    }\n",
       "\n",
       "    .dataframe tbody tr th {\n",
       "        vertical-align: top;\n",
       "    }\n",
       "\n",
       "    .dataframe thead th {\n",
       "        text-align: right;\n",
       "    }\n",
       "</style>\n",
       "<table border=\"1\" class=\"dataframe\">\n",
       "  <thead>\n",
       "    <tr style=\"text-align: right;\">\n",
       "      <th></th>\n",
       "      <th>LABEL</th>\n",
       "      <th>DATE_TIME</th>\n",
       "      <th>TEXT</th>\n",
       "    </tr>\n",
       "  </thead>\n",
       "  <tbody>\n",
       "    <tr>\n",
       "      <th>0</th>\n",
       "      <td>0</td>\n",
       "      <td>Fri Jun 05 14:26:50 2009</td>\n",
       "      <td>About to get threaded and scared</td>\n",
       "    </tr>\n",
       "    <tr>\n",
       "      <th>1</th>\n",
       "      <td>1</td>\n",
       "      <td>Thu May 14 10:13:55 2009</td>\n",
       "      <td>@awaisnaseer I like Shezan Mangooo too!!! I ha...</td>\n",
       "    </tr>\n",
       "    <tr>\n",
       "      <th>2</th>\n",
       "      <td>1</td>\n",
       "      <td>Fri Jun 05 21:02:20 2009</td>\n",
       "      <td>worked on my car after work. showering then go...</td>\n",
       "    </tr>\n",
       "    <tr>\n",
       "      <th>3</th>\n",
       "      <td>1</td>\n",
       "      <td>Sun Jun 14 22:25:52 2009</td>\n",
       "      <td>@Marama Actually we start this afternoon!  I w...</td>\n",
       "    </tr>\n",
       "    <tr>\n",
       "      <th>4</th>\n",
       "      <td>1</td>\n",
       "      <td>Sun May 31 00:42:12 2009</td>\n",
       "      <td>@gfalcone601 Aww Gi.don't worry.we'll vote for...</td>\n",
       "    </tr>\n",
       "    <tr>\n",
       "      <th>...</th>\n",
       "      <td>...</td>\n",
       "      <td>...</td>\n",
       "      <td>...</td>\n",
       "    </tr>\n",
       "    <tr>\n",
       "      <th>4282</th>\n",
       "      <td>1</td>\n",
       "      <td>Sat Jun 06 22:45:26 2009</td>\n",
       "      <td>@QandQ My performances on my CLEP tests.  #qshock</td>\n",
       "    </tr>\n",
       "    <tr>\n",
       "      <th>4283</th>\n",
       "      <td>0</td>\n",
       "      <td>Tue Jun 16 10:17:07 2009</td>\n",
       "      <td>ugh no, rcn had all the true blood episodes on...</td>\n",
       "    </tr>\n",
       "    <tr>\n",
       "      <th>4284</th>\n",
       "      <td>1</td>\n",
       "      <td>Fri May 01 22:00:42 2009</td>\n",
       "      <td>Just returned from the forest! Sarah (my merch...</td>\n",
       "    </tr>\n",
       "    <tr>\n",
       "      <th>4285</th>\n",
       "      <td>1</td>\n",
       "      <td>Sun Jun 07 02:09:46 2009</td>\n",
       "      <td>is proud of her dad and his piece of work. ( h...</td>\n",
       "    </tr>\n",
       "    <tr>\n",
       "      <th>4286</th>\n",
       "      <td>0</td>\n",
       "      <td>Fri May 22 04:49:37 2009</td>\n",
       "      <td>Just woke up, gonna eat pizza for breakfast. A...</td>\n",
       "    </tr>\n",
       "  </tbody>\n",
       "</table>\n",
       "<p>4287 rows × 3 columns</p>\n",
       "</div>"
      ],
      "text/plain": [
       "      LABEL                 DATE_TIME  \\\n",
       "0         0  Fri Jun 05 14:26:50 2009   \n",
       "1         1  Thu May 14 10:13:55 2009   \n",
       "2         1  Fri Jun 05 21:02:20 2009   \n",
       "3         1  Sun Jun 14 22:25:52 2009   \n",
       "4         1  Sun May 31 00:42:12 2009   \n",
       "...     ...                       ...   \n",
       "4282      1  Sat Jun 06 22:45:26 2009   \n",
       "4283      0  Tue Jun 16 10:17:07 2009   \n",
       "4284      1  Fri May 01 22:00:42 2009   \n",
       "4285      1  Sun Jun 07 02:09:46 2009   \n",
       "4286      0  Fri May 22 04:49:37 2009   \n",
       "\n",
       "                                                   TEXT  \n",
       "0                     About to get threaded and scared   \n",
       "1     @awaisnaseer I like Shezan Mangooo too!!! I ha...  \n",
       "2     worked on my car after work. showering then go...  \n",
       "3     @Marama Actually we start this afternoon!  I w...  \n",
       "4     @gfalcone601 Aww Gi.don't worry.we'll vote for...  \n",
       "...                                                 ...  \n",
       "4282  @QandQ My performances on my CLEP tests.  #qshock  \n",
       "4283  ugh no, rcn had all the true blood episodes on...  \n",
       "4284  Just returned from the forest! Sarah (my merch...  \n",
       "4285  is proud of her dad and his piece of work. ( h...  \n",
       "4286  Just woke up, gonna eat pizza for breakfast. A...  \n",
       "\n",
       "[4287 rows x 3 columns]"
      ]
     },
     "execution_count": 5,
     "metadata": {},
     "output_type": "execute_result"
    }
   ],
   "source": [
    "df_data"
   ]
  },
  {
   "cell_type": "markdown",
   "metadata": {
    "id": "GAVPGC_8rRM7"
   },
   "source": [
    "# I. REGULAR EXPRESSION"
   ]
  },
  {
   "cell_type": "markdown",
   "metadata": {
    "id": "0n87jQodrSJ5"
   },
   "source": [
    "# A."
   ]
  },
  {
   "cell_type": "markdown",
   "metadata": {
    "id": "mtiD3IRnsvR0"
   },
   "source": [
    "## a. Average number of sentences and tokens \n",
    "- ! or ? (Even Continous)\n",
    "- . Followed by one or more spaces and then a capital character"
   ]
  },
  {
   "cell_type": "code",
   "execution_count": 6,
   "metadata": {},
   "outputs": [
    {
     "data": {
      "text/plain": [
       "['Chelsea vs Everton and Bulls vs Chiefs...',\n",
       " 'Hello sport sunday',\n",
       " 'Mr. Neemsh',\n",
       " 'dh']"
      ]
     },
     "execution_count": 6,
     "metadata": {},
     "output_type": "execute_result"
    }
   ],
   "source": [
    "findSentence('Chelsea vs Everton and Bulls vs Chiefs.... Hello sport sunday!! Mr. Neemsh . dh ')"
   ]
  },
  {
   "cell_type": "code",
   "execution_count": 7,
   "metadata": {
    "id": "1-38IM7hfmVc"
   },
   "outputs": [],
   "source": [
    "df_data['sentences'] = df_data['TEXT'].apply(lambda x: findSentence(x))\n",
    "df_data['sentence_count'] = df_data['TEXT'].apply(lambda x: findSentenceCount(x))"
   ]
  },
  {
   "cell_type": "code",
   "execution_count": 8,
   "metadata": {},
   "outputs": [
    {
     "data": {
      "text/plain": [
       "LABEL\n",
       "0    1.960500\n",
       "1    1.970704\n",
       "Name: sentence_count, dtype: float64"
      ]
     },
     "execution_count": 8,
     "metadata": {},
     "output_type": "execute_result"
    }
   ],
   "source": [
    "df_data.groupby(['LABEL'])['sentence_count'].mean()"
   ]
  },
  {
   "cell_type": "code",
   "execution_count": 9,
   "metadata": {
    "id": "GiDosJOaRAgw"
   },
   "outputs": [],
   "source": [
    "df_data['token_count'] = df_data['TEXT'].apply(lambda x: findTokenCount(x))"
   ]
  },
  {
   "cell_type": "code",
   "execution_count": 10,
   "metadata": {},
   "outputs": [],
   "source": [
    "df_data['tokens'] = df_data['TEXT'].apply(lambda x: findTokens(x))"
   ]
  },
  {
   "cell_type": "code",
   "execution_count": 11,
   "metadata": {
    "colab": {
     "base_uri": "https://localhost:8080/"
    },
    "id": "zXZd-DZcsu_4",
    "outputId": "0d516035-5bdb-4aab-fc08-f6d6d3ba0f8a",
    "scrolled": true
   },
   "outputs": [
    {
     "data": {
      "text/plain": [
       "LABEL\n",
       "0    14.801000\n",
       "1    14.116747\n",
       "Name: token_count, dtype: float64"
      ]
     },
     "execution_count": 11,
     "metadata": {},
     "output_type": "execute_result"
    }
   ],
   "source": [
    "df_data.groupby(['LABEL'])['token_count'].mean()"
   ]
  },
  {
   "cell_type": "markdown",
   "metadata": {},
   "source": [
    "## b. Total number of words starting with consonants and vowels\n",
    "- Words starting with either Consonant or Vowel (depending on subpart) followed by either an alphabet, an accented alphabet, an apostrophe or a hyphen.\n",
    "- This was done to ensure no cases of say spanish text which creep in twitter data from countries like the U.S. are not missed\n"
   ]
  },
  {
   "cell_type": "code",
   "execution_count": 12,
   "metadata": {
    "id": "21bourgDKKyL"
   },
   "outputs": [],
   "source": [
    "df_data['words_starting_with_vowel'] = df_data['TEXT'].apply(lambda x: countWordsStartingWithVowel(x))"
   ]
  },
  {
   "cell_type": "code",
   "execution_count": 13,
   "metadata": {
    "colab": {
     "base_uri": "https://localhost:8080/"
    },
    "id": "nIUx_RhlqJkQ",
    "outputId": "1220f13f-7b0f-4796-eda8-53e5c875cfd7"
   },
   "outputs": [
    {
     "data": {
      "text/plain": [
       "14177"
      ]
     },
     "execution_count": 13,
     "metadata": {},
     "output_type": "execute_result"
    }
   ],
   "source": [
    "df_data['words_starting_with_vowel'].sum()"
   ]
  },
  {
   "cell_type": "code",
   "execution_count": 14,
   "metadata": {},
   "outputs": [
    {
     "data": {
      "text/plain": [
       "LABEL\n",
       "0    6989\n",
       "1    7188\n",
       "Name: words_starting_with_vowel, dtype: int64"
      ]
     },
     "execution_count": 14,
     "metadata": {},
     "output_type": "execute_result"
    }
   ],
   "source": [
    "df_data.groupby(['LABEL'])['words_starting_with_vowel'].sum()"
   ]
  },
  {
   "cell_type": "code",
   "execution_count": 15,
   "metadata": {
    "id": "wibwwaouCJDC"
   },
   "outputs": [],
   "source": [
    "df_data['words_starting_with_consonant'] = df_data['TEXT'].apply(lambda x: countWordsStartingWithConsonant(x))"
   ]
  },
  {
   "cell_type": "code",
   "execution_count": 16,
   "metadata": {
    "colab": {
     "base_uri": "https://localhost:8080/"
    },
    "id": "ookPUBYcqHY8",
    "outputId": "f60386ca-600a-4767-8c56-79dc666d52b1"
   },
   "outputs": [
    {
     "data": {
      "text/plain": [
       "37196"
      ]
     },
     "execution_count": 16,
     "metadata": {},
     "output_type": "execute_result"
    }
   ],
   "source": [
    "df_data['words_starting_with_consonant'].sum()"
   ]
  },
  {
   "cell_type": "code",
   "execution_count": 17,
   "metadata": {},
   "outputs": [
    {
     "data": {
      "text/plain": [
       "LABEL\n",
       "0    17995\n",
       "1    19201\n",
       "Name: words_starting_with_consonant, dtype: int64"
      ]
     },
     "execution_count": 17,
     "metadata": {},
     "output_type": "execute_result"
    }
   ],
   "source": [
    "df_data.groupby(['LABEL'])['words_starting_with_consonant'].sum()"
   ]
  },
  {
   "cell_type": "markdown",
   "metadata": {
    "id": "bYRKw0v3Pq2n"
   },
   "source": [
    "## c. Lowercase the text and report the number of unique tokens present before and after lower casing."
   ]
  },
  {
   "cell_type": "markdown",
   "metadata": {},
   "source": [
    "Unique Tokens Before Splitting"
   ]
  },
  {
   "cell_type": "code",
   "execution_count": 18,
   "metadata": {
    "id": "Fa4UbCdpPOoL"
   },
   "outputs": [],
   "source": [
    "def get_unique_tokens(tokens):\n",
    "    unique_tokens = set()\n",
    "    for token_list in tokens:\n",
    "        for token in token_list:\n",
    "            unique_tokens.add(token)\n",
    "    return len(unique_tokens)"
   ]
  },
  {
   "cell_type": "markdown",
   "metadata": {},
   "source": [
    "Total"
   ]
  },
  {
   "cell_type": "code",
   "execution_count": 19,
   "metadata": {},
   "outputs": [],
   "source": [
    "\n",
    "tokens = df_data['tokens'].to_list()\n",
    "df_data['lowercase_text'] = df_data['TEXT'].apply(lambda x: lowercase(x))\n",
    "df_data['lowercase_tokens'] = df_data['lowercase_text'].apply(lambda x: findTokens(x))\n",
    "lowercase_tokens = df_data['lowercase_tokens'].to_list()"
   ]
  },
  {
   "cell_type": "code",
   "execution_count": 20,
   "metadata": {},
   "outputs": [
    {
     "name": "stdout",
     "output_type": "stream",
     "text": [
      "Unique Tokens 13159\n",
      "Unique Lowercase Tokens 11556\n"
     ]
    }
   ],
   "source": [
    "print(\"Unique Tokens\", get_unique_tokens(tokens))\n",
    "print(\"Unique Lowercase Tokens\", get_unique_tokens(lowercase_tokens))"
   ]
  },
  {
   "cell_type": "markdown",
   "metadata": {},
   "source": [
    "Label 0"
   ]
  },
  {
   "cell_type": "code",
   "execution_count": 21,
   "metadata": {},
   "outputs": [],
   "source": [
    "tokens_LABEL_0 = df_data[df_data['LABEL'] == 0]['tokens'].to_list()\n",
    "lowercase_tokens_LABEL_0 = df_data[df_data['LABEL'] == 0]['lowercase_tokens'].to_list()"
   ]
  },
  {
   "cell_type": "code",
   "execution_count": 22,
   "metadata": {
    "scrolled": true
   },
   "outputs": [
    {
     "name": "stdout",
     "output_type": "stream",
     "text": [
      "Unique Tokens 6987\n",
      "Unique Lowercase Tokens 6210\n"
     ]
    }
   ],
   "source": [
    "print(\"Unique Tokens\", get_unique_tokens(tokens_LABEL_0))\n",
    "print(\"Unique Lowercase Tokens\", get_unique_tokens(lowercase_tokens_LABEL_0))"
   ]
  },
  {
   "cell_type": "markdown",
   "metadata": {},
   "source": [
    "Label 1"
   ]
  },
  {
   "cell_type": "code",
   "execution_count": 23,
   "metadata": {},
   "outputs": [],
   "source": [
    "tokens_LABEL_1 = df_data[df_data['LABEL'] == 1]['tokens'].to_list()\n",
    "lowercase_tokens_LABEL_1 = df_data[df_data['LABEL'] == 1]['lowercase_tokens'].to_list()"
   ]
  },
  {
   "cell_type": "code",
   "execution_count": 24,
   "metadata": {},
   "outputs": [
    {
     "name": "stdout",
     "output_type": "stream",
     "text": [
      "Unique Tokens 8617\n",
      "Unique Lowercase Tokens 7610\n"
     ]
    }
   ],
   "source": [
    "print(\"Unique Tokens\", get_unique_tokens(tokens_LABEL_1))\n",
    "print(\"Unique Lowercase Tokens\", get_unique_tokens(lowercase_tokens_LABEL_1))"
   ]
  },
  {
   "cell_type": "markdown",
   "metadata": {
    "id": "rdc4Ufy2XiVE"
   },
   "source": [
    "## d. Count and list all the usernames.\n",
    "\n",
    "Basic Rules and Assumptions:\n",
    "\n",
    "- According to [Twitter Guidelines](https://help.twitter.com/en/managing-your-account/twitter-username-rules)\n",
    "  - Your username cannot be longer than 15 characters. Your name can be longer (50 characters) or shorter than 4 characters, but usernames are kept shorter for the sake of ease.\n",
    "  - A username can only contain alphanumeric characters (letters A-Z, numbers 0-9) with the exception of underscores, as noted above. Check to make sure your desired username doesn't contain any symbols, dashes, or spaces.\n",
    "  - *Optional Rule to Spot Users* - Usernames containing the words Twitter or Admin cannot be claimed. No account names can contain Twitter or Admin unless they are official Twitter accounts.\n",
    "\n",
    "- Some experimentation with our Twitter Handle helped us reach the following conclusions:\n",
    "  - @UserName can't be placed with other alphanumeric characters so abc@user 9@user are not valid and won't tag the user\n",
    "  - X@UserName where X is a punctuation is valid but the following cases also don't allow tagging - \n",
    "    - @@xyz\n",
    "    - _@xyz\n",
    "\n",
    "Hence we propose regexes which actually find real tag matches instead of say a user just writing an @ somewhere in the tweet and it getting falsely matched as a tagged user when it really isn't"
   ]
  },
  {
   "cell_type": "code",
   "execution_count": 25,
   "metadata": {
    "id": "QxPV1weuX1rn"
   },
   "outputs": [],
   "source": [
    "df_data['UserNames'] = df_data['TEXT'].apply(lambda x: findUsernames(x))\n",
    "df_data['UserNamesCounts'] = df_data['TEXT'].apply(lambda x: findUsernameCount(x))"
   ]
  },
  {
   "cell_type": "code",
   "execution_count": 26,
   "metadata": {
    "colab": {
     "base_uri": "https://localhost:8080/"
    },
    "id": "tIRVTSpZqmDL",
    "outputId": "9d11b68b-019f-4731-c556-66324d14d6c4"
   },
   "outputs": [
    {
     "data": {
      "text/plain": [
       "2108"
      ]
     },
     "execution_count": 26,
     "metadata": {},
     "output_type": "execute_result"
    }
   ],
   "source": [
    "df_data['UserNamesCounts'].sum()"
   ]
  },
  {
   "cell_type": "code",
   "execution_count": 27,
   "metadata": {},
   "outputs": [
    {
     "name": "stdout",
     "output_type": "stream",
     "text": [
      "Username Count Label 0 -  803\n",
      "Usernames Label 0 -  ['@sokendrakouture', '@flyingbolt', '@digitallearnin', '@Luke', '@buckhollywood', '@alix_says', '@mykiaisosm', '@Sally_That_Girl', '@marginatasnaily', '@NewerDeal', '@meggles89', '@ferrite', '@karon', '@IngaDurgin', '@OfficialAS', '@The_Gov', '@uyennguyen_', '@Peace_P', '@markvanbaale', '@Fashionsourcing', '@alexispratsides', '@johnny_trouble', '@omerrr', '@BabyBree96', '@David_Henrie', '@ChrisCavs', '@pinkkpaiige12', '@BrettKloesel', '@laurenbotzspons', '@tommcfly', '@dougiemcfly', '@dannymcfly', '@mcflyharry', '@RealKidPoker', '@rayamartin', '@Affan', '@chrisworthy', '@kevridesthecab', '@allergist', '@johnpapa', '@writeplayrepeat', '@crunchpow', '@HautePersian', '@MrBenRubery', '@pickassoreborn', '@stephenfry', '@musewire', '@rosaliiinda', '@courtney319', '@Mr_Marty', '@gavin8', '@DelbertShoopman', '@pirrofina', '@ShannynB', '@cultureshockmag', '@colinmunroe', '@waledc', '@MatchesMalone', '@dianalogs', '@miiikeo', '@MaryLandrum', '@tonycarrera', '@jonasbrothers', '@shamara99', '@kikuuu', '@mcflymusic', '@KatherineLunt', '@nicmoneymil', '@kadi707', '@lizlove_', '@thatchickleelee', '@prinzita', '@maddow', '@mfgreer', '@Jennybeeean', '@fabuleuxdestin', '@mishok13', '@tashadhanraj', '@KING617', '@thatiusstatic', '@jelly1996', '@thekeenanator', '@MsUndrstood', '@Zombie_Claire', '@annzoo', '@kidghost_', '@legendaryswag', '@keithnolan', '@chopsuey2e', '@anai_mrsarm', '@predschickidee', '@ChelRo', '@aafreen', '@MuscleNerd', '@gemmak500', '@mothlights', '@JonathanRKnight', '@Helena210', '@ShayyyG', '@MiriamCheah', '@mileycyrus', '@malenga', '@Kaizersose86', '@Rachel_England', '@TerrenceJ106', '@KhloeKardashian', '@RuthRamirez', '@Sparkle1980', '@MCRmuffin', '@stephanspiegel', '@wilw', '@twitrclectic', '@varyable', '@chittastic', '@cre8tivkj', '@bradley__reid', '@MakeupBag', '@marinadepp', '@Capcom_Unity', '@Stefni127', '@ajmennuti', '@BoobiKitti', '@Emmetjuh', '@TaliyAllTimeLow', '@DestinyHope92', '@welcometogower', '@alarmvsme', '@MommaSalty', '@keeptheheat', '@julianne79', '@nickgotskillz', '@Alchey', '@sweetney', '@agingbackwards', '@Olliez0r', '@inez_13', '@Guerrillas', '@danni_jones', '@heyheyybonaaann', '@kurn', '@tommcfly', '@raaaaaaek', '@neekel', '@soni_slaps_hoes', '@SleepTightTiger', '@kiddshow', '@Jonin60seconds', '@TheEllenShow', '@futuredirected', '@iiLoveJBxOx', '@foiledcupcakes', '@astynes', '@PrinceSammie', '@LucyFurLeaps', '@cityzen28', '@jodiluvsjordank', '@Mamasaywhat', '@maryelleuh', '@Nessie_Jake', '@daveexplosm', '@FadyAnwar', '@JoeyMcIntyre', '@Betheaeroplane', '@jackiedalia', '@djdeks', '@LonoSG', '@yagsfan', '@whitneyblair030', '@CourtneyCamilla', '@Mastr0', '@MissSimone32', '@SongzYuuup', '@arctic_penguin', '@BamTheDJ', '@chris_mccallum', '@bckwild', '@atebits', '@sydbob', '@itsConsiderate', '@mitchelmusso', '@twidroid', '@julibarcelona', '@romylovesmcfly', '@danipoynterjudd', '@concerts09', '@WayneDaStar', '@zetas', '@JacksonWages', '@action_jay', '@TuxOtaku', '@JackAwful', '@MCal27', '@drandolph', '@Im_X1', '@jpstg', '@beingnobody', '@hobbs', '@drealoveslife', '@OfayDevil', '@sarahdessen', '@mclamb4life2', '@ubershmoo', '@peterfacinelli', '@phillygoat', '@KGyall', '@phatfffat', '@gina_pina_14', '@aristeia', '@AsamAhmad', '@endorphite', '@tommcfly', '@spencermckinney', '@breagrant', '@Lisaclfc', '@MsMandz', '@O2', '@SeekingPlumb', '@xstaticstacey', '@kicobra', '@AJRoxMyWhiteSox', '@ChristieRessel', '@lesleypomeroy', '@chuckatwork', '@KiranKhanzada', '@elainerogers', '@thisreal4ever', '@xoxoHelenHilton', '@DotSauce', '@coy0te', '@littlehallie', '@iMoose', '@dannygokey', '@ScottWesterfeld', '@beverleycuddy', '@sophiakills', '@Suge_13', '@heyyitskate', '@SarahAnnGreen', '@xo_rainbowbrite', '@kelvineyers', '@mandelion2', '@HypeDaGreat', '@CurtCosmic', '@shewasyar', '@paganmama', '@YaGirlDWoods', '@_shanika_', '@signingmom', '@songzyuuup', '@stepheezy', '@kPorcalla', '@skweeds', '@renukarajadurai', '@BonedaddyKing', '@jaymc123', '@diana_music', '@mizrik', '@AtlantisJackson', '@dawnrigby', '@godlessgirl', '@xo_mcflyandjb', '@tomsmithmcse', '@simonech', '@MAbeo', '@tarswebb', '@kenziegrl3', '@VH1Hoopz', '@jubr', '@DigiScrap09', '@rwiggumrules', '@WeTheTRAVIS', '@yaneri', '@richardfrank', '@MadiRigh', '@siana_mia', '@bytor2112', '@CityGirl912', '@VivaLaAden', '@leesasaur', '@questlove', '@dapacheco', '@rcpmelissa', '@Haylz2329', '@AlexOrman1', '@WubsNet', '@SuzeMuse', '@mileycyrus', '@bawrie', '@TNAaddicted', '@pitchforkred', '@JonathanRKnight', '@AshJolliffe', '@mikael11', '@NevershoutAZIAH', '@anothersaturday', '@dougiemcfly', '@TheEllenShow', '@MISSxSONYA', '@hekissedmyhand', '@mileycyrus', '@TeamHate', '@demoness2009', '@missladyswd', '@conquerofawesom', '@itsnikki', '@LetMyPrideBe', '@jemcam', '@TheRealCeaza7', '@thomasfiss', '@LanceSmithShow', '@nycgrl88', '@AshBashOneOnly', '@mrstephens85', '@smitch2008', '@Bahamabob', '@mUsIc4eVeR323', '@redchinese19', '@whisenhunt', '@Emilystweet', '@demivenom', '@sapphire_city', '@00mony00', '@Bnice910', '@lisa_otto', '@mobidextrous', '@lilyginny27', '@bwsteam', '@WaltWard3', '@Octostone', '@marisolmercedes', '@theothermousie', '@marjamma', '@confessing7girl', '@pbarber00', '@marcod1419', '@natalie_mrls', '@hairbrained', '@josheddy', '@the_chaser_', '@cinerary', '@jencummins16', '@TheDavidBlaise', '@ndmLA', '@RakeshAgrawal', '@NelldaMYLF', '@divatheriva', '@Luv_ChelseaFC', '@Trace027', '@onefullyear', '@wearebirds', '@Mcpattz', '@michellelynn69', '@Slip_n_Slide', '@ramielemalubay', '@cmaecy', '@nareejo', '@_NeTTz_', '@lisa_storm', '@nikimontazaran', '@jasmika', '@Jenny__Kim', '@AJanay7', '@VirtualStudios', '@jeorgina', '@drunkengeebee', '@cooleycakeface', '@vicbeezy', '@nikkithebee', '@hollie__', '@gazzj27', '@valerierenee', '@rikkilazao', '@emjaystar', '@marktheescape', '@Skeggylady', '@Ryler', '@missmass', '@cameronreilly', '@BellaB4510', '@MillZz', '@soulsupreme', '@thisislivestyle', '@Babbano', '@ram8727', '@sissyto4', '@LaurieBailey', '@vprincess', '@robdyrdek', '@ohiowa', '@craigsutton', '@SteveBrunton', '@andyclemmensen', '@sh8dytel', '@SoldierKnowBest', '@Agent_M', '@missjeffreestar', '@TheGlitchmaster', '@shelzuluaga', '@gregjames', '@teemwilliams', '@mcflyharry', '@whitpetey', '@shiftywooten', '@JonesBeach_1988', '@Dannymcfly', '@xdahlia', '@Bob_do', '@JadeIsla', '@khali_blache', '@ItsIan', '@sandysaikman', '@theodorainish', '@MsrnbJazz', '@reemerband', '@micheleeeex', '@PeterM11', '@jaleesaja', '@rafaqat', '@XChadballX', '@thebiglib', '@RODDYBOTTUM', '@nickyjames', '@RecoverHealth', '@NathanFillion', '@aprealbrooke', '@doubleickey', '@brooklynblack', '@suaveguy321', '@bobshrunkle', '@JessiWithoutYou', '@jonbon88', '@mxbx', '@onicajay', '@ranga91', '@SexyKellyC', '@tchapman85', '@JMC_Ministries', '@lolbethie', '@R2E2', '@suckahpunch', '@jordandaly', '@jessilynn15', '@b_club', '@BJGotNext', '@chelmarie1969', '@tommcfly', '@Marshalus', '@franserraga', '@heatworld', '@DSushee', '@catharsiss', '@xoxoroxyxoxo', '@falloutkid07', '@CCTjoh', '@Nileyroxs567', '@xbby_01', '@Behemothjc', '@jknowtruth', '@mileycyrus', '@beckyp234', '@shimmylicious', '@mileycyrus', '@GayleChance', '@NaomiL413', '@CartoonAndrew', '@lizwoolly', '@1045CHUMFM', '@catfuel', '@MisterRo', '@brown_chocolate', '@Rissa545', '@DOOMSlay', '@Sjusovaren', '@Hyperopia', '@kimkardsashian', '@shakes1327', '@DonnieWahlberg', '@NKOTB', '@AliciaWag', '@BTCare', '@suspiciousminds', '@firebuilt', '@zack_addy', '@lilyjang', '@BlizzardSkies', '@basundra', '@michellecorona', '@mccato', '@hene57', '@thebraysmommy', '@Oxfordfilmfreak', '@CAGoodbred', '@PDXsays', '@zocore', '@sheis_sohood', '@SandySweetness', '@mommapuff', '@kimboyee', '@kreativeham', '@foxybimbo', '@jayde_nicole', '@miriamstaley', '@KeepItHandy', '@rajacenna', '@teetee_71', '@ShaunHailes', '@sugarassaultme', '@amypricex', '@R_SK', '@TequilaNef', '@jaime_La', '@GayleTrent', '@britaiin', '@guylikeu', '@pharobcool', '@mileycyrus', '@josefamanriquez', '@rcaplice', '@artistaday', '@babeeshark', '@toastcommunism', '@deadlyhouses', '@ihsanamin', '@Katchin05', '@james__buckley', '@TheDaniater', '@Gemmaz_', '@caitlinharvie', '@majornelson', '@greggarbo', '@Knicksmets', '@DYNASTYLA24', '@adamrawsonbrown', '@kinderlola', '@willflowers', '@mallorygallery', '@stuartwhitman', '@lollipopvomit', '@Billy_Boy', '@PrincessTabs', '@PhilRossi', '@indeuppal', '@SheWillCutUDry', '@MacZombieRawr', '@razzamatazz87', '@stephenpope', '@ShaneBryan', '@WiiGee', '@rucha_334', '@LuckyRivera', '@bowwow614', '@MouseisTheWal', '@kerrylouisexxx', '@paigearcher', '@isacullen', '@Dichenlachman', '@mileycyrus', '@stluciangirly', '@kiwinut', '@littlebites', '@cassiidy', '@Fearnecotton', '@Meeps625', '@itsNICKJONAS', '@kweenie', '@tweetpeete', '@tweetpeete', '@mintty_cygwin', '@illuzion11', '@yoimajunkie', '@IrenieFiasco', '@UgottaloveIndi', '@davidoreilly', '@Petergra', '@arm_candy', '@tweet_genius', '@boygenius', '@IASAir', '@EllieMatthewson', '@BigBearrG', '@gewg', '@secretvalley', '@jasonjordan', '@endless_murmur', '@PinchMySalt', '@mark_till', '@WirelessRage', '@jesse_la', '@LittleFletcher', '@gfalcone601', '@Keljem', '@DarrinStaloch', '@weelissa', '@JerryBroughton', '@LevnUMesmerized', '@xirclebox', '@xHelloCallie', '@YoungQ', '@Iamlegend01', '@Mrs_McFox', '@MissAnneLie', '@BAYBAYBAYvh1', '@mileycyrus', '@Javamomma', '@MayorOfLondon', '@kaaatieexlee', '@Jonasbrothers', '@JennaRaeLove', '@nicolerichie', '@TeekDaFreekCxC', '@bencusick92', '@kasiafink', '@argyle_socks', '@zimnla', '@PINBOARDblog', '@lovekikiii', '@tommcfly', '@Fulmer', '@georgefiddler', '@AnnElizabeth84', '@bendaubney', '@MelissainPhx', '@smlimon', '@essebee1', '@MrsMcFlyGrimmy', '@phoenixpwns', '@fifleaona', '@aNorthernSoul', '@mikebutcher', '@CommunityCoffee', '@meryreino', '@iheartbeans', '@DebbieFletcher', '@Pookthy', '@HeyPaisley', '@danmattia', '@B_Barnett', '@Dezz_MCR', '@Mickie_1', '@kirstiealley', '@Dunkndisorderly', '@PDAonline', '@ChrisVanPatten', '@littlefishey', '@Pinksandi', '@Darealamberrose', '@cookiethief3', '@dannywood', '@LegalIvy', '@squarespace', '@heavesighs', '@vendorprisey', '@Lemonpi', '@twitsaver', '@mmsa', '@CritiktheDj', '@Swineshead', '@BlueInDaUK', '@muffin_loser', '@explodedsoda', '@sillett', '@uberproject', '@levelsmc', '@lizp02x', '@sunshinerocker', '@kuwxlady125', '@RattieLovers', '@draganababy', '@TinaLaRoo', '@tedmurphy', '@Maynardcomau', '@hanshillen', '@MarPart67', '@zackalltimelow', '@_supernatural_', '@williammm', '@GoodTimesAreGon', '@tennisetviola', '@pfspleen', '@OriginalOG', '@SarahSaner', '@seemouserun', '@TallWASP', '@BLEVisthename', '@SuperUber7', '@Mahogany85', '@SaschaIllyvich', '@CarMaKi', '@MissPear', '@MazzieZ', '@jasmine_pie', '@_rolando', '@iamrockpit', '@Assante', '@lovedwoman', '@indiashawn', '@No_iDehea', '@KingFOE', '@herbonestrcture', '@Sarcasticluther', '@jodieharsh', '@Lovely_London', '@mileycyrus', '@Jennlaskey', '@loonia', '@dawniecahill', '@ladyshamble', '@Angelbysea', '@eBlondie', '@Rogue_Leader', '@peterfacinelli', '@DavidArchie', '@SherryHorror', '@Newps', '@Boogaloo1', '@cindayy', '@alkingyouworms', '@mileycyrus', '@jonasbrothers', '@JoDreAmZnPurpLe', '@mgi88s', '@irishprincess41', '@yourmommasboy', '@saraesse', '@aja175', '@buffawhat', '@LiveInLove10', '@Autibody', '@Chrissyyyyyyy', '@rehabc', '@adityamishra', '@inkophile', '@daniweezy', '@callimuffin', '@xLittleMissTuki', '@juiceegapeach', '@tuesday726', '@kazzba', '@ronsalcedo', '@CreativeSoul', '@auburnjones', '@DesiLynnsmom', '@kschwalm', '@krystheilen', '@Timinator', '@subclubloyal', '@mskninah', '@dylancoyle', '@matthewc', '@gogcom', '@shaunmichaelb', '@Bruno108', '@IMEDUCATEDNSEXI', '@darthvader', '@JonasAustralia', '@TheBook411', '@AldoRisolvo', '@ripcity52', '@steveray', '@jnassi', '@MistyMontano', '@mrs_radioviolet', '@jbraun430', '@theawfultruth', '@joshgroban', '@theWynk', '@KimKardashian', '@roelani', '@UnderoathBand', '@JuliatheGinger4', '@tsarnick', '@mom_07', '@TMTOHD', '@nuudz', '@marisa32686', '@zuleiiS', '@EricLeeUsher', '@rachael2389', '@RowLoFo', '@iceprincess12', '@ladykillerr', '@ardenkhan', '@xmarksthestott2', '@JenBrockwell', '@akatoure', '@petewentz', '@piratesswoop', '@staceybug', '@MarDeck', '@fbb420', '@bobbythomas1', '@squarespaceSTFU', '@jimmycostello', '@robbysteroes', '@vinsharma', '@SheenaSnively', '@nickeeeh', '@KCCopyDiva', '@ankita_gaba', '@Shadez', '@TearlessPoet', '@nb109', '@Paige1Media']\n"
     ]
    }
   ],
   "source": [
    "print(\"Username Count Label 0 - \" , df_data[df_data['LABEL'] == 0]['UserNamesCounts'].sum())\n",
    "pos_usernames = []\n",
    "ls_pos = df_data[df_data['LABEL'] == 0]['UserNames'].to_list()\n",
    "for i in ls_pos:\n",
    "    pos_usernames.extend(i)\n",
    "print(\"Usernames Label 0 - \" , pos_usernames)"
   ]
  },
  {
   "cell_type": "code",
   "execution_count": 28,
   "metadata": {},
   "outputs": [
    {
     "name": "stdout",
     "output_type": "stream",
     "text": [
      "Username Count Label 1 -  1305\n",
      "Usernames Label 1 -  ['@awaisnaseer', '@Marama', '@gfalcone601', '@mrstessyman', '@GetMeVideo', '@tb78', '@RealDeal32', '@yoginifoodie', '@mileycyrus', '@SCTunstall', '@IHauntWizards', '@soycamo', '@Liverpool_TX', '@domkoenig', '@Cyberela', '@spencerpratt', '@Bossmobb', '@cmrush', '@nachojohnny', '@teambudd1', '@mrskutcher', '@EastCoastGamblr', '@mitchelmusso', '@nessie_111', '@nakulshenoy', '@jeddimkins', '@DannyMcEvoy', '@Courtney_182', '@DavidArchie', '@Smithycurt', '@chuckiem', '@MicheleKnight', '@jacdo', '@Dj_SportsChick', '@HisFitness', '@AmazingPhil', '@Wendym00n', '@nathalichristy', '@MATTHARDYBRAND', '@MaryJoRs', '@bedoggtde', '@mommo9000', '@SupaSash11', '@MAYAHZONFIYA', '@egoodlett', '@angelajames', '@rafaelvandyke', '@rainbowsleeve', '@shaundiviney', '@stephenfry', '@zate', '@edlee', '@DonnieWahlberg', '@softandpoofyone', '@twishmay', '@TheRoundDiet', '@romaineami', '@Joenid', '@mahika', '@calvinharris', '@jazzyfizza', '@DsBabyGirl', '@LamarLee', '@traceyfalk', '@shellrawlins', '@TheRealJordin', '@poetrysue', '@LittleLisa69', '@busydiscoball', '@diamondblvd', '@ChicagoLatina80', '@sj32', '@tommcfly', '@caribouboy', '@frommystudio', '@DHughesy', '@kristenstewart9', '@linux_nut', '@gkarageorge', '@Harkaway', '@WelshDrew', '@DufalBagEnt', '@drewie123', '@DavidArchie', '@Gailporter', '@LaniiBlunts', '@bruxedo', '@windy6', '@KathyBuckworth', '@tiiiink', '@peterfacinelli', '@microgeist', '@djtracyyoung', '@djannalyze', '@theRoose', '@bigbadbob75', '@LowcountryBBQ', '@HMXCasey', '@Chantalalalaxo', '@Yasmimmm', '@Fejennings', '@hollienicole', '@KatieP2008', '@teenhearts', '@katgkionis', '@jakesonaplane', '@FrankMillar', '@em26miles', '@smoshian', '@epiphanygirl', '@Yvette_Syversen', '@Sexyjoy386', '@smileytee', '@deadlyseagal', '@Lemlina', '@jithinkr', '@jtchan83', '@honorsociety', '@choley', '@mandytronic', '@Frichii', '@lovatodd', '@keithbooe', '@LiliCosic', '@rynoceros', '@iheartscuttle', '@p_87', '@y0manchinggg', '@alexparr', '@christex', '@FestivalLights', '@unfolder', '@KingGimini', '@salisburydowns', '@MoniqueMay', '@taylorswift13', '@shaaqt', '@angelaisawesome', '@bdawgsc', '@kpmarie', '@rees397', '@joffhopkins', '@Kelly_StrayCat', '@conwizzle', '@1capplegate', '@francheska28', '@staaceeyy', '@flo494', '@maddlepaddle', '@pink', '@jamiemcflyx', '@mynameissasha', '@JonathanRKnight', '@philgerb', '@Cravethought', '@Aw_Re_ya_2_', '@maclovesmusic', '@lebout', '@mileycyrus', '@Rachel2206', '@legacy62', '@Stormlite02', '@TheSharkLady', '@pamdemonium', '@Greenwichlad', '@corie_michele', '@Lauren_Q', '@patyonce', '@marshmollow', '@lisbethh', '@tiphereth', '@CC_Cassin', '@kylebice', '@jerrybattiste', '@7_of_Nine', '@fivejs', '@theneener', '@lisaconnell', '@Red_Dust', '@pauljholden', '@anniemacdj', '@IndraIrwan', '@Dani_H', '@XGraceStAcKX', '@janw75', '@Nancecy', '@CokieTheCat', '@roundgoldfish1', '@lilcdawg', '@grahamwgreen', '@thebrianposehn', '@scottfaithfull', '@giblahoj', '@work', '@M0t0rBreath', '@SongzYuuup', '@DarkUFO', '@treadonmydreams', '@itsgabbith', '@AnnA_BaMbiNa', '@Siruveru', '@apauley88', '@thealaskanking', '@THEmandymoore', '@irgxana', '@rhetthislop', '@synisterchyck', '@calebgardner', '@Open_Book', '@plaintruthiness', '@AkankshaGoel', '@sreenet', '@_writersblock_', '@totzhatz', '@gypsyhippie', '@savorthethyme', '@LauralKGW', '@taylormosher', '@heeeyshelby', '@tariza', '@monsoonsmangoes', '@krist0ph3r', '@joannesmedley', '@JRKLOVER', '@xscarletmx', '@radmama', '@HzNKzM', '@robangus', '@Jared_M', '@joyfirestar', '@Zonoma', '@TehKimber', '@shansgrl', '@libertygirl3', '@peterdemarco', '@rockahunny', '@KWAMEDIDIT', '@jeffreecuntstar', '@twilightfan023', '@carolermp', '@mileycyrus', '@angiekayz', '@Winky_Cutto', '@ShedaBeda', '@freshypanda', '@TroyStith', '@tifftiff621', '@iJessicaSimpson', '@JinnyBoy', '@TickleMeJoey', '@tinytim2701', '@gregjames', '@zane', '@RCSAustin', '@lorrainapaz', '@somemaysay', '@alojane', '@dannymcfly', '@jason_mraz', '@ashleytisdale', '@Mark_Sheldon', '@Wallfish', '@cjlenoil', '@TigerMarketing', '@maduck', '@yasexy', '@musicbykg', '@ijustmightendit', '@songzyuuup', '@tomtravel2', '@skyblues4eva', '@stacey79', '@hagackure', '@kamscottxxx', '@ReporterRen', '@G0', '@tabat', '@Oberhauser', '@denfree268', '@jphatala', '@katecollinsnyc', '@twashley', '@Gabelicious', '@ActionLamb', '@ViperScot', '@sarahmaq', '@patrickaxe', '@musiclover37209', '@Ivez', '@cipriani15', '@Masiosare', '@sacharules', '@ManxStef', '@ProgramX', '@paulmwatson', '@smosh', '@LostArtOfMurder', '@Dannii_x3', '@Savorysweetlife', '@BouchonFor2', '@peschkaj', '@rickyambury', '@kel7alpha', '@JessClarke', '@kellyprovence', '@SoloRunner', '@DJMiles_LIVE105', '@lirael', '@rebeccao372', '@charltonbrooker', '@theOlsens', '@provokecreative', '@LaBela22', '@Abbie12', '@Hilldeshaun', '@chiinarr', '@wishwishwish', '@BrightGirl', '@KeithMelton99', '@markhoppus', '@Khaldounj', '@JonasAustralia', '@yelyahwilliams', '@JoelyAh', '@jrfan8', '@ted9k', '@doingwork', '@TessMorris', '@bytera', '@bobbyllew', '@AnarborMike', '@JasonHolder', '@TomFelton', '@petewentz', '@Daein', '@msdivamom', '@MooChow', '@akwatkins', '@ellljayy', '@XThe_Happy_EmoX', '@Lollipopins', '@greggrunberg', '@elazar', '@PalStall', '@LadyMinista', '@tj0830', '@CocaBeenSlinky', '@Rissa545', '@MODwife', '@run4kelly', '@laughscreamsing', '@Boice1061', '@MacGuffen', '@ViewFromMySeats', '@Patty_B', '@ashleymarieduh', '@knappkd', '@arjbarker', '@JonathanRKnight', '@CheekiThaSinger', '@BlueSurrfer', '@selenagomez', '@IAMtheCOMMODORE', '@MeetNiroim', '@PLabyorteaux', '@iamsneezy', '@98RockNITB', '@aimeenbarnes', '@JaySkillz', '@shadcharleston', '@OweeW', '@davidlimonline', '@dirkjohnson', '@jessikasay', '@cocoward', '@GeorgiieLu', '@JasonCecrle', '@Claire_Cordon', '@Joan_Rivers', '@soulpoetrysite', '@dot12b', '@kristenstewart9', '@NovaleeDMB', '@crucify_brett', '@Goodness500', '@kathyireland', '@MicheBel', '@TwistedTamsyn', '@briaaaa', '@kreeshaturner', '@mandyblake', '@DevonMarie78', '@moiswashere', '@Raptastic', '@VadimPhoto', '@xcspeed', '@Lastoadri', '@timheidecker', '@Charlene_Kelley', '@umasswmr', '@britlove', '@Rob_Hoffman', '@hoyle1337', '@shira467', '@Sammie_b23', '@ddublover', '@Bao_', '@misspentlife', '@DirkSonguer', '@cyclingamericas', '@accordingtothem', '@Real_DavidCook', '@pslovenpink', '@foreverivy', '@sylviegreen69', '@JessesHunting', '@ddlovato', '@bob_edwards', '@jordanknight', '@BertHofstede', '@hash_obama', '@SongzYuuup', '@swmchic', '@Apriori_Beauty', '@EmilyyBrowningg', '@steffenjason', '@brucewez', '@seaby', '@missjo_ladie', '@1938media', '@BobGrrl', '@howlieT', '@PrincessArchie', '@RamaDimas', '@selmgomez', '@norcalwine', '@rafatux', '@RenateBeate', '@becs09', '@hester1992', '@whiterabbit00', '@BingFutch', '@moonsoar', '@jamie_oliver', '@charro23', '@Dublins98Dave', '@LesleyChang', '@bmaynorx3', '@xclusivebby', '@martial17artist', '@GlennaBean', '@lannydoodle', '@twiquarius', '@ohsuperheroine', '@AspaPhoto', '@JonathanRKnight', '@OriginalGata', '@leeboardman', '@mariefayandre', '@Debbas', '@MCRmuffin', '@contactnaveen', '@littleradge', '@BlizzardSkies', '@MariahCarey', '@BumbleBeeBree', '@notoriousflirt', '@theadamlambert', '@zefamedia', '@carmabella', '@minx100', '@zara4eva', '@mediacat1978', '@hol234', '@carinafox5', '@idolscott', '@vecordy', '@tamapalace', '@mishacollins', '@oprah', '@jeffmello', '@mommab63', '@lyyyl', '@thc1972', '@SukebeUchujin', '@Ammouni', '@MarkRosenbauer', '@brianhahn', '@TerilynnS', '@ILikeBubbles', '@NatMcB78', '@discoballs', '@jofstar', '@MyGoldenchild17', '@DazzleMeThis', '@shamileemac', '@yulianasari', '@MonchaiNOW', '@xxItsDaniellexx', '@mikecarden', '@BaileyCardno_', '@TreyPeezy', '@sunrisesister', '@Apollonia_316', '@sutured', '@pauly', '@coliwilso', '@gabe138', '@JovileiAnn', '@stephpangjaya', '@Freqnc', '@namenick', '@psychemedia', '@JLSegarra', '@DivinaE', '@serkes', '@_ces_', '@Jeff_isChill', '@QUEENQUELLY', '@iJanette', '@MyDetention', '@libbywalsh', '@ToniKaras', '@billyraycyrus', '@toothsoup', '@djvictorsalazar', '@nooneai', '@yourmamaknows', '@jonri_05', '@Honky101', '@chloebli', '@wokeupinrayn', '@slanoue', '@nolanreiten', '@DJPhoenix', '@Rach_Michelle', '@MariahCarey', '@VernonGarrett', '@yourproxycomm', '@LJBoldyrev', '@PrettySprinkles', '@dance2jeffreee', '@JustinofG4P', '@courtskies', '@shapeshealth', '@MonikinhaMS', '@agkicks', '@tricitieschamb', '@TimelordSimone', '@cpearson1990', '@heywidya', '@CourtneySit', '@rockeye', '@boborama', '@calisummer', '@LisaMurray', '@BecaBear', '@HallCountyGA', '@BadSuperhero', '@geegatessxoh', '@willfrancis', '@howie_d', '@chrisandcaleb', '@redguitarfreak', '@emmysue20', '@ziggie1321', '@ginader', '@donAlvar', '@swags0trendee', '@daysdifference', '@EbonyIntuition', '@torehtard', '@Suai', '@joe4pixelworks', '@nnardelli', '@tamihackbarth', '@ninoushka', '@nathanryder', '@Jeth2DaRow', '@dreamluverz', '@kirstiealley', '@Zarrabis', '@hiteshmehta', '@kathbambo', '@bradiewebbstack', '@alexsheppard', '@simone93', '@2fly2Bking', '@pia_dysangco', '@nhoustonreed', '@fureousangel', '@Mum_of_Six', '@mileycyrus', '@Jonasbrothers', '@cwtch', '@sShap', '@mishacollins', '@samanthablews', '@mossyrants', '@JustinMGaston', '@TheNamesBlunt', '@DavidArchie', '@zarkinfrood', '@migsmusiclover', '@DonnieWahlberg', '@tanya_Jolene', '@calire', '@mugglemama', '@vuzzello', '@arabidopsis', '@bubb1e5', '@storyfan', '@wyeh32', '@kpamintuan', '@cheapcheapcheap', '@CallKidsKrazy', '@robwatts', '@fiesty32', '@gabysslave', '@crazytwism', '@omdyukkjtfxj', '@mcraddictal', '@Bronques', '@Astronick', '@zacharyxbinks', '@babygirlparis', '@memoriesbymicha', '@cupcake2643', '@downhouse', '@66Keelan61', '@ascordellis', '@nycala', '@bacieabbracci', '@polarna10', '@dzys', '@webaddict', '@MiriamCheah', '@shymissez', '@BendyWalker', '@MisterNoodle', '@tommcfly', '@Adrienne_Bailon', '@dmclain55', '@David_Weaver', '@vinifico', '@Esme_Cullen23', '@S_Wash', '@knittingknots', '@simplyshannon', '@HAM_DIGGS', '@angieelenis', '@pnay', '@rustyrockets', '@ozdj', '@verity_lola', '@Romeothecat', '@jasontancy', '@_xbianca', '@LeosGifted1', '@msallied', '@erika_gerdemark', '@savagestar', '@SmashMe_EraseMe', '@chrishasboobs', '@kerryberry', '@doctorpancreas', '@drwiz', '@Jah423', '@Anansha', '@janjohannesson', '@EQFacebookGRP', '@Aubreeeey', '@julia062', '@SharenWatson', '@irishdeafkids', '@PhantomsAreLame', '@Jerzygrllys', '@technicalfault', '@ramrod_newell', '@MaryKunzGoldman', '@sicklittlefox', '@thsteininger', '@joanpatrick', '@lucypope', '@infiniteemily', '@Cathvontrapp', '@bigwormy', '@joe_hill', '@Pazzafied', '@promedia', '@jennieaguirre', '@SecretLifeFAN22', '@Cuddlebum', '@joshuamarch', '@Lady_Twitster', '@jessebarrera', '@thelarssan', '@mydarlingemma', '@Honest_bAbe', '@djalizay', '@1_50_1', '@niteguardianx', '@dannidanishyo', '@mikap', '@kelliv86', '@Nelawish', '@sarahbelle93', '@clairemsp', '@newt0', '@the', '@sophielynette', '@LiliCosic', '@karamarzilli', '@danielskowalski', '@LincolnBuff2', '@jasminelynn88', '@mmitchelldaviss', '@MarleeMatlin', '@animalhouse4384', '@paolotarray', '@jmstewart0220', '@angl66', '@MeHeyLa', '@mikecane', '@daisymoonstars', '@GrandmaSheila', '@ranggrol', '@csquare6', '@MaryWebbJones', '@4dams', '@rod76', '@becnewman', '@trekkie23', '@shockhorror_x', '@RattPakkRush', '@gulpanag', '@keza34', '@stonewallers', '@MeLaMachinko', '@luishandshake', '@PlayRadioPlay', '@TheSourceress', '@mel0d', '@GuitarDragon', '@Kitkatz91', '@sweet_charlotte', '@greatfitness', '@tyrstag', '@mattdw', '@sedonadreammakr', '@bananabby', '@QueenSapphyre', '@danieleazar', '@moiswashere', '@jimmyfallon', '@alsoknownaskels', '@beautiful909', '@LadyFiveStar', '@AdamSinger', '@BLASTINGaDOOKIE', '@PatrickCourtney', '@SempraFi', '@JeremyDempster', '@PheMom', '@katemeadows', '@MamaAnna', '@Ichsi', '@alzaidy', '@Jonasbrothers', '@Stefanieex0', '@ramielemalubay', '@laughingyogini', '@All_Habs', '@erinhere', '@boxxybabee', '@BHOTaileprompt', '@HosamKamel', '@OneSeasonMLB', '@DrShagwell', '@anca_foster', '@twilightchill', '@aussie_mateLC', '@dannywood', '@Maddieque', '@melissa_15678', '@mondgutierrez', '@DADONWOOGZ', '@nessie111', '@bethlayne', '@sweetmexicangal', '@vkgoeswild', '@supervann', '@insidebooks', '@itschristablack', '@dougiemcfly', '@DaviddjFrancis', '@uricahh', '@dannywood', '@annyo84', '@kantashi', '@masond7', '@badbadgirlx', '@Dren_Ramone', '@helenrampling', '@ShelleyStudioS', '@justashley', '@allisonpalmer', '@stephenperry', '@jimmycarr', '@sarahjclark', '@GeeEasy', '@roxannegregorio', '@BoSoxCutie19', '@bitchinmona', '@shelley1005', '@GeekWearsPrada', '@thebestofhands', '@ShelliMayfield', '@LuvMyFeline', '@wearetheredsox', '@matthewsheppard', '@s0nglyrics', '@BittenbyBooks', '@NYCityMama', '@OnlyOneFantasy', '@rfargnoli', '@miss_patooty', '@insomniatichbee', '@N0odles', '@sweetteach81', '@harveymilk', '@njrugger45', '@gregs', '@eddidit', '@boblivious', '@harryhayphl', '@aikiverse', '@flowersbyfarha', '@gofoboRSVPCodes', '@therealpickler', '@annaaralar', '@jangelo', '@catenalady', '@talkaboutluck', '@LovinJJ', '@a_willow', '@rukshanw', '@cathylando', '@Salehh', '@bs', '@addi', '@Cynnergies', '@stmss', '@amylovegrove', '@anissapramudita', '@scb4vp', '@_supernatural_', '@Love_JoBros_', '@RyanAkaIMTF', '@sarabethxvx', '@natty_xxx', '@jeweljk', '@1ClassEdiva', '@esaevian', '@ThatDudeDeon', '@Fuzzbutt_Towers', '@MrPromee', '@spygun', '@caffeinebomb', '@Chettahman', '@MTVwebmaster', '@NightShiftNurse', '@nick_carter', '@summersteam', '@mileycyrus', '@NathanFillion', '@susieqtpie', '@subbspy', '@kieronjames', '@prestonlowe', '@AimanE2I', '@NASA', '@britesprite', '@moanyboot', '@pinkrebunny', '@lewisking', '@AriaaJaeger', '@4everBrandy', '@ashleytisdale', '@beyondbeeton', '@IsaboKelly', '@MARZ2112', '@Laird_attwood', '@rkuang', '@johnhood', '@triplepatte', '@BigBlackDogs', '@pibby', '@chielless', '@almcheese', '@alyshachandra', '@icednyior', '@becomingrachel', '@djwoolley719', '@Amandalee55', '@djadam12', '@slmoore', '@_Janell_', '@squishymatter', '@mileycyrus', '@rustyrockets', '@kylieeann', '@Daily_Pinch', '@coldplay', '@Nataliee_xo_', '@LittleLumen', '@LucasLubin', '@megapixel', '@chefrosebud', '@Schofe', '@That_Girl_Jenn', '@anonymoustom', '@GameHounds', '@MaryGoonGirl', '@Sindy56', '@just_tam21', '@Kath1213', '@PaulAros', '@jamesmachan', '@jamieworley', '@ecoblips', '@kermitbox', '@peytonluvsjoe', '@davrs', '@ripcity52', '@molliebatmit', '@RockOn24', '@DisneyForChange', '@delilahmarie89', '@kygor', '@Emerarudo', '@danielhunt', '@msstewart', '@jonbecker', '@katherinemorris', '@myliverandlungs', '@Rozes9495', '@Wossy', '@bduckles', '@ashleyshakesit', '@meganbarry', '@cripchick700', '@alexytlee', '@FooFoo_McKinley', '@rebeccaberg', '@WerewolfSeth', '@leesh_mnc', '@fckwhtyaheard', '@joolzp1', '@J_Schools', '@half_a_life', '@Collin_wolfboy', '@Ev_Bek', '@padacklesjjam', '@beckie0', '@vranac', '@IlanBr', '@simoncurtis', '@entershikari', '@jferman', '@lactose1984', '@JoeyMartelli', '@Glinner', '@myucan91', '@txbrowneyes20', '@KidLPN', '@proconcert', '@likeSunday', '@rapTJIs', '@meganmcdonald', '@tommcfly', '@JonathanRKnight', '@karahleigh', '@ForBeatlesFans', '@aplusk', '@Travelpilot', '@ShamelessAngel', '@Kaoness', '@amber_benson', '@srvp', '@mslaurenlondon', '@tinaodarby', '@10pm', '@louieevol', '@TokiHo', '@LiZAmtl', '@rerkaizen', '@tubilino', '@j_draper', '@MMiddleton', '@hansonmusic', '@fashionchalet', '@firesty', '@ceoltoir', '@619WriterScript', '@klstewart', '@mizzdangerous', '@rhettroberts', '@treacherousd', '@ChasityRomero', '@trswift', '@annwhit', '@Levigato', '@Dannymcfly', '@Mobbster3000', '@jenwells', '@swgapolitics', '@primeroguero', '@dannsimmons', '@aristotlemusic', '@mcflyboards', '@candacecbure', '@marcomr', '@MIZZVEGAS', '@gizelleramos', '@Alexmetric', '@bytterflykissx2', '@jamie_oliver', '@crashypoo', '@jenisecook', '@articulatebrian', '@moonfall', '@screamo_ranger', '@hairdryer', '@SherineGamal', '@SooSpecial', '@thatoneguy', '@arnoldkim', '@MeggieMouse', '@gheelovesyou', '@Joseph0604', '@pamderamus', '@MakikiGirl', '@erikaengle', '@hannahfaulkes', '@SCIFI_channel', '@karleigh', '@RetroRewind', '@bifferlicious', '@Claire_Cordon', '@Smil3z_GQ', '@DiversityBGT', '@GreenEyedJessie', '@nicbrewer', '@dfizzy', '@cocolee117', '@mileycyrus', '@4ChristinaRenee', '@k_love032705', '@fagunbhavsar', '@catcarr1', '@IanRobinson', '@mystical_maz', '@NoahBond', '@leticiaah', '@AlliD', '@andysowards', '@zoziekins', '@Kia_S', '@scrape6o8', '@gerdiend', '@westerkerk', '@chasingphoto', '@chrispallett', '@iKiller4', '@DavidArchie', '@twistmag', '@DanSiego', '@Heajer_aka_Jouu', '@shartlesville', '@beccalovesbooks', '@ngowers', '@crazyfirebolt', '@nlupus', '@DazzleMeThis', '@Jurate', '@WayneRobinson', '@nickswisher', '@cc_sabathia', '@kel_mul', '@martinamcbride', '@MickCornett', '@shahidkapoor', '@leeadi', '@KimScriven', '@ash_wash', '@mawbooks', '@jodymal', '@paigeclay', '@h0wReYa', '@djspanky', '@freelancerant', '@LisaWorld', '@doreenatdms', '@ttimechitchat', '@pi', '@PaulieCooks', '@cleaninggirl', '@dawn_armfield', '@JennaLeighT', '@allabtanimation', '@HesTheItBoy', '@JammedHands', '@TheHollyJohnson', '@roxerally', '@myinnersexygirl', '@techconclave', '@ashleymoran', '@MartianLove', '@dougiwmcfly', '@mynameisforge', '@surferbabe_', '@Jessimikaaaa', '@ddlovato', '@RobinLeaf', '@umahameed', '@lisamariemary', '@REMEMBERMENINAB', '@mad_dancer', '@CinDaily', '@webaddict', '@MmmBennodaCock', '@xoxo_sa', '@bertadp', '@MrsRRC', '@ChargerJenn', '@tommcfly', '@sandrarzo1', '@renu19', '@jenifel', '@ItsNeet', '@mmitchelldaviss', '@iamdiddy', '@tanisharenee08', '@zayman3', '@Zaga', '@dkris', '@allenbenjamin', '@radioplay', '@ashdonaldson', '@sophystar', '@huwstephens', '@dexterouslady', '@Dekkerd509', '@steveplunkett', '@themacgirl', '@HCCMorrisville', '@CatRocketship', '@Lisaherrity', '@Julio_N', '@_lucy_joy', '@dragonflylsu', '@markhundley', '@DCLew2', '@ToddBrink', '@theLindaLam', '@freakgoddess', '@davidgallant', '@StanmoreRob', '@TroyMcDonald', '@johncmayer', '@Livintherezlife', '@CrypticZinc', '@chriscornell', '@NancyLeeGrahn', '@veinsworld', '@mikemoseng', '@kelownagurl', '@SweetDanigirl', '@mcrfash1', '@an_other', '@AsiaBrands', '@kswick24', '@emmalina', '@IdleSi', '@pr_mari', '@trendscaping', '@Itxi_Itx', '@th3maw', '@PennyAsh', '@ExocetAU', '@Silverlines', '@DanYELLDAMAGED', '@vamp_queen', '@BlackKat1979', '@ahmedworld', '@BrianMcnugget', '@barracuda808', '@zacseif', '@mommaof4wife2r', '@mandyremains', '@CaitlinLynn', '@ddlovato', '@samchampion', '@sherrilynne', '@KimKardashian', '@timaldiss', '@tinkerbel1013', '@snowshoemtn', '@spalongal', '@ShonaQ', '@Twitprentice', '@kirstielu', '@MYGameloft', '@AnoopDoggDesai', '@mileycyrus', '@TalAter', '@bgstrowger', '@godlessgirl', '@roxibear', '@tpr2', '@JasmineTame', '@PrettyPrats', '@Jet117', '@twinkle_x', '@matthew_west', '@PaulKinlan', '@45sInYourEyes', '@DeniseHammock', '@OdaRygh', '@WerewolfLeah', '@casual_intruder', '@CiaranCuffe', '@HoopinisPassion', '@hexmurda', '@vamp143', '@PearlyWrites', '@lashonp', '@GoogleJuice', '@leaky_tiki', '@Mmerii', '@markhoppus', '@GenderQ', '@twittyamanda', '@RobertMuchamore', '@Echa_Javajazz', '@30STMluva', '@ReneeGannon', '@soyogi', '@JAYNUNEZ', '@fromser', '@sel113', '@jordanrocksawks', '@mj_lindsay', '@cr8tiveCandy', '@mitchelmusso', '@Secret_Aura', '@zocookie', '@SuzeOrmanShow', '@ailujulia', '@assos', '@PaterzAttack', '@slowinagoodway', '@3drik', '@lilpeadot', '@Charlysangel', '@rockonrebelchld', '@Awdio', '@cockpitrocks', '@cleftmommy0217', '@Real_Ian_Morris', '@nataliaaa_yo', '@roxiih', '@NeshasAgenda', '@jhillstephens', '@beckie0', '@aliceadict', '@mallorypike', '@Spindaisy', '@Jennluvs2sing', '@ji_ric', '@TheJetOnTNT', '@Sunshineliron', '@MartyBuckley', '@CalistaFoxBooks', '@x3_michelle', '@furrytom', '@JackAllTimeLow', '@akbar', '@nnete', '@VirtueMe', '@QCityPlayers', '@AceBlack', '@Development01', '@JohnGreenaway', '@nancetron', '@jo_scrawls', '@AdamandEveWed', '@JennieKitty', '@Andrew_FP', '@luvyaa', '@Dutchrudder', '@jenajean', '@AnnaMariaPdT', '@QandQ']\n"
     ]
    }
   ],
   "source": [
    "print(\"Username Count Label 1 - \" , df_data[df_data['LABEL'] == 1]['UserNamesCounts'].sum())\n",
    "neg_usernames = []\n",
    "ls_neg = df_data[df_data['LABEL'] == 1]['UserNames'].to_list()\n",
    "for i in ls_neg:\n",
    "    neg_usernames.extend(i)\n",
    "print(\"Usernames Label 1 - \" , neg_usernames)"
   ]
  },
  {
   "cell_type": "code",
   "execution_count": 29,
   "metadata": {
    "id": "1IQi6p5SqsHy"
   },
   "outputs": [],
   "source": [
    "usernames = df_data['UserNames'].to_numpy()\n",
    "flattened_usernames = []\n",
    "for i in usernames:\n",
    "  flattened_usernames.extend(i)"
   ]
  },
  {
   "cell_type": "code",
   "execution_count": 30,
   "metadata": {
    "colab": {
     "base_uri": "https://localhost:8080/"
    },
    "id": "We06hPGvrYVB",
    "outputId": "3ec7df54-41ab-4cde-8bf6-2aa8f5bc7cea"
   },
   "outputs": [
    {
     "data": {
      "text/plain": [
       "2021"
      ]
     },
     "execution_count": 30,
     "metadata": {},
     "output_type": "execute_result"
    }
   ],
   "source": [
    "len(set(flattened_usernames))"
   ]
  },
  {
   "cell_type": "markdown",
   "metadata": {
    "id": "L9D-7fwqgYNe"
   },
   "source": [
    "## e. Count and list all the urls\n",
    "\n",
    "Basic Rules and Assumptions\n",
    "\n",
    "- `http`, `https`, `www` common starters for URLs usually\n",
    "- Manually investigating all sentences which contain `http` shows no false positives that is all occurences of `http` correspond to links\n",
    "- Manually investigating all sentences which contain `www` shows lots of false positives due to words like `aww`\n",
    "- On manual inspection we find no sentences which contain `https`\n",
    "- According to [Twitter's official Blog](https://help.twitter.com/en/using-twitter/url-shortener), Twitter uses a URL-Shortener which converts links to the form `t.co` however there are no positive matches for this in our dataset. The only matches that arise are spurious matches in links like `blogspot.com`\n",
    "- A URL maybe as simple as `www.xyz.abc` and as complex as `http://www.xyz.abc/efg` and can get even more complex by adding / to index more indepth into pages\n",
    "- There are false positives that we encounter such as `Gi.don` or `worry.we` but they are both valid URLs as well as there can be custom domains by those names. We assume the domain will be atleast 2 characters long to account for `.me`, `.uk` etc.\n",
    "- Numbers have been allowed as [only numbers can form valid URLs](https://stackoverflow.com/q/56804936/13858953)"
   ]
  },
  {
   "cell_type": "code",
   "execution_count": 31,
   "metadata": {
    "id": "Pzjw7gUbgj3H"
   },
   "outputs": [],
   "source": [
    "df_data['URLs'] = df_data['TEXT'].apply(lambda x: findURLs(x))\n",
    "df_data['URLCounts'] = df_data['TEXT'].apply(lambda x: findURLCount(x))"
   ]
  },
  {
   "cell_type": "code",
   "execution_count": 32,
   "metadata": {},
   "outputs": [
    {
     "name": "stdout",
     "output_type": "stream",
     "text": [
      "URL Count Label 0 -  60\n",
      "Usernames Label 0 -  ['http://bit.ly/AEbs3', 'http://twitpic.com/3l589', 'http://bit.ly/n4wL4', 'http://twitpic.com/4ijt4', 'http://tinyurl.com/ncbmmo', 'http://twitpic.com/6u8ht', 'http://bit.ly/47etHn', 'http://bit.ly/i9lsr', 'http://twitpic.com/5exx2', 'http://mypict.me/2dG2', 'http://twitpic.com/54r0g', 'http://apps.facebook.com/dogbook/profile/view/6391349', 'http://ustre.am/2FUW', 'http://twitpic.com/6h6aw', 'http://bit.ly/1G5txF', 'http://tinyurl.com/nsfan3', 'http://plurk.com/p/sy92g', 'http://twitpic.com/6uohm', 'http://twitpic.com/54r6e', 'www.inDplay.com', 'http://twitpic.com/5ddsi', 'http://bit.ly/icbfj', 'http://twitpic.com/7lqs3', 'http://myloc.me/teY', 'http://myloc.me/4rxt', 'http://www.dryjuly.com', 'http://plurk.com/p/z3z6p', 'http://is.gd/16lr2', 'http://twitpic.com/6fsl4', 'http://twitpic.com/8cin5', 'http://twitpic.com/7rwwa', 'http://bit.ly/16Z4xZ', 'http://twitpic.com/4gzhk', 'http://tinyurl.com/pemwuh', 'http://plurk.com/p/xnsr2', 'http://twitpic.com/6tnnx', 'www.bondno9.com', 'http://twitpic.com/7uis6', 'http://tinyurl.com/c6d3mv', 'http://yfrog.com/0y7wcvj', 'http://twitpic.com/7ogps', 'http://twitpic.com/6bqli', 'http://tinyurl.com/ZeniGeba', 'http://plurk.com/p/rr5fj', 'http://tinyurl.com/ndnb75', 'http://kl.am/Uln', 'http://apps.facebook.com/catbook/profile/view/620328', 'http://plurk.com/p/z2laq', 'http://twitpic.com/6qdq6', 'http://mypict.me/54O0', 'http://plurk.com/p/1100lw', 'http://myloc.me/1XIz', 'http://twitpic.com/7tvhv', 'http://twitpic.com/7h5bf', 'http://twitpic.com/7g6v1', 'http://twitpic.com/7mt6v', 'http://plurk.com/p/rjw8t', 'http://tinyurl.com/ku9yks', 'http://twitpic.com/80023', 'http://tr.im/nqmj']\n"
     ]
    }
   ],
   "source": [
    "print(\"URL Count Label 0 - \" , df_data[df_data['LABEL'] == 0]['URLCounts'].sum())\n",
    "pos_urls = []\n",
    "ls_pos_urls = df_data[df_data['LABEL'] == 0]['URLs'].to_list()\n",
    "for i in ls_pos_urls:\n",
    "    pos_urls.extend(i)\n",
    "print(\"Usernames Label 0 - \" , pos_urls)"
   ]
  },
  {
   "cell_type": "code",
   "execution_count": 33,
   "metadata": {},
   "outputs": [
    {
     "name": "stdout",
     "output_type": "stream",
     "text": [
      "URL Count Label 1 -  145\n",
      "Usernames Label 1 -  ['http://blip.fm/~4lfcc', 'http://bit.ly/rwoHR', 'http://su.pr/1rXuPY', 'http://twitpic.com/6b03x', 'http://tinyurl.com/dk5p94', 'http://leo.lobato.org/Blipster', 'http://bit.ly/nZZQV', 'http://bit.ly/etD3a', 'http://dontkillspike.proboards.com', 'ball.com/twitter', 'http://twendz.com', 'http://twitpic.com/66zex', 'digg.com', 'http://twitpic.com/6fs89', 'http://www.myspace.com/xautomaticgirlx', 'www.musiqtone.com', 'http://plurk.com/p/z0xer', 'http://blip.fm/~4kokb', 'http://tinyurl.com/pboph6', 'http://is.gd/QAaz', 'www.paramore.net/shows', 'http://twitpic.com/680rp', 'http://tinyurl.com/mtq5u2', 'http://twitpic.com/6ddox', 'www.m2e.asia', 'http://ustre.am/2txz', 'http://bit.ly/H6RNb', 'http://yfrog.com/0fvoqj', 'SKETCH.ca', 'http://plurk.com/p/xfn8o', 'http://bnup2.com/p/569236', 'http://myloc.me/21Sd', 'http://twitpic.com/6dty8', 'http://bit.ly/Jsxm', 'http://tr.im/n0Cy', 'http://tweet.sg', 'http://plurk.com/p/xt8cm', 'http://bit.ly/2mFB2', 'http://myloc.me/41Kq', 'http://plurk.com/p/wy2m1', 'http://tinyurl.com/qx38my', 'http://tinyurl.com/le9d4f', 'http://bit.ly/9ougy', 'www.myspace.com/tynishakeli', 'http://twitpic.com/6iytx', 'http://bit.ly/W6fxT', 'nbc.com', 'www.iamsoannoyed.com', 'http://ur1.ca/5b4m', 'http://twitpic.com/7h3dq', 'http://snurl.com/feo4p', 'bomb.com', 'http://twitpic.com/6a28u', 'http://twitpic.com/6iyah', 'http://bit.ly/IQPPD', 'http://nightmoves.me', 'http://bit.ly/Bfy9B', 'http://foamslidefactory.blogspot.com', 'http://tinyurl.com/cp5yhr', 'http://tinyurl.com/n7wk2x', 'myspace.com', 'http://twurl.nl/8tb0wf', 'http://bit.ly/5JFuk', 'http://flickr.com/labelsphotography', 'http://bit.ly/WdBZk', 'http://twitpic.com/5esg1', 'http://bit.ly/DmvFY', 'http://twitpic.com/6hs1b', 'http://twitpic.com/5cqrn', 'http://blip.fm/~7rhzx', 'http://is.gd/JKhP', 'simpletownUSA.com', 'http://blip.fm/~60p98', 'http://www.moteldemoka.com', 'http://bit.ly/ozTuO', 'bit.ly', 'http://bit.ly/15yZMq', 'http://overheardinwow.wordpress.com', 'www.m2e.asia', 'http://bittenbybooks.com/?p', 'http://www.spiritisup.com/ahuginyourinboxgmb.html', 'www.myspace.com/mdadinosaur', 'http://twitpic.com/6p6ae', 'http://twitpic.com/6v7qi', 'http://blip.fm/~7at6t', 'http://twitpic.com/7cnge', 'http://blip.fm/~68tu1', 'http://bit.ly/ZsnZf', 'http://tinyurl.com/dkpvt7', 'http://bit.ly/19UgRP', 'soompi.com', 'http://plurk.com/p/xf7i8', 'http://www.carolinamusicawards.com', 'http://twitpic.com/6p0rw', 'http://www.facebook.com/banpei', 'http://twitpic.com/3kygb', 'http://emonky.deviantart.com', 'www.flickr.com/emonky', 'http://tinyurl.com/djgyf7', 'http://tinyurl.com/25giveaway', 'http://bit.ly/blizzconticket09', 'http://bit.ly/14xvke', 'http://twitpic.com/6d2kp', 'www.tweeterfollow.com', 'http://www.myspace.com/ofmachinestheband', 'http://blip.fm/~4mwmi', 'http://twitpic.com/2t5nz', 'http://twitpic.com/69ffo', 'happalong.com', 'http://tr.im/m4Hs', 'http://myloc.me/29e6', 'http://twitpic.com/6om7s', 'http://is.gd/RmKw', 'www.tweeteradder.com', 'http://tinyurl.com/ry9wap', 'http://blip.fm/~7nyu0', 'http://bit.ly/BPP4d', 'http://bit.ly/gtEB', 'http://tweet.sg', 'http://in.groups.yahoo.com/group/TheComicsClub', 'http://plurk.com/p/xdjio', 'http://twitpic.com/66580', 'http://twitpic.com/6g0m7', 'http://www.modelhomeproject.com', 'http://blip.fm/~6st7k', 'http://bit.ly/7l9s1', 'http://bit.ly/ZCYEE', 'http://bit.ly/dB3Tx', 'http://bit.ly/13Jtir', 'http://bit.ly/RElFH', 'http://bit.ly/FVFwq', 'http://tinyurl.com/mrp4x6', 'http://plurk.com/p/110kmy', 'http://ustre.am/3pO8', 'www.disneycollegeprogram.com', 'http://twitpic.com/6onox', 'http://twitpic.com/69ey9', 'http://bit.ly/7rL9S', 'http://pau27figureskater.multiply.com', 'http://blip.fm/~7rfdl', 'http://tinyurl.com/cs73el', 'http://mypict.me/QR7', 'www.stringbeancoffeeshop.com', 'http://blip.fm/~7aytk', 'http://www.hakkastudy.in.th']\n"
     ]
    }
   ],
   "source": [
    "print(\"URL Count Label 1 - \" , df_data[df_data['LABEL'] == 1]['URLCounts'].sum())\n",
    "neg_urls = []\n",
    "ls_neg_urls = df_data[df_data['LABEL'] == 1]['URLs'].to_list()\n",
    "for i in ls_neg_urls:\n",
    "    neg_urls.extend(i)\n",
    "print(\"Usernames Label 1 - \" , neg_urls)"
   ]
  },
  {
   "cell_type": "markdown",
   "metadata": {
    "id": "-jENr0Gqos6H"
   },
   "source": [
    "## f. Count the number of tweets for each day of the week. Eg Mon: 58, Tues: 20, Wed..."
   ]
  },
  {
   "cell_type": "code",
   "execution_count": 34,
   "metadata": {
    "id": "Dswe26lFmQi5"
   },
   "outputs": [],
   "source": [
    "df_data['Day'] = df_data['DATE_TIME'].apply(lambda x: getDay(x))"
   ]
  },
  {
   "cell_type": "code",
   "execution_count": 35,
   "metadata": {},
   "outputs": [
    {
     "name": "stdout",
     "output_type": "stream",
     "text": [
      "Day Counts Label 0\n"
     ]
    },
    {
     "data": {
      "text/plain": [
       "Sun    565\n",
       "Fri    473\n",
       "Mon    391\n",
       "Thu    171\n",
       "Tue    154\n",
       "Wed    127\n",
       "Sat    119\n",
       "Name: Day, dtype: int64"
      ]
     },
     "execution_count": 35,
     "metadata": {},
     "output_type": "execute_result"
    }
   ],
   "source": [
    "print(\"Day Counts Label 0\")\n",
    "df_data[df_data['LABEL'] == 0]['Day'].value_counts()"
   ]
  },
  {
   "cell_type": "code",
   "execution_count": 36,
   "metadata": {
    "colab": {
     "base_uri": "https://localhost:8080/"
    },
    "id": "VUuFLwxkqgqk",
    "outputId": "c85ced00-76f0-4e27-d429-61eafb57646d"
   },
   "outputs": [
    {
     "name": "stdout",
     "output_type": "stream",
     "text": [
      "Day Counts Label 1\n"
     ]
    },
    {
     "data": {
      "text/plain": [
       "Sun    763\n",
       "Mon    481\n",
       "Fri    391\n",
       "Sat    298\n",
       "Wed    172\n",
       "Tue    132\n",
       "Thu     50\n",
       "Name: Day, dtype: int64"
      ]
     },
     "execution_count": 36,
     "metadata": {},
     "output_type": "execute_result"
    }
   ],
   "source": [
    "print(\"Day Counts Label 1\")\n",
    "df_data[df_data['LABEL'] == 1]['Day'].value_counts()"
   ]
  },
  {
   "cell_type": "code",
   "execution_count": 37,
   "metadata": {},
   "outputs": [],
   "source": [
    "df_data.to_csv('Save_post_regular_exp_section.csv')"
   ]
  },
  {
   "cell_type": "markdown",
   "metadata": {
    "id": "-YQY-xmesj5X"
   },
   "source": [
    "# B."
   ]
  },
  {
   "cell_type": "markdown",
   "metadata": {
    "id": "y-itGBwas5XQ"
   },
   "source": [
    "## a. Total number of occurrences of the given word and sentences containing that word."
   ]
  },
  {
   "cell_type": "code",
   "execution_count": 38,
   "metadata": {
    "id": "kCtBlSzwqiYl"
   },
   "outputs": [],
   "source": [
    "def re_find_word_in_sentence(word, sentence):\n",
    "  return len(re.findall(f'\\\\b{word}\\\\b', sentence))"
   ]
  },
  {
   "cell_type": "code",
   "execution_count": 39,
   "metadata": {
    "id": "PHLgD9f4tfmK"
   },
   "outputs": [],
   "source": [
    "def find_word_counts(df_data, word, class_label):\n",
    "  filtered_df = df_data[df_data['LABEL'] == class_label]\n",
    "  filtered_df['Counts'] = filtered_df['lowercase_text'].apply(lambda x: re_find_word_in_sentence(word, x))\n",
    "  total_occurence = sum(filtered_df['Counts'])\n",
    "  sentences_containing_word = filtered_df[filtered_df['Counts'] > 0]['TEXT'].to_list()\n",
    "  return total_occurence, sentences_containing_word"
   ]
  },
  {
   "cell_type": "code",
   "execution_count": 40,
   "metadata": {
    "colab": {
     "base_uri": "https://localhost:8080/"
    },
    "id": "WBTpIOtcticy",
    "outputId": "f4bdbdbf-9a5e-4927-8070-0ac1307c9b6b"
   },
   "outputs": [
    {
     "name": "stderr",
     "output_type": "stream",
     "text": [
      "C:\\Users\\ASUS\\AppData\\Local\\Temp\\ipykernel_616\\2445291680.py:3: SettingWithCopyWarning: \n",
      "A value is trying to be set on a copy of a slice from a DataFrame.\n",
      "Try using .loc[row_indexer,col_indexer] = value instead\n",
      "\n",
      "See the caveats in the documentation: https://pandas.pydata.org/pandas-docs/stable/user_guide/indexing.html#returning-a-view-versus-a-copy\n",
      "  filtered_df['Counts'] = filtered_df['lowercase_text'].apply(lambda x: re_find_word_in_sentence(word, x))\n"
     ]
    }
   ],
   "source": [
    "total_occurence, sentences_containing_word = find_word_counts(df_data, 'hi', 1)"
   ]
  },
  {
   "cell_type": "code",
   "execution_count": 41,
   "metadata": {
    "colab": {
     "base_uri": "https://localhost:8080/"
    },
    "id": "EmWK4oTPts86",
    "outputId": "048479e4-abdb-4c91-ff15-f4d14d904e69"
   },
   "outputs": [
    {
     "data": {
      "text/plain": [
       "21"
      ]
     },
     "execution_count": 41,
     "metadata": {},
     "output_type": "execute_result"
    }
   ],
   "source": [
    "total_occurence"
   ]
  },
  {
   "cell_type": "code",
   "execution_count": 42,
   "metadata": {
    "colab": {
     "base_uri": "https://localhost:8080/"
    },
    "id": "REgyf0cnvEoa",
    "outputId": "5041960d-7124-4800-c039-ecc3c49218f3"
   },
   "outputs": [
    {
     "data": {
      "text/plain": [
       "['@Joenid ... spreading the love ...  *waves* HI !!!',\n",
       " '@bruxedo hi  hehe hope you like my stuff too ',\n",
       " '@JonathanRKnight Hi! survived to the parking lot? ',\n",
       " '@thebrianposehn say hi to steve for me ',\n",
       " \"@twashley Hi to Mom from me ! I want to help make her search as easy as possible; so please let her know I'm here if she has any Q's.   \",\n",
       " \"@kellyprovence HI!!  What's FF?   watching Twilight again- &quot;Is it not enuf just to have a long &amp; happy life with me&quot;. Aww...can't gt enuf\",\n",
       " '@kreeshaturner hi kreesha!!  Its so cold though in Ottawa anyways are you in Edmonton?? is it hot?',\n",
       " '@mikecarden hi mike!!! well you can tweet through your phone [texting] and if you have an iPhone or itouch you can download a twitte app! ',\n",
       " '@Esme_Cullen23 Hi Mom   im well, missing emmett as usual he always goes hunting without me lol wheres dad',\n",
       " '@irishdeafkids hi Caroline thanks for following &amp; thanks for the blog post about the SPWC, I just read it ',\n",
       " '@moiswashere  Hi! I was wonder what agency represents you, and if you have any acting tips? ',\n",
       " \"Work, work, work and why did I get so tired all of a sudden. @PaulAros , nicole told me you say 'Hi' aww she was so enthusiastic  hi paul\",\n",
       " \"...Hi, My name's Ani. I've been an MCR fan since '03. I give a hug to MCR fans old and new.  #MCRchat\",\n",
       " 'http://tinyurl.com/ry9wap Hi!!! I can visit your country. Nice pics  Tell me more about you. I can send you my pics, tell me your emai ...',\n",
       " '@HesTheItBoy hi gil ',\n",
       " '@umahameed so lucky girl. Say hi to Big Ben for me pleaseee ',\n",
       " '@ ItsMyEyes ... Get to updating, lady! Your status will not update itself  Tell Ci-Ci that I said &quot;Hi.&quot;',\n",
       " '@JasmineTame  Hi Jas,just wondering if you got my email about having a chat? ',\n",
       " '@slowinagoodway Hi Peter, good way to follow each other  I work for Extreme Networks.',\n",
       " 'Hi  My first visiting here  Looking for some interesting ']"
      ]
     },
     "execution_count": 42,
     "metadata": {},
     "output_type": "execute_result"
    }
   ],
   "source": [
    "sentences_containing_word"
   ]
  },
  {
   "cell_type": "markdown",
   "metadata": {
    "id": "cx1eiKQNvZID"
   },
   "source": [
    "## b. Number of sentences starting with the given word."
   ]
  },
  {
   "cell_type": "code",
   "execution_count": 43,
   "metadata": {
    "id": "C7f0n-rmvFeQ"
   },
   "outputs": [],
   "source": [
    "def re_find_sentence_starting_with_word(word, sentences):\n",
    "  c = 0\n",
    "  for sentence in sentences:\n",
    "      if re.findall(f'^\\s*{word}\\\\b', sentence):\n",
    "          c += 1\n",
    "  return c"
   ]
  },
  {
   "cell_type": "code",
   "execution_count": 44,
   "metadata": {},
   "outputs": [],
   "source": [
    "df_data['lowercase_sentences'] = df_data['lowercase_text'].apply(lambda x: findSentence(x))"
   ]
  },
  {
   "cell_type": "code",
   "execution_count": 45,
   "metadata": {
    "id": "B4qf7D0tvjwr"
   },
   "outputs": [],
   "source": [
    "def find_all_sentences_starting_with_word(df_data, word, class_label):\n",
    "  filtered_df = df_data[df_data['LABEL'] == class_label]\n",
    "  filtered_df['Counts'] = filtered_df['lowercase_sentences'].apply(lambda x: re_find_sentence_starting_with_word(word, x))\n",
    "  total_occurence = sum(filtered_df['Counts'])\n",
    "  sentences_starting_with_word = filtered_df[filtered_df['Counts'] == 1]['TEXT'].to_list()\n",
    "  return total_occurence, sentences_starting_with_word"
   ]
  },
  {
   "cell_type": "code",
   "execution_count": 46,
   "metadata": {
    "colab": {
     "base_uri": "https://localhost:8080/"
    },
    "id": "ldBGVY_evmvH",
    "outputId": "dd9a0064-1eb6-4f95-f6d2-bfa91ac55e22"
   },
   "outputs": [
    {
     "name": "stderr",
     "output_type": "stream",
     "text": [
      "C:\\Users\\ASUS\\AppData\\Local\\Temp\\ipykernel_616\\2989776534.py:3: SettingWithCopyWarning: \n",
      "A value is trying to be set on a copy of a slice from a DataFrame.\n",
      "Try using .loc[row_indexer,col_indexer] = value instead\n",
      "\n",
      "See the caveats in the documentation: https://pandas.pydata.org/pandas-docs/stable/user_guide/indexing.html#returning-a-view-versus-a-copy\n",
      "  filtered_df['Counts'] = filtered_df['lowercase_sentences'].apply(lambda x: re_find_sentence_starting_with_word(word, x))\n"
     ]
    }
   ],
   "source": [
    "total_occurence, sentences_starting_with_word = find_all_sentences_starting_with_word(df_data, 'hi', 1)"
   ]
  },
  {
   "cell_type": "code",
   "execution_count": 47,
   "metadata": {
    "colab": {
     "base_uri": "https://localhost:8080/"
    },
    "id": "a3H49wwTwY48",
    "outputId": "ebda4a54-f32f-411c-a06b-1fff1085e02a"
   },
   "outputs": [
    {
     "data": {
      "text/plain": [
       "(1, ['Hi  My first visiting here  Looking for some interesting '])"
      ]
     },
     "execution_count": 47,
     "metadata": {},
     "output_type": "execute_result"
    }
   ],
   "source": [
    "total_occurence, sentences_starting_with_word"
   ]
  },
  {
   "cell_type": "markdown",
   "metadata": {
    "id": "yxu11MKXwi_I"
   },
   "source": [
    "## c. Number of sentences ending with the given word."
   ]
  },
  {
   "cell_type": "code",
   "execution_count": 48,
   "metadata": {
    "id": "58BVCGSnwguC"
   },
   "outputs": [],
   "source": [
    "def re_find_sentence_ending_with_word(word, sentences):\n",
    "  c = 0\n",
    "  for sentence in sentences:\n",
    "      if re.findall(f'\\\\b{word}[\\s|\\.|!|?]*$', sentence):\n",
    "        c+=1\n",
    "  return c"
   ]
  },
  {
   "cell_type": "code",
   "execution_count": 49,
   "metadata": {
    "id": "vB9e_reFw9ds"
   },
   "outputs": [],
   "source": [
    "def find_all_sentences_ending_with_word(df_data, word, class_label):\n",
    "  filtered_df = df_data[df_data['LABEL'] == class_label]\n",
    "  filtered_df['Counts'] = filtered_df['lowercase_sentences'].apply(lambda x: re_find_sentence_ending_with_word(word, x))\n",
    "  total_occurence = sum(filtered_df['Counts'])\n",
    "  sentences_ending_with_word = filtered_df[filtered_df['Counts'] > 0]['TEXT'].to_list()\n",
    "  return total_occurence, sentences_ending_with_word"
   ]
  },
  {
   "cell_type": "code",
   "execution_count": 50,
   "metadata": {
    "colab": {
     "base_uri": "https://localhost:8080/"
    },
    "id": "AQbh03oJxNgA",
    "outputId": "ca165aad-2375-4d41-98ba-f8ddb38b6e95"
   },
   "outputs": [
    {
     "name": "stderr",
     "output_type": "stream",
     "text": [
      "C:\\Users\\ASUS\\AppData\\Local\\Temp\\ipykernel_616\\861762680.py:3: SettingWithCopyWarning: \n",
      "A value is trying to be set on a copy of a slice from a DataFrame.\n",
      "Try using .loc[row_indexer,col_indexer] = value instead\n",
      "\n",
      "See the caveats in the documentation: https://pandas.pydata.org/pandas-docs/stable/user_guide/indexing.html#returning-a-view-versus-a-copy\n",
      "  filtered_df['Counts'] = filtered_df['lowercase_sentences'].apply(lambda x: re_find_sentence_ending_with_word(word, x))\n"
     ]
    }
   ],
   "source": [
    "total_occurence, sentences_ending_with_word = find_all_sentences_ending_with_word(df_data, 'hi', 1)"
   ]
  },
  {
   "cell_type": "code",
   "execution_count": 51,
   "metadata": {
    "colab": {
     "base_uri": "https://localhost:8080/"
    },
    "id": "HIYOTYfTxQAn",
    "outputId": "dc4265ee-64aa-4e6b-9815-d17f9c83c31f"
   },
   "outputs": [
    {
     "data": {
      "text/plain": [
       "(5,\n",
       " ['@Joenid ... spreading the love ...  *waves* HI !!!',\n",
       "  '@JonathanRKnight Hi! survived to the parking lot? ',\n",
       "  \"@kellyprovence HI!!  What's FF?   watching Twilight again- &quot;Is it not enuf just to have a long &amp; happy life with me&quot;. Aww...can't gt enuf\",\n",
       "  '@moiswashere  Hi! I was wonder what agency represents you, and if you have any acting tips? ',\n",
       "  'http://tinyurl.com/ry9wap Hi!!! I can visit your country. Nice pics  Tell me more about you. I can send you my pics, tell me your emai ...'])"
      ]
     },
     "execution_count": 51,
     "metadata": {},
     "output_type": "execute_result"
    }
   ],
   "source": [
    "total_occurence, sentences_ending_with_word"
   ]
  },
  {
   "cell_type": "markdown",
   "metadata": {},
   "source": [
    "# II) Text Preprocessing"
   ]
  },
  {
   "cell_type": "code",
   "execution_count": 52,
   "metadata": {},
   "outputs": [],
   "source": [
    "df_data = pd.read_csv('A1_dataset.csv')"
   ]
  },
  {
   "cell_type": "code",
   "execution_count": 53,
   "metadata": {},
   "outputs": [],
   "source": [
    "def tokenization(text):\n",
    "    twt_tk = TweetTokenizer()\n",
    "    return twt_tk.tokenize(text)"
   ]
  },
  {
   "cell_type": "code",
   "execution_count": 54,
   "metadata": {},
   "outputs": [],
   "source": [
    "wordnet_words = []\n",
    "\n",
    "for word in wn.words():\n",
    "    wordnet_words.append(word)\n",
    "\n",
    "words = set(wordnet_words)"
   ]
  },
  {
   "cell_type": "code",
   "execution_count": 55,
   "metadata": {},
   "outputs": [],
   "source": [
    "# Spelling correction using jaccard distance\n",
    "def spelling_correction_jaccard(text):\n",
    "    res = []\n",
    "    for curr in text:\n",
    "        print(curr)\n",
    "        crrct_words = []\n",
    "        for w in words:\n",
    "            if abs(len(w) - len(curr)) <= 2:\n",
    "                crrct_words.append([jaccard_distance(set(w), set(curr)), w])\n",
    "        crrct_words = sorted(crrct_words, key = lambda x: x[0])\n",
    "        res.append(crrct_words[0][1][0])\n",
    "    return res\n",
    "\n",
    "# Spelling correction using edit distance\n",
    "def spelling_correction_edit(text):\n",
    "    res = []\n",
    "    for curr in text:\n",
    "        crrct_words = []\n",
    "        for w in words:\n",
    "            if abs(len(w) - len(curr)) <= 2:\n",
    "                crrct_words.append([edit_distance(w, curr), w])\n",
    "        crrct_words = sorted(crrct_words, key = lambda x: -1*x[0])\n",
    "        res.append(crrct_words[0][1])\n",
    "    return res\n",
    "    \n",
    "# Spelling correction using autocorrect\n",
    "def spelling_correction_autocorrect_full_sentence(text):\n",
    "    spell = Speller()\n",
    "    res = []\n",
    "    text = \" \".join(text)\n",
    "    text = spell(text)\n",
    "    return tokenization(text)\n",
    "\n",
    "# Spelling correction using autocorrect\n",
    "def spelling_correction_autocorrect_per_token(text):\n",
    "    spell = Speller()\n",
    "    res = []\n",
    "    for token in text:\n",
    "        res.append(spell(token))\n",
    "    return res\n",
    "\n",
    "# Spelling correction using textblob\n",
    "def spelling_correction_textblob(text):\n",
    "    text = \" \".join(text)\n",
    "    text = str(TextBlob(text))\n",
    "    return tokenization(text)\n",
    "\n",
    "def spelling_correction(text, method ='autocorrect_full'):\n",
    "    if method == 'autocorrect_full':\n",
    "        return spelling_correction_autocorrect_full_sentence(text)\n",
    "    elif method == 'autocorrect_token':\n",
    "        return spelling_correction_autocorrect_per_token(text)\n",
    "    elif method == 'edit_distance':\n",
    "        return spelling_correction_edit(text)\n",
    "    elif method == 'jaccard':\n",
    "        return spelling_correction_jaccard(text)\n",
    "    elif method == 'textblob':\n",
    "        return spelling_correction_textblob(text)\n",
    "    else:\n",
    "        raise ValueError('Please use a valid method')"
   ]
  },
  {
   "cell_type": "code",
   "execution_count": 56,
   "metadata": {},
   "outputs": [
    {
     "data": {
      "text/plain": [
       "['hi', 'dad']"
      ]
     },
     "execution_count": 56,
     "metadata": {},
     "output_type": "execute_result"
    }
   ],
   "source": [
    "spelling_correction(['hi', 'dad'], 'textblob')"
   ]
  },
  {
   "cell_type": "code",
   "execution_count": 57,
   "metadata": {},
   "outputs": [],
   "source": [
    "#Here we can either do lemmatization or stemming, doing both at the same time will not be useful\n",
    "\n",
    "def lemmatization_text(text):\n",
    "    wn = WordNetLemmatizer()\n",
    "    lemmatized_text = []\n",
    "    for each in text:\n",
    "        lemmatized_word = wn.lemmatize(each)\n",
    "        lemmatized_text.append(lemmatized_word)\n",
    "    return ' '.join(lemmatized_text)\n",
    "\n",
    "def stemming_text(text):\n",
    "    stemmed_text = []\n",
    "    ps = PorterStemmer()\n",
    "    for each in text:\n",
    "        stemmed_word = ps.stem(each)\n",
    "        stemmed_text.append(stemmed_word)\n",
    "    return ' '.join(stemmed_text)"
   ]
  },
  {
   "cell_type": "code",
   "execution_count": 58,
   "metadata": {},
   "outputs": [],
   "source": [
    "def remove_punctuations(text):\n",
    "    puncts = string.punctuation\n",
    "    s = \"\"\n",
    "    for i in text:\n",
    "        if i not in puncts:\n",
    "            s += i\n",
    "    return s"
   ]
  },
  {
   "cell_type": "code",
   "execution_count": 59,
   "metadata": {},
   "outputs": [],
   "source": [
    "stop_words = stopwords.words(\"english\")\n",
    "stop_words_without_punc = []\n",
    "for word in stop_words:\n",
    "    stop_words_without_punc.append(remove_punctuations(word))\n",
    "stop_words = stop_words_without_punc\n",
    "stop_words.append('im')\n",
    "\n",
    "def remove_stopwords(text):\n",
    "    new_words = []\n",
    "    pattern = re.compile(r'\\b(' + (r'|'.join(stop_words)) + r')\\b\\s*')\n",
    "    for word in text:\n",
    "        isMatch = pattern.match(word)\n",
    "        if not isMatch:\n",
    "            new_words.append(word)\n",
    "    return new_words"
   ]
  },
  {
   "cell_type": "code",
   "execution_count": 60,
   "metadata": {},
   "outputs": [],
   "source": [
    "def remove_whitespaces(text):\n",
    "    return re.sub(r'\\s*\\s', ' ', text)"
   ]
  },
  {
   "cell_type": "code",
   "execution_count": 61,
   "metadata": {},
   "outputs": [],
   "source": [
    "def remove_url_html(text):\n",
    "    urls = findURLs(text)\n",
    "    for i in urls:\n",
    "        text = re.sub(f\"{i}\", \"\", text)\n",
    "    return text"
   ]
  },
  {
   "cell_type": "code",
   "execution_count": 62,
   "metadata": {},
   "outputs": [],
   "source": [
    "def remove_users(text):\n",
    "    username = findUsernames(text)\n",
    "    for i in username:\n",
    "        text = re.sub(f\"{i}\", \"\", text)\n",
    "    return text"
   ]
  },
  {
   "cell_type": "code",
   "execution_count": 63,
   "metadata": {},
   "outputs": [],
   "source": [
    "def lowercase_text(text):\n",
    "    return lowercase(text)"
   ]
  },
  {
   "cell_type": "code",
   "execution_count": 64,
   "metadata": {},
   "outputs": [],
   "source": [
    "# Here we prefer to perform lemmatization over stemming so that the words don't lose their inherent meaning\n",
    "# and we perform spelling correction using the autocorrect libaray over edit_distance and jaccard because jaccard\n",
    "# and edit_distance are much slower and inaccurate in places\n",
    "\n",
    "def preprocess_text(text):\n",
    "    text = lowercase_text(text)\n",
    "    text = remove_url_html(text)\n",
    "    text = remove_users(text)\n",
    "    text = remove_punctuations(text)\n",
    "    text = remove_whitespaces(text)\n",
    "    text = tokenization(text)\n",
    "    text = spelling_correction(text, 'textblob')\n",
    "    text = remove_stopwords(text)\n",
    "    text = stemming_text(text)\n",
    "    return text\n",
    "\n",
    "def preprocess_text_verbose(text):\n",
    "    print(\"Text ->\", text)\n",
    "    text = lowercase_text(text)\n",
    "    print(\"Lowercase Text ->\", text)\n",
    "    text = remove_url_html(text)\n",
    "    print(\"Remove URL and HTML Text ->\", text)\n",
    "    text = remove_users(text)\n",
    "    print(\"Remove Usernames Text ->\", text)\n",
    "    text = remove_punctuations(text)\n",
    "    print(\"Remove Punctuations Text ->\", text)\n",
    "    text = remove_whitespaces(text)\n",
    "    print(\"Remove Whitespaces Text ->\", text)\n",
    "    text = tokenization(text)\n",
    "    print(\"Tokenized Text ->\", text)\n",
    "    text = spelling_correction(text, 'textblob')\n",
    "    print(\"Spelling Corrected Text ->\", text)\n",
    "    text = remove_stopwords(text)\n",
    "    print(\"Stop Words Removed Text ->\", text)\n",
    "    text = lemmatization_text(text)\n",
    "    print(\"Lemmatized Text ->\", text)"
   ]
  },
  {
   "cell_type": "code",
   "execution_count": 65,
   "metadata": {},
   "outputs": [
    {
     "data": {
      "application/vnd.jupyter.widget-view+json": {
       "model_id": "43f2a39b70b8475e9b00576a72dce182",
       "version_major": 2,
       "version_minor": 0
      },
      "text/plain": [
       "  0%|          | 0/4287 [00:00<?, ?it/s]"
      ]
     },
     "metadata": {},
     "output_type": "display_data"
    }
   ],
   "source": [
    "df_data[\"PREPROCESSED_TEXT\"] = df_data[\"TEXT\"].progress_apply(lambda row: preprocess_text(row))"
   ]
  },
  {
   "cell_type": "code",
   "execution_count": 66,
   "metadata": {},
   "outputs": [],
   "source": [
    "df_data.to_csv('PreProcessed.csv')"
   ]
  },
  {
   "cell_type": "code",
   "execution_count": 67,
   "metadata": {},
   "outputs": [],
   "source": [
    "# Label 0\n",
    "\n",
    "sample_0 = \"Bill Killed.  http://tr.im/nqmj  I'm sure I'm not the first to make this joke...\""
   ]
  },
  {
   "cell_type": "code",
   "execution_count": 68,
   "metadata": {},
   "outputs": [
    {
     "name": "stdout",
     "output_type": "stream",
     "text": [
      "Text -> Bill Killed.  http://tr.im/nqmj  I'm sure I'm not the first to make this joke...\n",
      "Lowercase Text -> bill killed.  http://tr.im/nqmj  i'm sure i'm not the first to make this joke...\n",
      "Remove URL and HTML Text -> bill killed.    i'm sure i'm not the first to make this joke...\n",
      "Remove Usernames Text -> bill killed.    i'm sure i'm not the first to make this joke...\n",
      "Remove Punctuations Text -> bill killed    im sure im not the first to make this joke\n",
      "Remove Whitespaces Text -> bill killed im sure im not the first to make this joke\n",
      "Tokenized Text -> ['bill', 'killed', 'im', 'sure', 'im', 'not', 'the', 'first', 'to', 'make', 'this', 'joke']\n",
      "Spelling Corrected Text -> ['bill', 'killed', 'im', 'sure', 'im', 'not', 'the', 'first', 'to', 'make', 'this', 'joke']\n",
      "Stop Words Removed Text -> ['bill', 'killed', 'sure', 'first', 'make', 'joke']\n",
      "Lemmatized Text -> bill killed sure first make joke\n"
     ]
    }
   ],
   "source": [
    "preprocess_text_verbose(sample_0)"
   ]
  },
  {
   "cell_type": "code",
   "execution_count": 69,
   "metadata": {},
   "outputs": [],
   "source": [
    "# Label 1\n",
    "\n",
    "sample_1 = '@rainbowsleeve thanks for passing on the word re: no plastic bags petition (http://tinyurl.com/dk5p94)  '"
   ]
  },
  {
   "cell_type": "code",
   "execution_count": 70,
   "metadata": {},
   "outputs": [
    {
     "name": "stdout",
     "output_type": "stream",
     "text": [
      "Text -> @rainbowsleeve thanks for passing on the word re: no plastic bags petition (http://tinyurl.com/dk5p94)  \n",
      "Lowercase Text -> @rainbowsleeve thanks for passing on the word re: no plastic bags petition (http://tinyurl.com/dk5p94)  \n",
      "Remove URL and HTML Text -> @rainbowsleeve thanks for passing on the word re: no plastic bags petition ()  \n",
      "Remove Usernames Text ->  thanks for passing on the word re: no plastic bags petition ()  \n",
      "Remove Punctuations Text ->  thanks for passing on the word re no plastic bags petition   \n",
      "Remove Whitespaces Text ->  thanks for passing on the word re no plastic bags petition \n",
      "Tokenized Text -> ['thanks', 'for', 'passing', 'on', 'the', 'word', 're', 'no', 'plastic', 'bags', 'petition']\n",
      "Spelling Corrected Text -> ['thanks', 'for', 'passing', 'on', 'the', 'word', 're', 'no', 'plastic', 'bags', 'petition']\n",
      "Stop Words Removed Text -> ['thanks', 'passing', 'word', 'plastic', 'bags', 'petition']\n",
      "Lemmatized Text -> thanks passing word plastic bag petition\n"
     ]
    }
   ],
   "source": [
    "preprocess_text_verbose(sample_1)"
   ]
  },
  {
   "cell_type": "markdown",
   "metadata": {},
   "source": [
    "# III) Visualization"
   ]
  },
  {
   "cell_type": "markdown",
   "metadata": {},
   "source": [
    "## a) Word Clouds of both classes"
   ]
  },
  {
   "cell_type": "code",
   "execution_count": 71,
   "metadata": {},
   "outputs": [],
   "source": [
    "positive_preprocessed_text = df_data[\"PREPROCESSED_TEXT\"][df_data.LABEL==1]\n",
    "negative_preprocessed_text = df_data[\"PREPROCESSED_TEXT\"][df_data.LABEL==0]"
   ]
  },
  {
   "cell_type": "code",
   "execution_count": 72,
   "metadata": {},
   "outputs": [],
   "source": [
    "positive_preprocessed_text = ' '.join(positive_preprocessed_text.values)\n",
    "negative_preprocessed_text = ' '.join(negative_preprocessed_text.values)"
   ]
  },
  {
   "cell_type": "code",
   "execution_count": 73,
   "metadata": {},
   "outputs": [],
   "source": [
    "pos_wordcloud = WordCloud(width = 1500, height = 720,\n",
    "                background_color ='black',\n",
    "                min_font_size = 10).generate(positive_preprocessed_text)"
   ]
  },
  {
   "cell_type": "code",
   "execution_count": 74,
   "metadata": {},
   "outputs": [
    {
     "data": {
      "image/png": "[encoded data removed]",
      "text/plain": [
       "<Figure size 432x288 with 1 Axes>"
      ]
     },
     "metadata": {
      "needs_background": "light"
     },
     "output_type": "display_data"
    },
    {
     "data": {
      "text/plain": [
       "<wordcloud.wordcloud.WordCloud at 0x25e7c503160>"
      ]
     },
     "execution_count": 74,
     "metadata": {},
     "output_type": "execute_result"
    }
   ],
   "source": [
    "plt.axis(\"off\")\n",
    "plt.imshow(pos_wordcloud, interpolation=\"bilinear\")\n",
    "plt.show()\n",
    "pos_wordcloud.to_file('pos.png')"
   ]
  },
  {
   "cell_type": "code",
   "execution_count": 75,
   "metadata": {},
   "outputs": [],
   "source": [
    "neg_wordcloud = WordCloud(width = 1500, height = 720,\n",
    "                background_color ='black',\n",
    "                min_font_size = 10).generate(negative_preprocessed_text)"
   ]
  },
  {
   "cell_type": "code",
   "execution_count": 76,
   "metadata": {},
   "outputs": [
    {
     "data": {
      "image/png": "[encoded data removed]",
      "text/plain": [
       "<Figure size 432x288 with 1 Axes>"
      ]
     },
     "metadata": {
      "needs_background": "light"
     },
     "output_type": "display_data"
    },
    {
     "data": {
      "text/plain": [
       "<wordcloud.wordcloud.WordCloud at 0x25e7c503310>"
      ]
     },
     "execution_count": 76,
     "metadata": {},
     "output_type": "execute_result"
    }
   ],
   "source": [
    "plt.axis(\"off\")\n",
    "plt.imshow(neg_wordcloud, interpolation=\"bilinear\")\n",
    "plt.show()\n",
    "neg_wordcloud.to_file('neg.png') "
   ]
  },
  {
   "cell_type": "markdown",
   "metadata": {},
   "source": [
    "## b) Observations"
   ]
  },
  {
   "cell_type": "code",
   "execution_count": 77,
   "metadata": {},
   "outputs": [],
   "source": [
    "positive_vocab = {}\n",
    "for word in positive_preprocessed_text.split():\n",
    "    if word in positive_vocab.keys():\n",
    "        positive_vocab[word] += 1\n",
    "    else:\n",
    "        positive_vocab[word] = 1    "
   ]
  },
  {
   "cell_type": "code",
   "execution_count": 78,
   "metadata": {},
   "outputs": [],
   "source": [
    "positive_vocab = dict(sorted(positive_vocab.items(), key=lambda item: -1*item[1]))"
   ]
  },
  {
   "cell_type": "code",
   "execution_count": 79,
   "metadata": {},
   "outputs": [],
   "source": [
    "negative_vocab = {}\n",
    "for word in negative_preprocessed_text.split():\n",
    "    if word in negative_vocab.keys():\n",
    "        negative_vocab[word] += 1\n",
    "    else:\n",
    "        negative_vocab[word] = 1"
   ]
  },
  {
   "cell_type": "code",
   "execution_count": 80,
   "metadata": {},
   "outputs": [],
   "source": [
    "negative_vocab = dict(sorted(negative_vocab.items(), key=lambda item: -1*item[1]))"
   ]
  },
  {
   "cell_type": "code",
   "execution_count": 81,
   "metadata": {},
   "outputs": [
    {
     "data": {
      "text/plain": [
       "{'go': 203,\n",
       " 'get': 183,\n",
       " 'work': 140,\n",
       " 'want': 115,\n",
       " 'miss': 113,\n",
       " 'day': 111,\n",
       " 'cant': 109,\n",
       " 'like': 102,\n",
       " 'feel': 101,\n",
       " 'realli': 90,\n",
       " 'today': 89,\n",
       " 'got': 88,\n",
       " 'back': 87,\n",
       " 'sad': 83,\n",
       " 'time': 82,\n",
       " 'still': 80,\n",
       " 'one': 73,\n",
       " 'need': 71,\n",
       " 'good': 69,\n",
       " 'lol': 66,\n",
       " 'know': 65,\n",
       " 'make': 64,\n",
       " '2': 64,\n",
       " 'home': 64,\n",
       " 'last': 63,\n",
       " 'u': 60,\n",
       " 'hope': 60,\n",
       " 'tomorrow': 60,\n",
       " 'see': 57,\n",
       " 'oh': 54,\n",
       " 'sorri': 52,\n",
       " 'much': 52,\n",
       " 'think': 51,\n",
       " 'sleep': 50,\n",
       " 'amp': 50,\n",
       " 'wish': 49,\n",
       " 'love': 48,\n",
       " 'hate': 47,\n",
       " 'right': 46,\n",
       " 'come': 46,\n",
       " 'night': 46,\n",
       " 'look': 45,\n",
       " 'bad': 44,\n",
       " 'morn': 43,\n",
       " 'tri': 42,\n",
       " 'twitter': 42,\n",
       " 'friend': 41,\n",
       " 'new': 39,\n",
       " 'watch': 38,\n",
       " 'tonight': 38,\n",
       " 'ill': 38,\n",
       " 'thing': 38,\n",
       " 'though': 37,\n",
       " 'ive': 36,\n",
       " 'sick': 36,\n",
       " 'never': 34,\n",
       " 'hour': 34,\n",
       " 'even': 33,\n",
       " 'week': 33,\n",
       " 'rain': 31,\n",
       " 'bore': 31,\n",
       " 'wait': 31,\n",
       " 'suck': 31,\n",
       " 'way': 31,\n",
       " 'that': 31,\n",
       " 'school': 30,\n",
       " 'take': 30,\n",
       " 'well': 30,\n",
       " 'tire': 29,\n",
       " 'say': 29,\n",
       " 'use': 28,\n",
       " 'gonna': 28,\n",
       " 'ugh': 27,\n",
       " 'could': 27,\n",
       " 'wanna': 27,\n",
       " 'yeah': 26,\n",
       " 'phone': 26,\n",
       " 'left': 26,\n",
       " 'bed': 26,\n",
       " 'long': 26,\n",
       " 'play': 25,\n",
       " 'find': 25,\n",
       " 'hurt': 25,\n",
       " 'better': 25,\n",
       " 'man': 25,\n",
       " 'yet': 25,\n",
       " 'littl': 24,\n",
       " 'start': 24,\n",
       " 'head': 24,\n",
       " 'haha': 24,\n",
       " 'weekend': 23,\n",
       " 'cri': 23,\n",
       " 'would': 23,\n",
       " 'call': 23,\n",
       " 'fun': 22,\n",
       " 'poor': 22,\n",
       " 'live': 22,\n",
       " 'talk': 22,\n",
       " 'damn': 22,\n",
       " 'peopl': 21,\n",
       " 'year': 21,\n",
       " 'leav': 21,\n",
       " 'away': 20,\n",
       " '3': 20,\n",
       " 'old': 20,\n",
       " 'someth': 20,\n",
       " 'ok': 20,\n",
       " 'show': 20,\n",
       " 'hey': 20,\n",
       " 'done': 20,\n",
       " 'hear': 19,\n",
       " 'pleas': 19,\n",
       " 'x': 19,\n",
       " 'guy': 19,\n",
       " 'thank': 19,\n",
       " 'lost': 19,\n",
       " 'gone': 19,\n",
       " 'alreadi': 19,\n",
       " 'follow': 19,\n",
       " 'fuck': 19,\n",
       " 'mean': 18,\n",
       " 'tweet': 18,\n",
       " '4': 18,\n",
       " 'went': 18,\n",
       " 'friday': 18,\n",
       " 'exam': 18,\n",
       " 'anoth': 18,\n",
       " 'noth': 18,\n",
       " 'shit': 18,\n",
       " 'earli': 18,\n",
       " 'life': 18,\n",
       " 'let': 18,\n",
       " 'sinc': 18,\n",
       " 'anyth': 17,\n",
       " 'help': 17,\n",
       " 'ur': 17,\n",
       " 'final': 17,\n",
       " 'headach': 17,\n",
       " 'give': 17,\n",
       " 'cold': 17,\n",
       " 'soon': 17,\n",
       " 'someon': 17,\n",
       " 'die': 17,\n",
       " 'great': 17,\n",
       " 'eat': 17,\n",
       " 'move': 16,\n",
       " 'open': 16,\n",
       " 'hous': 16,\n",
       " 'next': 16,\n",
       " 'made': 16,\n",
       " 'stop': 16,\n",
       " 'woke': 16,\n",
       " 'job': 16,\n",
       " 'sun': 16,\n",
       " 'money': 16,\n",
       " '1': 16,\n",
       " 'wonder': 16,\n",
       " 'nice': 16,\n",
       " 'n': 16,\n",
       " 'studi': 16,\n",
       " 'gotta': 16,\n",
       " 'also': 16,\n",
       " 'tell': 15,\n",
       " 'seem': 15,\n",
       " 'stupid': 15,\n",
       " 'everyon': 15,\n",
       " 'hard': 15,\n",
       " 'guess': 15,\n",
       " 'alway': 15,\n",
       " 'kid': 15,\n",
       " 'stuck': 15,\n",
       " 'break': 15,\n",
       " 'babi': 15,\n",
       " 'song': 15,\n",
       " 'r': 15,\n",
       " 'aww': 15,\n",
       " 'read': 15,\n",
       " 'hot': 15,\n",
       " 'late': 15,\n",
       " 'run': 15,\n",
       " 'food': 14,\n",
       " 'test': 14,\n",
       " 'readi': 14,\n",
       " 'lot': 14,\n",
       " 'happi': 14,\n",
       " 'us': 14,\n",
       " 'best': 14,\n",
       " 'sure': 14,\n",
       " 'check': 14,\n",
       " 'sunday': 14,\n",
       " 'stay': 13,\n",
       " 'keep': 13,\n",
       " 'bit': 13,\n",
       " 'enough': 13,\n",
       " 'monday': 13,\n",
       " 'fix': 13,\n",
       " 'total': 13,\n",
       " 'parti': 13,\n",
       " 'finish': 13,\n",
       " 'mom': 13,\n",
       " 'broke': 13,\n",
       " 'god': 13,\n",
       " 'win': 13,\n",
       " 'stuff': 13,\n",
       " 'caus': 13,\n",
       " 'ya': 13,\n",
       " 'without': 12,\n",
       " 'answer': 12,\n",
       " 'meet': 12,\n",
       " 'game': 12,\n",
       " 'hug': 12,\n",
       " 'ever': 12,\n",
       " 'offic': 12,\n",
       " 'probabl': 12,\n",
       " 'pain': 12,\n",
       " 'hell': 12,\n",
       " 'updat': 12,\n",
       " 'ago': 12,\n",
       " 'there': 12,\n",
       " 'id': 12,\n",
       " 'sound': 12,\n",
       " 'kill': 12,\n",
       " 'girl': 12,\n",
       " 'movi': 12,\n",
       " 'thought': 12,\n",
       " 'ride': 11,\n",
       " 'alon': 11,\n",
       " 'eye': 11,\n",
       " 'two': 11,\n",
       " 'drive': 11,\n",
       " 'abl': 11,\n",
       " 'ye': 11,\n",
       " 'ticket': 11,\n",
       " 'tho': 11,\n",
       " 'found': 11,\n",
       " 'told': 11,\n",
       " 'later': 11,\n",
       " 'felt': 11,\n",
       " 'happen': 11,\n",
       " 'wake': 11,\n",
       " 'either': 11,\n",
       " 'around': 11,\n",
       " 'omg': 11,\n",
       " 'end': 11,\n",
       " 'busi': 11,\n",
       " 'fail': 11,\n",
       " 'car': 11,\n",
       " 'aw': 11,\n",
       " 'cuz': 11,\n",
       " 'first': 11,\n",
       " 'awesom': 11,\n",
       " 'whole': 10,\n",
       " 'dead': 10,\n",
       " 'forgot': 10,\n",
       " 'half': 10,\n",
       " 'wrong': 10,\n",
       " 'b': 10,\n",
       " 'text': 10,\n",
       " 'weather': 10,\n",
       " 'pic': 10,\n",
       " 'onlin': 10,\n",
       " 'crazi': 10,\n",
       " 'els': 10,\n",
       " 'summer': 10,\n",
       " 'chang': 10,\n",
       " 'mayb': 9,\n",
       " 'face': 9,\n",
       " 'must': 9,\n",
       " 'minut': 9,\n",
       " 'shop': 9,\n",
       " 'news': 9,\n",
       " 'far': 9,\n",
       " 'heart': 9,\n",
       " 'anymor': 9,\n",
       " 'what': 9,\n",
       " 'glad': 9,\n",
       " 'mani': 9,\n",
       " 'wors': 9,\n",
       " 'slept': 9,\n",
       " 'hospit': 9,\n",
       " 'hit': 9,\n",
       " 'dream': 9,\n",
       " 'book': 9,\n",
       " 'actual': 9,\n",
       " 'annoy': 9,\n",
       " 'cool': 9,\n",
       " 'boy': 9,\n",
       " 'plan': 9,\n",
       " 'reason': 9,\n",
       " 'said': 9,\n",
       " 'almost': 9,\n",
       " 'sit': 9,\n",
       " 'awww': 9,\n",
       " 'outsid': 9,\n",
       " 'kind': 9,\n",
       " 'pack': 9,\n",
       " 'write': 9,\n",
       " 'scare': 8,\n",
       " 'music': 8,\n",
       " 'arm': 8,\n",
       " 'instead': 8,\n",
       " 'crap': 8,\n",
       " 'yesterday': 8,\n",
       " 'hungri': 8,\n",
       " 'dad': 8,\n",
       " 'send': 8,\n",
       " 'enjoy': 8,\n",
       " 'card': 8,\n",
       " 'afford': 8,\n",
       " 'water': 8,\n",
       " 'real': 8,\n",
       " 'link': 8,\n",
       " 'free': 8,\n",
       " 'world': 8,\n",
       " 'boo': 8,\n",
       " 'wed': 8,\n",
       " 'homework': 8,\n",
       " 'la': 8,\n",
       " 'page': 8,\n",
       " 'train': 8,\n",
       " 'ah': 8,\n",
       " 'class': 8,\n",
       " '5': 8,\n",
       " 'saturday': 8,\n",
       " 'pictur': 8,\n",
       " 'month': 8,\n",
       " 'cake': 8,\n",
       " 'room': 8,\n",
       " 'true': 8,\n",
       " 'figur': 7,\n",
       " 'teacher': 7,\n",
       " 'pull': 7,\n",
       " 'dinner': 7,\n",
       " 'clean': 7,\n",
       " 'he': 7,\n",
       " 'okay': 7,\n",
       " 'ppl': 7,\n",
       " 'repli': 7,\n",
       " 'big': 7,\n",
       " 'rest': 7,\n",
       " 'lunch': 7,\n",
       " 'famili': 7,\n",
       " 'trip': 7,\n",
       " 'jealou': 7,\n",
       " 'tast': 7,\n",
       " 'serious': 7,\n",
       " 'lie': 7,\n",
       " 'none': 7,\n",
       " 'caught': 7,\n",
       " 'parent': 7,\n",
       " 'hotel': 7,\n",
       " 'awak': 7,\n",
       " 'expect': 7,\n",
       " 'sweet': 7,\n",
       " 'heard': 7,\n",
       " 'storm': 7,\n",
       " 'idea': 7,\n",
       " 'mother': 7,\n",
       " 'wear': 7,\n",
       " 'drink': 7,\n",
       " 'dog': 7,\n",
       " 'beauti': 7,\n",
       " 'listen': 7,\n",
       " 'doctor': 7,\n",
       " 'comput': 7,\n",
       " 'part': 7,\n",
       " 'iphon': 7,\n",
       " 'close': 7,\n",
       " 'pretti': 7,\n",
       " 'may': 7,\n",
       " 'beach': 7,\n",
       " 'offici': 7,\n",
       " 'airport': 7,\n",
       " 'lame': 7,\n",
       " 'everi': 7,\n",
       " 'vacat': 7,\n",
       " 'hand': 7,\n",
       " 'itll': 7,\n",
       " 'person': 7,\n",
       " 'anyway': 7,\n",
       " 'brother': 7,\n",
       " 'til': 7,\n",
       " 'anyon': 7,\n",
       " 'taken': 7,\n",
       " 'lucki': 7,\n",
       " 'forget': 6,\n",
       " 'ate': 6,\n",
       " 'worri': 6,\n",
       " 'saw': 6,\n",
       " 'bodi': 6,\n",
       " 'rememb': 6,\n",
       " 'full': 6,\n",
       " 'laugh': 6,\n",
       " 'block': 6,\n",
       " 'hill': 6,\n",
       " 'gt': 6,\n",
       " 'invit': 6,\n",
       " 'sore': 6,\n",
       " 'sadli': 6,\n",
       " 'rip': 6,\n",
       " 'tea': 6,\n",
       " 'name': 6,\n",
       " 'allow': 6,\n",
       " 'sold': 6,\n",
       " 'post': 6,\n",
       " 'till': 6,\n",
       " 'mad': 6,\n",
       " 'lt3': 6,\n",
       " 'freak': 6,\n",
       " 'app': 6,\n",
       " 'burn': 6,\n",
       " 'smoke': 6,\n",
       " 'due': 6,\n",
       " 'past': 6,\n",
       " 'three': 6,\n",
       " 'realiz': 6,\n",
       " 'itun': 6,\n",
       " 'exhaust': 6,\n",
       " 'appar': 6,\n",
       " 'realis': 6,\n",
       " 'xx': 6,\n",
       " 'catch': 6,\n",
       " 'bt': 6,\n",
       " 'nobodi': 6,\n",
       " 'date': 6,\n",
       " 'store': 6,\n",
       " 'suppos': 6,\n",
       " 'aint': 6,\n",
       " 'revis': 6,\n",
       " 'dri': 6,\n",
       " 'turn': 6,\n",
       " 'dammit': 6,\n",
       " 'learn': 6,\n",
       " 'side': 6,\n",
       " 'horribl': 6,\n",
       " 'key': 6,\n",
       " 'slow': 6,\n",
       " 'church': 6,\n",
       " 'pass': 6,\n",
       " 'remind': 6,\n",
       " 'kinda': 6,\n",
       " 'place': 6,\n",
       " 'top': 6,\n",
       " 'took': 6,\n",
       " 'might': 6,\n",
       " 'cream': 6,\n",
       " 'air': 6,\n",
       " 'blood': 6,\n",
       " 'lone': 6,\n",
       " 'download': 6,\n",
       " '6': 6,\n",
       " 'bag': 6,\n",
       " 'coffe': 6,\n",
       " 'sigh': 6,\n",
       " 'confus': 6,\n",
       " 'red': 6,\n",
       " 'nope': 6,\n",
       " 'put': 6,\n",
       " 'goe': 6,\n",
       " 'kate': 6,\n",
       " 'pc': 6,\n",
       " 'spend': 6,\n",
       " 'da': 6,\n",
       " 'unfortun': 6,\n",
       " 'mine': 6,\n",
       " 'hair': 6,\n",
       " 'theyr': 6,\n",
       " 'afraid': 5,\n",
       " 'age': 5,\n",
       " 'mention': 5,\n",
       " 'cannot': 5,\n",
       " 'moment': 5,\n",
       " 'thursday': 5,\n",
       " 'longer': 5,\n",
       " 'physic': 5,\n",
       " 'server': 5,\n",
       " 'crash': 5,\n",
       " 'decid': 5,\n",
       " 'fast': 5,\n",
       " 'star': 5,\n",
       " 'ice': 5,\n",
       " 'goin': 5,\n",
       " 'hav': 5,\n",
       " 'believ': 5,\n",
       " 'plane': 5,\n",
       " 'receiv': 5,\n",
       " 'funni': 5,\n",
       " 'site': 5,\n",
       " 'puppi': 5,\n",
       " 'email': 5,\n",
       " 'wash': 5,\n",
       " 'alarm': 5,\n",
       " '15': 5,\n",
       " 'station': 5,\n",
       " 'nap': 5,\n",
       " 'london': 5,\n",
       " 'soo': 5,\n",
       " 'nite': 5,\n",
       " 'disappoint': 5,\n",
       " 'super': 5,\n",
       " 'buy': 5,\n",
       " 'btw': 5,\n",
       " 'video': 5,\n",
       " 'case': 5,\n",
       " 'yr': 5,\n",
       " 'comic': 5,\n",
       " 'feelin': 5,\n",
       " 'less': 5,\n",
       " 'huge': 5,\n",
       " '20': 5,\n",
       " 'radio': 5,\n",
       " 'front': 5,\n",
       " 'although': 5,\n",
       " 'chocol': 5,\n",
       " 'wow': 5,\n",
       " 'togeth': 5,\n",
       " 'gut': 5,\n",
       " 'ipod': 5,\n",
       " 'internet': 5,\n",
       " 'mess': 5,\n",
       " 'seriou': 5,\n",
       " 'w': 5,\n",
       " 'box': 5,\n",
       " 'bagel': 5,\n",
       " 'hi': 5,\n",
       " 'paper': 5,\n",
       " 'shower': 5,\n",
       " 'add': 5,\n",
       " 'terribl': 5,\n",
       " 'dvd': 5,\n",
       " 'bitch': 5,\n",
       " 'somewher': 5,\n",
       " 'sell': 5,\n",
       " 'record': 5,\n",
       " 'project': 5,\n",
       " 'beer': 5,\n",
       " 'fill': 5,\n",
       " 'sky': 5,\n",
       " 'dang': 5,\n",
       " 'idk': 5,\n",
       " 'fan': 5,\n",
       " 'forward': 5,\n",
       " 'cook': 5,\n",
       " 'understand': 5,\n",
       " 'everyth': 5,\n",
       " 'bout': 5,\n",
       " 'bummer': 5,\n",
       " 'account': 5,\n",
       " 'cloth': 5,\n",
       " 'usual': 5,\n",
       " 'batteri': 5,\n",
       " 'mac': 5,\n",
       " 'neck': 5,\n",
       " 'ear': 5,\n",
       " 'drop': 5,\n",
       " 'pray': 5,\n",
       " 'speak': 5,\n",
       " 'dress': 5,\n",
       " 'shake': 4,\n",
       " 'gloomi': 4,\n",
       " 'omj': 4,\n",
       " 'sleepi': 4,\n",
       " 'cancel': 4,\n",
       " 'xxx': 4,\n",
       " 'student': 4,\n",
       " 'cat': 4,\n",
       " 'thunder': 4,\n",
       " 'care': 4,\n",
       " 'complet': 4,\n",
       " 'small': 4,\n",
       " 'function': 4,\n",
       " 'upset': 4,\n",
       " 'traffic': 4,\n",
       " 'street': 4,\n",
       " 'tweetdeck': 4,\n",
       " 'stori': 4,\n",
       " 'screen': 4,\n",
       " 'came': 4,\n",
       " 'bet': 4,\n",
       " 'set': 4,\n",
       " 'fire': 4,\n",
       " 'expens': 4,\n",
       " 'knew': 4,\n",
       " 'badli': 4,\n",
       " 'light': 4,\n",
       " 'arriv': 4,\n",
       " 'fine': 4,\n",
       " 'pay': 4,\n",
       " 'nick': 4,\n",
       " 'paid': 4,\n",
       " 'swear': 4,\n",
       " 'weve': 4,\n",
       " 'white': 4,\n",
       " 'taylor': 4,\n",
       " 'easi': 4,\n",
       " 'exactli': 4,\n",
       " 'chees': 4,\n",
       " 'album': 4,\n",
       " 'concert': 4,\n",
       " 'gah': 4,\n",
       " 'hayfev': 4,\n",
       " 'yay': 4,\n",
       " 'worth': 4,\n",
       " 'chanc': 4,\n",
       " 'ahh': 4,\n",
       " 'point': 4,\n",
       " 'self': 4,\n",
       " 'darn': 4,\n",
       " 'tour': 4,\n",
       " 'share': 4,\n",
       " '4am': 4,\n",
       " 'land': 4,\n",
       " 'bike': 4,\n",
       " 'gross': 4,\n",
       " 'dude': 4,\n",
       " 'dm': 4,\n",
       " 'log': 4,\n",
       " 'whatev': 4,\n",
       " 'click': 4,\n",
       " 'loss': 4,\n",
       " 'lazi': 4,\n",
       " 'tommorow': 4,\n",
       " 'forev': 4,\n",
       " 'feet': 4,\n",
       " 'colleg': 4,\n",
       " 'jump': 4,\n",
       " 'xd': 4,\n",
       " 'skin': 4,\n",
       " 'sign': 4,\n",
       " 'freakin': 4,\n",
       " 'attack': 4,\n",
       " 'sever': 4,\n",
       " 'least': 4,\n",
       " 'math': 4,\n",
       " 'lose': 4,\n",
       " 'gosh': 4,\n",
       " 'san': 4,\n",
       " 'diego': 4,\n",
       " 'bb': 4,\n",
       " 'throat': 4,\n",
       " 'tom': 4,\n",
       " 'smell': 4,\n",
       " 'toast': 4,\n",
       " 'sunni': 4,\n",
       " 'thru': 4,\n",
       " 'pop': 4,\n",
       " '9': 4,\n",
       " 'clear': 4,\n",
       " 'leg': 4,\n",
       " 'sim': 4,\n",
       " 'girlfriend': 4,\n",
       " 'seen': 4,\n",
       " 'dunno': 4,\n",
       " 'ala': 4,\n",
       " '1st': 4,\n",
       " 'shot': 4,\n",
       " 'workin': 4,\n",
       " 'order': 4,\n",
       " 'ugli': 4,\n",
       " 'ha': 4,\n",
       " 'met': 4,\n",
       " 'sniff': 4,\n",
       " 'birthday': 4,\n",
       " 'delet': 4,\n",
       " 'kick': 4,\n",
       " 'mind': 4,\n",
       " 'race': 4,\n",
       " 'gym': 4,\n",
       " 'sooooo': 4,\n",
       " 'min': 4,\n",
       " 'return': 4,\n",
       " 'mainten': 4,\n",
       " 'laptop': 4,\n",
       " 'base': 4,\n",
       " 'respond': 4,\n",
       " 'amaz': 4,\n",
       " 'bring': 4,\n",
       " 'citi': 4,\n",
       " 'apprentic': 4,\n",
       " 'art': 4,\n",
       " 'bare': 4,\n",
       " 'breakfast': 4,\n",
       " 'camera': 4,\n",
       " 'tht': 4,\n",
       " 'cough': 4,\n",
       " 'sing': 4,\n",
       " 'contact': 4,\n",
       " 'sometim': 4,\n",
       " 'jk': 4,\n",
       " 'visit': 4,\n",
       " '8': 4,\n",
       " 'yea': 3,\n",
       " 'iranelect': 3,\n",
       " 'current': 3,\n",
       " 'uk': 3,\n",
       " '2nd': 3,\n",
       " 'grade': 3,\n",
       " 'wast': 3,\n",
       " 'afternoon': 3,\n",
       " 'hide': 3,\n",
       " 'lightn': 3,\n",
       " 'includ': 3,\n",
       " 'dat': 3,\n",
       " 'profil': 3,\n",
       " 'net': 3,\n",
       " 'fair': 3,\n",
       " 'definit': 3,\n",
       " 'level': 3,\n",
       " 'poop': 3,\n",
       " '\\x80': 3,\n",
       " '\\x99': 3,\n",
       " 'earlier': 3,\n",
       " 'dark': 3,\n",
       " 'pick': 3,\n",
       " 'second': 3,\n",
       " 'state': 3,\n",
       " 'remov': 3,\n",
       " 'blow': 3,\n",
       " 'choic': 3,\n",
       " 'hang': 3,\n",
       " 'mistak': 3,\n",
       " 'surpris': 3,\n",
       " 'kitti': 3,\n",
       " 'gossip': 3,\n",
       " 'everytim': 3,\n",
       " 'grandma': 3,\n",
       " 'missin': 3,\n",
       " 'bum': 3,\n",
       " 'buddi': 3,\n",
       " 'problem': 3,\n",
       " 'public': 3,\n",
       " 'rock': 3,\n",
       " 'mcflyinmanila': 3,\n",
       " 'vega': 3,\n",
       " 'ang': 3,\n",
       " 'word': 3,\n",
       " 'machin': 3,\n",
       " 'scari': 3,\n",
       " 'truck': 3,\n",
       " 'swift': 3,\n",
       " 'fam': 3,\n",
       " 'support': 3,\n",
       " 'practic': 3,\n",
       " 'em': 3,\n",
       " 'grow': 3,\n",
       " 'luck': 3,\n",
       " 'tear': 3,\n",
       " 'ridicul': 3,\n",
       " 'seat': 3,\n",
       " 'human': 3,\n",
       " 'bf': 3,\n",
       " 'agre': 3,\n",
       " 'dear': 3,\n",
       " 'spent': 3,\n",
       " 'sale': 3,\n",
       " 'fit': 3,\n",
       " 'gay': 3,\n",
       " 'breath': 3,\n",
       " 'children': 3,\n",
       " 'begin': 3,\n",
       " 'jenni': 3,\n",
       " 'soooo': 3,\n",
       " 'um': 3,\n",
       " 'messag': 3,\n",
       " 'number': 3,\n",
       " 'shift': 3,\n",
       " 'graduat': 3,\n",
       " 'lauren': 3,\n",
       " 'f': 3,\n",
       " 'sooo': 3,\n",
       " 'seven': 3,\n",
       " 'bought': 3,\n",
       " 'mario': 3,\n",
       " '2day': 3,\n",
       " 'fall': 3,\n",
       " 'dentist': 3,\n",
       " 'energi': 3,\n",
       " 'somebodi': 3,\n",
       " 'piss': 3,\n",
       " 'cabl': 3,\n",
       " 'hangov': 3,\n",
       " 'delay': 3,\n",
       " '30': 3,\n",
       " 'import': 3,\n",
       " 'chri': 3,\n",
       " 'manag': 3,\n",
       " 'differ': 3,\n",
       " 'product': 3,\n",
       " 'shame': 3,\n",
       " 'green': 3,\n",
       " 'forc': 3,\n",
       " 'stand': 3,\n",
       " 'chemistri': 3,\n",
       " 'list': 3,\n",
       " 'cover': 3,\n",
       " '3g': 3,\n",
       " 'anywher': 3,\n",
       " 'worst': 3,\n",
       " 'tissu': 3,\n",
       " 'lesson': 3,\n",
       " 'choos': 3,\n",
       " 'franc': 3,\n",
       " 'howev': 3,\n",
       " 'french': 3,\n",
       " 'fed': 3,\n",
       " 'band': 3,\n",
       " 'five': 3,\n",
       " 'stress': 3,\n",
       " 'panic': 3,\n",
       " 'asap': 3,\n",
       " 'ouch': 3,\n",
       " 'fell': 3,\n",
       " 'asleep': 3,\n",
       " 'victim': 3,\n",
       " 'tune': 3,\n",
       " 'seri': 3,\n",
       " 'hero': 3,\n",
       " 'windi': 3,\n",
       " 'shoot': 3,\n",
       " 'lab': 3,\n",
       " 'wall': 3,\n",
       " 'dread': 3,\n",
       " 'flight': 3,\n",
       " 'edit': 3,\n",
       " 'hr': 3,\n",
       " 'josh': 3,\n",
       " 'june': 3,\n",
       " 'cali': 3,\n",
       " 'xoxo': 3,\n",
       " 'bueno': 3,\n",
       " 'ufc': 3,\n",
       " 'insid': 3,\n",
       " 'weird': 3,\n",
       " 'stomach': 3,\n",
       " 'episod': 3,\n",
       " 'sunburnt': 3,\n",
       " 'migrain': 3,\n",
       " 'yall': 3,\n",
       " 'pound': 3,\n",
       " 'charact': 3,\n",
       " 'wo': 3,\n",
       " 'ask': 3,\n",
       " 'upload': 3,\n",
       " 'wk': 3,\n",
       " '2nite': 3,\n",
       " 'tummi': 3,\n",
       " 'wtf': 3,\n",
       " 'gig': 3,\n",
       " 'ebay': 3,\n",
       " 'experi': 3,\n",
       " 'fever': 3,\n",
       " 'wht': 3,\n",
       " 'pizza': 3,\n",
       " 'miley': 3,\n",
       " 'soak': 3,\n",
       " 'pool': 3,\n",
       " 'blog': 3,\n",
       " 'tree': 3,\n",
       " 'magic': 3,\n",
       " 'blue': 3,\n",
       " 'japan': 3,\n",
       " 'continu': 3,\n",
       " 'bday': 3,\n",
       " 'heat': 3,\n",
       " 'beg': 3,\n",
       " 'softwar': 3,\n",
       " 'poo': 3,\n",
       " 'david': 3,\n",
       " 'forgotten': 3,\n",
       " 'yup': 3,\n",
       " 'di': 3,\n",
       " 'fault': 3,\n",
       " 'soup': 3,\n",
       " 'ass': 3,\n",
       " 'limit': 3,\n",
       " 'depress': 3,\n",
       " '7': 3,\n",
       " 'joe': 3,\n",
       " 'tha': 3,\n",
       " 'everywher': 3,\n",
       " 'stole': 3,\n",
       " 'jon': 3,\n",
       " 'apart': 3,\n",
       " 'teddi': 3,\n",
       " 'vote': 3,\n",
       " 'epic': 3,\n",
       " 'trust': 3,\n",
       " 'save': 3,\n",
       " 'danni': 3,\n",
       " 'theyll': 3,\n",
       " 'round': 3,\n",
       " 'burnt': 3,\n",
       " 'nowher': 3,\n",
       " 'bright': 3,\n",
       " 'doin': 3,\n",
       " 'singl': 3,\n",
       " 'twice': 3,\n",
       " 'randomli': 3,\n",
       " 'walk': 3,\n",
       " 'fli': 3,\n",
       " 'rid': 3,\n",
       " 'salad': 3,\n",
       " 'contest': 3,\n",
       " 'bar': 3,\n",
       " 'advert': 3,\n",
       " 'camp': 3,\n",
       " 'issu': 3,\n",
       " 'coupl': 3,\n",
       " 'toy': 3,\n",
       " 'join': 3,\n",
       " 'essay': 3,\n",
       " 'channel': 3,\n",
       " 'ruin': 3,\n",
       " 'ran': 3,\n",
       " 'kno': 3,\n",
       " 'flu': 3,\n",
       " 'plz': 3,\n",
       " 'exist': 3,\n",
       " 'address': 3,\n",
       " 'troubl': 3,\n",
       " 'booo': 3,\n",
       " 'brandi': 3,\n",
       " 'mood': 3,\n",
       " 'sent': 3,\n",
       " 'ahead': 3,\n",
       " 'crappi': 3,\n",
       " 'kitchen': 3,\n",
       " 'paint': 3,\n",
       " 'wah': 3,\n",
       " 'low': 3,\n",
       " 'goodby': 3,\n",
       " 'photo': 3,\n",
       " 'board': 3,\n",
       " 'team': 3,\n",
       " 'pari': 3,\n",
       " 'beat': 3,\n",
       " '18': 3,\n",
       " 'belli': 3,\n",
       " 'motiv': 3,\n",
       " 'knee': 3,\n",
       " 'teeth': 3,\n",
       " 'itd': 3,\n",
       " 'strawberri': 3,\n",
       " 'vet': 3,\n",
       " 'difficult': 3,\n",
       " 'bay': 3,\n",
       " 'idiot': 3,\n",
       " 'convent': 3,\n",
       " 'window': 3,\n",
       " '3am': 3,\n",
       " 'finger': 3,\n",
       " 'obsess': 2,\n",
       " 'develop': 2,\n",
       " 'l': 2,\n",
       " '8am': 2,\n",
       " 'ds': 2,\n",
       " 'ef': 2,\n",
       " 'bonnaroo': 2,\n",
       " 'grumpi': 2,\n",
       " 'via': 2,\n",
       " 'herd': 2,\n",
       " 'brain': 2,\n",
       " 'slap': 2,\n",
       " 'comm': 2,\n",
       " 'lmao': 2,\n",
       " 'ow': 2,\n",
       " 'fear': 2,\n",
       " 'deadlin': 2,\n",
       " 'tan': 2,\n",
       " 'east': 2,\n",
       " '10': 2,\n",
       " 'univers': 2,\n",
       " 'york': 2,\n",
       " 'web': 2,\n",
       " 'quotth': 2,\n",
       " 'minim': 2,\n",
       " 'loung': 2,\n",
       " 'hmm': 2,\n",
       " 'recept': 2,\n",
       " 'cours': 2,\n",
       " 'mail': 2,\n",
       " 'joel': 2,\n",
       " 'armi': 2,\n",
       " 'deal': 2,\n",
       " '12': 2,\n",
       " 'monster': 2,\n",
       " 'bubbl': 2,\n",
       " 'nah': 2,\n",
       " 'histori': 2,\n",
       " 'group': 2,\n",
       " 'sort': 2,\n",
       " 'seper': 2,\n",
       " 'browser': 2,\n",
       " 'otherwis': 2,\n",
       " 'cooki': 2,\n",
       " 'code': 2,\n",
       " 'spam': 2,\n",
       " 'entir': 2,\n",
       " 'disappear': 2,\n",
       " 'absolut': 2,\n",
       " ...}"
      ]
     },
     "execution_count": 81,
     "metadata": {},
     "output_type": "execute_result"
    }
   ],
   "source": [
    "negative_vocab"
   ]
  },
  {
   "cell_type": "code",
   "execution_count": 82,
   "metadata": {},
   "outputs": [
    {
     "data": {
      "text/plain": [
       "{'good': 193,\n",
       " 'go': 189,\n",
       " 'love': 182,\n",
       " 'thank': 155,\n",
       " 'day': 147,\n",
       " 'get': 146,\n",
       " 'ð': 109,\n",
       " 'like': 100,\n",
       " 'lol': 100,\n",
       " 'see': 93,\n",
       " 'time': 89,\n",
       " 'amp': 85,\n",
       " 'watch': 84,\n",
       " 'new': 84,\n",
       " 'work': 83,\n",
       " 'hope': 79,\n",
       " 'u': 77,\n",
       " 'haha': 74,\n",
       " 'got': 73,\n",
       " 'back': 72,\n",
       " 'night': 70,\n",
       " 'great': 69,\n",
       " 'morn': 68,\n",
       " 'look': 67,\n",
       " 'today': 66,\n",
       " 'twitter': 66,\n",
       " 'well': 63,\n",
       " 'know': 60,\n",
       " 'happi': 60,\n",
       " 'think': 59,\n",
       " 'one': 57,\n",
       " 'come': 57,\n",
       " 'awesom': 56,\n",
       " 'realli': 55,\n",
       " 'make': 54,\n",
       " '2': 53,\n",
       " 'ill': 50,\n",
       " 'need': 50,\n",
       " 'cant': 50,\n",
       " 'nice': 49,\n",
       " 'much': 47,\n",
       " 'follow': 45,\n",
       " 'want': 44,\n",
       " 'feel': 44,\n",
       " 'still': 44,\n",
       " 'better': 44,\n",
       " 'tomorrow': 43,\n",
       " 'that': 43,\n",
       " 'home': 42,\n",
       " 'thing': 42,\n",
       " 'ñ': 42,\n",
       " 'yeah': 41,\n",
       " 'hey': 41,\n",
       " 'would': 41,\n",
       " 'wait': 41,\n",
       " 'friend': 40,\n",
       " 'tweet': 40,\n",
       " 'right': 38,\n",
       " 'say': 38,\n",
       " 'fun': 37,\n",
       " 'last': 36,\n",
       " 'movi': 36,\n",
       " 'oh': 36,\n",
       " 'take': 35,\n",
       " 'tonight': 35,\n",
       " 'week': 35,\n",
       " 'way': 35,\n",
       " 'guy': 34,\n",
       " 'tri': 33,\n",
       " 'weekend': 33,\n",
       " 'ive': 33,\n",
       " 'best': 33,\n",
       " 'bed': 32,\n",
       " 'play': 32,\n",
       " 'amaz': 32,\n",
       " 'gonna': 32,\n",
       " 'alway': 32,\n",
       " 'next': 30,\n",
       " 'cool': 30,\n",
       " 'miss': 30,\n",
       " 'song': 30,\n",
       " 'finish': 30,\n",
       " 'excit': 30,\n",
       " 'wow': 30,\n",
       " 'sleep': 29,\n",
       " 'someth': 28,\n",
       " 'show': 28,\n",
       " 'alreadi': 28,\n",
       " 'ok': 28,\n",
       " 'school': 27,\n",
       " 'babi': 27,\n",
       " 'start': 26,\n",
       " '4': 26,\n",
       " 'ye': 26,\n",
       " 'even': 26,\n",
       " 'keep': 26,\n",
       " 'check': 26,\n",
       " '¾': 26,\n",
       " 'yay': 25,\n",
       " 'soon': 25,\n",
       " 'help': 25,\n",
       " 'eat': 24,\n",
       " 'final': 24,\n",
       " 'us': 24,\n",
       " 'use': 24,\n",
       " 'though': 24,\n",
       " 'first': 24,\n",
       " '°': 24,\n",
       " 'summer': 23,\n",
       " 'sure': 23,\n",
       " 'life': 23,\n",
       " 'old': 23,\n",
       " '3': 23,\n",
       " 'readi': 22,\n",
       " 'anoth': 22,\n",
       " 'give': 22,\n",
       " 'head': 22,\n",
       " 'lot': 22,\n",
       " 'enjoy': 22,\n",
       " 'could': 22,\n",
       " 'updat': 22,\n",
       " '¸': 22,\n",
       " 'call': 21,\n",
       " '½': 21,\n",
       " 'pleas': 21,\n",
       " 'listen': 21,\n",
       " 'littl': 21,\n",
       " 'phone': 21,\n",
       " 'year': 21,\n",
       " 'also': 21,\n",
       " 'never': 21,\n",
       " 'actual': 20,\n",
       " 'live': 20,\n",
       " 'game': 20,\n",
       " 'read': 20,\n",
       " 'around': 20,\n",
       " 'long': 20,\n",
       " 'hi': 20,\n",
       " '\\x82': 20,\n",
       " 'ever': 19,\n",
       " 'mother': 19,\n",
       " 'peopl': 19,\n",
       " 'everyon': 19,\n",
       " 'talk': 19,\n",
       " 'hour': 19,\n",
       " 'wish': 19,\n",
       " 'what': 19,\n",
       " 'happen': 19,\n",
       " 'glad': 18,\n",
       " 'made': 18,\n",
       " 'ur': 18,\n",
       " 'found': 18,\n",
       " 'lt3': 18,\n",
       " 'hahaha': 17,\n",
       " 'coffe': 17,\n",
       " 'may': 17,\n",
       " 'someon': 17,\n",
       " 'cute': 17,\n",
       " 'bring': 17,\n",
       " 'word': 17,\n",
       " 'yet': 17,\n",
       " 'find': 17,\n",
       " 'sunday': 17,\n",
       " 'post': 17,\n",
       " 'let': 17,\n",
       " 'sunni': 17,\n",
       " 'hard': 17,\n",
       " 'hello': 17,\n",
       " 'learn': 17,\n",
       " 'noth': 16,\n",
       " 'pic': 16,\n",
       " 'gotta': 16,\n",
       " 'x': 16,\n",
       " 'late': 16,\n",
       " 'place': 16,\n",
       " 'mayb': 16,\n",
       " 'wonder': 16,\n",
       " 'hear': 16,\n",
       " 'welcom': 16,\n",
       " 'luck': 16,\n",
       " 'dream': 16,\n",
       " 'mom': 16,\n",
       " 'birthday': 16,\n",
       " 'omg': 16,\n",
       " 'girl': 16,\n",
       " 'done': 16,\n",
       " 'later': 16,\n",
       " 'ì': 16,\n",
       " 'n': 15,\n",
       " 'funni': 15,\n",
       " 'book': 15,\n",
       " 'thought': 15,\n",
       " 'fan': 15,\n",
       " 'boy': 15,\n",
       " 'meet': 15,\n",
       " 'pretti': 15,\n",
       " 'stuff': 15,\n",
       " 'breakfast': 15,\n",
       " 'big': 15,\n",
       " 'tire': 14,\n",
       " 'ask': 14,\n",
       " 'sinc': 14,\n",
       " 'part': 14,\n",
       " 'id': 14,\n",
       " 'leav': 14,\n",
       " 'parti': 14,\n",
       " 'beauti': 14,\n",
       " 'away': 14,\n",
       " 'bad': 14,\n",
       " 'plan': 14,\n",
       " 'exam': 14,\n",
       " 'total': 14,\n",
       " 'send': 14,\n",
       " 'sound': 14,\n",
       " 'sebday': 14,\n",
       " 'afternoon': 13,\n",
       " 'earli': 13,\n",
       " 'beach': 13,\n",
       " 'name': 13,\n",
       " 'rain': 13,\n",
       " 'guess': 13,\n",
       " '1': 13,\n",
       " 'lunch': 13,\n",
       " 'kid': 13,\n",
       " 'sweet': 13,\n",
       " '5': 13,\n",
       " 'said': 13,\n",
       " 'put': 13,\n",
       " '\\x80': 13,\n",
       " 'rock': 13,\n",
       " 'shop': 13,\n",
       " 'stay': 13,\n",
       " 'least': 13,\n",
       " 'music': 13,\n",
       " 'might': 13,\n",
       " 'yesterday': 12,\n",
       " 'wed': 12,\n",
       " 'aww': 12,\n",
       " 'vote': 12,\n",
       " 'goodnight': 12,\n",
       " 'hot': 12,\n",
       " 'super': 12,\n",
       " 'bout': 12,\n",
       " 'far': 12,\n",
       " 'run': 12,\n",
       " 'sing': 12,\n",
       " 'took': 12,\n",
       " 'hous': 12,\n",
       " 'chang': 12,\n",
       " 'moon': 12,\n",
       " 'xx': 12,\n",
       " 'bit': 12,\n",
       " 'tell': 12,\n",
       " 'man': 12,\n",
       " 'went': 12,\n",
       " 'sun': 12,\n",
       " 'everyth': 12,\n",
       " 'news': 12,\n",
       " 'sorri': 11,\n",
       " 'church': 11,\n",
       " 'btw': 11,\n",
       " 'okay': 11,\n",
       " 'wanna': 11,\n",
       " 'saw': 11,\n",
       " 'world': 11,\n",
       " 'break': 11,\n",
       " 'food': 11,\n",
       " 'chanc': 11,\n",
       " 'trip': 11,\n",
       " 'buy': 11,\n",
       " 'real': 11,\n",
       " 'mean': 11,\n",
       " 'must': 11,\n",
       " 'forward': 11,\n",
       " 'band': 11,\n",
       " 'friday': 11,\n",
       " 'seem': 11,\n",
       " 'weather': 11,\n",
       " 'anyth': 11,\n",
       " 'togeth': 11,\n",
       " 'end': 11,\n",
       " 'till': 11,\n",
       " 'free': 11,\n",
       " '×': 11,\n",
       " 'almost': 11,\n",
       " 'catch': 11,\n",
       " 'he': 11,\n",
       " 'email': 11,\n",
       " 'wake': 10,\n",
       " 'clean': 10,\n",
       " 'awww': 10,\n",
       " 'hehe': 10,\n",
       " 'famili': 10,\n",
       " 'kind': 10,\n",
       " 'idea': 10,\n",
       " 'set': 10,\n",
       " 'blog': 10,\n",
       " 'smile': 10,\n",
       " 'month': 10,\n",
       " 'money': 10,\n",
       " 'yall': 10,\n",
       " 'ago': 10,\n",
       " 'tour': 10,\n",
       " 'full': 10,\n",
       " 'ladi': 10,\n",
       " 'dinner': 10,\n",
       " 'support': 10,\n",
       " 'visit': 10,\n",
       " 'walk': 10,\n",
       " 'bless': 9,\n",
       " 'episod': 9,\n",
       " '¿': 9,\n",
       " 'monday': 9,\n",
       " 'woke': 9,\n",
       " 'soo': 9,\n",
       " 'gave': 9,\n",
       " 'quit': 9,\n",
       " 'site': 9,\n",
       " 'voic': 9,\n",
       " 'came': 9,\n",
       " 'anyway': 9,\n",
       " 'person': 9,\n",
       " 'brother': 9,\n",
       " 'true': 9,\n",
       " 'remind': 9,\n",
       " 'god': 9,\n",
       " 'park': 9,\n",
       " 'yea': 9,\n",
       " 'rest': 9,\n",
       " 'act': 9,\n",
       " 'beer': 9,\n",
       " '»': 9,\n",
       " '²': 9,\n",
       " 'pick': 9,\n",
       " 'care': 9,\n",
       " 'pictur': 9,\n",
       " 'season': 9,\n",
       " 'dog': 9,\n",
       " 'iphon': 9,\n",
       " 'congrat': 9,\n",
       " 'concert': 9,\n",
       " 'video': 9,\n",
       " 'í': 9,\n",
       " 'answer': 8,\n",
       " 'two': 8,\n",
       " 'everybodi': 8,\n",
       " 'cat': 8,\n",
       " 'there': 8,\n",
       " 'cousin': 8,\n",
       " 'r': 8,\n",
       " 'bag': 8,\n",
       " 'c': 8,\n",
       " 'ya': 8,\n",
       " 'differ': 8,\n",
       " 'busi': 8,\n",
       " 'upload': 8,\n",
       " 'outsid': 8,\n",
       " 'easi': 8,\n",
       " 'ride': 8,\n",
       " 'hate': 8,\n",
       " 'job': 8,\n",
       " 'followfriday': 8,\n",
       " 'ha': 8,\n",
       " 'drink': 8,\n",
       " 'lost': 8,\n",
       " '\\x95': 8,\n",
       " 'probabl': 8,\n",
       " 'red': 8,\n",
       " 'bore': 8,\n",
       " 'nom': 8,\n",
       " 'facebook': 8,\n",
       " 'xoxo': 8,\n",
       " 'rememb': 8,\n",
       " 'ad': 8,\n",
       " 'interest': 8,\n",
       " 'yep': 8,\n",
       " 'mind': 8,\n",
       " 'â': 8,\n",
       " '\\x99': 8,\n",
       " 'car': 7,\n",
       " 'mani': 7,\n",
       " 'si': 7,\n",
       " 'page': 7,\n",
       " 'everi': 7,\n",
       " 'arriv': 7,\n",
       " 'room': 7,\n",
       " 'left': 7,\n",
       " 'lucki': 7,\n",
       " 'fli': 7,\n",
       " 'pay': 7,\n",
       " '6': 7,\n",
       " 'london': 7,\n",
       " 'link': 7,\n",
       " 'cours': 7,\n",
       " 'question': 7,\n",
       " 'gone': 7,\n",
       " 'favorit': 7,\n",
       " 'ahhh': 7,\n",
       " 'join': 7,\n",
       " 'dead': 7,\n",
       " 'warm': 7,\n",
       " 'studi': 7,\n",
       " 'class': 7,\n",
       " 'top': 7,\n",
       " 'hit': 7,\n",
       " 'kno': 7,\n",
       " 'studio': 7,\n",
       " 'guitar': 7,\n",
       " 'agre': 7,\n",
       " 'without': 7,\n",
       " 'hand': 7,\n",
       " 'graduat': 7,\n",
       " 'stop': 7,\n",
       " 'mum': 7,\n",
       " 'theyr': 7,\n",
       " 'heart': 7,\n",
       " 'cold': 7,\n",
       " 'saturday': 7,\n",
       " 'mine': 7,\n",
       " 'move': 7,\n",
       " 'win': 7,\n",
       " 'recommend': 7,\n",
       " 'eh': 7,\n",
       " 'sunshin': 7,\n",
       " 'chat': 7,\n",
       " 'men': 7,\n",
       " 'worri': 7,\n",
       " 'either': 7,\n",
       " 'text': 7,\n",
       " 'believ': 7,\n",
       " 'test': 7,\n",
       " 'serious': 7,\n",
       " 'shine': 7,\n",
       " 'die': 7,\n",
       " 'choic': 7,\n",
       " 'cannot': 6,\n",
       " 'cheer': 6,\n",
       " 'wrong': 6,\n",
       " 'goin': 6,\n",
       " 'fantast': 6,\n",
       " 'hair': 6,\n",
       " 'complet': 6,\n",
       " 'suggest': 6,\n",
       " 'less': 6,\n",
       " 'son': 6,\n",
       " 'pass': 6,\n",
       " 'w': 6,\n",
       " 'soooo': 6,\n",
       " 'weird': 6,\n",
       " 'record': 6,\n",
       " 'problem': 6,\n",
       " '10': 6,\n",
       " 'exactli': 6,\n",
       " 'caus': 6,\n",
       " 'bbq': 6,\n",
       " 'la': 6,\n",
       " 'abl': 6,\n",
       " 'math': 6,\n",
       " 'revis': 6,\n",
       " 'fail': 6,\n",
       " 'fine': 6,\n",
       " 'cook': 6,\n",
       " 'twit': 6,\n",
       " 'els': 6,\n",
       " '\\x98': 6,\n",
       " '±': 6,\n",
       " '\\x8c': 6,\n",
       " '´': 6,\n",
       " 'peac': 6,\n",
       " 'worth': 6,\n",
       " 'train': 6,\n",
       " 'crazi': 6,\n",
       " 'swim': 6,\n",
       " 'pool': 6,\n",
       " 'drive': 6,\n",
       " '8': 6,\n",
       " 'wear': 6,\n",
       " 'perfect': 6,\n",
       " 'sometim': 6,\n",
       " 'relax': 6,\n",
       " 'camp': 6,\n",
       " 'dress': 6,\n",
       " 'connect': 6,\n",
       " 'hang': 6,\n",
       " 'tom': 6,\n",
       " 'laugh': 6,\n",
       " 'minut': 6,\n",
       " 'nap': 6,\n",
       " 'gym': 6,\n",
       " 'cuz': 6,\n",
       " 'retweet': 6,\n",
       " 'websit': 6,\n",
       " 'sit': 6,\n",
       " 'road': 6,\n",
       " 'turn': 6,\n",
       " '¥': 6,\n",
       " 'award': 6,\n",
       " 'shit': 6,\n",
       " 'luv': 6,\n",
       " 'add': 6,\n",
       " 'goe': 6,\n",
       " 'code': 6,\n",
       " 'enough': 6,\n",
       " '\\x84': 6,\n",
       " 'shower': 5,\n",
       " 'sign': 5,\n",
       " 'settl': 5,\n",
       " 'share': 5,\n",
       " '¼': 5,\n",
       " 'roll': 5,\n",
       " 'seen': 5,\n",
       " 'repli': 5,\n",
       " 'appreci': 5,\n",
       " 'cup': 5,\n",
       " 'kill': 5,\n",
       " 'fat': 5,\n",
       " 'laptop': 5,\n",
       " 'bye': 5,\n",
       " 'pink': 5,\n",
       " 'knew': 5,\n",
       " 'daddi': 5,\n",
       " 'laker': 5,\n",
       " 'gt': 5,\n",
       " 'certainli': 5,\n",
       " 'sell': 5,\n",
       " 'offic': 5,\n",
       " 'round': 5,\n",
       " 'myspac': 5,\n",
       " 'easier': 5,\n",
       " 'mobil': 5,\n",
       " 'itll': 5,\n",
       " 'deal': 5,\n",
       " 'marathon': 5,\n",
       " 'bday': 5,\n",
       " 'basic': 5,\n",
       " 'download': 5,\n",
       " 'releas': 5,\n",
       " 'um': 5,\n",
       " 'ador': 5,\n",
       " 'b': 5,\n",
       " 'scare': 5,\n",
       " 'pray': 5,\n",
       " 'smell': 5,\n",
       " 'comput': 5,\n",
       " 'past': 5,\n",
       " 'lay': 5,\n",
       " 'button': 5,\n",
       " 'fight': 5,\n",
       " '100': 5,\n",
       " 'twitpic': 5,\n",
       " 'pack': 5,\n",
       " 'sent': 5,\n",
       " 'girli': 5,\n",
       " '\\x9e': 5,\n",
       " '©': 5,\n",
       " 'excel': 5,\n",
       " 'futur': 5,\n",
       " 'ñð': 5,\n",
       " '·': 5,\n",
       " 'ññ': 5,\n",
       " 'celebr': 5,\n",
       " 'shall': 5,\n",
       " 'da': 5,\n",
       " 'citi': 5,\n",
       " 'whole': 5,\n",
       " 'juli': 5,\n",
       " 'annoy': 5,\n",
       " 'christma': 5,\n",
       " 'dc': 5,\n",
       " 'usual': 5,\n",
       " 'addict': 5,\n",
       " 'imagin': 5,\n",
       " 'john': 5,\n",
       " 'e': 5,\n",
       " 'mac': 5,\n",
       " 'nite': 5,\n",
       " 'design': 5,\n",
       " 'film': 5,\n",
       " 'street': 5,\n",
       " 'bro': 5,\n",
       " 'sexi': 5,\n",
       " 'beat': 5,\n",
       " 'posit': 5,\n",
       " 'ff': 5,\n",
       " 'load': 5,\n",
       " 'insan': 5,\n",
       " 'count': 5,\n",
       " 'fave': 5,\n",
       " '9': 5,\n",
       " 'glass': 5,\n",
       " 'cross': 5,\n",
       " 'fuck': 5,\n",
       " 'normal': 5,\n",
       " '2day': 5,\n",
       " 'forgot': 5,\n",
       " 'ahh': 5,\n",
       " 'bought': 5,\n",
       " 'point': 5,\n",
       " 'extrem': 5,\n",
       " 'sooo': 5,\n",
       " 'app': 5,\n",
       " 'mention': 5,\n",
       " 'dm': 5,\n",
       " 'info': 5,\n",
       " 'mtv': 5,\n",
       " 'dad': 5,\n",
       " 'danc': 5,\n",
       " 'damn': 5,\n",
       " 'cake': 5,\n",
       " 'second': 5,\n",
       " 'quot': 5,\n",
       " 'ë': 5,\n",
       " 'ê': 5,\n",
       " 'whoop': 4,\n",
       " 'open': 4,\n",
       " 'light': 4,\n",
       " 'ice': 4,\n",
       " 'cream': 4,\n",
       " 'shirt': 4,\n",
       " 'chocol': 4,\n",
       " 'quoti': 4,\n",
       " 'sushi': 4,\n",
       " 'ass': 4,\n",
       " 'green': 4,\n",
       " 'order': 4,\n",
       " 'power': 4,\n",
       " 'case': 4,\n",
       " 'grad': 4,\n",
       " 'state': 4,\n",
       " 'grand': 4,\n",
       " 'prayer': 4,\n",
       " 'le': 4,\n",
       " 'longer': 4,\n",
       " 'harri': 4,\n",
       " 'mood': 4,\n",
       " 'technic': 4,\n",
       " 'step': 4,\n",
       " 'honor': 4,\n",
       " 'em': 4,\n",
       " 'number': 4,\n",
       " 'hurt': 4,\n",
       " 'fav': 4,\n",
       " 'sat': 4,\n",
       " 'grill': 4,\n",
       " 'chees': 4,\n",
       " 'alot': 4,\n",
       " 'origin': 4,\n",
       " 'art': 4,\n",
       " 'lose': 4,\n",
       " 'david': 4,\n",
       " 'fb': 4,\n",
       " '17': 4,\n",
       " 'countri': 4,\n",
       " 'hold': 4,\n",
       " 'develop': 4,\n",
       " 'aw': 4,\n",
       " 'favourit': 4,\n",
       " 'shout': 4,\n",
       " 'yup': 4,\n",
       " 'album': 4,\n",
       " 'daniel': 4,\n",
       " 'hmm': 4,\n",
       " 'hill': 4,\n",
       " 'promot': 4,\n",
       " 'result': 4,\n",
       " 'mile': 4,\n",
       " 'vid': 4,\n",
       " 'confus': 4,\n",
       " 'min': 4,\n",
       " 'chuck': 4,\n",
       " 'east': 4,\n",
       " 'cd': 4,\n",
       " 'improv': 4,\n",
       " 'bet': 4,\n",
       " 'smoke': 4,\n",
       " '\\x9c': 4,\n",
       " '³': 4,\n",
       " 'ðµ': 4,\n",
       " '\\x83': 4,\n",
       " 'holiday': 4,\n",
       " 'flower': 4,\n",
       " 'secret': 4,\n",
       " 'taylor': 4,\n",
       " 'ah': 4,\n",
       " 'lisa': 4,\n",
       " 'photo': 4,\n",
       " 'fake': 4,\n",
       " 'thx': 4,\n",
       " 'empti': 4,\n",
       " 'flight': 4,\n",
       " 'ty': 4,\n",
       " 'gorgeou': 4,\n",
       " 'self': 4,\n",
       " 'sleepi': 4,\n",
       " 'st': 4,\n",
       " 'xd': 4,\n",
       " 'invit': 4,\n",
       " 'fri': 4,\n",
       " 'al': 4,\n",
       " 'freak': 4,\n",
       " 'suck': 4,\n",
       " 'drunk': 4,\n",
       " 'dude': 4,\n",
       " 'random': 4,\n",
       " 'twilight': 4,\n",
       " 'heheh': 4,\n",
       " 'mark': 4,\n",
       " 'kick': 4,\n",
       " 'bike': 4,\n",
       " 'garden': 4,\n",
       " 'via': 4,\n",
       " 'lovin': 4,\n",
       " 'oop': 4,\n",
       " 'goood': 4,\n",
       " 'bitch': 4,\n",
       " 'ticket': 4,\n",
       " 'ny': 4,\n",
       " 'doubt': 4,\n",
       " 'short': 4,\n",
       " 'gift': 4,\n",
       " 'absolut': 4,\n",
       " 'tho': 4,\n",
       " 'interview': 4,\n",
       " 'entertain': 4,\n",
       " 'heard': 4,\n",
       " 'sir': 4,\n",
       " 'tweetdeck': 4,\n",
       " 'natur': 4,\n",
       " '\\xad': 4,\n",
       " 'ahaha': 4,\n",
       " 'contact': 4,\n",
       " 'joy': 4,\n",
       " 'gunna': 4,\n",
       " 'aliv': 4,\n",
       " 'p': 4,\n",
       " 'special': 4,\n",
       " 'star': 4,\n",
       " 'har': 4,\n",
       " 'close': 4,\n",
       " 'quotth': 4,\n",
       " 'vs': 4,\n",
       " 'ahhhh': 4,\n",
       " 'bedtim': 4,\n",
       " 'ate': 4,\n",
       " 'cover': 4,\n",
       " 'hug': 4,\n",
       " 'chillin': 4,\n",
       " 'woo': 4,\n",
       " 'figur': 4,\n",
       " 'latest': 4,\n",
       " 'includ': 4,\n",
       " 'proud': 4,\n",
       " 'michael': 4,\n",
       " 'dia': 4,\n",
       " '¬': 4,\n",
       " 'appli': 4,\n",
       " 'collect': 3,\n",
       " 'suppos': 3,\n",
       " 'other': 3,\n",
       " 'cut': 3,\n",
       " 'wing': 3,\n",
       " 'write': 3,\n",
       " 'ã': 3,\n",
       " '7': 3,\n",
       " 'goodmorn': 3,\n",
       " 'yum': 3,\n",
       " 'xo': 3,\n",
       " 'f1': 3,\n",
       " 'alon': 3,\n",
       " 'mate': 3,\n",
       " 'ugh': 3,\n",
       " 'decid': 3,\n",
       " 'drop': 3,\n",
       " 'puppi': 3,\n",
       " 'husband': 3,\n",
       " 'jack': 3,\n",
       " 'air': 3,\n",
       " 'seri': 3,\n",
       " 'tv': 3,\n",
       " 'whilst': 3,\n",
       " 'aint': 3,\n",
       " 'x3': 3,\n",
       " 'wall': 3,\n",
       " 'especi': 3,\n",
       " 'tha': 3,\n",
       " 'havin': 3,\n",
       " 'spread': 3,\n",
       " 'wave': 3,\n",
       " 'tower': 3,\n",
       " '16': 3,\n",
       " 'smash': 3,\n",
       " '1000': 3,\n",
       " 'who': 3,\n",
       " 'brazil': 3,\n",
       " 'boob': 3,\n",
       " 'woohoo': 3,\n",
       " 'boo': 3,\n",
       " 'sky': 3,\n",
       " 'thursday': 3,\n",
       " 'shell': 3,\n",
       " 'forev': 3,\n",
       " 'tamagotchi': 3,\n",
       " 'plu': 3,\n",
       " 'color': 3,\n",
       " 'onlin': 3,\n",
       " 'featur': 3,\n",
       " 'issu': 3,\n",
       " 'chicago': 3,\n",
       " 'lake': 3,\n",
       " 'tree': 3,\n",
       " 'file': 3,\n",
       " 'crack': 3,\n",
       " 'internet': 3,\n",
       " 'stori': 3,\n",
       " 'save': 3,\n",
       " 'lane': 3,\n",
       " 'earn': 3,\n",
       " 'cherri': 3,\n",
       " 'sad': 3,\n",
       " 'swear': 3,\n",
       " 'mcfli': 3,\n",
       " 'na': 3,\n",
       " 'yung': 3,\n",
       " 'reason': 3,\n",
       " 'bff': 3,\n",
       " 'date': 3,\n",
       " 'hannah': 3,\n",
       " 'montana': 3,\n",
       " 'woof': 3,\n",
       " 'imag': 3,\n",
       " 'surviv': 3,\n",
       " 'closer': 3,\n",
       " 'grandma': 3,\n",
       " 'joke': 3,\n",
       " 'refer': 3,\n",
       " 'gaga': 3,\n",
       " 'channel': 3,\n",
       " 'simpl': 3,\n",
       " 'match': 3,\n",
       " 'network': 3,\n",
       " 'ðµñ': 3,\n",
       " '¹': 3,\n",
       " 'ðµð': 3,\n",
       " 'babe': 3,\n",
       " 'list': 3,\n",
       " 'winter': 3,\n",
       " 'cafe': 3,\n",
       " 'view': 3,\n",
       " 'friendli': 3,\n",
       " 'jealou': 3,\n",
       " 'contest': 3,\n",
       " 'cash': 3,\n",
       " 'broken': 3,\n",
       " 'row': 3,\n",
       " 'thanx': 3,\n",
       " 'except': 3,\n",
       " 'met': 3,\n",
       " 'cell': 3,\n",
       " 'cough': 3,\n",
       " 'sore': 3,\n",
       " 'uh': 3,\n",
       " 'law': 3,\n",
       " 'sister': 3,\n",
       " 'sim': 3,\n",
       " 'quiet': 3,\n",
       " 'fair': 3,\n",
       " 'omfg': 3,\n",
       " 'chip': 3,\n",
       " 'scream': 3,\n",
       " 'grow': 3,\n",
       " 'ooh': 3,\n",
       " 'makeup': 3,\n",
       " 'g': 3,\n",
       " 'attack': 3,\n",
       " 'student': 3,\n",
       " 'boom': 3,\n",
       " '24': 3,\n",
       " 'toni': 3,\n",
       " 'congratul': 3,\n",
       " '15': 3,\n",
       " 'holi': 3,\n",
       " 'spirit': 3,\n",
       " 'health': 3,\n",
       " 'bu': 3,\n",
       " 'howev': 3,\n",
       " 'june': 3,\n",
       " 'sex': 3,\n",
       " 'veggi': 3,\n",
       " 'nah': 3,\n",
       " 'fill': 3,\n",
       " 'joe': 3,\n",
       " 'rainbow': 3,\n",
       " 'l': 3,\n",
       " 'face': 3,\n",
       " 'tenni': 3,\n",
       " 'tip': 3,\n",
       " 'anyon': 3,\n",
       " 'exhaust': 3,\n",
       " 'paper': 3,\n",
       " 'raini': 3,\n",
       " 'search': 3,\n",
       " 'rather': 3,\n",
       " 'toast': 3,\n",
       " 'battl': 3,\n",
       " 'b4': 3,\n",
       " 'premier': 3,\n",
       " 'stoke': 3,\n",
       " 'nokia': 3,\n",
       " 'half': 3,\n",
       " 'kitti': 3,\n",
       " 'perhap': 3,\n",
       " 'jona': 3,\n",
       " 'thunderstorm': 3,\n",
       " 'kati': 3,\n",
       " 'tan': 3,\n",
       " 'roger': 3,\n",
       " 'peter': 3,\n",
       " 'mission': 3,\n",
       " 'histori': 3,\n",
       " 'bacon': 3,\n",
       " 'area': 3,\n",
       " 'shoe': 3,\n",
       " 'note': 3,\n",
       " 'junior': 3,\n",
       " 'lt': 3,\n",
       " 'nj': 3,\n",
       " 'besid': 3,\n",
       " 'ca': 3,\n",
       " 'shut': 3,\n",
       " 'spent': 3,\n",
       " 'lazi': 3,\n",
       " 'cheesecak': 3,\n",
       " 'born': 3,\n",
       " '30': 3,\n",
       " 'black': 3,\n",
       " 'bean': 3,\n",
       " 'kiss': 3,\n",
       " 'lt333': 3,\n",
       " 'fish': 3,\n",
       " 'anytim': 3,\n",
       " 'doubl': 3,\n",
       " 'flat': 3,\n",
       " 'compani': 3,\n",
       " 'inde': 3,\n",
       " 'bath': 3,\n",
       " 'plz': 3,\n",
       " 'weve': 3,\n",
       " 'tast': 3,\n",
       " 'stream': 3,\n",
       " 'nugget': 3,\n",
       " 'spot': 3,\n",
       " 'cartoon': 3,\n",
       " 'honey': 3,\n",
       " 'inspir': 3,\n",
       " 'tweep': 3,\n",
       " 'here': 3,\n",
       " 'edit': 3,\n",
       " 'orlando': 3,\n",
       " 'v': 3,\n",
       " 'brand': 3,\n",
       " 'natali': 3,\n",
       " 'tune': 3,\n",
       " '\\x8b': 3,\n",
       " 'sa': 3,\n",
       " 'bigger': 3,\n",
       " 'leigh': 3,\n",
       " 'although': 3,\n",
       " 'fast': 3,\n",
       " 'sarah': 3,\n",
       " 'mmmmm': 3,\n",
       " 'cali': 3,\n",
       " 'stuck': 3,\n",
       " 'ball': 3,\n",
       " 'talent': 3,\n",
       " 'wolverin': 3,\n",
       " 'pop': 3,\n",
       " 'cloudi': 3,\n",
       " 'entri': 3,\n",
       " 'anybodi': 3,\n",
       " 'pix': 3,\n",
       " 'daili': 3,\n",
       " 'pm': 3,\n",
       " 'def': 3,\n",
       " 'sweeti': 3,\n",
       " 'account': 3,\n",
       " 'fanci': 3,\n",
       " 'mr': 3,\n",
       " 'told': 3,\n",
       " 'hungri': 3,\n",
       " 'moment': 3,\n",
       " 'jason': 3,\n",
       " 'teacher': 3,\n",
       " 'speak': 3,\n",
       " 'stupid': 3,\n",
       " 'exist': 3,\n",
       " 'xxx': 3,\n",
       " 'age': 3,\n",
       " 'pl': 3,\n",
       " 'presenc': 3,\n",
       " 'fit': 3,\n",
       " ...}"
      ]
     },
     "execution_count": 82,
     "metadata": {},
     "output_type": "execute_result"
    }
   ],
   "source": [
    "positive_vocab"
   ]
  },
  {
   "cell_type": "markdown",
   "metadata": {},
   "source": [
    "On seeing the vocabs it is clear that in the most frequent words there are some common words which repeat in both classes however there are some distinctive words such as 'love', 'good' for positive and 'sad' for negative. But overall we see a clear lack of characterizing lexicon between the two and this adds to the difficulty of the task"
   ]
  },
  {
   "cell_type": "code",
   "execution_count": 83,
   "metadata": {},
   "outputs": [],
   "source": [
    "from collections import Counter\n",
    "from sklearn.metrics import mutual_info_score\n",
    "def mutualInfo(dictA, dictB, commonOnly, k):\n",
    "  ls_A = []\n",
    "  ls_B = []\n",
    "  wordSet = set()\n",
    "  c1=Counter(dictA).most_common()[:k]\n",
    "  c2=Counter(dictB).most_common()[:k]\n",
    "  dictA = {}\n",
    "  for i,j in c1:\n",
    "    dictA[i] = j\n",
    "  dictB = {}\n",
    "  for i,j in c2:\n",
    "    dictB[i] = j\n",
    "  for word in dictA:\n",
    "      wordSet.add(word)\n",
    "      if word in dictB:\n",
    "        ls_A.append(dictA[word])\n",
    "        ls_B.append(dictB[word])\n",
    "      else:\n",
    "        if not commonOnly:\n",
    "          ls_A.append(dictA[word])\n",
    "          ls_B.append(0)\n",
    "  for word in dictB:\n",
    "      if word in wordSet:\n",
    "        continue\n",
    "      wordSet.add(word)\n",
    "      if word in dictA:\n",
    "        ls_A.append(dictA[word])\n",
    "        ls_B.append(dictB[word])\n",
    "      else:\n",
    "        if not commonOnly:\n",
    "          ls_A.append(0)\n",
    "          ls_B.append(dictB[word])\n",
    "  return mutual_info_score(ls_A, ls_B)"
   ]
  },
  {
   "cell_type": "code",
   "execution_count": 84,
   "metadata": {},
   "outputs": [],
   "source": [
    "mutual = []\n",
    "for i in range(10,10000):\n",
    "    mutual.append(mutualInfo(negative_vocab, positive_vocab, True, i))"
   ]
  },
  {
   "cell_type": "code",
   "execution_count": 85,
   "metadata": {},
   "outputs": [
    {
     "data": {
      "image/png": "[encoded data removed]",
      "text/plain": [
       "<Figure size 432x288 with 1 Axes>"
      ]
     },
     "metadata": {
      "needs_background": "light"
     },
     "output_type": "display_data"
    }
   ],
   "source": [
    "plt.plot(mutual)\n",
    "plt.xlabel('Top-K Vocab Tokens', fontsize=10)\n",
    "plt.ylabel('Mutual Information', fontsize=10)\n",
    "plt.savefig('mutual_info.png')"
   ]
  },
  {
   "cell_type": "markdown",
   "metadata": {},
   "source": [
    "This seems to indicate that up untill the first 200-300 top words or so we have high mutual information but that then begins to scale down"
   ]
  },
  {
   "cell_type": "markdown",
   "metadata": {},
   "source": [
    "# IV) Rule-Based Sentiment Analysis"
   ]
  },
  {
   "cell_type": "markdown",
   "metadata": {},
   "source": [
    "## a) Retrieving Class Label for every instance"
   ]
  },
  {
   "cell_type": "code",
   "execution_count": 86,
   "metadata": {},
   "outputs": [],
   "source": [
    "sid = SentimentIntensityAnalyzer()"
   ]
  },
  {
   "cell_type": "code",
   "execution_count": 87,
   "metadata": {},
   "outputs": [],
   "source": [
    "def retrieve_label(y_pred, metric = \"compound_with_neutral\"):\n",
    "    if metric == \"compound_with_neutral\":\n",
    "        if y_pred[\"compound\"] >= 0.05:\n",
    "            label = 1\n",
    "        elif y_pred[\"compound\"] <= -0.05:\n",
    "            label = 0\n",
    "        else:\n",
    "            label = -1\n",
    "    elif metric == \"compound_without_neutral\":\n",
    "        if y_pred[\"compound\"] >= 0:\n",
    "            label = 1\n",
    "        else:\n",
    "            label = 0\n",
    "    elif metric == \"neutral_mapped_to_pos_scores\":\n",
    "        if y_pred[\"neu\"] >= y_pred[\"pos\"] and y_pred[\"neu\"] >= y_pred[\"neg\"]:\n",
    "            label = 1\n",
    "        elif y_pred[\"pos\"] >= y_pred[\"neg\"]:\n",
    "            label = 1\n",
    "        else:\n",
    "            label = 0\n",
    "    elif metric == \"neutral_mapped_to_neg_scores\":\n",
    "        if y_pred[\"neu\"] >= y_pred[\"pos\"] and y_pred[\"neu\"] >= y_pred[\"neg\"]:\n",
    "            label = 0\n",
    "        elif y_pred[\"pos\"] >= y_pred[\"neg\"]:\n",
    "            label = 1\n",
    "        else:\n",
    "            label = 0\n",
    "    elif metric == \"pos_neg_scores\":\n",
    "        label = int(y_pred[\"pos\"] >= y_pred[\"neg\"])\n",
    "    else:\n",
    "        print(metric)\n",
    "        raise ValueError(\"Use an appropriate metric from compound, pos_neg_neu_scores, pos_neg_scores\")\n",
    "    return label"
   ]
  },
  {
   "cell_type": "markdown",
   "metadata": {},
   "source": [
    "### i) On preprocessed text"
   ]
  },
  {
   "cell_type": "code",
   "execution_count": 88,
   "metadata": {},
   "outputs": [],
   "source": [
    "prptext_labels = []\n",
    "for each_text in df_data[\"PREPROCESSED_TEXT\"].values:\n",
    "    sentiment_pred = sid.polarity_scores(each_text)\n",
    "    prptext_labels.append(\n",
    "        np.array(\n",
    "            [\n",
    "                retrieve_label(sentiment_pred, \"compound_with_neutral\"), \n",
    "                retrieve_label(sentiment_pred, \"compound_without_neutral\"), \n",
    "                retrieve_label(sentiment_pred, \"neutral_mapped_to_pos_scores\"),\n",
    "                retrieve_label(sentiment_pred, \"neutral_mapped_to_neg_scores\"),\n",
    "                retrieve_label(sentiment_pred, \"pos_neg_scores\")\n",
    "            ]\n",
    "        )\n",
    "    )\n",
    "prptext_labels = np.array(prptext_labels)"
   ]
  },
  {
   "cell_type": "markdown",
   "metadata": {},
   "source": [
    "### ii) On raw text"
   ]
  },
  {
   "cell_type": "code",
   "execution_count": 89,
   "metadata": {},
   "outputs": [],
   "source": [
    "rawtxt_labels = []\n",
    "for each_text in df_data[\"TEXT\"].values:\n",
    "    sentiment_pred = sid.polarity_scores(each_text)\n",
    "    rawtxt_labels.append(\n",
    "        np.array(\n",
    "            [\n",
    "                retrieve_label(sentiment_pred, \"compound_with_neutral\"), \n",
    "                retrieve_label(sentiment_pred, \"compound_without_neutral\"), \n",
    "                retrieve_label(sentiment_pred, \"neutral_mapped_to_pos_scores\"),\n",
    "                retrieve_label(sentiment_pred, \"neutral_mapped_to_neg_scores\"),\n",
    "                retrieve_label(sentiment_pred, \"pos_neg_scores\")\n",
    "            ]\n",
    "        )\n",
    "    )\n",
    "rawtxt_labels = np.array(rawtxt_labels)"
   ]
  },
  {
   "cell_type": "markdown",
   "metadata": {},
   "source": [
    "## b) Get accuracy scores"
   ]
  },
  {
   "cell_type": "code",
   "execution_count": 90,
   "metadata": {},
   "outputs": [],
   "source": [
    "y = df_data[\"LABEL\"].values"
   ]
  },
  {
   "cell_type": "code",
   "execution_count": 91,
   "metadata": {},
   "outputs": [],
   "source": [
    "def get_accuracy(y_preds, y):\n",
    "    no_instances = len(y)\n",
    "    return 100*sum(y_preds==y)/no_instances"
   ]
  },
  {
   "cell_type": "markdown",
   "metadata": {},
   "source": [
    "### i) Of preprocessed text"
   ]
  },
  {
   "cell_type": "code",
   "execution_count": 92,
   "metadata": {},
   "outputs": [
    {
     "name": "stdout",
     "output_type": "stream",
     "text": [
      "The accuracy score of labels calculated on the preprocessed text is:\n",
      "using the compound_with_neutral metric:  44.83321670165617\n",
      "using the compound_without_neutral metric:  64.59062281315606\n",
      "using the neutral_mapped_to_pos_scores metric:  57.03289013296011\n",
      "using the neutral_mapped_to_neg_scores metric:  54.723582925122464\n",
      "using the pos_neg_scores metric:  64.59062281315606\n"
     ]
    }
   ],
   "source": [
    "print(\"The accuracy score of labels calculated on the preprocessed text is:\")\n",
    "print(\"using the compound_with_neutral metric: \", get_accuracy(prptext_labels[:, 0], y))\n",
    "print(\"using the compound_without_neutral metric: \", get_accuracy(prptext_labels[:, 1], y))\n",
    "print(\"using the neutral_mapped_to_pos_scores metric: \", get_accuracy(prptext_labels[:, 2], y))\n",
    "print(\"using the neutral_mapped_to_neg_scores metric: \", get_accuracy(prptext_labels[:, 3], y))\n",
    "print(\"using the pos_neg_scores metric: \", get_accuracy(prptext_labels[:, 4], y))"
   ]
  },
  {
   "cell_type": "markdown",
   "metadata": {},
   "source": [
    "### ii) Of raw text"
   ]
  },
  {
   "cell_type": "code",
   "execution_count": 93,
   "metadata": {},
   "outputs": [
    {
     "name": "stdout",
     "output_type": "stream",
     "text": [
      "The accuracy score of labels calculated on the raw text is:\n",
      "using the compound_with_neutral metric:  53.230697457429436\n",
      "using the compound_without_neutral metric:  68.34616281782132\n",
      "using the neutral_mapped_to_pos_scores metric:  55.28341497550735\n",
      "using the neutral_mapped_to_neg_scores metric:  51.551201306274784\n",
      "using the pos_neg_scores metric:  68.46279449498483\n"
     ]
    }
   ],
   "source": [
    "print(\"The accuracy score of labels calculated on the raw text is:\")\n",
    "print(\"using the compound_with_neutral metric: \", get_accuracy(rawtxt_labels[:, 0], y))\n",
    "print(\"using the compound_without_neutral metric: \", get_accuracy(rawtxt_labels[:, 1], y))\n",
    "print(\"using the neutral_mapped_to_pos_scores metric: \", get_accuracy(rawtxt_labels[:, 2], y))\n",
    "print(\"using the neutral_mapped_to_neg_scores metric: \", get_accuracy(rawtxt_labels[:, 3], y))\n",
    "print(\"using the pos_neg_scores metric: \", get_accuracy(rawtxt_labels[:, 4], y))"
   ]
  }
 ],
 "metadata": {
  "colab": {
   "collapsed_sections": [],
   "provenance": []
  },
  "kernelspec": {
   "display_name": "Python 3 (ipykernel)",
   "language": "python",
   "name": "python3"
  },
  "language_info": {
   "codemirror_mode": {
    "name": "ipython",
    "version": 3
   },
   "file_extension": ".py",
   "mimetype": "text/x-python",
   "name": "python",
   "nbconvert_exporter": "python",
   "pygments_lexer": "ipython3",
   "version": "3.9.13"
  },
  "vscode": {
   "interpreter": {
    "hash": "a5a87ee616be0254e3f1af9223138e3faeac65b2c9d91bc22a9fc5a4a8bd8eb0"
   }
  }
 },
 "nbformat": 4,
 "nbformat_minor": 1
}
