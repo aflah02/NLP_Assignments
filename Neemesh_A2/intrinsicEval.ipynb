{
 "cells": [
  {
   "cell_type": "code",
   "execution_count": 2,
   "metadata": {},
   "outputs": [],
   "source": [
    "from diffeval import *"
   ]
  },
  {
   "cell_type": "markdown",
   "metadata": {},
   "source": [
    "## Experiment 1"
   ]
  },
  {
   "cell_type": "markdown",
   "metadata": {},
   "source": [
    "### Negative Generation With Only External"
   ]
  },
  {
   "cell_type": "code",
   "execution_count": 3,
   "metadata": {},
   "outputs": [
    {
     "data": {
      "text/plain": [
       "'Average Perplexity is 1149.5631564240427'"
      ]
     },
     "execution_count": 3,
     "metadata": {},
     "output_type": "execute_result"
    }
   ],
   "source": [
    "intrinsic_eval = IntrinsicEvaluation(r\"generated_sentences\\neg_gen_only_ext.txt\")\n",
    "intr_perplexities, intr_sentences = intrinsic_eval.get_perplexities()\n",
    "f\"Average Perplexity is {intrinsic_eval.get_avg_perplexity(intr_perplexities)}\""
   ]
  },
  {
   "cell_type": "markdown",
   "metadata": {},
   "source": [
    "### Positive Generation With Only External"
   ]
  },
  {
   "cell_type": "code",
   "execution_count": 4,
   "metadata": {},
   "outputs": [
    {
     "data": {
      "text/plain": [
       "'Average Perplexity is 1033.066400924827'"
      ]
     },
     "execution_count": 4,
     "metadata": {},
     "output_type": "execute_result"
    }
   ],
   "source": [
    "intrinsic_eval = IntrinsicEvaluation(r\"generated_sentences\\pos_gen_only_ext.txt\")\n",
    "intr_perplexities, intr_sentences = intrinsic_eval.get_perplexities()\n",
    "f\"Average Perplexity is {intrinsic_eval.get_avg_perplexity(intr_perplexities)}\""
   ]
  },
  {
   "cell_type": "markdown",
   "metadata": {},
   "source": [
    "## Experiment 2"
   ]
  },
  {
   "cell_type": "markdown",
   "metadata": {},
   "source": [
    "### Negative Generation With Addition to Numerator"
   ]
  },
  {
   "cell_type": "code",
   "execution_count": 5,
   "metadata": {},
   "outputs": [
    {
     "data": {
      "text/plain": [
       "'Average Perplexity is 6955.083128301696'"
      ]
     },
     "execution_count": 5,
     "metadata": {},
     "output_type": "execute_result"
    }
   ],
   "source": [
    "intrinsic_eval = IntrinsicEvaluation(r\"generated_sentences\\neg_gen_add_numerator.txt\")\n",
    "intr_perplexities, intr_sentences = intrinsic_eval.get_perplexities()\n",
    "f\"Average Perplexity is {intrinsic_eval.get_avg_perplexity(intr_perplexities)}\""
   ]
  },
  {
   "cell_type": "markdown",
   "metadata": {},
   "source": [
    "### Positive Generation With Addition to Numerator"
   ]
  },
  {
   "cell_type": "code",
   "execution_count": 6,
   "metadata": {},
   "outputs": [
    {
     "data": {
      "text/plain": [
       "'Average Perplexity is 6892.620049010152'"
      ]
     },
     "execution_count": 6,
     "metadata": {},
     "output_type": "execute_result"
    }
   ],
   "source": [
    "intrinsic_eval = IntrinsicEvaluation(r\"generated_sentences\\pos_gen_add_numerator.txt\")\n",
    "intr_perplexities, intr_sentences = intrinsic_eval.get_perplexities()\n",
    "f\"Average Perplexity is {intrinsic_eval.get_avg_perplexity(intr_perplexities)}\""
   ]
  },
  {
   "cell_type": "markdown",
   "metadata": {},
   "source": [
    "## Experiment 3"
   ]
  },
  {
   "cell_type": "markdown",
   "metadata": {},
   "source": [
    "### Negative Generation With Multiplication with Numerator"
   ]
  },
  {
   "cell_type": "code",
   "execution_count": 7,
   "metadata": {},
   "outputs": [
    {
     "data": {
      "text/plain": [
       "'Average Perplexity is 1303.5915012298801'"
      ]
     },
     "execution_count": 7,
     "metadata": {},
     "output_type": "execute_result"
    }
   ],
   "source": [
    "intrinsic_eval = IntrinsicEvaluation(r\"generated_sentences\\neg_gen_mul_numerator.txt\")\n",
    "intr_perplexities, intr_sentences = intrinsic_eval.get_perplexities()\n",
    "f\"Average Perplexity is {intrinsic_eval.get_avg_perplexity(intr_perplexities)}\""
   ]
  },
  {
   "cell_type": "markdown",
   "metadata": {},
   "source": [
    "### Positive Generation With Multiplication with Numerator"
   ]
  },
  {
   "cell_type": "code",
   "execution_count": 8,
   "metadata": {},
   "outputs": [
    {
     "data": {
      "text/plain": [
       "'Average Perplexity is 1026.3095571643635'"
      ]
     },
     "execution_count": 8,
     "metadata": {},
     "output_type": "execute_result"
    }
   ],
   "source": [
    "intrinsic_eval = IntrinsicEvaluation(r\"generated_sentences\\pos_gen_mul_numerator.txt\")\n",
    "intr_perplexities, intr_sentences = intrinsic_eval.get_perplexities()\n",
    "f\"Average Perplexity is {intrinsic_eval.get_avg_perplexity(intr_perplexities)}\""
   ]
  },
  {
   "cell_type": "markdown",
   "metadata": {},
   "source": [
    "## Experiment 4"
   ]
  },
  {
   "cell_type": "markdown",
   "metadata": {},
   "source": [
    "### Negative Generation With Division with Denominator"
   ]
  },
  {
   "cell_type": "code",
   "execution_count": 9,
   "metadata": {},
   "outputs": [
    {
     "data": {
      "text/plain": [
       "'Average Perplexity is 1161.5361432277948'"
      ]
     },
     "execution_count": 9,
     "metadata": {},
     "output_type": "execute_result"
    }
   ],
   "source": [
    "intrinsic_eval = IntrinsicEvaluation(r\"generated_sentences\\neg_gen_div_denominator.txt\")\n",
    "intr_perplexities, intr_sentences = intrinsic_eval.get_perplexities()\n",
    "f\"Average Perplexity is {intrinsic_eval.get_avg_perplexity(intr_perplexities)}\""
   ]
  },
  {
   "cell_type": "markdown",
   "metadata": {},
   "source": [
    "### Positive Generation With Division with Denominator"
   ]
  },
  {
   "cell_type": "code",
   "execution_count": 10,
   "metadata": {},
   "outputs": [
    {
     "data": {
      "text/plain": [
       "'Average Perplexity is 973.9499512734698'"
      ]
     },
     "execution_count": 10,
     "metadata": {},
     "output_type": "execute_result"
    }
   ],
   "source": [
    "intrinsic_eval = IntrinsicEvaluation(r\"generated_sentences\\pos_gen_div_denominator.txt\")\n",
    "intr_perplexities, intr_sentences = intrinsic_eval.get_perplexities()\n",
    "f\"Average Perplexity is {intrinsic_eval.get_avg_perplexity(intr_perplexities)}\""
   ]
  },
  {
   "cell_type": "code",
   "execution_count": null,
   "metadata": {},
   "outputs": [],
   "source": []
  }
 ],
 "metadata": {
  "kernelspec": {
   "display_name": "Python 3.10.2 ('venv')",
   "language": "python",
   "name": "python3"
  },
  "language_info": {
   "codemirror_mode": {
    "name": "ipython",
    "version": 3
   },
   "file_extension": ".py",
   "mimetype": "text/x-python",
   "name": "python",
   "nbconvert_exporter": "python",
   "pygments_lexer": "ipython3",
   "version": "3.10.2"
  },
  "orig_nbformat": 4,
  "vscode": {
   "interpreter": {
    "hash": "aecbea90afaecda7d2d5844bd9622c7f6c46f8beb4e99ad394477027755b7849"
   }
  }
 },
 "nbformat": 4,
 "nbformat_minor": 2
}
